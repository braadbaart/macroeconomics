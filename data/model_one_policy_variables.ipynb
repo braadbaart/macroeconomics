{
 "cells": [
  {
   "cell_type": "markdown",
   "metadata": {},
   "source": [
    "## Model one policy variables\n",
    "\n",
    "This notebook extracts the selected policy variables in the `indicator_list` from IMF and World Bank (wb) data sources, and writes them to a csv file."
   ]
  },
  {
   "cell_type": "code",
   "execution_count": 11,
   "metadata": {},
   "outputs": [],
   "source": [
    "import warnings\n",
    "import numpy as np\n",
    "import pandas as pd\n",
    "import seaborn as sns\n",
    "import matplotlib.pyplot as plt\n",
    "\n",
    "%matplotlib inline"
   ]
  },
  {
   "cell_type": "code",
   "execution_count": 12,
   "metadata": {},
   "outputs": [],
   "source": [
    "warnings.filterwarnings('ignore')\n",
    "pd.options.display.float_format = '{:20,.2f}'.format"
   ]
  },
  {
   "cell_type": "markdown",
   "metadata": {},
   "source": [
    "|  variable                 | origin            | source      |granularity|countries|   description                                               | composition                                                       |\n",
    "| --------------------------|-------------------|-------------|-----------|---------|-------------------------------------------------------------|-------------------------------------------------------------------|\n",
    "| total debt service        | -                 | wb econ     | yearly    | 217     | Total debt service (% of GNI)                               | -                                                     |\n",
    "| interest payments         | -                 | wb econ     | yearly    | 217     | Interest payments on external debt (% of GNI)             | -                                                     |\n",
    "| lending interest rate     | -                 | wb econ     | yearly    | 217     | Lending interest rate (%)                                   | -                                                     |\n",
    "| firms using banks         | -                 | wb econ     | yearly    | 217     | Firms using banks to finance investment (% of firms)     | -                                                     |\n",
    "| bank capital ratio        | -                 | wb econ     | yearly    | 217     | Bank capital to assets ratio (%)                             | -                                                     |\n",
    "| tax revenue gdp share     | -                 | wb econ     | yearly    | 217     | Tax revenue (% of GDP)                                       | -                                                     |\n",
    "| short term debt           | -                 | wb econ     | yearly    | 217     | Short-term debt (% of total external debt)              | -                                                     |\n",
    "| inflation                 | -                 | wb econ     | yearly    | 217     | Inflation, GDP deflator (annual %)                          | -                                                     |\n",
    "| GDP growth                | -                 | wb econ     | yearly    | 217     | GDP growth (annual %)                                       | -                                                     |\n",
    "| real interest rate        | -                 | wb econ     | yearly    | 217     | Real interest rate (%)                                       | -                                                     |\n",
    "| firm market cap           | -                 | wb econ     | yearly    | 217     | Market capitalization of listed domestic companies (% of GDP) | -                                                   |\n",
    "| GDP per capita growth     | -                 | wb econ     | yearly    | 217     | GDP per capita growth (annual %)                             | -                                                     |\n",
    "| GDP                       | -                 | wb econ     | yearly    | 217     | GDP (constant 2010 USD)                                     | -                                                     |\n",
    "| GNI growth                | -                 | wb econ     | yearly    | 217     | GNI growth (annual %)                                       | -                                                     |\n",
    "| interest payments         | -                 | wb econ     | yearly    | 217     | Interest payments (% of expense)                             | -                                                     |\n",
    "| nonperforming bank loans  | -                 | wb econ     | yearly    | 217     | Bank nonperforming loans to total gross loans (%)       | -                                                     |\n",
    "| savings                   | -                 | wb econ     | yearly    | 217     | Gross domestic savings (% of GDP)                        | -                                                     |\n",
    "| gross savings             | -                 | wb econ     | yearly    | 217     | Gross savings (% of GNI)                                     | -                                                     |\n",
    "| GNI per capita growth     | -                 | wb econ     | yearly    | 217     | GNI per capita growth (annual %)                             | -                                                     |\n",
    "| employee compensation     | -                 | wb econ     | yearly    | 217     | Compensation of employees (% of expense)                    | -                                                     |\n",
    "| reserves                  | -                 | wb econ     | yearly    | 217     | Total reserves (% of total external debt)              | -                                                     |\n",
    "| broad money               | -                 | wb econ     | yearly    | 217     | Broad money (% of GDP)                                       | -                                                     |\n",
    "| GNI                       | -                 | wb econ     | yearly    | 217     | GNI (constant 2010 USD)                                     | -                                                     |\n",
    "| government debt           | -                 | wb econ     | yearly    | 217     | Central government debt, total (% of GDP)                  | -                                                     |"
   ]
  },
  {
   "cell_type": "code",
   "execution_count": 13,
   "metadata": {},
   "outputs": [],
   "source": [
    "indicator_list = ['Total debt service (% of GNI)', 'Interest payments on external debt (% of GNI)',\n",
    "                  'Lending interest rate (%)', 'Firms using banks to finance investment (% of firms)',\n",
    "                  'Bank capital to assets ratio (%)', 'Tax revenue (% of GDP)', 'Short-term debt (% of total external debt)',\n",
    "                  'Inflation, GDP deflator (annual %)', 'GDP growth (annual %)', 'Real interest rate (%)',\n",
    "                  'Market capitalization of listed domestic companies (% of GDP)', 'GDP per capita growth (annual %)',\n",
    "                  'GDP (constant 2010 US$)', 'GNI growth (annual %)', 'Interest payments (% of expense)',\n",
    "                  'Bank nonperforming loans to total gross loans (%)', 'Gross domestic savings (% of GDP)',\n",
    "                  'Gross savings (% of GNI)', 'GNI per capita growth (annual %)', 'Compensation of employees (% of expense)',\n",
    "                  'Total reserves (% of total external debt)', 'Broad money (% of GDP)', 'GNI (constant 2010 US$)',\n",
    "                  'Central government debt, total (% of GDP)']"
   ]
  },
  {
   "cell_type": "code",
   "execution_count": 14,
   "metadata": {},
   "outputs": [
    {
     "data": {
      "text/plain": [
       "24"
      ]
     },
     "execution_count": 14,
     "metadata": {},
     "output_type": "execute_result"
    }
   ],
   "source": [
    "len(indicator_list)"
   ]
  },
  {
   "cell_type": "markdown",
   "metadata": {},
   "source": [
    "## Load imf monthly data"
   ]
  },
  {
   "cell_type": "code",
   "execution_count": 15,
   "metadata": {},
   "outputs": [
    {
     "name": "stdout",
     "output_type": "stream",
     "text": [
      "  365536 data/imf/BOP_11-25-2018 19-15-19-60_timeSeries.csv\n",
      "      64 data/imf/COMMP_11-25-2018 19-13-52-15_timeSeries.csv\n",
      "   14430 data/imf/CPI_11-25-2018 19-14-47-26_timeSeries.csv\n",
      "    1693 data/imf/FDI_11-20-2018 21-39-31-89_timeSeries.csv\n",
      " 1247714 data/imf/GFSR_11-25-2018 19-23-39-70_timeSeries.csv\n",
      "   16732 data/imf/IRFCL_11-25-2018 19-13-18-05_timeSeries.csv\n",
      "    7846 data/imf/ITS_11-14-2018 15-14-06-02_timeSeries.csv\n",
      "    7425 data/imf/PPLT_11-25-2018 19-25-01-32_timeSeries.csv\n",
      " 1661440 total\n"
     ]
    }
   ],
   "source": [
    "%%bash\n",
    "wc -l imf/*.csv"
   ]
  },
  {
   "cell_type": "code",
   "execution_count": 16,
   "metadata": {},
   "outputs": [],
   "source": [
    "time_values = [str('%sM%s' % (y, m)) for m in list(range(1, 13)) for y in list(range(1960, 2018))]\n",
    "imf_columns = ['Country Name', 'Indicator Name'] + time_values"
   ]
  },
  {
   "cell_type": "code",
   "execution_count": 17,
   "metadata": {},
   "outputs": [],
   "source": [
    "imf_country_aggregates = ['Euro Area']"
   ]
  },
  {
   "cell_type": "code",
   "execution_count": 18,
   "metadata": {},
   "outputs": [],
   "source": [
    "def load_imf_monthly(file_name, indicators, imf_columns, country_aggregates):\n",
    "    csv_df = pd.read_csv('data/imf/%s' % file_name).fillna(0)\n",
    "    base_df = csv_df.loc[csv_df['Attribute'] == 'Value'].drop(columns=['Attribute'])\n",
    "    monthly_df = base_df.loc[(base_df['Indicator Name'].isin(indicators))]\n",
    "    imf_df = monthly_df[imf_columns].fillna(0)\n",
    "    df = pd.melt(imf_df, id_vars=['Country Name', 'Indicator Name'], var_name='date', value_name='value')\n",
    "    df['date'] = pd.to_datetime(df['date'], format='%YM%m')\n",
    "    df.columns = ['country', 'indicator', 'date', 'value']\n",
    "    return df.loc[~df['country'].isin(country_aggregates)]"
   ]
  },
  {
   "cell_type": "code",
   "execution_count": 19,
   "metadata": {},
   "outputs": [],
   "source": [
    "imf_pplt_df = load_imf_monthly('PPLT_11-25-2018 19-25-01-32_timeSeries.csv', indicator_list, imf_columns, imf_country_aggregates)"
   ]
  },
  {
   "cell_type": "code",
   "execution_count": 20,
   "metadata": {},
   "outputs": [],
   "source": [
    "imf_cpi_df = load_imf_monthly('CPI_11-25-2018 19-14-47-26_timeSeries.csv', indicator_list, imf_columns, imf_country_aggregates)"
   ]
  },
  {
   "cell_type": "code",
   "execution_count": 21,
   "metadata": {},
   "outputs": [],
   "source": [
    "imf_df = pd.concat([imf_cpi_df, imf_pplt_df], join='outer')"
   ]
  },
  {
   "cell_type": "code",
   "execution_count": 22,
   "metadata": {},
   "outputs": [
    {
     "data": {
      "text/plain": [
       "0"
      ]
     },
     "execution_count": 22,
     "metadata": {},
     "output_type": "execute_result"
    }
   ],
   "source": [
    "imf_df.size"
   ]
  },
  {
   "cell_type": "code",
   "execution_count": 23,
   "metadata": {},
   "outputs": [
    {
     "data": {
      "text/html": [
       "<div>\n",
       "<style scoped>\n",
       "    .dataframe tbody tr th:only-of-type {\n",
       "        vertical-align: middle;\n",
       "    }\n",
       "\n",
       "    .dataframe tbody tr th {\n",
       "        vertical-align: top;\n",
       "    }\n",
       "\n",
       "    .dataframe thead th {\n",
       "        text-align: right;\n",
       "    }\n",
       "</style>\n",
       "<table border=\"1\" class=\"dataframe\">\n",
       "  <thead>\n",
       "    <tr style=\"text-align: right;\">\n",
       "      <th></th>\n",
       "      <th>country</th>\n",
       "      <th>indicator</th>\n",
       "      <th>date</th>\n",
       "      <th>value</th>\n",
       "    </tr>\n",
       "  </thead>\n",
       "  <tbody>\n",
       "  </tbody>\n",
       "</table>\n",
       "</div>"
      ],
      "text/plain": [
       "Empty DataFrame\n",
       "Columns: [country, indicator, date, value]\n",
       "Index: []"
      ]
     },
     "execution_count": 23,
     "metadata": {},
     "output_type": "execute_result"
    }
   ],
   "source": [
    "imf_df.head(15)"
   ]
  },
  {
   "cell_type": "code",
   "execution_count": 24,
   "metadata": {},
   "outputs": [
    {
     "data": {
      "text/plain": [
       "0"
      ]
     },
     "execution_count": 24,
     "metadata": {},
     "output_type": "execute_result"
    }
   ],
   "source": [
    "len(imf_df['country'].unique())"
   ]
  },
  {
   "cell_type": "code",
   "execution_count": 25,
   "metadata": {},
   "outputs": [],
   "source": [
    "imf_countries = sorted(list(imf_df['country'].unique()))"
   ]
  },
  {
   "cell_type": "markdown",
   "metadata": {},
   "source": [
    "### Load world bank yearly data"
   ]
  },
  {
   "cell_type": "code",
   "execution_count": 26,
   "metadata": {},
   "outputs": [
    {
     "name": "stdout",
     "output_type": "stream",
     "text": [
      "   33534 data/world_bank/ECON.csv\n",
      "    9589 data/world_bank/HNP.csv\n",
      "      38 data/world_bank/HNP_indicator_definitions.csv\n",
      "   36174 data/world_bank/POP.csv\n",
      "   79335 total\n"
     ]
    }
   ],
   "source": [
    "%%bash\n",
    "wc -l world_bank/*.csv"
   ]
  },
  {
   "cell_type": "code",
   "execution_count": 27,
   "metadata": {},
   "outputs": [],
   "source": [
    "wb_country_aggregates = ['nan', 'Lower middle income', 'Post-demographic dividend', 'High income',\n",
    "                         'Pre-demographic dividend', 'East Asia & Pacific (IDA & IBRD countries)',\n",
    "                         'Europe & Central Asia (excluding high income)', 'Heavily indebted poor countries (HIPC)',\n",
    "                         'Caribbean small states', 'Pacific island small states', 'Middle income',\n",
    "                         'Late-demographic dividend', 'OECD members', 'IDA & IBRD total', 'Not classified', \n",
    "                         'East Asia & Pacific (excluding high income)',\n",
    "                         'Latin America & the Caribbean (IDA & IBRD countries)', 'Low income', 'Low & middle income',\n",
    "                         'IDA blend', 'IBRD only', 'Sub-Saharan Africa (excluding high income)', \n",
    "                         'Fragile and conflict affected situations', 'Europe & Central Asia (IDA & IBRD countries)',\n",
    "                         'Euro area', 'Other small states', 'Europe & Central Asia', 'Arab World',\n",
    "                         'Latin America & Caribbean (excluding high income)', \n",
    "                         'Sub-Saharan Africa (IDA & IBRD countries)', 'Early-demographic dividend', 'IDA only',\n",
    "                         'Small states', 'Middle East & North Africa (excluding high income)', 'East Asia & Pacific',\n",
    "                         'South Asia', 'European Union', 'Least developed countries: UN classification',\n",
    "                         'Middle East & North Africa (IDA & IBRD countries)', 'Upper middle income',\n",
    "                         'South Asia (IDA & IBRD)', 'Central Europe and the Baltics', 'Sub-Saharan Africa', \n",
    "                         'Latin America & Caribbean', 'Middle East & North Africa', 'IDA total', 'North America',\n",
    "                         'Last Updated: 11/14/2018', 'Data from database: World Development Indicators', 'World']"
   ]
  },
  {
   "cell_type": "code",
   "execution_count": 28,
   "metadata": {},
   "outputs": [],
   "source": [
    "wb_cols = ['Country Name', 'Series Name'] + [str('%s [YR%s]' % (y, y)) for y in list(range(1960, 2018))]"
   ]
  },
  {
   "cell_type": "code",
   "execution_count": 29,
   "metadata": {},
   "outputs": [],
   "source": [
    "def load_wb_yearly(file_name, indicators, wb_columns, country_aggregates):\n",
    "    csv_df = pd.read_csv('world_bank/%s' % file_name).fillna(0)\n",
    "    base_df = csv_df.loc[(csv_df['Series Name'].isin(indicators))]\n",
    "    wb_df = base_df[wb_columns].fillna(0)\n",
    "    df = pd.melt(wb_df, id_vars=['Country Name', 'Series Name'], var_name='date', value_name='value')\n",
    "    df['date'] = pd.to_datetime(df['date'].map(lambda x: int(x.split(' ')[0])), format='%Y')\n",
    "    df.columns = ['country', 'indicator', 'date', 'value']\n",
    "    return df.loc[~df['country'].isin(country_aggregates)]"
   ]
  },
  {
   "cell_type": "code",
   "execution_count": 30,
   "metadata": {},
   "outputs": [],
   "source": [
    "wb_econ_df = load_wb_yearly('ECON.csv', indicator_list, wb_cols, wb_country_aggregates)"
   ]
  },
  {
   "cell_type": "code",
   "execution_count": 31,
   "metadata": {},
   "outputs": [],
   "source": [
    "wb_hnp_df = load_wb_yearly('HNP.csv', indicator_list, wb_cols, wb_country_aggregates)"
   ]
  },
  {
   "cell_type": "code",
   "execution_count": 32,
   "metadata": {},
   "outputs": [],
   "source": [
    "wb_pop_df = load_wb_yearly('POP.csv', indicator_list, wb_cols, wb_country_aggregates)"
   ]
  },
  {
   "cell_type": "code",
   "execution_count": 33,
   "metadata": {},
   "outputs": [],
   "source": [
    "wb_df = pd.concat([wb_econ_df, wb_hnp_df, wb_pop_df], join='outer')"
   ]
  },
  {
   "cell_type": "code",
   "execution_count": 34,
   "metadata": {},
   "outputs": [
    {
     "data": {
      "text/plain": [
       "1611008"
      ]
     },
     "execution_count": 34,
     "metadata": {},
     "output_type": "execute_result"
    }
   ],
   "source": [
    "wb_df.size"
   ]
  },
  {
   "cell_type": "code",
   "execution_count": 35,
   "metadata": {},
   "outputs": [
    {
     "data": {
      "text/html": [
       "<div>\n",
       "<style scoped>\n",
       "    .dataframe tbody tr th:only-of-type {\n",
       "        vertical-align: middle;\n",
       "    }\n",
       "\n",
       "    .dataframe tbody tr th {\n",
       "        vertical-align: top;\n",
       "    }\n",
       "\n",
       "    .dataframe thead th {\n",
       "        text-align: right;\n",
       "    }\n",
       "</style>\n",
       "<table border=\"1\" class=\"dataframe\">\n",
       "  <thead>\n",
       "    <tr style=\"text-align: right;\">\n",
       "      <th></th>\n",
       "      <th>country</th>\n",
       "      <th>indicator</th>\n",
       "      <th>date</th>\n",
       "      <th>value</th>\n",
       "    </tr>\n",
       "  </thead>\n",
       "  <tbody>\n",
       "    <tr>\n",
       "      <th>0</th>\n",
       "      <td>Afghanistan</td>\n",
       "      <td>Bank capital to assets ratio (%)</td>\n",
       "      <td>1960-01-01</td>\n",
       "      <td>0.00</td>\n",
       "    </tr>\n",
       "    <tr>\n",
       "      <th>1</th>\n",
       "      <td>Afghanistan</td>\n",
       "      <td>Bank nonperforming loans to total gross loans (%)</td>\n",
       "      <td>1960-01-01</td>\n",
       "      <td>0.00</td>\n",
       "    </tr>\n",
       "    <tr>\n",
       "      <th>2</th>\n",
       "      <td>Afghanistan</td>\n",
       "      <td>Broad money (% of GDP)</td>\n",
       "      <td>1960-01-01</td>\n",
       "      <td>13.45</td>\n",
       "    </tr>\n",
       "    <tr>\n",
       "      <th>3</th>\n",
       "      <td>Afghanistan</td>\n",
       "      <td>Central government debt, total (% of GDP)</td>\n",
       "      <td>1960-01-01</td>\n",
       "      <td>0.00</td>\n",
       "    </tr>\n",
       "    <tr>\n",
       "      <th>4</th>\n",
       "      <td>Afghanistan</td>\n",
       "      <td>Compensation of employees (% of expense)</td>\n",
       "      <td>1960-01-01</td>\n",
       "      <td>0.00</td>\n",
       "    </tr>\n",
       "    <tr>\n",
       "      <th>5</th>\n",
       "      <td>Afghanistan</td>\n",
       "      <td>Firms using banks to finance investment (% of ...</td>\n",
       "      <td>1960-01-01</td>\n",
       "      <td>0.00</td>\n",
       "    </tr>\n",
       "    <tr>\n",
       "      <th>6</th>\n",
       "      <td>Afghanistan</td>\n",
       "      <td>GDP (constant 2010 US$)</td>\n",
       "      <td>1960-01-01</td>\n",
       "      <td>0.00</td>\n",
       "    </tr>\n",
       "    <tr>\n",
       "      <th>7</th>\n",
       "      <td>Afghanistan</td>\n",
       "      <td>GDP growth (annual %)</td>\n",
       "      <td>1960-01-01</td>\n",
       "      <td>0.00</td>\n",
       "    </tr>\n",
       "    <tr>\n",
       "      <th>8</th>\n",
       "      <td>Afghanistan</td>\n",
       "      <td>GDP per capita growth (annual %)</td>\n",
       "      <td>1960-01-01</td>\n",
       "      <td>0.00</td>\n",
       "    </tr>\n",
       "    <tr>\n",
       "      <th>9</th>\n",
       "      <td>Afghanistan</td>\n",
       "      <td>GNI growth (annual %)</td>\n",
       "      <td>1960-01-01</td>\n",
       "      <td>0.00</td>\n",
       "    </tr>\n",
       "    <tr>\n",
       "      <th>10</th>\n",
       "      <td>Afghanistan</td>\n",
       "      <td>GNI (constant 2010 US$)</td>\n",
       "      <td>1960-01-01</td>\n",
       "      <td>0.00</td>\n",
       "    </tr>\n",
       "    <tr>\n",
       "      <th>11</th>\n",
       "      <td>Afghanistan</td>\n",
       "      <td>GNI per capita growth (annual %)</td>\n",
       "      <td>1960-01-01</td>\n",
       "      <td>0.00</td>\n",
       "    </tr>\n",
       "    <tr>\n",
       "      <th>12</th>\n",
       "      <td>Afghanistan</td>\n",
       "      <td>Gross domestic savings (% of GDP)</td>\n",
       "      <td>1960-01-01</td>\n",
       "      <td>13.22</td>\n",
       "    </tr>\n",
       "    <tr>\n",
       "      <th>13</th>\n",
       "      <td>Afghanistan</td>\n",
       "      <td>Gross savings (% of GNI)</td>\n",
       "      <td>1960-01-01</td>\n",
       "      <td>0.00</td>\n",
       "    </tr>\n",
       "    <tr>\n",
       "      <th>14</th>\n",
       "      <td>Afghanistan</td>\n",
       "      <td>Inflation, GDP deflator (annual %)</td>\n",
       "      <td>1960-01-01</td>\n",
       "      <td>0.00</td>\n",
       "    </tr>\n",
       "  </tbody>\n",
       "</table>\n",
       "</div>"
      ],
      "text/plain": [
       "        country                                          indicator       date  \\\n",
       "0   Afghanistan                   Bank capital to assets ratio (%) 1960-01-01   \n",
       "1   Afghanistan  Bank nonperforming loans to total gross loans (%) 1960-01-01   \n",
       "2   Afghanistan                             Broad money (% of GDP) 1960-01-01   \n",
       "3   Afghanistan          Central government debt, total (% of GDP) 1960-01-01   \n",
       "4   Afghanistan           Compensation of employees (% of expense) 1960-01-01   \n",
       "5   Afghanistan  Firms using banks to finance investment (% of ... 1960-01-01   \n",
       "6   Afghanistan                            GDP (constant 2010 US$) 1960-01-01   \n",
       "7   Afghanistan                              GDP growth (annual %) 1960-01-01   \n",
       "8   Afghanistan                   GDP per capita growth (annual %) 1960-01-01   \n",
       "9   Afghanistan                              GNI growth (annual %) 1960-01-01   \n",
       "10  Afghanistan                            GNI (constant 2010 US$) 1960-01-01   \n",
       "11  Afghanistan                   GNI per capita growth (annual %) 1960-01-01   \n",
       "12  Afghanistan                  Gross domestic savings (% of GDP) 1960-01-01   \n",
       "13  Afghanistan                           Gross savings (% of GNI) 1960-01-01   \n",
       "14  Afghanistan                 Inflation, GDP deflator (annual %) 1960-01-01   \n",
       "\n",
       "                  value  \n",
       "0                  0.00  \n",
       "1                  0.00  \n",
       "2                 13.45  \n",
       "3                  0.00  \n",
       "4                  0.00  \n",
       "5                  0.00  \n",
       "6                  0.00  \n",
       "7                  0.00  \n",
       "8                  0.00  \n",
       "9                  0.00  \n",
       "10                 0.00  \n",
       "11                 0.00  \n",
       "12                13.22  \n",
       "13                 0.00  \n",
       "14                 0.00  "
      ]
     },
     "execution_count": 35,
     "metadata": {},
     "output_type": "execute_result"
    }
   ],
   "source": [
    "wb_df.head(15)"
   ]
  },
  {
   "cell_type": "code",
   "execution_count": 36,
   "metadata": {},
   "outputs": [
    {
     "data": {
      "text/plain": [
       "217"
      ]
     },
     "execution_count": 36,
     "metadata": {},
     "output_type": "execute_result"
    }
   ],
   "source": [
    "len(wb_df['country'].unique())"
   ]
  },
  {
   "cell_type": "code",
   "execution_count": 37,
   "metadata": {},
   "outputs": [],
   "source": [
    "wb_countries = sorted(list(wb_df['country'].unique()))"
   ]
  },
  {
   "cell_type": "markdown",
   "metadata": {},
   "source": [
    "### Combine the two datasets"
   ]
  },
  {
   "cell_type": "code",
   "execution_count": 38,
   "metadata": {},
   "outputs": [],
   "source": [
    "imf_specific = [country for country in imf_countries if country not in wb_countries]"
   ]
  },
  {
   "cell_type": "code",
   "execution_count": 39,
   "metadata": {},
   "outputs": [
    {
     "data": {
      "text/plain": [
       "0"
      ]
     },
     "execution_count": 39,
     "metadata": {},
     "output_type": "execute_result"
    }
   ],
   "source": [
    "len(imf_specific)"
   ]
  },
  {
   "cell_type": "code",
   "execution_count": 40,
   "metadata": {},
   "outputs": [],
   "source": [
    "imf_to_wb_country_map = {\n",
    "    'Afghanistan, Islamic Republic of': 'Afghanistan',\n",
    "    'Armenia, Republic of': 'Armenia',\n",
    "    'Azerbaijan, Republic of': 'Azerbaijan',\n",
    "    'Bahrain, Kingdom of': 'Bahrain',\n",
    "    'China, P.R.: Hong Kong': 'Hong Kong SAR, China',\n",
    "    'China, P.R.: Macao': 'Macao SAR, China',\n",
    "    'China, P.R.: Mainland': 'China',\n",
    "    'Congo, Democratic Republic of': 'Congo, Dem. Rep.',\n",
    "    'Congo, Republic of': 'Congo, Rep.',\n",
    "    'Egypt': 'Egypt, Arab Rep.',\n",
    "    'French Territories: New Caledonia': 'New Caledonia',\n",
    "    'Iran, Islamic Republic of': 'Iran',\n",
    "    'Korea, Republic of': 'Korea, Rep.',\n",
    "    'Kosovo, Republic of': 'Kosovo',\n",
    "    \"Lao People's Democratic Republic\": 'Lao PDR',\n",
    "    'Serbia, Republic of': 'Serbia',\n",
    "    'Sint Maarten': 'Sint Maarten (Dutch part)',\n",
    "    'Timor-Leste, Dem. Rep. of': 'Timor-Leste',\n",
    "    'Venezuela, Republica Bolivariana de': 'Venezuela, RB',\n",
    "    'Venezuela, República Bolivariana de': 'Venezuela, RB',\n",
    "    'Yemen, Republic of': 'Yemen'\n",
    "}"
   ]
  },
  {
   "cell_type": "code",
   "execution_count": 41,
   "metadata": {},
   "outputs": [],
   "source": [
    "imf_df = imf_df.replace({'country': imf_to_wb_country_map})"
   ]
  },
  {
   "cell_type": "code",
   "execution_count": 42,
   "metadata": {},
   "outputs": [],
   "source": [
    "policy_df = pd.concat([wb_df, imf_df], join='outer')"
   ]
  },
  {
   "cell_type": "code",
   "execution_count": 43,
   "metadata": {},
   "outputs": [
    {
     "data": {
      "text/plain": [
       "1611008"
      ]
     },
     "execution_count": 43,
     "metadata": {},
     "output_type": "execute_result"
    }
   ],
   "source": [
    "policy_df.size"
   ]
  },
  {
   "cell_type": "code",
   "execution_count": 44,
   "metadata": {},
   "outputs": [
    {
     "data": {
      "text/html": [
       "<div>\n",
       "<style scoped>\n",
       "    .dataframe tbody tr th:only-of-type {\n",
       "        vertical-align: middle;\n",
       "    }\n",
       "\n",
       "    .dataframe tbody tr th {\n",
       "        vertical-align: top;\n",
       "    }\n",
       "\n",
       "    .dataframe thead th {\n",
       "        text-align: right;\n",
       "    }\n",
       "</style>\n",
       "<table border=\"1\" class=\"dataframe\">\n",
       "  <thead>\n",
       "    <tr style=\"text-align: right;\">\n",
       "      <th></th>\n",
       "      <th>country</th>\n",
       "      <th>indicator</th>\n",
       "      <th>date</th>\n",
       "      <th>value</th>\n",
       "    </tr>\n",
       "  </thead>\n",
       "  <tbody>\n",
       "    <tr>\n",
       "      <th>0</th>\n",
       "      <td>Afghanistan</td>\n",
       "      <td>Bank capital to assets ratio (%)</td>\n",
       "      <td>1960-01-01</td>\n",
       "      <td>0.00</td>\n",
       "    </tr>\n",
       "    <tr>\n",
       "      <th>1</th>\n",
       "      <td>Afghanistan</td>\n",
       "      <td>Bank nonperforming loans to total gross loans (%)</td>\n",
       "      <td>1960-01-01</td>\n",
       "      <td>0.00</td>\n",
       "    </tr>\n",
       "    <tr>\n",
       "      <th>2</th>\n",
       "      <td>Afghanistan</td>\n",
       "      <td>Broad money (% of GDP)</td>\n",
       "      <td>1960-01-01</td>\n",
       "      <td>13.45</td>\n",
       "    </tr>\n",
       "    <tr>\n",
       "      <th>3</th>\n",
       "      <td>Afghanistan</td>\n",
       "      <td>Central government debt, total (% of GDP)</td>\n",
       "      <td>1960-01-01</td>\n",
       "      <td>0.00</td>\n",
       "    </tr>\n",
       "    <tr>\n",
       "      <th>4</th>\n",
       "      <td>Afghanistan</td>\n",
       "      <td>Compensation of employees (% of expense)</td>\n",
       "      <td>1960-01-01</td>\n",
       "      <td>0.00</td>\n",
       "    </tr>\n",
       "    <tr>\n",
       "      <th>5</th>\n",
       "      <td>Afghanistan</td>\n",
       "      <td>Firms using banks to finance investment (% of ...</td>\n",
       "      <td>1960-01-01</td>\n",
       "      <td>0.00</td>\n",
       "    </tr>\n",
       "    <tr>\n",
       "      <th>6</th>\n",
       "      <td>Afghanistan</td>\n",
       "      <td>GDP (constant 2010 US$)</td>\n",
       "      <td>1960-01-01</td>\n",
       "      <td>0.00</td>\n",
       "    </tr>\n",
       "    <tr>\n",
       "      <th>7</th>\n",
       "      <td>Afghanistan</td>\n",
       "      <td>GDP growth (annual %)</td>\n",
       "      <td>1960-01-01</td>\n",
       "      <td>0.00</td>\n",
       "    </tr>\n",
       "    <tr>\n",
       "      <th>8</th>\n",
       "      <td>Afghanistan</td>\n",
       "      <td>GDP per capita growth (annual %)</td>\n",
       "      <td>1960-01-01</td>\n",
       "      <td>0.00</td>\n",
       "    </tr>\n",
       "    <tr>\n",
       "      <th>9</th>\n",
       "      <td>Afghanistan</td>\n",
       "      <td>GNI growth (annual %)</td>\n",
       "      <td>1960-01-01</td>\n",
       "      <td>0.00</td>\n",
       "    </tr>\n",
       "    <tr>\n",
       "      <th>10</th>\n",
       "      <td>Afghanistan</td>\n",
       "      <td>GNI (constant 2010 US$)</td>\n",
       "      <td>1960-01-01</td>\n",
       "      <td>0.00</td>\n",
       "    </tr>\n",
       "    <tr>\n",
       "      <th>11</th>\n",
       "      <td>Afghanistan</td>\n",
       "      <td>GNI per capita growth (annual %)</td>\n",
       "      <td>1960-01-01</td>\n",
       "      <td>0.00</td>\n",
       "    </tr>\n",
       "    <tr>\n",
       "      <th>12</th>\n",
       "      <td>Afghanistan</td>\n",
       "      <td>Gross domestic savings (% of GDP)</td>\n",
       "      <td>1960-01-01</td>\n",
       "      <td>13.22</td>\n",
       "    </tr>\n",
       "    <tr>\n",
       "      <th>13</th>\n",
       "      <td>Afghanistan</td>\n",
       "      <td>Gross savings (% of GNI)</td>\n",
       "      <td>1960-01-01</td>\n",
       "      <td>0.00</td>\n",
       "    </tr>\n",
       "    <tr>\n",
       "      <th>14</th>\n",
       "      <td>Afghanistan</td>\n",
       "      <td>Inflation, GDP deflator (annual %)</td>\n",
       "      <td>1960-01-01</td>\n",
       "      <td>0.00</td>\n",
       "    </tr>\n",
       "  </tbody>\n",
       "</table>\n",
       "</div>"
      ],
      "text/plain": [
       "        country                                          indicator       date  \\\n",
       "0   Afghanistan                   Bank capital to assets ratio (%) 1960-01-01   \n",
       "1   Afghanistan  Bank nonperforming loans to total gross loans (%) 1960-01-01   \n",
       "2   Afghanistan                             Broad money (% of GDP) 1960-01-01   \n",
       "3   Afghanistan          Central government debt, total (% of GDP) 1960-01-01   \n",
       "4   Afghanistan           Compensation of employees (% of expense) 1960-01-01   \n",
       "5   Afghanistan  Firms using banks to finance investment (% of ... 1960-01-01   \n",
       "6   Afghanistan                            GDP (constant 2010 US$) 1960-01-01   \n",
       "7   Afghanistan                              GDP growth (annual %) 1960-01-01   \n",
       "8   Afghanistan                   GDP per capita growth (annual %) 1960-01-01   \n",
       "9   Afghanistan                              GNI growth (annual %) 1960-01-01   \n",
       "10  Afghanistan                            GNI (constant 2010 US$) 1960-01-01   \n",
       "11  Afghanistan                   GNI per capita growth (annual %) 1960-01-01   \n",
       "12  Afghanistan                  Gross domestic savings (% of GDP) 1960-01-01   \n",
       "13  Afghanistan                           Gross savings (% of GNI) 1960-01-01   \n",
       "14  Afghanistan                 Inflation, GDP deflator (annual %) 1960-01-01   \n",
       "\n",
       "                  value  \n",
       "0                  0.00  \n",
       "1                  0.00  \n",
       "2                 13.45  \n",
       "3                  0.00  \n",
       "4                  0.00  \n",
       "5                  0.00  \n",
       "6                  0.00  \n",
       "7                  0.00  \n",
       "8                  0.00  \n",
       "9                  0.00  \n",
       "10                 0.00  \n",
       "11                 0.00  \n",
       "12                13.22  \n",
       "13                 0.00  \n",
       "14                 0.00  "
      ]
     },
     "execution_count": 44,
     "metadata": {},
     "output_type": "execute_result"
    }
   ],
   "source": [
    "policy_df.head(15)"
   ]
  },
  {
   "cell_type": "code",
   "execution_count": 45,
   "metadata": {},
   "outputs": [],
   "source": [
    "indicators = sorted(list(policy_df['indicator'].unique()))"
   ]
  },
  {
   "cell_type": "code",
   "execution_count": 46,
   "metadata": {},
   "outputs": [],
   "source": [
    "assert len(indicators) == len(indicator_list), 'The number of retrieved variables (%s) does not match the number of specified variables (%s).\\nThe following variables are missing:\\n\\n %s' % (len(indicators), len(indicator_list), [i for i in indicator_list if i not in indicators])"
   ]
  },
  {
   "cell_type": "code",
   "execution_count": 47,
   "metadata": {},
   "outputs": [],
   "source": [
    "policy_df.to_csv('model_one/policy.csv', sep=';', index=False)"
   ]
  },
  {
   "cell_type": "code",
   "execution_count": null,
   "metadata": {},
   "outputs": [],
   "source": []
  }
 ],
 "metadata": {
  "kernelspec": {
   "display_name": "me",
   "language": "python",
   "name": "me"
  },
  "language_info": {
   "codemirror_mode": {
    "name": "ipython",
    "version": 3
   },
   "file_extension": ".py",
   "mimetype": "text/x-python",
   "name": "python",
   "nbconvert_exporter": "python",
   "pygments_lexer": "ipython3",
   "version": "3.6.5"
  }
 },
 "nbformat": 4,
 "nbformat_minor": 2
}
