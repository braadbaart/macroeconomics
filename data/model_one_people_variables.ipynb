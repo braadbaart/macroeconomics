{
 "cells": [
  {
   "cell_type": "markdown",
   "metadata": {},
   "source": [
    "## Model one people variables\n",
    "\n",
    "This notebook extracts the selected people variables in the `indicator_list` from IMF and World Bank (wb) data sources, and writes them to a csv file."
   ]
  },
  {
   "cell_type": "code",
   "execution_count": 4,
   "metadata": {},
   "outputs": [],
   "source": [
    "import warnings\n",
    "import numpy as np\n",
    "import pandas as pd\n",
    "import seaborn as sns\n",
    "import matplotlib.pyplot as plt\n",
    "\n",
    "%matplotlib inline"
   ]
  },
  {
   "cell_type": "code",
   "execution_count": 5,
   "metadata": {},
   "outputs": [],
   "source": [
    "warnings.filterwarnings('ignore')\n",
    "pd.options.display.float_format = '{:20,.2f}'.format"
   ]
  },
  {
   "cell_type": "markdown",
   "metadata": {},
   "source": [
    "|  variable                 | origin            | source      |granularity|countries|   description                                               | composition                                                       |\n",
    "| --------------------------|-------------------|-------------|-----------|---------|-------------------------------------------------------------|-------------------------------------------------------------------|\n",
    "| population                | -                 | world bank  | yearly    | 217     | Population, total                                           | Unweighted sum                                                    |\n",
    "| population growth         | -                 | world bank  | yearly    | 217     | Population growth (annual %)                                 | -                                                                 |\n",
    "| infant mortality rate     | -                 | world bank  | yearly    | 217     | Mortality rate, infant (per 1,000 live births)          | -                                                                 |\n",
    "| births rate               | -                 | world bank  | yearly    | 217     | Birth rate, crude (per 1,000 people)                     | -                                                                 |\n",
    "| fertility rate            | -                 | world bank  | yearly    | 217     | Fertility rate, total (births per woman)                  | -                                                                 |\n",
    "| rural population          | -                 | world bank  | yearly    | 217     | Rural population (% of total population)                 | -                                                                 |\n",
    "| rural population growth   | -                 | world bank  | yearly    | 217     | Rural population growth (annual %)                          | -                                                                 |\n",
    "| urban population          | -                 | world bank  | yearly    | 217     | Urban population (% of total)                               | -                                                                 |\n",
    "| urban population growth   | -                 | world bank  | yearly    | 217     | Urban population growth (annual %)                          | -                                                                 |\n",
    "| life expectancy           | -                 | world bank  | yearly    | 217     | Life expectancy at birth, total (years)                     | -                                                                 |\n",
    "| population aged 15-64     | -                 | world bank  | yearly    | 217     | Population ages 15-64 (% of total)                      | -                                                                 |\n",
    "| population density        | -                 | world bank  | yearly    | 217     | Population density (people per sq. km of land area)        | -                                                                 |\n",
    "| adults overweight         | -                 | world bank  | yearly    | 217     | Prevalence of overweight (% of adults)                     | -                                                                 |\n",
    "| informal employment       | -                 | wb econ     | yearly    | 217     | Informal employment (% of total non-agricultural employment)| -                                                                 |\n",
    "| consumption growth        | -                 | wb econ     | yearly    | 217     | Final consumption expenditure (annual % growth)           | -                                                                 |\n",
    "| consumer price inflation  | -                 | wb econ     | yearly    | 217     | Inflation, consumer prices (annual %)                  | -                                                                 |\n",
    "| labor force               | -                 | imf pplt    | monthly   | 208     | Labor Force, Persons, Number of                             | Unweighted sum                                                    |\n",
    "| wage rates change         | -                 | imf pplt    | monthly   | 208     | Wage rates, Percentage change, previous period, Percent    | -                                                                 |\n",
    "| unemployed                | -                 | imf pplt    | monthly   | 208     | Unemployment, Persons, Number of                             | Unweighted sum                                                    |\n",
    "| unemployment rate         | -                 | imf pplt    | monthly   | 208     | Unemployment, total (% of total labor force) (national estimate)| -                                                             |\n",
    "| cpi change all items      | -                 | imf cpi     | monthly   | 189     | Consumer Price Index, All items, Percentage change, Previous period| -                                                           |\n",
    "| cpi all items             | -                 | imf cpi     | monthly   | 189     | Consumer Price Index, All items                             | -                                                                 |\n",
    "| cpi housing weigth        | -                 | imf cpi     | monthly   | 189     | Housing, Water, Electricity, Gas and Other Fuels, Weight, Percent| Percentage                                                    |\n",
    "| cpi food weigth           | -                 | imf cpi     | monthly   | 189     | Food and non-alcoholic beverages, Weight, Percent  | Percentage                                                        |\n",
    "| cpi education weigth      | -                 | imf cpi     | monthly   | 189     | Education, Weight, Percent                                   | Percentage                                                        |\n",
    "| cpi health weigth         | -                 | imf cpi     | monthly   | 189     | Health, Weight, Percent                                     | Percentage                                                        |\n",
    "| cpi transport weigth      | -                 | imf cpi     | monthly   | 189     | Transport, Weight, Percent                                   | Percentage                                                        |\n",
    "| cpi leisure weigth        | -                 | imf cpi     | monthly   | 189     | Recreation and culture, Weight, Percent                     | Percentage                                                        |\n"
   ]
  },
  {
   "cell_type": "code",
   "execution_count": 77,
   "metadata": {},
   "outputs": [],
   "source": [
    "indicator_list = ['Population, total', 'Population growth (annual %)', 'Mortality rate, infant (per 1,000 live births)',\n",
    "                  'Birth rate, crude (per 1,000 people)', 'Fertility rate, total (births per woman)',\n",
    "                  'Rural population (% of total population)', 'Rural population growth (annual %)',\n",
    "                  'Urban population (% of total)', 'Urban population growth (annual %)',\n",
    "                  'Life expectancy at birth, total (years)', 'Population ages 15-64 (% of total)',\n",
    "                  'Population density (people per sq. km of land area)', 'Prevalence of overweight (% of adults)',\n",
    "                  'Informal employment (% of total non-agricultural employment)',\n",
    "                  'Final consumption expenditure (annual % growth)', 'Inflation, consumer prices (annual %)',\n",
    "                  'Labor Force, Persons, Number of', 'Wage rates, Percentage change, previous period, Percent',\n",
    "                  'Unemployment, Persons, Number of', 'Unemployment, total (% of total labor force) (national estimate)',\n",
    "                  'Consumer Price Index, All items, Percentage change, Previous period', 'Consumer Price Index, All items',\n",
    "                  'Housing, Water, Electricity, Gas and Other Fuels, Weight, Percent',\n",
    "                  'Food and non-alcoholic beverages, Weight, Percent', 'Education, Weight, Percent',\n",
    "                  'Health, Weight, Percent', 'Transport, Weight, Percent', 'Recreation and culture, Weight, Percent']"
   ]
  },
  {
   "cell_type": "code",
   "execution_count": 78,
   "metadata": {},
   "outputs": [
    {
     "data": {
      "text/plain": [
       "28"
      ]
     },
     "execution_count": 78,
     "metadata": {},
     "output_type": "execute_result"
    }
   ],
   "source": [
    "len(indicator_list)"
   ]
  },
  {
   "cell_type": "markdown",
   "metadata": {},
   "source": [
    "## Load imf monthly data"
   ]
  },
  {
   "cell_type": "code",
   "execution_count": 79,
   "metadata": {},
   "outputs": [
    {
     "name": "stdout",
     "output_type": "stream",
     "text": [
      "  365536 imf/BOP_11-25-2018 19-15-19-60_timeSeries.csv\n",
      "      64 imf/COMMP_11-25-2018 19-13-52-15_timeSeries.csv\n",
      "   14430 imf/CPI_11-25-2018 19-14-47-26_timeSeries.csv\n",
      "    1693 imf/FDI_11-20-2018 21-39-31-89_timeSeries.csv\n",
      " 1247714 imf/GFSR_11-25-2018 19-23-39-70_timeSeries.csv\n",
      "   16732 imf/IRFCL_11-25-2018 19-13-18-05_timeSeries.csv\n",
      "    7846 imf/ITS_11-14-2018 15-14-06-02_timeSeries.csv\n",
      "    7425 imf/PPLT_11-25-2018 19-25-01-32_timeSeries.csv\n",
      " 1661440 total\n"
     ]
    }
   ],
   "source": [
    "%%bash\n",
    "wc -l imf/*.csv"
   ]
  },
  {
   "cell_type": "code",
   "execution_count": 80,
   "metadata": {},
   "outputs": [],
   "source": [
    "time_values = [str('%sM%s' % (y, m)) for m in list(range(1, 13)) for y in list(range(1960, 2018))]\n",
    "imf_columns = ['Country Name', 'Indicator Name'] + time_values"
   ]
  },
  {
   "cell_type": "code",
   "execution_count": 81,
   "metadata": {},
   "outputs": [],
   "source": [
    "imf_country_aggregates = ['Euro Area']"
   ]
  },
  {
   "cell_type": "code",
   "execution_count": 82,
   "metadata": {},
   "outputs": [],
   "source": [
    "def load_imf_monthly(file_name, indicators, imf_columns, country_aggregates):\n",
    "    csv_df = pd.read_csv('imf/%s' % file_name).fillna(0)\n",
    "    base_df = csv_df.loc[csv_df['Attribute'] == 'Value'].drop(columns=['Attribute'])\n",
    "    monthly_df = base_df.loc[(base_df['Indicator Name'].isin(indicators))]\n",
    "    imf_df = monthly_df[imf_columns].fillna(0)\n",
    "    df = pd.melt(imf_df, id_vars=['Country Name', 'Indicator Name'], var_name='date', value_name='value')\n",
    "    df['date'] = pd.to_datetime(df['date'], format='%YM%m')\n",
    "    df.columns = ['country', 'indicator', 'date', 'value']\n",
    "    return df.loc[~df['country'].isin(country_aggregates)]"
   ]
  },
  {
   "cell_type": "code",
   "execution_count": 83,
   "metadata": {},
   "outputs": [],
   "source": [
    "imf_pplt_df = load_imf_monthly('PPLT_11-25-2018 19-25-01-32_timeSeries.csv', indicator_list, imf_columns, imf_country_aggregates)"
   ]
  },
  {
   "cell_type": "code",
   "execution_count": 84,
   "metadata": {},
   "outputs": [],
   "source": [
    "imf_cpi_df = load_imf_monthly('CPI_11-25-2018 19-14-47-26_timeSeries.csv', indicator_list, imf_columns, imf_country_aggregates)"
   ]
  },
  {
   "cell_type": "code",
   "execution_count": 85,
   "metadata": {},
   "outputs": [],
   "source": [
    "imf_df = pd.concat([imf_cpi_df, imf_pplt_df], join='outer')"
   ]
  },
  {
   "cell_type": "code",
   "execution_count": 86,
   "metadata": {},
   "outputs": [
    {
     "data": {
      "text/plain": [
       "4047936"
      ]
     },
     "execution_count": 86,
     "metadata": {},
     "output_type": "execute_result"
    }
   ],
   "source": [
    "imf_df.size"
   ]
  },
  {
   "cell_type": "code",
   "execution_count": 87,
   "metadata": {},
   "outputs": [
    {
     "data": {
      "text/html": [
       "<div>\n",
       "<style scoped>\n",
       "    .dataframe tbody tr th:only-of-type {\n",
       "        vertical-align: middle;\n",
       "    }\n",
       "\n",
       "    .dataframe tbody tr th {\n",
       "        vertical-align: top;\n",
       "    }\n",
       "\n",
       "    .dataframe thead th {\n",
       "        text-align: right;\n",
       "    }\n",
       "</style>\n",
       "<table border=\"1\" class=\"dataframe\">\n",
       "  <thead>\n",
       "    <tr style=\"text-align: right;\">\n",
       "      <th></th>\n",
       "      <th>country</th>\n",
       "      <th>indicator</th>\n",
       "      <th>date</th>\n",
       "      <th>value</th>\n",
       "    </tr>\n",
       "  </thead>\n",
       "  <tbody>\n",
       "    <tr>\n",
       "      <th>0</th>\n",
       "      <td>Brazil</td>\n",
       "      <td>Consumer Price Index, All items, Percentage ch...</td>\n",
       "      <td>1960-01-01</td>\n",
       "      <td>0</td>\n",
       "    </tr>\n",
       "    <tr>\n",
       "      <th>1</th>\n",
       "      <td>Brazil</td>\n",
       "      <td>Consumer Price Index, All items</td>\n",
       "      <td>1960-01-01</td>\n",
       "      <td>0</td>\n",
       "    </tr>\n",
       "    <tr>\n",
       "      <th>2</th>\n",
       "      <td>France</td>\n",
       "      <td>Consumer Price Index, All items</td>\n",
       "      <td>1960-01-01</td>\n",
       "      <td>9.797458</td>\n",
       "    </tr>\n",
       "    <tr>\n",
       "      <th>3</th>\n",
       "      <td>Bulgaria</td>\n",
       "      <td>Consumer Price Index, All items</td>\n",
       "      <td>1960-01-01</td>\n",
       "      <td>0</td>\n",
       "    </tr>\n",
       "    <tr>\n",
       "      <th>4</th>\n",
       "      <td>France</td>\n",
       "      <td>Consumer Price Index, All items, Percentage ch...</td>\n",
       "      <td>1960-01-01</td>\n",
       "      <td>1.32398621801728</td>\n",
       "    </tr>\n",
       "    <tr>\n",
       "      <th>5</th>\n",
       "      <td>Bulgaria</td>\n",
       "      <td>Consumer Price Index, All items, Percentage ch...</td>\n",
       "      <td>1960-01-01</td>\n",
       "      <td>0</td>\n",
       "    </tr>\n",
       "    <tr>\n",
       "      <th>6</th>\n",
       "      <td>Latvia</td>\n",
       "      <td>Consumer Price Index, All items</td>\n",
       "      <td>1960-01-01</td>\n",
       "      <td>0</td>\n",
       "    </tr>\n",
       "    <tr>\n",
       "      <th>7</th>\n",
       "      <td>Honduras</td>\n",
       "      <td>Consumer Price Index, All items</td>\n",
       "      <td>1960-01-01</td>\n",
       "      <td>0</td>\n",
       "    </tr>\n",
       "    <tr>\n",
       "      <th>8</th>\n",
       "      <td>Latvia</td>\n",
       "      <td>Consumer Price Index, All items, Percentage ch...</td>\n",
       "      <td>1960-01-01</td>\n",
       "      <td>0</td>\n",
       "    </tr>\n",
       "    <tr>\n",
       "      <th>9</th>\n",
       "      <td>Colombia</td>\n",
       "      <td>Consumer Price Index, All items</td>\n",
       "      <td>1960-01-01</td>\n",
       "      <td>0</td>\n",
       "    </tr>\n",
       "    <tr>\n",
       "      <th>10</th>\n",
       "      <td>Canada</td>\n",
       "      <td>Consumer Price Index, All items</td>\n",
       "      <td>1960-01-01</td>\n",
       "      <td>15.5</td>\n",
       "    </tr>\n",
       "    <tr>\n",
       "      <th>11</th>\n",
       "      <td>Canada</td>\n",
       "      <td>Consumer Price Index, All items, Percentage ch...</td>\n",
       "      <td>1960-01-01</td>\n",
       "      <td>0</td>\n",
       "    </tr>\n",
       "    <tr>\n",
       "      <th>12</th>\n",
       "      <td>Cote d'Ivoire</td>\n",
       "      <td>Consumer Price Index, All items</td>\n",
       "      <td>1960-01-01</td>\n",
       "      <td>0</td>\n",
       "    </tr>\n",
       "    <tr>\n",
       "      <th>13</th>\n",
       "      <td>Croatia</td>\n",
       "      <td>Consumer Price Index, All items, Percentage ch...</td>\n",
       "      <td>1960-01-01</td>\n",
       "      <td>0</td>\n",
       "    </tr>\n",
       "    <tr>\n",
       "      <th>14</th>\n",
       "      <td>Finland</td>\n",
       "      <td>Consumer Price Index, All items</td>\n",
       "      <td>1960-01-01</td>\n",
       "      <td>7.381363</td>\n",
       "    </tr>\n",
       "  </tbody>\n",
       "</table>\n",
       "</div>"
      ],
      "text/plain": [
       "          country                                          indicator  \\\n",
       "0          Brazil  Consumer Price Index, All items, Percentage ch...   \n",
       "1          Brazil                    Consumer Price Index, All items   \n",
       "2          France                    Consumer Price Index, All items   \n",
       "3        Bulgaria                    Consumer Price Index, All items   \n",
       "4          France  Consumer Price Index, All items, Percentage ch...   \n",
       "5        Bulgaria  Consumer Price Index, All items, Percentage ch...   \n",
       "6          Latvia                    Consumer Price Index, All items   \n",
       "7        Honduras                    Consumer Price Index, All items   \n",
       "8          Latvia  Consumer Price Index, All items, Percentage ch...   \n",
       "9        Colombia                    Consumer Price Index, All items   \n",
       "10         Canada                    Consumer Price Index, All items   \n",
       "11         Canada  Consumer Price Index, All items, Percentage ch...   \n",
       "12  Cote d'Ivoire                    Consumer Price Index, All items   \n",
       "13        Croatia  Consumer Price Index, All items, Percentage ch...   \n",
       "14        Finland                    Consumer Price Index, All items   \n",
       "\n",
       "         date             value  \n",
       "0  1960-01-01                 0  \n",
       "1  1960-01-01                 0  \n",
       "2  1960-01-01          9.797458  \n",
       "3  1960-01-01                 0  \n",
       "4  1960-01-01  1.32398621801728  \n",
       "5  1960-01-01                 0  \n",
       "6  1960-01-01                 0  \n",
       "7  1960-01-01                 0  \n",
       "8  1960-01-01                 0  \n",
       "9  1960-01-01                 0  \n",
       "10 1960-01-01              15.5  \n",
       "11 1960-01-01                 0  \n",
       "12 1960-01-01                 0  \n",
       "13 1960-01-01                 0  \n",
       "14 1960-01-01          7.381363  "
      ]
     },
     "execution_count": 87,
     "metadata": {},
     "output_type": "execute_result"
    }
   ],
   "source": [
    "imf_df.head(15)"
   ]
  },
  {
   "cell_type": "code",
   "execution_count": 88,
   "metadata": {},
   "outputs": [
    {
     "data": {
      "text/plain": [
       "191"
      ]
     },
     "execution_count": 88,
     "metadata": {},
     "output_type": "execute_result"
    }
   ],
   "source": [
    "len(imf_df['country'].unique())"
   ]
  },
  {
   "cell_type": "code",
   "execution_count": 89,
   "metadata": {},
   "outputs": [],
   "source": [
    "imf_countries = sorted(list(imf_df['country'].unique()))"
   ]
  },
  {
   "cell_type": "markdown",
   "metadata": {},
   "source": [
    "### Load world bank yearly data"
   ]
  },
  {
   "cell_type": "code",
   "execution_count": 90,
   "metadata": {},
   "outputs": [
    {
     "name": "stdout",
     "output_type": "stream",
     "text": [
      "   33534 world_bank/ECON.csv\n",
      "    9589 world_bank/HNP.csv\n",
      "      38 world_bank/HNP_indicator_definitions.csv\n",
      "   36174 world_bank/POP.csv\n",
      "   79335 total\n"
     ]
    }
   ],
   "source": [
    "%%bash\n",
    "wc -l world_bank/*.csv"
   ]
  },
  {
   "cell_type": "code",
   "execution_count": 91,
   "metadata": {},
   "outputs": [],
   "source": [
    "wb_country_aggregates = ['nan', 'Lower middle income', 'Post-demographic dividend', 'High income',\n",
    "                         'Pre-demographic dividend', 'East Asia & Pacific (IDA & IBRD countries)',\n",
    "                         'Europe & Central Asia (excluding high income)', 'Heavily indebted poor countries (HIPC)',\n",
    "                         'Caribbean small states', 'Pacific island small states', 'Middle income',\n",
    "                         'Late-demographic dividend', 'OECD members', 'IDA & IBRD total', 'Not classified', \n",
    "                         'East Asia & Pacific (excluding high income)',\n",
    "                         'Latin America & the Caribbean (IDA & IBRD countries)', 'Low income', 'Low & middle income',\n",
    "                         'IDA blend', 'IBRD only', 'Sub-Saharan Africa (excluding high income)', \n",
    "                         'Fragile and conflict affected situations', 'Europe & Central Asia (IDA & IBRD countries)',\n",
    "                         'Euro area', 'Other small states', 'Europe & Central Asia', 'Arab World',\n",
    "                         'Latin America & Caribbean (excluding high income)', \n",
    "                         'Sub-Saharan Africa (IDA & IBRD countries)', 'Early-demographic dividend', 'IDA only',\n",
    "                         'Small states', 'Middle East & North Africa (excluding high income)', 'East Asia & Pacific',\n",
    "                         'South Asia', 'European Union', 'Least developed countries: UN classification',\n",
    "                         'Middle East & North Africa (IDA & IBRD countries)', 'Upper middle income',\n",
    "                         'South Asia (IDA & IBRD)', 'Central Europe and the Baltics', 'Sub-Saharan Africa', \n",
    "                         'Latin America & Caribbean', 'Middle East & North Africa', 'IDA total', 'North America',\n",
    "                         'Last Updated: 11/14/2018', 'Data from database: World Development Indicators', 'World']"
   ]
  },
  {
   "cell_type": "code",
   "execution_count": 92,
   "metadata": {},
   "outputs": [],
   "source": [
    "wb_cols = ['Country Name', 'Series Name'] + [str('%s [YR%s]' % (y, y)) for y in list(range(1960, 2018))]"
   ]
  },
  {
   "cell_type": "code",
   "execution_count": 93,
   "metadata": {},
   "outputs": [],
   "source": [
    "def load_wb_yearly(file_name, indicators, wb_columns, country_aggregates):\n",
    "    csv_df = pd.read_csv('world_bank/%s' % file_name).fillna(0)\n",
    "    base_df = csv_df.loc[(csv_df['Series Name'].isin(indicators))]\n",
    "    wb_df = base_df[wb_columns].fillna(0)\n",
    "    df = pd.melt(wb_df, id_vars=['Country Name', 'Series Name'], var_name='date', value_name='value')\n",
    "    df['date'] = pd.to_datetime(df['date'].map(lambda x: int(x.split(' ')[0])), format='%Y')\n",
    "    df.columns = ['country', 'indicator', 'date', 'value']\n",
    "    return df.loc[~df['country'].isin(country_aggregates)]"
   ]
  },
  {
   "cell_type": "code",
   "execution_count": 94,
   "metadata": {},
   "outputs": [],
   "source": [
    "wb_econ_df = load_wb_yearly('ECON.csv', indicator_list, wb_cols, wb_country_aggregates)"
   ]
  },
  {
   "cell_type": "code",
   "execution_count": 95,
   "metadata": {},
   "outputs": [],
   "source": [
    "wb_hnp_df = load_wb_yearly('HNP.csv', indicator_list, wb_cols, wb_country_aggregates)"
   ]
  },
  {
   "cell_type": "code",
   "execution_count": 96,
   "metadata": {},
   "outputs": [],
   "source": [
    "wb_pop_df = load_wb_yearly('POP.csv', indicator_list, wb_cols, wb_country_aggregates)"
   ]
  },
  {
   "cell_type": "code",
   "execution_count": 97,
   "metadata": {},
   "outputs": [],
   "source": [
    "wb_df = pd.concat([wb_econ_df, wb_hnp_df, wb_pop_df], join='outer')"
   ]
  },
  {
   "cell_type": "code",
   "execution_count": 98,
   "metadata": {},
   "outputs": [
    {
     "data": {
      "text/plain": [
       "1359288"
      ]
     },
     "execution_count": 98,
     "metadata": {},
     "output_type": "execute_result"
    }
   ],
   "source": [
    "wb_df.size"
   ]
  },
  {
   "cell_type": "code",
   "execution_count": 99,
   "metadata": {},
   "outputs": [
    {
     "data": {
      "text/html": [
       "<div>\n",
       "<style scoped>\n",
       "    .dataframe tbody tr th:only-of-type {\n",
       "        vertical-align: middle;\n",
       "    }\n",
       "\n",
       "    .dataframe tbody tr th {\n",
       "        vertical-align: top;\n",
       "    }\n",
       "\n",
       "    .dataframe thead th {\n",
       "        text-align: right;\n",
       "    }\n",
       "</style>\n",
       "<table border=\"1\" class=\"dataframe\">\n",
       "  <thead>\n",
       "    <tr style=\"text-align: right;\">\n",
       "      <th></th>\n",
       "      <th>country</th>\n",
       "      <th>indicator</th>\n",
       "      <th>date</th>\n",
       "      <th>value</th>\n",
       "    </tr>\n",
       "  </thead>\n",
       "  <tbody>\n",
       "    <tr>\n",
       "      <th>0</th>\n",
       "      <td>Afghanistan</td>\n",
       "      <td>Final consumption expenditure (annual % growth)</td>\n",
       "      <td>1960-01-01</td>\n",
       "      <td>0.00</td>\n",
       "    </tr>\n",
       "    <tr>\n",
       "      <th>1</th>\n",
       "      <td>Afghanistan</td>\n",
       "      <td>Inflation, consumer prices (annual %)</td>\n",
       "      <td>1960-01-01</td>\n",
       "      <td>0.00</td>\n",
       "    </tr>\n",
       "    <tr>\n",
       "      <th>2</th>\n",
       "      <td>Afghanistan</td>\n",
       "      <td>Informal employment (% of total non-agricultur...</td>\n",
       "      <td>1960-01-01</td>\n",
       "      <td>0.00</td>\n",
       "    </tr>\n",
       "    <tr>\n",
       "      <th>3</th>\n",
       "      <td>Albania</td>\n",
       "      <td>Final consumption expenditure (annual % growth)</td>\n",
       "      <td>1960-01-01</td>\n",
       "      <td>0.00</td>\n",
       "    </tr>\n",
       "    <tr>\n",
       "      <th>4</th>\n",
       "      <td>Albania</td>\n",
       "      <td>Inflation, consumer prices (annual %)</td>\n",
       "      <td>1960-01-01</td>\n",
       "      <td>0.00</td>\n",
       "    </tr>\n",
       "    <tr>\n",
       "      <th>5</th>\n",
       "      <td>Albania</td>\n",
       "      <td>Informal employment (% of total non-agricultur...</td>\n",
       "      <td>1960-01-01</td>\n",
       "      <td>0.00</td>\n",
       "    </tr>\n",
       "    <tr>\n",
       "      <th>6</th>\n",
       "      <td>Algeria</td>\n",
       "      <td>Final consumption expenditure (annual % growth)</td>\n",
       "      <td>1960-01-01</td>\n",
       "      <td>0.00</td>\n",
       "    </tr>\n",
       "    <tr>\n",
       "      <th>7</th>\n",
       "      <td>Algeria</td>\n",
       "      <td>Inflation, consumer prices (annual %)</td>\n",
       "      <td>1960-01-01</td>\n",
       "      <td>0.00</td>\n",
       "    </tr>\n",
       "    <tr>\n",
       "      <th>8</th>\n",
       "      <td>Algeria</td>\n",
       "      <td>Informal employment (% of total non-agricultur...</td>\n",
       "      <td>1960-01-01</td>\n",
       "      <td>0.00</td>\n",
       "    </tr>\n",
       "    <tr>\n",
       "      <th>9</th>\n",
       "      <td>American Samoa</td>\n",
       "      <td>Final consumption expenditure (annual % growth)</td>\n",
       "      <td>1960-01-01</td>\n",
       "      <td>0.00</td>\n",
       "    </tr>\n",
       "    <tr>\n",
       "      <th>10</th>\n",
       "      <td>American Samoa</td>\n",
       "      <td>Inflation, consumer prices (annual %)</td>\n",
       "      <td>1960-01-01</td>\n",
       "      <td>0.00</td>\n",
       "    </tr>\n",
       "    <tr>\n",
       "      <th>11</th>\n",
       "      <td>American Samoa</td>\n",
       "      <td>Informal employment (% of total non-agricultur...</td>\n",
       "      <td>1960-01-01</td>\n",
       "      <td>0.00</td>\n",
       "    </tr>\n",
       "    <tr>\n",
       "      <th>12</th>\n",
       "      <td>Andorra</td>\n",
       "      <td>Final consumption expenditure (annual % growth)</td>\n",
       "      <td>1960-01-01</td>\n",
       "      <td>0.00</td>\n",
       "    </tr>\n",
       "    <tr>\n",
       "      <th>13</th>\n",
       "      <td>Andorra</td>\n",
       "      <td>Inflation, consumer prices (annual %)</td>\n",
       "      <td>1960-01-01</td>\n",
       "      <td>0.00</td>\n",
       "    </tr>\n",
       "    <tr>\n",
       "      <th>14</th>\n",
       "      <td>Andorra</td>\n",
       "      <td>Informal employment (% of total non-agricultur...</td>\n",
       "      <td>1960-01-01</td>\n",
       "      <td>0.00</td>\n",
       "    </tr>\n",
       "  </tbody>\n",
       "</table>\n",
       "</div>"
      ],
      "text/plain": [
       "           country                                          indicator  \\\n",
       "0      Afghanistan    Final consumption expenditure (annual % growth)   \n",
       "1      Afghanistan              Inflation, consumer prices (annual %)   \n",
       "2      Afghanistan  Informal employment (% of total non-agricultur...   \n",
       "3          Albania    Final consumption expenditure (annual % growth)   \n",
       "4          Albania              Inflation, consumer prices (annual %)   \n",
       "5          Albania  Informal employment (% of total non-agricultur...   \n",
       "6          Algeria    Final consumption expenditure (annual % growth)   \n",
       "7          Algeria              Inflation, consumer prices (annual %)   \n",
       "8          Algeria  Informal employment (% of total non-agricultur...   \n",
       "9   American Samoa    Final consumption expenditure (annual % growth)   \n",
       "10  American Samoa              Inflation, consumer prices (annual %)   \n",
       "11  American Samoa  Informal employment (% of total non-agricultur...   \n",
       "12         Andorra    Final consumption expenditure (annual % growth)   \n",
       "13         Andorra              Inflation, consumer prices (annual %)   \n",
       "14         Andorra  Informal employment (% of total non-agricultur...   \n",
       "\n",
       "         date                value  \n",
       "0  1960-01-01                 0.00  \n",
       "1  1960-01-01                 0.00  \n",
       "2  1960-01-01                 0.00  \n",
       "3  1960-01-01                 0.00  \n",
       "4  1960-01-01                 0.00  \n",
       "5  1960-01-01                 0.00  \n",
       "6  1960-01-01                 0.00  \n",
       "7  1960-01-01                 0.00  \n",
       "8  1960-01-01                 0.00  \n",
       "9  1960-01-01                 0.00  \n",
       "10 1960-01-01                 0.00  \n",
       "11 1960-01-01                 0.00  \n",
       "12 1960-01-01                 0.00  \n",
       "13 1960-01-01                 0.00  \n",
       "14 1960-01-01                 0.00  "
      ]
     },
     "execution_count": 99,
     "metadata": {},
     "output_type": "execute_result"
    }
   ],
   "source": [
    "wb_df.head(15)"
   ]
  },
  {
   "cell_type": "code",
   "execution_count": 100,
   "metadata": {},
   "outputs": [
    {
     "data": {
      "text/plain": [
       "217"
      ]
     },
     "execution_count": 100,
     "metadata": {},
     "output_type": "execute_result"
    }
   ],
   "source": [
    "len(wb_df['country'].unique())"
   ]
  },
  {
   "cell_type": "code",
   "execution_count": 101,
   "metadata": {},
   "outputs": [],
   "source": [
    "wb_countries = sorted(list(wb_df['country'].unique()))"
   ]
  },
  {
   "cell_type": "code",
   "execution_count": 102,
   "metadata": {},
   "outputs": [
    {
     "data": {
      "text/plain": [
       "['Birth rate, crude (per 1,000 people)',\n",
       " 'Fertility rate, total (births per woman)',\n",
       " 'Final consumption expenditure (annual % growth)',\n",
       " 'Inflation, consumer prices (annual %)',\n",
       " 'Informal employment (% of total non-agricultural employment)',\n",
       " 'Life expectancy at birth, total (years)',\n",
       " 'Mortality rate, infant (per 1,000 live births)',\n",
       " 'Population ages 15-64 (% of total)',\n",
       " 'Population density (people per sq. km of land area)',\n",
       " 'Population growth (annual %)',\n",
       " 'Population, total',\n",
       " 'Prevalence of overweight (% of adults)',\n",
       " 'Rural population (% of total population)',\n",
       " 'Rural population growth (annual %)',\n",
       " 'Unemployment, total (% of total labor force) (national estimate)',\n",
       " 'Urban population (% of total)',\n",
       " 'Urban population growth (annual %)']"
      ]
     },
     "execution_count": 102,
     "metadata": {},
     "output_type": "execute_result"
    }
   ],
   "source": [
    "sorted(list(wb_df['indicator'].unique()))"
   ]
  },
  {
   "cell_type": "markdown",
   "metadata": {},
   "source": [
    "### Combine the two datasets"
   ]
  },
  {
   "cell_type": "code",
   "execution_count": 103,
   "metadata": {},
   "outputs": [],
   "source": [
    "imf_specific = [country for country in imf_countries if country not in wb_countries]"
   ]
  },
  {
   "cell_type": "code",
   "execution_count": 104,
   "metadata": {},
   "outputs": [
    {
     "data": {
      "text/plain": [
       "27"
      ]
     },
     "execution_count": 104,
     "metadata": {},
     "output_type": "execute_result"
    }
   ],
   "source": [
    "len(imf_specific)"
   ]
  },
  {
   "cell_type": "code",
   "execution_count": 105,
   "metadata": {},
   "outputs": [],
   "source": [
    "imf_to_wb_country_map = {\n",
    "    'Afghanistan, Islamic Republic of': 'Afghanistan',\n",
    "    'Armenia, Republic of': 'Armenia',\n",
    "    'Azerbaijan, Republic of': 'Azerbaijan',\n",
    "    'Bahrain, Kingdom of': 'Bahrain',\n",
    "    'China, P.R.: Hong Kong': 'Hong Kong SAR, China',\n",
    "    'China, P.R.: Macao': 'Macao SAR, China',\n",
    "    'China, P.R.: Mainland': 'China',\n",
    "    'Congo, Democratic Republic of': 'Congo, Dem. Rep.',\n",
    "    'Congo, Republic of': 'Congo, Rep.',\n",
    "    'Egypt': 'Egypt, Arab Rep.',\n",
    "    'French Territories: New Caledonia': 'New Caledonia',\n",
    "    'Iran, Islamic Republic of': 'Iran',\n",
    "    'Korea, Republic of': 'Korea, Rep.',\n",
    "    'Kosovo, Republic of': 'Kosovo',\n",
    "    \"Lao People's Democratic Republic\": 'Lao PDR',\n",
    "    'Serbia, Republic of': 'Serbia',\n",
    "    'Sint Maarten': 'Sint Maarten (Dutch part)',\n",
    "    'Timor-Leste, Dem. Rep. of': 'Timor-Leste',\n",
    "    'Venezuela, Republica Bolivariana de': 'Venezuela, RB',\n",
    "    'Venezuela, República Bolivariana de': 'Venezuela, RB',\n",
    "    'Yemen, Republic of': 'Yemen'\n",
    "}"
   ]
  },
  {
   "cell_type": "code",
   "execution_count": 106,
   "metadata": {},
   "outputs": [],
   "source": [
    "imf_df = imf_df.replace({'country': imf_to_wb_country_map})"
   ]
  },
  {
   "cell_type": "code",
   "execution_count": 107,
   "metadata": {},
   "outputs": [],
   "source": [
    "people_df = pd.concat([wb_df, imf_df], join='outer')"
   ]
  },
  {
   "cell_type": "code",
   "execution_count": 108,
   "metadata": {},
   "outputs": [
    {
     "data": {
      "text/plain": [
       "5407224"
      ]
     },
     "execution_count": 108,
     "metadata": {},
     "output_type": "execute_result"
    }
   ],
   "source": [
    "people_df.size"
   ]
  },
  {
   "cell_type": "code",
   "execution_count": 109,
   "metadata": {},
   "outputs": [
    {
     "data": {
      "text/html": [
       "<div>\n",
       "<style scoped>\n",
       "    .dataframe tbody tr th:only-of-type {\n",
       "        vertical-align: middle;\n",
       "    }\n",
       "\n",
       "    .dataframe tbody tr th {\n",
       "        vertical-align: top;\n",
       "    }\n",
       "\n",
       "    .dataframe thead th {\n",
       "        text-align: right;\n",
       "    }\n",
       "</style>\n",
       "<table border=\"1\" class=\"dataframe\">\n",
       "  <thead>\n",
       "    <tr style=\"text-align: right;\">\n",
       "      <th></th>\n",
       "      <th>country</th>\n",
       "      <th>indicator</th>\n",
       "      <th>date</th>\n",
       "      <th>value</th>\n",
       "    </tr>\n",
       "  </thead>\n",
       "  <tbody>\n",
       "    <tr>\n",
       "      <th>0</th>\n",
       "      <td>Afghanistan</td>\n",
       "      <td>Final consumption expenditure (annual % growth)</td>\n",
       "      <td>1960-01-01</td>\n",
       "      <td>0.00</td>\n",
       "    </tr>\n",
       "    <tr>\n",
       "      <th>1</th>\n",
       "      <td>Afghanistan</td>\n",
       "      <td>Inflation, consumer prices (annual %)</td>\n",
       "      <td>1960-01-01</td>\n",
       "      <td>0.00</td>\n",
       "    </tr>\n",
       "    <tr>\n",
       "      <th>2</th>\n",
       "      <td>Afghanistan</td>\n",
       "      <td>Informal employment (% of total non-agricultur...</td>\n",
       "      <td>1960-01-01</td>\n",
       "      <td>0.00</td>\n",
       "    </tr>\n",
       "    <tr>\n",
       "      <th>3</th>\n",
       "      <td>Albania</td>\n",
       "      <td>Final consumption expenditure (annual % growth)</td>\n",
       "      <td>1960-01-01</td>\n",
       "      <td>0.00</td>\n",
       "    </tr>\n",
       "    <tr>\n",
       "      <th>4</th>\n",
       "      <td>Albania</td>\n",
       "      <td>Inflation, consumer prices (annual %)</td>\n",
       "      <td>1960-01-01</td>\n",
       "      <td>0.00</td>\n",
       "    </tr>\n",
       "    <tr>\n",
       "      <th>5</th>\n",
       "      <td>Albania</td>\n",
       "      <td>Informal employment (% of total non-agricultur...</td>\n",
       "      <td>1960-01-01</td>\n",
       "      <td>0.00</td>\n",
       "    </tr>\n",
       "    <tr>\n",
       "      <th>6</th>\n",
       "      <td>Algeria</td>\n",
       "      <td>Final consumption expenditure (annual % growth)</td>\n",
       "      <td>1960-01-01</td>\n",
       "      <td>0.00</td>\n",
       "    </tr>\n",
       "    <tr>\n",
       "      <th>7</th>\n",
       "      <td>Algeria</td>\n",
       "      <td>Inflation, consumer prices (annual %)</td>\n",
       "      <td>1960-01-01</td>\n",
       "      <td>0.00</td>\n",
       "    </tr>\n",
       "    <tr>\n",
       "      <th>8</th>\n",
       "      <td>Algeria</td>\n",
       "      <td>Informal employment (% of total non-agricultur...</td>\n",
       "      <td>1960-01-01</td>\n",
       "      <td>0.00</td>\n",
       "    </tr>\n",
       "    <tr>\n",
       "      <th>9</th>\n",
       "      <td>American Samoa</td>\n",
       "      <td>Final consumption expenditure (annual % growth)</td>\n",
       "      <td>1960-01-01</td>\n",
       "      <td>0.00</td>\n",
       "    </tr>\n",
       "    <tr>\n",
       "      <th>10</th>\n",
       "      <td>American Samoa</td>\n",
       "      <td>Inflation, consumer prices (annual %)</td>\n",
       "      <td>1960-01-01</td>\n",
       "      <td>0.00</td>\n",
       "    </tr>\n",
       "    <tr>\n",
       "      <th>11</th>\n",
       "      <td>American Samoa</td>\n",
       "      <td>Informal employment (% of total non-agricultur...</td>\n",
       "      <td>1960-01-01</td>\n",
       "      <td>0.00</td>\n",
       "    </tr>\n",
       "    <tr>\n",
       "      <th>12</th>\n",
       "      <td>Andorra</td>\n",
       "      <td>Final consumption expenditure (annual % growth)</td>\n",
       "      <td>1960-01-01</td>\n",
       "      <td>0.00</td>\n",
       "    </tr>\n",
       "    <tr>\n",
       "      <th>13</th>\n",
       "      <td>Andorra</td>\n",
       "      <td>Inflation, consumer prices (annual %)</td>\n",
       "      <td>1960-01-01</td>\n",
       "      <td>0.00</td>\n",
       "    </tr>\n",
       "    <tr>\n",
       "      <th>14</th>\n",
       "      <td>Andorra</td>\n",
       "      <td>Informal employment (% of total non-agricultur...</td>\n",
       "      <td>1960-01-01</td>\n",
       "      <td>0.00</td>\n",
       "    </tr>\n",
       "  </tbody>\n",
       "</table>\n",
       "</div>"
      ],
      "text/plain": [
       "           country                                          indicator  \\\n",
       "0      Afghanistan    Final consumption expenditure (annual % growth)   \n",
       "1      Afghanistan              Inflation, consumer prices (annual %)   \n",
       "2      Afghanistan  Informal employment (% of total non-agricultur...   \n",
       "3          Albania    Final consumption expenditure (annual % growth)   \n",
       "4          Albania              Inflation, consumer prices (annual %)   \n",
       "5          Albania  Informal employment (% of total non-agricultur...   \n",
       "6          Algeria    Final consumption expenditure (annual % growth)   \n",
       "7          Algeria              Inflation, consumer prices (annual %)   \n",
       "8          Algeria  Informal employment (% of total non-agricultur...   \n",
       "9   American Samoa    Final consumption expenditure (annual % growth)   \n",
       "10  American Samoa              Inflation, consumer prices (annual %)   \n",
       "11  American Samoa  Informal employment (% of total non-agricultur...   \n",
       "12         Andorra    Final consumption expenditure (annual % growth)   \n",
       "13         Andorra              Inflation, consumer prices (annual %)   \n",
       "14         Andorra  Informal employment (% of total non-agricultur...   \n",
       "\n",
       "         date                value  \n",
       "0  1960-01-01                 0.00  \n",
       "1  1960-01-01                 0.00  \n",
       "2  1960-01-01                 0.00  \n",
       "3  1960-01-01                 0.00  \n",
       "4  1960-01-01                 0.00  \n",
       "5  1960-01-01                 0.00  \n",
       "6  1960-01-01                 0.00  \n",
       "7  1960-01-01                 0.00  \n",
       "8  1960-01-01                 0.00  \n",
       "9  1960-01-01                 0.00  \n",
       "10 1960-01-01                 0.00  \n",
       "11 1960-01-01                 0.00  \n",
       "12 1960-01-01                 0.00  \n",
       "13 1960-01-01                 0.00  \n",
       "14 1960-01-01                 0.00  "
      ]
     },
     "execution_count": 109,
     "metadata": {},
     "output_type": "execute_result"
    }
   ],
   "source": [
    "people_df.head(15)"
   ]
  },
  {
   "cell_type": "code",
   "execution_count": 119,
   "metadata": {},
   "outputs": [
    {
     "data": {
      "text/plain": [
       "['Birth rate, crude (per 1,000 people)',\n",
       " 'Consumer Price Index, All items',\n",
       " 'Consumer Price Index, All items, Percentage change, Previous period',\n",
       " 'Education, Weight, Percent',\n",
       " 'Fertility rate, total (births per woman)',\n",
       " 'Final consumption expenditure (annual % growth)',\n",
       " 'Food and non-alcoholic beverages, Weight, Percent',\n",
       " 'Health, Weight, Percent',\n",
       " 'Housing, Water, Electricity, Gas and Other Fuels, Weight, Percent',\n",
       " 'Inflation, consumer prices (annual %)',\n",
       " 'Informal employment (% of total non-agricultural employment)',\n",
       " 'Labor Force, Persons, Number of',\n",
       " 'Life expectancy at birth, total (years)',\n",
       " 'Mortality rate, infant (per 1,000 live births)',\n",
       " 'Population ages 15-64 (% of total)',\n",
       " 'Population density (people per sq. km of land area)',\n",
       " 'Population growth (annual %)',\n",
       " 'Population, total',\n",
       " 'Prevalence of overweight (% of adults)',\n",
       " 'Recreation and culture, Weight, Percent',\n",
       " 'Rural population (% of total population)',\n",
       " 'Rural population growth (annual %)',\n",
       " 'Transport, Weight, Percent',\n",
       " 'Unemployment, Persons, Number of',\n",
       " 'Unemployment, total (% of total labor force) (national estimate)',\n",
       " 'Urban population (% of total)',\n",
       " 'Urban population growth (annual %)',\n",
       " 'Wage rates, Percentage change, previous period, Percent']"
      ]
     },
     "execution_count": 119,
     "metadata": {},
     "output_type": "execute_result"
    }
   ],
   "source": [
    "indicators = sorted(list(people_df['indicator'].unique()))\n",
    "indicators"
   ]
  },
  {
   "cell_type": "code",
   "execution_count": 120,
   "metadata": {},
   "outputs": [],
   "source": [
    "assert len(indicators) == len(indicator_list), 'The number of retrieved variables (%s) does not match the number of specified variables (%s).\\nThe following variables are missing:\\n\\n %s' % (len(indicators), len(indicator_list), [i for i in indicator_list if i not in indicators])"
   ]
  },
  {
   "cell_type": "code",
   "execution_count": 121,
   "metadata": {},
   "outputs": [],
   "source": [
    "people_df.to_csv('model_one/people.csv', sep=';', index=False)"
   ]
  },
  {
   "cell_type": "code",
   "execution_count": null,
   "metadata": {},
   "outputs": [],
   "source": []
  }
 ],
 "metadata": {
  "kernelspec": {
   "display_name": "me",
   "language": "python",
   "name": "me"
  },
  "language_info": {
   "codemirror_mode": {
    "name": "ipython",
    "version": 3
   },
   "file_extension": ".py",
   "mimetype": "text/x-python",
   "name": "python",
   "nbconvert_exporter": "python",
   "pygments_lexer": "ipython3",
   "version": "3.6.5"
  }
 },
 "nbformat": 4,
 "nbformat_minor": 2
}
