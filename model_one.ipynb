{
 "cells": [
  {
   "cell_type": "markdown",
   "metadata": {},
   "source": [
    "## Model 1: Policy simulation\n",
    "\n",
    "The objective of this model-based simulation is to analyse the impact of policy, technology, and commodity changes on consumer price inflation in selected countries. The simulation environment is learnt from real data, after which simulations using synthetic data are used to do policy analysis by manipulating a number of selected variables such as government debt, cellular subscription, gdp growth, and real interest rates in the synthetic data. A secondary purpose of the simulation model is to identify and map the interactions between world-level and country-level indicator variables.\n",
    "\n",
    "#### Features\n",
    "------------\n",
    "\n",
    "Multivariate human and technological development indicator timeseries\n",
    "1. aggregated across nations using hand-crafted rules.\n",
    "2. raw, collected on a per-country level.\n",
    "\n",
    "#### Labels\n",
    "----------\n",
    "\n",
    "Consumer price inflation levels for the following countries:\n",
    "\n",
    "* Singapore\n",
    "* Switzerland\n",
    "* Netherlands\n",
    "* Japan\n",
    "* France\n",
    "* United States\n",
    "* China\n",
    "* India\n",
    "* Brazil\n",
    "* Colombia\n",
    "* Indonesia\n",
    "* Senegal\n",
    "* Ghana\n",
    "\n",
    "#### Training\n",
    "------------\n",
    "\n",
    "Training is done on a feature - single country basis."
   ]
  },
  {
   "cell_type": "markdown",
   "metadata": {},
   "source": [
    "### Load and prepare the data"
   ]
  },
  {
   "cell_type": "code",
   "execution_count": 1,
   "metadata": {},
   "outputs": [],
   "source": [
    "import warnings\n",
    "import numpy as np\n",
    "import pandas as pd\n",
    "import seaborn as sns\n",
    "import tensorflow as tf\n",
    "import tensorflow_probability as tfp\n",
    "import matplotlib.pyplot as plt\n",
    "from tensorflow import keras\n",
    "\n",
    "%matplotlib inline"
   ]
  },
  {
   "cell_type": "code",
   "execution_count": 2,
   "metadata": {},
   "outputs": [],
   "source": [
    "warnings.filterwarnings('ignore')\n",
    "pd.options.display.float_format = '{:20,.4f}'.format"
   ]
  },
  {
   "cell_type": "code",
   "execution_count": 3,
   "metadata": {},
   "outputs": [],
   "source": [
    "sns.set_style(\"whitegrid\")\n",
    "sns.set_palette(\"colorblind\")"
   ]
  },
  {
   "cell_type": "code",
   "execution_count": 4,
   "metadata": {},
   "outputs": [],
   "source": [
    "country = 'Netherlands'"
   ]
  },
  {
   "cell_type": "code",
   "execution_count": 5,
   "metadata": {},
   "outputs": [],
   "source": [
    "country_labels = ['Brazil', 'China', 'Colombia', 'France', 'Ghana', 'India', 'Indonesia', 'Japan', 'Netherlands',\n",
    "                  'Senegal', 'Singapore', 'Switzerland', 'United States']"
   ]
  },
  {
   "cell_type": "code",
   "execution_count": 6,
   "metadata": {},
   "outputs": [],
   "source": [
    "assert country in country_labels"
   ]
  },
  {
   "cell_type": "markdown",
   "metadata": {},
   "source": [
    "#### Load and combine the features and labels"
   ]
  },
  {
   "cell_type": "code",
   "execution_count": 7,
   "metadata": {},
   "outputs": [],
   "source": [
    "features_df = pd.read_csv('features/m_one/world_aggregate.csv', sep=';', header=0)\n",
    "labels_df = pd.read_csv('features/m_one/labels_interpolated.csv', sep=';', header=0)"
   ]
  },
  {
   "cell_type": "code",
   "execution_count": 8,
   "metadata": {},
   "outputs": [
    {
     "data": {
      "text/html": [
       "<div>\n",
       "<style scoped>\n",
       "    .dataframe tbody tr th:only-of-type {\n",
       "        vertical-align: middle;\n",
       "    }\n",
       "\n",
       "    .dataframe tbody tr th {\n",
       "        vertical-align: top;\n",
       "    }\n",
       "\n",
       "    .dataframe thead th {\n",
       "        text-align: right;\n",
       "    }\n",
       "</style>\n",
       "<table border=\"1\" class=\"dataframe\">\n",
       "  <thead>\n",
       "    <tr style=\"text-align: right;\">\n",
       "      <th></th>\n",
       "      <th>date</th>\n",
       "      <th>bank capital to assets ratio</th>\n",
       "      <th>bank nonperforming loans</th>\n",
       "      <th>cereal yield</th>\n",
       "      <th>energy imports</th>\n",
       "      <th>food exports</th>\n",
       "      <th>high-tech exports</th>\n",
       "      <th>inflation</th>\n",
       "      <th>lending interest rate</th>\n",
       "      <th>life expectancy</th>\n",
       "      <th>...</th>\n",
       "      <th>electricity access</th>\n",
       "      <th>co2 emissions</th>\n",
       "      <th>electricity consumption</th>\n",
       "      <th>mobile subscriptions</th>\n",
       "      <th>newborns</th>\n",
       "      <th>overweight</th>\n",
       "      <th>rural population</th>\n",
       "      <th>unemployed</th>\n",
       "      <th>urban population</th>\n",
       "      <th>workers</th>\n",
       "    </tr>\n",
       "  </thead>\n",
       "  <tbody>\n",
       "    <tr>\n",
       "      <th>0</th>\n",
       "      <td>1960-01-01</td>\n",
       "      <td>0.0000</td>\n",
       "      <td>0.0000</td>\n",
       "      <td>0.0000</td>\n",
       "      <td>0.0517</td>\n",
       "      <td>0.0000</td>\n",
       "      <td>0.0000</td>\n",
       "      <td>0.0000</td>\n",
       "      <td>0.0019</td>\n",
       "      <td>45.2673</td>\n",
       "      <td>...</td>\n",
       "      <td>0.0000</td>\n",
       "      <td>2.1968</td>\n",
       "      <td>0.4982</td>\n",
       "      <td>0.0000</td>\n",
       "      <td>0.0318</td>\n",
       "      <td>0.0000</td>\n",
       "      <td>0.6634</td>\n",
       "      <td>0.0014</td>\n",
       "      <td>0.3362</td>\n",
       "      <td>0.0232</td>\n",
       "    </tr>\n",
       "    <tr>\n",
       "      <th>1</th>\n",
       "      <td>1960-02-01</td>\n",
       "      <td>0.0000</td>\n",
       "      <td>0.0000</td>\n",
       "      <td>0.0000</td>\n",
       "      <td>0.0517</td>\n",
       "      <td>0.0000</td>\n",
       "      <td>0.0000</td>\n",
       "      <td>0.0000</td>\n",
       "      <td>0.0019</td>\n",
       "      <td>45.3268</td>\n",
       "      <td>...</td>\n",
       "      <td>0.0000</td>\n",
       "      <td>2.1920</td>\n",
       "      <td>0.5003</td>\n",
       "      <td>0.0000</td>\n",
       "      <td>0.0317</td>\n",
       "      <td>0.0000</td>\n",
       "      <td>0.6630</td>\n",
       "      <td>0.0014</td>\n",
       "      <td>0.3367</td>\n",
       "      <td>0.0232</td>\n",
       "    </tr>\n",
       "    <tr>\n",
       "      <th>2</th>\n",
       "      <td>1960-03-01</td>\n",
       "      <td>0.0000</td>\n",
       "      <td>0.0000</td>\n",
       "      <td>0.0000</td>\n",
       "      <td>0.0518</td>\n",
       "      <td>0.0000</td>\n",
       "      <td>0.0000</td>\n",
       "      <td>0.0000</td>\n",
       "      <td>0.0019</td>\n",
       "      <td>45.3863</td>\n",
       "      <td>...</td>\n",
       "      <td>0.0000</td>\n",
       "      <td>2.1872</td>\n",
       "      <td>0.5024</td>\n",
       "      <td>0.0000</td>\n",
       "      <td>0.0316</td>\n",
       "      <td>0.0000</td>\n",
       "      <td>0.6626</td>\n",
       "      <td>0.0014</td>\n",
       "      <td>0.3371</td>\n",
       "      <td>0.0232</td>\n",
       "    </tr>\n",
       "    <tr>\n",
       "      <th>3</th>\n",
       "      <td>1960-04-01</td>\n",
       "      <td>0.0000</td>\n",
       "      <td>0.0000</td>\n",
       "      <td>0.0000</td>\n",
       "      <td>0.0519</td>\n",
       "      <td>0.0000</td>\n",
       "      <td>0.0000</td>\n",
       "      <td>0.0000</td>\n",
       "      <td>0.0019</td>\n",
       "      <td>45.4458</td>\n",
       "      <td>...</td>\n",
       "      <td>0.0000</td>\n",
       "      <td>2.1825</td>\n",
       "      <td>0.5045</td>\n",
       "      <td>0.0000</td>\n",
       "      <td>0.0316</td>\n",
       "      <td>0.0000</td>\n",
       "      <td>0.6622</td>\n",
       "      <td>0.0015</td>\n",
       "      <td>0.3375</td>\n",
       "      <td>0.0232</td>\n",
       "    </tr>\n",
       "    <tr>\n",
       "      <th>4</th>\n",
       "      <td>1960-05-01</td>\n",
       "      <td>0.0000</td>\n",
       "      <td>0.0000</td>\n",
       "      <td>0.0000</td>\n",
       "      <td>0.0520</td>\n",
       "      <td>0.0000</td>\n",
       "      <td>0.0000</td>\n",
       "      <td>0.0000</td>\n",
       "      <td>0.0019</td>\n",
       "      <td>45.5052</td>\n",
       "      <td>...</td>\n",
       "      <td>0.0000</td>\n",
       "      <td>2.1777</td>\n",
       "      <td>0.5066</td>\n",
       "      <td>0.0000</td>\n",
       "      <td>0.0315</td>\n",
       "      <td>0.0000</td>\n",
       "      <td>0.6617</td>\n",
       "      <td>0.0015</td>\n",
       "      <td>0.3379</td>\n",
       "      <td>0.0232</td>\n",
       "    </tr>\n",
       "  </tbody>\n",
       "</table>\n",
       "<p>5 rows × 38 columns</p>\n",
       "</div>"
      ],
      "text/plain": [
       "         date  bank capital to assets ratio  bank nonperforming loans  \\\n",
       "0  1960-01-01                        0.0000                    0.0000   \n",
       "1  1960-02-01                        0.0000                    0.0000   \n",
       "2  1960-03-01                        0.0000                    0.0000   \n",
       "3  1960-04-01                        0.0000                    0.0000   \n",
       "4  1960-05-01                        0.0000                    0.0000   \n",
       "\n",
       "          cereal yield       energy imports         food exports  \\\n",
       "0               0.0000               0.0517               0.0000   \n",
       "1               0.0000               0.0517               0.0000   \n",
       "2               0.0000               0.0518               0.0000   \n",
       "3               0.0000               0.0519               0.0000   \n",
       "4               0.0000               0.0520               0.0000   \n",
       "\n",
       "     high-tech exports            inflation  lending interest rate  \\\n",
       "0               0.0000               0.0000                 0.0019   \n",
       "1               0.0000               0.0000                 0.0019   \n",
       "2               0.0000               0.0000                 0.0019   \n",
       "3               0.0000               0.0000                 0.0019   \n",
       "4               0.0000               0.0000                 0.0019   \n",
       "\n",
       "       life expectancy         ...            electricity access  \\\n",
       "0              45.2673         ...                        0.0000   \n",
       "1              45.3268         ...                        0.0000   \n",
       "2              45.3863         ...                        0.0000   \n",
       "3              45.4458         ...                        0.0000   \n",
       "4              45.5052         ...                        0.0000   \n",
       "\n",
       "         co2 emissions  electricity consumption  mobile subscriptions  \\\n",
       "0               2.1968                   0.4982                0.0000   \n",
       "1               2.1920                   0.5003                0.0000   \n",
       "2               2.1872                   0.5024                0.0000   \n",
       "3               2.1825                   0.5045                0.0000   \n",
       "4               2.1777                   0.5066                0.0000   \n",
       "\n",
       "              newborns           overweight     rural population  \\\n",
       "0               0.0318               0.0000               0.6634   \n",
       "1               0.0317               0.0000               0.6630   \n",
       "2               0.0316               0.0000               0.6626   \n",
       "3               0.0316               0.0000               0.6622   \n",
       "4               0.0315               0.0000               0.6617   \n",
       "\n",
       "            unemployed     urban population              workers  \n",
       "0               0.0014               0.3362               0.0232  \n",
       "1               0.0014               0.3367               0.0232  \n",
       "2               0.0014               0.3371               0.0232  \n",
       "3               0.0015               0.3375               0.0232  \n",
       "4               0.0015               0.3379               0.0232  \n",
       "\n",
       "[5 rows x 38 columns]"
      ]
     },
     "execution_count": 8,
     "metadata": {},
     "output_type": "execute_result"
    }
   ],
   "source": [
    "features_df.head()"
   ]
  },
  {
   "cell_type": "code",
   "execution_count": 9,
   "metadata": {},
   "outputs": [
    {
     "data": {
      "text/html": [
       "<div>\n",
       "<style scoped>\n",
       "    .dataframe tbody tr th:only-of-type {\n",
       "        vertical-align: middle;\n",
       "    }\n",
       "\n",
       "    .dataframe tbody tr th {\n",
       "        vertical-align: top;\n",
       "    }\n",
       "\n",
       "    .dataframe thead th {\n",
       "        text-align: right;\n",
       "    }\n",
       "</style>\n",
       "<table border=\"1\" class=\"dataframe\">\n",
       "  <thead>\n",
       "    <tr style=\"text-align: right;\">\n",
       "      <th></th>\n",
       "      <th>date</th>\n",
       "      <th>Brazil</th>\n",
       "      <th>China</th>\n",
       "      <th>Colombia</th>\n",
       "      <th>France</th>\n",
       "      <th>Ghana</th>\n",
       "      <th>India</th>\n",
       "      <th>Indonesia</th>\n",
       "      <th>Japan</th>\n",
       "      <th>Netherlands</th>\n",
       "      <th>Senegal</th>\n",
       "      <th>Singapore</th>\n",
       "      <th>Switzerland</th>\n",
       "      <th>United States</th>\n",
       "    </tr>\n",
       "  </thead>\n",
       "  <tbody>\n",
       "    <tr>\n",
       "      <th>0</th>\n",
       "      <td>1960-01-01</td>\n",
       "      <td>0.0000</td>\n",
       "      <td>0.0000</td>\n",
       "      <td>0.0581</td>\n",
       "      <td>0.0414</td>\n",
       "      <td>0.0000</td>\n",
       "      <td>0.0178</td>\n",
       "      <td>0.3959</td>\n",
       "      <td>0.0357</td>\n",
       "      <td>0.0232</td>\n",
       "      <td>0.0000</td>\n",
       "      <td>0.0000</td>\n",
       "      <td>0.0144</td>\n",
       "      <td>0.0146</td>\n",
       "    </tr>\n",
       "    <tr>\n",
       "      <th>1</th>\n",
       "      <td>1960-02-01</td>\n",
       "      <td>0.0000</td>\n",
       "      <td>0.0000</td>\n",
       "      <td>0.0602</td>\n",
       "      <td>0.0399</td>\n",
       "      <td>0.0000</td>\n",
       "      <td>0.0178</td>\n",
       "      <td>0.3743</td>\n",
       "      <td>0.0372</td>\n",
       "      <td>0.0224</td>\n",
       "      <td>0.0000</td>\n",
       "      <td>0.0003</td>\n",
       "      <td>0.0147</td>\n",
       "      <td>0.0143</td>\n",
       "    </tr>\n",
       "    <tr>\n",
       "      <th>2</th>\n",
       "      <td>1960-03-01</td>\n",
       "      <td>0.0000</td>\n",
       "      <td>0.0000</td>\n",
       "      <td>0.0623</td>\n",
       "      <td>0.0385</td>\n",
       "      <td>0.0000</td>\n",
       "      <td>0.0178</td>\n",
       "      <td>0.3527</td>\n",
       "      <td>0.0387</td>\n",
       "      <td>0.0215</td>\n",
       "      <td>0.0000</td>\n",
       "      <td>0.0007</td>\n",
       "      <td>0.0151</td>\n",
       "      <td>0.0139</td>\n",
       "    </tr>\n",
       "    <tr>\n",
       "      <th>3</th>\n",
       "      <td>1960-04-01</td>\n",
       "      <td>0.0000</td>\n",
       "      <td>0.0000</td>\n",
       "      <td>0.0643</td>\n",
       "      <td>0.0371</td>\n",
       "      <td>0.0000</td>\n",
       "      <td>0.0178</td>\n",
       "      <td>0.3312</td>\n",
       "      <td>0.0402</td>\n",
       "      <td>0.0207</td>\n",
       "      <td>0.0000</td>\n",
       "      <td>0.0010</td>\n",
       "      <td>0.0154</td>\n",
       "      <td>0.0136</td>\n",
       "    </tr>\n",
       "    <tr>\n",
       "      <th>4</th>\n",
       "      <td>1960-05-01</td>\n",
       "      <td>0.0000</td>\n",
       "      <td>0.0000</td>\n",
       "      <td>0.0664</td>\n",
       "      <td>0.0356</td>\n",
       "      <td>0.0000</td>\n",
       "      <td>0.0177</td>\n",
       "      <td>0.3096</td>\n",
       "      <td>0.0417</td>\n",
       "      <td>0.0199</td>\n",
       "      <td>0.0000</td>\n",
       "      <td>0.0013</td>\n",
       "      <td>0.0157</td>\n",
       "      <td>0.0133</td>\n",
       "    </tr>\n",
       "  </tbody>\n",
       "</table>\n",
       "</div>"
      ],
      "text/plain": [
       "         date               Brazil                China             Colombia  \\\n",
       "0  1960-01-01               0.0000               0.0000               0.0581   \n",
       "1  1960-02-01               0.0000               0.0000               0.0602   \n",
       "2  1960-03-01               0.0000               0.0000               0.0623   \n",
       "3  1960-04-01               0.0000               0.0000               0.0643   \n",
       "4  1960-05-01               0.0000               0.0000               0.0664   \n",
       "\n",
       "                France                Ghana                India  \\\n",
       "0               0.0414               0.0000               0.0178   \n",
       "1               0.0399               0.0000               0.0178   \n",
       "2               0.0385               0.0000               0.0178   \n",
       "3               0.0371               0.0000               0.0178   \n",
       "4               0.0356               0.0000               0.0177   \n",
       "\n",
       "             Indonesia                Japan          Netherlands  \\\n",
       "0               0.3959               0.0357               0.0232   \n",
       "1               0.3743               0.0372               0.0224   \n",
       "2               0.3527               0.0387               0.0215   \n",
       "3               0.3312               0.0402               0.0207   \n",
       "4               0.3096               0.0417               0.0199   \n",
       "\n",
       "               Senegal            Singapore          Switzerland  \\\n",
       "0               0.0000               0.0000               0.0144   \n",
       "1               0.0000               0.0003               0.0147   \n",
       "2               0.0000               0.0007               0.0151   \n",
       "3               0.0000               0.0010               0.0154   \n",
       "4               0.0000               0.0013               0.0157   \n",
       "\n",
       "         United States  \n",
       "0               0.0146  \n",
       "1               0.0143  \n",
       "2               0.0139  \n",
       "3               0.0136  \n",
       "4               0.0133  "
      ]
     },
     "execution_count": 9,
     "metadata": {},
     "output_type": "execute_result"
    }
   ],
   "source": [
    "labels_df.head()"
   ]
  },
  {
   "cell_type": "code",
   "execution_count": 10,
   "metadata": {},
   "outputs": [],
   "source": [
    "combined_df = pd.concat([features_df, labels_df.drop(columns=['date'])], axis=1)"
   ]
  },
  {
   "cell_type": "code",
   "execution_count": 11,
   "metadata": {},
   "outputs": [
    {
     "data": {
      "text/html": [
       "<div>\n",
       "<style scoped>\n",
       "    .dataframe tbody tr th:only-of-type {\n",
       "        vertical-align: middle;\n",
       "    }\n",
       "\n",
       "    .dataframe tbody tr th {\n",
       "        vertical-align: top;\n",
       "    }\n",
       "\n",
       "    .dataframe thead th {\n",
       "        text-align: right;\n",
       "    }\n",
       "</style>\n",
       "<table border=\"1\" class=\"dataframe\">\n",
       "  <thead>\n",
       "    <tr style=\"text-align: right;\">\n",
       "      <th></th>\n",
       "      <th>date</th>\n",
       "      <th>bank capital to assets ratio</th>\n",
       "      <th>bank nonperforming loans</th>\n",
       "      <th>cereal yield</th>\n",
       "      <th>energy imports</th>\n",
       "      <th>food exports</th>\n",
       "      <th>high-tech exports</th>\n",
       "      <th>inflation</th>\n",
       "      <th>lending interest rate</th>\n",
       "      <th>life expectancy</th>\n",
       "      <th>...</th>\n",
       "      <th>France</th>\n",
       "      <th>Ghana</th>\n",
       "      <th>India</th>\n",
       "      <th>Indonesia</th>\n",
       "      <th>Japan</th>\n",
       "      <th>Netherlands</th>\n",
       "      <th>Senegal</th>\n",
       "      <th>Singapore</th>\n",
       "      <th>Switzerland</th>\n",
       "      <th>United States</th>\n",
       "    </tr>\n",
       "  </thead>\n",
       "  <tbody>\n",
       "    <tr>\n",
       "      <th>0</th>\n",
       "      <td>1960-01-01</td>\n",
       "      <td>0.0000</td>\n",
       "      <td>0.0000</td>\n",
       "      <td>0.0000</td>\n",
       "      <td>0.0517</td>\n",
       "      <td>0.0000</td>\n",
       "      <td>0.0000</td>\n",
       "      <td>0.0000</td>\n",
       "      <td>0.0019</td>\n",
       "      <td>45.2673</td>\n",
       "      <td>...</td>\n",
       "      <td>0.0414</td>\n",
       "      <td>0.0000</td>\n",
       "      <td>0.0178</td>\n",
       "      <td>0.3959</td>\n",
       "      <td>0.0357</td>\n",
       "      <td>0.0232</td>\n",
       "      <td>0.0000</td>\n",
       "      <td>0.0000</td>\n",
       "      <td>0.0144</td>\n",
       "      <td>0.0146</td>\n",
       "    </tr>\n",
       "    <tr>\n",
       "      <th>1</th>\n",
       "      <td>1960-02-01</td>\n",
       "      <td>0.0000</td>\n",
       "      <td>0.0000</td>\n",
       "      <td>0.0000</td>\n",
       "      <td>0.0517</td>\n",
       "      <td>0.0000</td>\n",
       "      <td>0.0000</td>\n",
       "      <td>0.0000</td>\n",
       "      <td>0.0019</td>\n",
       "      <td>45.3268</td>\n",
       "      <td>...</td>\n",
       "      <td>0.0399</td>\n",
       "      <td>0.0000</td>\n",
       "      <td>0.0178</td>\n",
       "      <td>0.3743</td>\n",
       "      <td>0.0372</td>\n",
       "      <td>0.0224</td>\n",
       "      <td>0.0000</td>\n",
       "      <td>0.0003</td>\n",
       "      <td>0.0147</td>\n",
       "      <td>0.0143</td>\n",
       "    </tr>\n",
       "    <tr>\n",
       "      <th>2</th>\n",
       "      <td>1960-03-01</td>\n",
       "      <td>0.0000</td>\n",
       "      <td>0.0000</td>\n",
       "      <td>0.0000</td>\n",
       "      <td>0.0518</td>\n",
       "      <td>0.0000</td>\n",
       "      <td>0.0000</td>\n",
       "      <td>0.0000</td>\n",
       "      <td>0.0019</td>\n",
       "      <td>45.3863</td>\n",
       "      <td>...</td>\n",
       "      <td>0.0385</td>\n",
       "      <td>0.0000</td>\n",
       "      <td>0.0178</td>\n",
       "      <td>0.3527</td>\n",
       "      <td>0.0387</td>\n",
       "      <td>0.0215</td>\n",
       "      <td>0.0000</td>\n",
       "      <td>0.0007</td>\n",
       "      <td>0.0151</td>\n",
       "      <td>0.0139</td>\n",
       "    </tr>\n",
       "    <tr>\n",
       "      <th>3</th>\n",
       "      <td>1960-04-01</td>\n",
       "      <td>0.0000</td>\n",
       "      <td>0.0000</td>\n",
       "      <td>0.0000</td>\n",
       "      <td>0.0519</td>\n",
       "      <td>0.0000</td>\n",
       "      <td>0.0000</td>\n",
       "      <td>0.0000</td>\n",
       "      <td>0.0019</td>\n",
       "      <td>45.4458</td>\n",
       "      <td>...</td>\n",
       "      <td>0.0371</td>\n",
       "      <td>0.0000</td>\n",
       "      <td>0.0178</td>\n",
       "      <td>0.3312</td>\n",
       "      <td>0.0402</td>\n",
       "      <td>0.0207</td>\n",
       "      <td>0.0000</td>\n",
       "      <td>0.0010</td>\n",
       "      <td>0.0154</td>\n",
       "      <td>0.0136</td>\n",
       "    </tr>\n",
       "    <tr>\n",
       "      <th>4</th>\n",
       "      <td>1960-05-01</td>\n",
       "      <td>0.0000</td>\n",
       "      <td>0.0000</td>\n",
       "      <td>0.0000</td>\n",
       "      <td>0.0520</td>\n",
       "      <td>0.0000</td>\n",
       "      <td>0.0000</td>\n",
       "      <td>0.0000</td>\n",
       "      <td>0.0019</td>\n",
       "      <td>45.5052</td>\n",
       "      <td>...</td>\n",
       "      <td>0.0356</td>\n",
       "      <td>0.0000</td>\n",
       "      <td>0.0177</td>\n",
       "      <td>0.3096</td>\n",
       "      <td>0.0417</td>\n",
       "      <td>0.0199</td>\n",
       "      <td>0.0000</td>\n",
       "      <td>0.0013</td>\n",
       "      <td>0.0157</td>\n",
       "      <td>0.0133</td>\n",
       "    </tr>\n",
       "  </tbody>\n",
       "</table>\n",
       "<p>5 rows × 51 columns</p>\n",
       "</div>"
      ],
      "text/plain": [
       "         date  bank capital to assets ratio  bank nonperforming loans  \\\n",
       "0  1960-01-01                        0.0000                    0.0000   \n",
       "1  1960-02-01                        0.0000                    0.0000   \n",
       "2  1960-03-01                        0.0000                    0.0000   \n",
       "3  1960-04-01                        0.0000                    0.0000   \n",
       "4  1960-05-01                        0.0000                    0.0000   \n",
       "\n",
       "          cereal yield       energy imports         food exports  \\\n",
       "0               0.0000               0.0517               0.0000   \n",
       "1               0.0000               0.0517               0.0000   \n",
       "2               0.0000               0.0518               0.0000   \n",
       "3               0.0000               0.0519               0.0000   \n",
       "4               0.0000               0.0520               0.0000   \n",
       "\n",
       "     high-tech exports            inflation  lending interest rate  \\\n",
       "0               0.0000               0.0000                 0.0019   \n",
       "1               0.0000               0.0000                 0.0019   \n",
       "2               0.0000               0.0000                 0.0019   \n",
       "3               0.0000               0.0000                 0.0019   \n",
       "4               0.0000               0.0000                 0.0019   \n",
       "\n",
       "       life expectancy         ...                        France  \\\n",
       "0              45.2673         ...                        0.0414   \n",
       "1              45.3268         ...                        0.0399   \n",
       "2              45.3863         ...                        0.0385   \n",
       "3              45.4458         ...                        0.0371   \n",
       "4              45.5052         ...                        0.0356   \n",
       "\n",
       "                 Ghana                India            Indonesia  \\\n",
       "0               0.0000               0.0178               0.3959   \n",
       "1               0.0000               0.0178               0.3743   \n",
       "2               0.0000               0.0178               0.3527   \n",
       "3               0.0000               0.0178               0.3312   \n",
       "4               0.0000               0.0177               0.3096   \n",
       "\n",
       "                 Japan          Netherlands              Senegal  \\\n",
       "0               0.0357               0.0232               0.0000   \n",
       "1               0.0372               0.0224               0.0000   \n",
       "2               0.0387               0.0215               0.0000   \n",
       "3               0.0402               0.0207               0.0000   \n",
       "4               0.0417               0.0199               0.0000   \n",
       "\n",
       "             Singapore          Switzerland        United States  \n",
       "0               0.0000               0.0144               0.0146  \n",
       "1               0.0003               0.0147               0.0143  \n",
       "2               0.0007               0.0151               0.0139  \n",
       "3               0.0010               0.0154               0.0136  \n",
       "4               0.0013               0.0157               0.0133  \n",
       "\n",
       "[5 rows x 51 columns]"
      ]
     },
     "execution_count": 11,
     "metadata": {},
     "output_type": "execute_result"
    }
   ],
   "source": [
    "combined_df.head()"
   ]
  },
  {
   "cell_type": "code",
   "execution_count": 12,
   "metadata": {},
   "outputs": [
    {
     "data": {
      "image/png": "[encoded data removed]",
      "text/plain": [
       "<Figure size 1080x504 with 1 Axes>"
      ]
     },
     "metadata": {},
     "output_type": "display_data"
    }
   ],
   "source": [
    "fig, ax = plt.subplots(figsize=(15,7))\n",
    "[sns.lineplot(x='date', y=c, markers=True, ax=ax, label=c, data=combined_df) for c in list(filter(lambda x: x not in ['Brazil', 'Indonesia', 'Ghana'], country_labels))]\n",
    "\n",
    "xticks=ax.xaxis.get_major_ticks()\n",
    "for i in range(len(xticks)):\n",
    "    if i % 12 == 1:\n",
    "        xticks[i].set_visible(True)\n",
    "    else:\n",
    "        xticks[i].set_visible(False)\n",
    "\n",
    "ax.set_xticklabels(combined_df['date'], rotation=45);"
   ]
  },
  {
   "cell_type": "code",
   "execution_count": 13,
   "metadata": {},
   "outputs": [
    {
     "data": {
      "text/plain": [
       "Index(['date', 'bank capital to assets ratio', 'bank nonperforming loans',\n",
       "       'cereal yield', 'energy imports', 'food exports', 'high-tech exports',\n",
       "       'inflation', 'lending interest rate', 'life expectancy',\n",
       "       'population density', 'real interest rate', 'broad money',\n",
       "       'exports of goods and services', 'gross domestic savings',\n",
       "       'high-tech value added', 'household consumption expenditure',\n",
       "       'imports of goods and services', 'listed companies',\n",
       "       'manufacturing value added', 'r and d spend', 'services trade', 'trade',\n",
       "       'government debt service', 'government interest payments external debt',\n",
       "       'government tax revenue', 'birth deaths', 'broadband subscriptions',\n",
       "       'electricity access', 'co2 emissions', 'electricity consumption',\n",
       "       'mobile subscriptions', 'newborns', 'overweight', 'rural population',\n",
       "       'unemployed', 'urban population', 'workers', 'Brazil', 'China',\n",
       "       'Colombia', 'France', 'Ghana', 'India', 'Indonesia', 'Japan',\n",
       "       'Netherlands', 'Senegal', 'Singapore', 'Switzerland', 'United States'],\n",
       "      dtype='object')"
      ]
     },
     "execution_count": 13,
     "metadata": {},
     "output_type": "execute_result"
    }
   ],
   "source": [
    "combined_df.columns"
   ]
  },
  {
   "cell_type": "markdown",
   "metadata": {},
   "source": [
    "### Prepare the country features"
   ]
  },
  {
   "cell_type": "code",
   "execution_count": 14,
   "metadata": {},
   "outputs": [],
   "source": [
    "base_feature_df = combined_df[['bank capital to assets ratio', 'bank nonperforming loans', 'cereal yield',\n",
    "                               'energy imports', 'food exports', 'high-tech exports', 'inflation',\n",
    "                               'lending interest rate', 'life expectancy', 'population density', 'real interest rate',\n",
    "                               'broad money', 'exports of goods and services', 'gross domestic savings',\n",
    "                               'high-tech value added', 'household consumption expenditure',\n",
    "                               'imports of goods and services', 'listed companies', 'manufacturing value added',\n",
    "                               'r and d spend', 'services trade', 'trade', 'government debt service',\n",
    "                               'government interest payments external debt', 'government tax revenue', 'birth deaths',\n",
    "                               'broadband subscriptions', 'electricity access', 'co2 emissions',\n",
    "                               'electricity consumption', 'mobile subscriptions', 'newborns', 'overweight',\n",
    "                               'rural population', 'unemployed', 'urban population', 'workers', country]]"
   ]
  },
  {
   "cell_type": "code",
   "execution_count": 15,
   "metadata": {},
   "outputs": [],
   "source": [
    "base_feature_df.to_csv('features/m_one/combined_%s.csv' % country.lower(), sep=',', index=False)"
   ]
  },
  {
   "cell_type": "code",
   "execution_count": 16,
   "metadata": {},
   "outputs": [],
   "source": [
    "base_feature_df['label'] = base_feature_df[country].shift(periods=1)\n",
    "base_df = base_feature_df.drop(country, axis=1).fillna(0.00);"
   ]
  },
  {
   "cell_type": "code",
   "execution_count": 17,
   "metadata": {},
   "outputs": [],
   "source": [
    "num_obs = len(base_df)\n",
    "num_cols = len(base_df.columns)\n",
    "num_features = len(base_df.columns) - 1"
   ]
  },
  {
   "cell_type": "markdown",
   "metadata": {},
   "source": [
    "### Model iterations\n",
    "---------------------"
   ]
  },
  {
   "cell_type": "markdown",
   "metadata": {},
   "source": [
    "### Exploration 1\n",
    "\n",
    "**Multivariate LSTM** fitted on the real data, see https://machinelearningmastery.com/multivariate-time-series-forecasting-lstms-keras/\n",
    "- Activation function: Leaky ReLU.\n",
    "- Loss function: mean squared error.\n",
    "- Optimizer: adam.\n",
    "- Num observations source dataset: 684 (using lagshift, 1960-2016 inclusive monthly)\n",
    "- Num sequences (@ sequence length 6): 116.\n",
    "- Batch size: 4-8 sequences (although `size=48` would lead to more stable training)"
   ]
  },
  {
   "cell_type": "code",
   "execution_count": 18,
   "metadata": {},
   "outputs": [
    {
     "name": "stderr",
     "output_type": "stream",
     "text": [
      "Using TensorFlow backend.\n"
     ]
    }
   ],
   "source": [
    "from keras import Sequential\n",
    "from keras.layers import LSTM, Dense, LeakyReLU\n",
    "from keras.optimizers import Adam\n",
    "from sklearn.metrics import mean_squared_error"
   ]
  },
  {
   "cell_type": "code",
   "execution_count": 19,
   "metadata": {},
   "outputs": [],
   "source": [
    "lstm_params = {\n",
    "   'sequence_length': 6,\n",
    "   'batch_size': 8,\n",
    "   'num_epochs': 600,\n",
    "   'num_units': 128,\n",
    "   'lrelu_alpha': 0.3\n",
    "}"
   ]
  },
  {
   "cell_type": "markdown",
   "metadata": {},
   "source": [
    "#### LSTM features"
   ]
  },
  {
   "cell_type": "code",
   "execution_count": 20,
   "metadata": {},
   "outputs": [],
   "source": [
    "features = []\n",
    "labels = []\n",
    "\n",
    "for i in range(int(num_obs / lstm_params['sequence_length'])):\n",
    "    labels_df = base_df['label']\n",
    "    labels.append(labels_df[i:(i+lstm_params['sequence_length'])].values[-1:])\n",
    "    features.append(base_df[i:(i+lstm_params['sequence_length'])].values)"
   ]
  },
  {
   "cell_type": "code",
   "execution_count": 21,
   "metadata": {},
   "outputs": [],
   "source": [
    "lstm_train_X = np.asarray(features[0:100])\n",
    "lstm_train_X = lstm_train_X.reshape((lstm_train_X.shape[0], lstm_params['sequence_length'], num_cols))\n",
    "lstm_train_y = np.asarray(labels[0:100])\n",
    "lstm_train_y = lstm_train_y.reshape((lstm_train_y.shape[0]))"
   ]
  },
  {
   "cell_type": "code",
   "execution_count": 22,
   "metadata": {},
   "outputs": [],
   "source": [
    "lstm_test_X = np.asarray(features[100:])\n",
    "lstm_test_X = lstm_test_X.reshape((lstm_test_X.shape[0], lstm_params['sequence_length'], num_cols))\n",
    "lstm_test_y = np.asarray(labels[100:])\n",
    "lstm_test_y = lstm_test_y.reshape((lstm_test_y.shape[0]))"
   ]
  },
  {
   "cell_type": "code",
   "execution_count": 23,
   "metadata": {},
   "outputs": [],
   "source": [
    "X = np.asarray(features)\n",
    "X = X.reshape((X.shape[0], lstm_params['sequence_length'], num_cols))\n",
    "y = np.asarray(labels)\n",
    "y = y.reshape((y.shape[0], 1))"
   ]
  },
  {
   "cell_type": "code",
   "execution_count": 24,
   "metadata": {},
   "outputs": [
    {
     "name": "stdout",
     "output_type": "stream",
     "text": [
      "X: (116, 6, 38), y: (116, 1)\n"
     ]
    }
   ],
   "source": [
    "print('X: %s, y: %s' % (X.shape, y.shape))"
   ]
  },
  {
   "cell_type": "markdown",
   "metadata": {},
   "source": [
    "#### Model: LSTM"
   ]
  },
  {
   "cell_type": "code",
   "execution_count": 25,
   "metadata": {},
   "outputs": [
    {
     "name": "stdout",
     "output_type": "stream",
     "text": [
      "_________________________________________________________________\n",
      "Layer (type)                 Output Shape              Param #   \n",
      "=================================================================\n",
      "lstm_1 (LSTM)                (None, 128)               85504     \n",
      "_________________________________________________________________\n",
      "dense_1 (Dense)              (None, 1)                 129       \n",
      "=================================================================\n",
      "Total params: 85,633\n",
      "Trainable params: 85,633\n",
      "Non-trainable params: 0\n",
      "_________________________________________________________________\n"
     ]
    }
   ],
   "source": [
    "model = Sequential()\n",
    "model.add(LSTM(lstm_params['num_units'], input_shape=(lstm_params['sequence_length'], num_cols)))\n",
    "model.add(Dense(1, activation=LeakyReLU(alpha=lstm_params['lrelu_alpha'])))\n",
    "model.compile(loss='mse', optimizer='adam')\n",
    "model.summary()"
   ]
  },
  {
   "cell_type": "code",
   "execution_count": null,
   "metadata": {},
   "outputs": [],
   "source": [
    "train_run = model.fit(lstm_train_X, lstm_train_y, epochs=lstm_params['num_epochs'], batch_size=lstm_params['batch_size'])"
   ]
  },
  {
   "cell_type": "code",
   "execution_count": 27,
   "metadata": {},
   "outputs": [
    {
     "data": {
      "image/png": "[encoded data removed]",
      "text/plain": [
       "<Figure size 432x288 with 1 Axes>"
      ]
     },
     "metadata": {},
     "output_type": "display_data"
    }
   ],
   "source": [
    "plt.plot(train_run.history['loss'], label='train')\n",
    "plt.legend()\n",
    "plt.show()"
   ]
  },
  {
   "cell_type": "markdown",
   "metadata": {},
   "source": [
    "##### Evaluate model performance"
   ]
  },
  {
   "cell_type": "code",
   "execution_count": 28,
   "metadata": {},
   "outputs": [
    {
     "name": "stdout",
     "output_type": "stream",
     "text": [
      "\r",
      "16/16 [==============================] - 0s 9ms/step\n"
     ]
    },
    {
     "data": {
      "text/plain": [
       "1.1127902325824834e-05"
      ]
     },
     "execution_count": 28,
     "metadata": {},
     "output_type": "execute_result"
    }
   ],
   "source": [
    "model.evaluate(lstm_test_X, lstm_test_y)"
   ]
  },
  {
   "cell_type": "code",
   "execution_count": 29,
   "metadata": {},
   "outputs": [],
   "source": [
    "yhat = model.predict(lstm_test_X)"
   ]
  },
  {
   "cell_type": "code",
   "execution_count": 30,
   "metadata": {},
   "outputs": [
    {
     "data": {
      "image/png": "[encoded data removed]",
      "text/plain": [
       "<Figure size 1080x504 with 1 Axes>"
      ]
     },
     "metadata": {},
     "output_type": "display_data"
    }
   ],
   "source": [
    "plt.figure(figsize=(15,7))\n",
    "plt.plot(lstm_test_y, label='observed')\n",
    "plt.plot(yhat, label='predicted')\n",
    "plt.legend()\n",
    "plt.title('Observed versus predicted values for consumer price inflation in %s' % country)\n",
    "plt.show()"
   ]
  },
  {
   "cell_type": "code",
   "execution_count": 31,
   "metadata": {},
   "outputs": [
    {
     "name": "stdout",
     "output_type": "stream",
     "text": [
      "rmse: 0.003335851321953797\n",
      "mean observed: 0.05938984443946583\n",
      "mean predicted: 0.058304474\n"
     ]
    }
   ],
   "source": [
    "print('rmse: %s\\nmean observed: %s\\nmean predicted: %s' % (np.sqrt(mean_squared_error(lstm_test_y, yhat)),\n",
    "                                                           np.mean(lstm_test_y), np.mean(yhat)))"
   ]
  },
  {
   "cell_type": "markdown",
   "metadata": {},
   "source": [
    "### Exploration 2\n",
    "\n",
    "**GAN** to generate training data, **LSTM** trained on generated data validated on the real data. See https://arxiv.org/pdf/1706.02633.pdf.\n",
    "\n",
    "Keras GAN implementation inspired by https://medium.com/@mattiaspinelli/simple-generative-adversarial-network-gans-with-keras-1fe578e44a87"
   ]
  },
  {
   "cell_type": "code",
   "execution_count": 67,
   "metadata": {},
   "outputs": [
    {
     "data": {
      "text/plain": [
       "(696, 38)"
      ]
     },
     "execution_count": 67,
     "metadata": {},
     "output_type": "execute_result"
    }
   ],
   "source": [
    "gan_df = base_df\n",
    "gan_df.shape"
   ]
  },
  {
   "cell_type": "code",
   "execution_count": 68,
   "metadata": {},
   "outputs": [],
   "source": [
    "gan_cols = gan_df.shape[1]"
   ]
  },
  {
   "cell_type": "code",
   "execution_count": 122,
   "metadata": {},
   "outputs": [],
   "source": [
    "gan_params = {\n",
    "   'num_epochs': 1000,\n",
    "   'save_interval': 10,\n",
    "   'sequence_length': 4,\n",
    "   'num_variables': gan_cols,\n",
    "   'batch_size': 32,\n",
    "   'lr': 0.001 \n",
    "}"
   ]
  },
  {
   "cell_type": "code",
   "execution_count": 123,
   "metadata": {},
   "outputs": [],
   "source": [
    "generator_params = {\n",
    "   'noise_sigma': 0.1,\n",
    "   'lstm_units': 128,\n",
    "   'gru_units': 64,\n",
    "   'lr': 0.001\n",
    "}"
   ]
  },
  {
   "cell_type": "code",
   "execution_count": 124,
   "metadata": {},
   "outputs": [],
   "source": [
    "discriminator_params = {\n",
    "   'lr': 0.01\n",
    "}"
   ]
  },
  {
   "cell_type": "markdown",
   "metadata": {},
   "source": [
    "#### GAN input sequences\n",
    "\n",
    "The collated World Bank and IMF data used as input for the data generator and to validate the model trained on generated data."
   ]
  },
  {
   "cell_type": "code",
   "execution_count": 125,
   "metadata": {},
   "outputs": [],
   "source": [
    "gan_features = []\n",
    "gan_labels = []\n",
    "\n",
    "for i in range(int(num_obs / gan_params['sequence_length'])):\n",
    "    gan_labels_df = gan_df['label']\n",
    "    gan_labels.append(gan_labels_df[i:(i+gan_params['sequence_length'])].values[-1:])\n",
    "    gan_features.append(gan_df[i:(i+gan_params['sequence_length'])].values)"
   ]
  },
  {
   "cell_type": "code",
   "execution_count": 126,
   "metadata": {},
   "outputs": [],
   "source": [
    "real = np.asarray(gan_features)\n",
    "real = real.reshape((real.shape[0], gan_params['sequence_length'], gan_cols))"
   ]
  },
  {
   "cell_type": "code",
   "execution_count": 127,
   "metadata": {},
   "outputs": [
    {
     "data": {
      "text/plain": [
       "(174, 4, 38)"
      ]
     },
     "execution_count": 127,
     "metadata": {},
     "output_type": "execute_result"
    }
   ],
   "source": [
    "real.shape"
   ]
  },
  {
   "cell_type": "markdown",
   "metadata": {},
   "source": [
    "#### Generator"
   ]
  },
  {
   "cell_type": "code",
   "execution_count": 157,
   "metadata": {},
   "outputs": [],
   "source": [
    "from keras.layers import GaussianNoise, LSTM, BatchNormalization, Dense, LocallyConnected2D, GRU, Reshape"
   ]
  },
  {
   "cell_type": "code",
   "execution_count": 412,
   "metadata": {},
   "outputs": [],
   "source": [
    "from keras import backend as K\n",
    "from keras import Model\n",
    "\n",
    "class Generator(Model):\n",
    "    \n",
    "    def __init__(self, params):\n",
    "        super(Generator, self).__init__(params)\n",
    "        self.shape = params['sequence_length'], params['num_variables']\n",
    "        \n",
    "        self.lstm = LSTM(params['lstm_units'], input_shape=(self.shape))\n",
    "        self.gauss_noise = GaussianNoise(stddev=params['noise_sigma'])\n",
    "        self.relu = Dense(params['num_variables'] * params['sequence_length'], activation='relu')\n",
    "        self.batch_norm = BatchNormalization(axis=1, momentum=0.95, epsilon=0.0001)\n",
    "        self.rs1 = Reshape((self.shape))\n",
    "        self.gru = GRU(params['gru_units'], input_shape=(params['num_variables'], params['sequence_length']))\n",
    "        self.softmax = Dense(params['num_variables'] * params['sequence_length'], activation='softmax')\n",
    "        self.rs2 = Reshape((self.shape))\n",
    "\n",
    "    def call(self, inputs):\n",
    "        synths = self.lstm(inputs)\n",
    "        synths = self.gauss_noise(synths)\n",
    "        synths = self.relu(synths)\n",
    "        synths = self.batch_norm(synths)\n",
    "        synths = self.rs1(synths)\n",
    "        synths = self.gru(synths)\n",
    "        synths = self.softmax(synths)\n",
    "        synths = self.rs2(synths)\n",
    "        return synths\n",
    "    \n",
    "    def compute_output_shape(self, input_shape):\n",
    "        return [self.shape]"
   ]
  },
  {
   "cell_type": "markdown",
   "metadata": {},
   "source": [
    "#### Discriminator"
   ]
  },
  {
   "cell_type": "code",
   "execution_count": 402,
   "metadata": {},
   "outputs": [],
   "source": [
    "from keras.layers import ConvLSTM2D, MaxPool1D, Flatten, Dense"
   ]
  },
  {
   "cell_type": "code",
   "execution_count": 413,
   "metadata": {},
   "outputs": [],
   "source": [
    "class Discriminator(Model):\n",
    "    \n",
    "    def __init__(self, params):\n",
    "        super(Discriminator, self).__init__(params)\n",
    "        self.shape = params['sequence_length'], params['num_variables']\n",
    "        \n",
    "        # self.clstm = ConvLSTM1D(2, 2, input_shape=(params['sequence_length'], params['num_variables']))\n",
    "        # self.lstm = LSTM(256, input_shape=(self.shape))\n",
    "        self.sigmoid = Dense(1, activation='sigmoid')\n",
    "    \n",
    "    def call(self, inputs):\n",
    "        # isc = self.lstm(inputs)\n",
    "        disc = self.sigmoid(inputs)\n",
    "        return disc\n",
    "    \n",
    "    def compute_output_shape(self, input_shape):\n",
    "        return [input_shape]"
   ]
  },
  {
   "cell_type": "markdown",
   "metadata": {},
   "source": [
    "#### GAN"
   ]
  },
  {
   "cell_type": "code",
   "execution_count": 414,
   "metadata": {},
   "outputs": [],
   "source": [
    "from keras import Sequential\n",
    "from keras.optimizers import Adam\n",
    "from sklearn.metrics import mean_squared_error"
   ]
  },
  {
   "cell_type": "code",
   "execution_count": 415,
   "metadata": {},
   "outputs": [],
   "source": [
    "def build_gan(gan_params, generator_params, discriminator_params):\n",
    "    g = Generator({**gan_params, **generator_params})\n",
    "    g.compile(loss='binary_crossentropy', optimizer=Adam(lr=generator_params['lr']))\n",
    "    d = Discriminator({**gan_params, **discriminator_params})\n",
    "    d.compile(loss='binary_crossentropy', optimizer=Adam(lr=discriminator_params['lr']))\n",
    "    gan = Sequential(name='gan')\n",
    "    gan.add(g)\n",
    "    gan.add(d)\n",
    "    gan.summary()\n",
    "    gan.compile(loss='binary_crossentropy', optimizer=Adam(lr=gan_params['lr']))\n",
    "    return g, d, gan"
   ]
  },
  {
   "cell_type": "code",
   "execution_count": 416,
   "metadata": {},
   "outputs": [
    {
     "name": "stdout",
     "output_type": "stream",
     "text": [
      "_________________________________________________________________\n",
      "Layer (type)                 Output Shape              Param #   \n",
      "=================================================================\n",
      "generator_10 (Generator)     (4, 38)                   135376    \n",
      "_________________________________________________________________\n",
      "discriminator_9 (Discriminat (4, 38)                   39        \n",
      "=================================================================\n",
      "Total params: 135,415\n",
      "Trainable params: 135,111\n",
      "Non-trainable params: 304\n",
      "_________________________________________________________________\n"
     ]
    }
   ],
   "source": [
    "generator, discriminator, gan = build_gan(gan_params, generator_params, discriminator_params)"
   ]
  },
  {
   "cell_type": "code",
   "execution_count": 417,
   "metadata": {},
   "outputs": [],
   "source": [
    "def train_gan(real, batch_size, params):\n",
    "    d_loss = []\n",
    "    g_loss = []\n",
    "    for i in range(params['num_epochs']):\n",
    "        # Select random samples from the real data as part of the training batch\n",
    "        random_index = np.random.randint(0, len(real) - batch_size / 2)\n",
    "        batch_real = real[random_index:int(random_index + batch_size / 2)]\n",
    "        batch_synth = np.random.rand(int(batch_size / 2), params['sequence_length'], real.shape[2])    \n",
    "        combined = np.concatenate([batch_real, batch_synth], axis=0)\n",
    "        \n",
    "        # Train the discriminator and generator\n",
    "        g_loss.append(generator.train_on_batch(batch_synth, batch_real))\n",
    "        d_loss.append(discriminator.train_on_batch(combined, disc_labels))\n",
    "    return d_loss, g_loss"
   ]
  },
  {
   "cell_type": "code",
   "execution_count": null,
   "metadata": {},
   "outputs": [],
   "source": [
    "d_loss, g_loss = train_gan(real, gan_params['batch_size'], gan_params)"
   ]
  },
  {
   "cell_type": "code",
   "execution_count": null,
   "metadata": {},
   "outputs": [],
   "source": [
    "plt.figure(figsize=(15,7))\n",
    "plt.plot(d_loss, label='discriminator loss')\n",
    "plt.plot(g_loss, label='generator loss')\n",
    "plt.legend()\n",
    "plt.title('GAN losses')\n",
    "plt.show()"
   ]
  },
  {
   "cell_type": "code",
   "execution_count": null,
   "metadata": {},
   "outputs": [],
   "source": [
    "generated_y = generator.predict(np.random.rand(num_obs, gan_cols))[:,-1]\n",
    "gan_y = gan_df['label'].values"
   ]
  },
  {
   "cell_type": "code",
   "execution_count": null,
   "metadata": {},
   "outputs": [],
   "source": [
    "plt.figure(figsize=(15,7))\n",
    "plt.plot(gan_y, label='observed cpi')\n",
    "plt.plot(generated_y, label='gan-generated cpi')\n",
    "plt.legend()\n",
    "plt.title('Observed versus GAN-generated values for consumer price inflation in %s' % country)\n",
    "plt.show()"
   ]
  },
  {
   "cell_type": "code",
   "execution_count": null,
   "metadata": {},
   "outputs": [],
   "source": [
    "print('rmse: %s\\nmean observed: %s\\nmean generated: %s' % (np.sqrt(mean_squared_error(gan_y, generated_y)),\n",
    "                                                           np.mean(gan_y), np.mean(generated_y)))"
   ]
  },
  {
   "cell_type": "markdown",
   "metadata": {},
   "source": [
    "### Exploration 3\n",
    "\n",
    "**Sequence transformer network** to generate training data, **LSTM** trained on generated data validated on the real data. See https://arxiv.org/abs/1808.06725"
   ]
  },
  {
   "cell_type": "code",
   "execution_count": null,
   "metadata": {},
   "outputs": [],
   "source": []
  },
  {
   "cell_type": "markdown",
   "metadata": {},
   "source": [
    "## Simulation 1\n",
    "\n",
    "Question: what happens to consumer price inflation in the long run if the government decides to borrow more money?\n",
    "\n",
    "##### Simulation parameters\n",
    "- central government debt\n",
    "- time horizon\n",
    "\n",
    "##### Environment variables\n",
    "- world economy: selected generated macroeconomic indicators\n",
    "- country economy: selected generated country-level indicators\n",
    "- hybrid: interaction country x world"
   ]
  },
  {
   "cell_type": "code",
   "execution_count": null,
   "metadata": {},
   "outputs": [],
   "source": []
  }
 ],
 "metadata": {
  "kernelspec": {
   "display_name": "me",
   "language": "python",
   "name": "me"
  },
  "language_info": {
   "codemirror_mode": {
    "name": "ipython",
    "version": 3
   },
   "file_extension": ".py",
   "mimetype": "text/x-python",
   "name": "python",
   "nbconvert_exporter": "python",
   "pygments_lexer": "ipython3",
   "version": "3.6.5"
  }
 },
 "nbformat": 4,
 "nbformat_minor": 2
}
