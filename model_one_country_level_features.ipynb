{
 "cells": [
  {
   "cell_type": "code",
   "execution_count": 443,
   "metadata": {},
   "outputs": [],
   "source": [
    "import warnings\n",
    "import numpy as np\n",
    "import pandas as pd\n",
    "import seaborn as sns\n",
    "import matplotlib.pyplot as plt\n",
    "\n",
    "%matplotlib inline"
   ]
  },
  {
   "cell_type": "code",
   "execution_count": 444,
   "metadata": {},
   "outputs": [],
   "source": [
    "warnings.filterwarnings('ignore')\n",
    "pd.options.display.float_format = '{:20,.4f}'.format"
   ]
  },
  {
   "cell_type": "markdown",
   "metadata": {},
   "source": [
    "# Country-level indicator variables\n",
    "\n",
    "Load and reshape the selected country-level indicator datasets for a selected country."
   ]
  },
  {
   "cell_type": "code",
   "execution_count": 445,
   "metadata": {},
   "outputs": [],
   "source": [
    "country = 'France'"
   ]
  },
  {
   "cell_type": "code",
   "execution_count": 446,
   "metadata": {},
   "outputs": [],
   "source": [
    "pop_df = pd.read_csv('data/model_one/people.csv', sep=';')\n",
    "pop_df = pop_df[pop_df['country'] == country]\n",
    "pop_pivot_df = pop_df.pivot_table(index='date', columns=['country', 'indicator'], values='value').drop_duplicates()\n",
    "population_df = pop_pivot_df.iloc[:, pop_pivot_df.columns.get_level_values(1) == 'Population, total'].stack('country').fillna(0.00)\n",
    "population_df['population'] = population_df['Population, total']"
   ]
  },
  {
   "cell_type": "code",
   "execution_count": 447,
   "metadata": {},
   "outputs": [],
   "source": [
    "gdp_read_df = pd.read_csv('data/model_one/policy.csv', sep=';')\n",
    "gdp_read_df = gdp_read_df[gdp_read_df['country'] == country]\n",
    "gdp_pivot_df = gdp_read_df.pivot_table(index='date', columns=['country', 'indicator'], values='value').drop_duplicates()\n",
    "gdp_df = gdp_pivot_df.iloc[:, gdp_pivot_df.columns.get_level_values(1) == 'GDP (constant 2010 US$)'].stack('country').fillna(0.00)\n",
    "gdp_df['gdp'] = gdp_df['GDP (constant 2010 US$)']"
   ]
  },
  {
   "cell_type": "code",
   "execution_count": 448,
   "metadata": {},
   "outputs": [],
   "source": [
    "gni_read_df = pd.read_csv('data/model_one/policy.csv', sep=';')\n",
    "gni_read_df = gni_read_df[gni_read_df['country'] == country]\n",
    "gni_pivot_df = gni_read_df.pivot_table(index='date', columns=['country', 'indicator'], values='value').drop_duplicates()\n",
    "gni_df = gni_pivot_df.iloc[:, gni_pivot_df.columns.get_level_values(1) == 'GNI (constant 2010 US$)'].stack('country').fillna(0.00)\n",
    "gni_df['gni'] = gni_df['GNI (constant 2010 US$)']"
   ]
  },
  {
   "cell_type": "markdown",
   "metadata": {},
   "source": [
    "## People"
   ]
  },
  {
   "cell_type": "code",
   "execution_count": 449,
   "metadata": {},
   "outputs": [],
   "source": [
    "consumption_df = pd.read_csv('data/model_one/trade.csv', sep=';')\n",
    "consumption_df = consumption_df[consumption_df['country'] == country]\n",
    "consumption_pivot_df = consumption_df.pivot_table(index='date', columns=['country', 'indicator'], values='value').drop_duplicates()\n",
    "household_df = consumption_pivot_df.iloc[:, consumption_pivot_df.columns.get_level_values(1) == 'Households and NPISHs Final consumption expenditure per capita (constant 2010 US$)'].stack('country')"
   ]
  },
  {
   "cell_type": "code",
   "execution_count": 450,
   "metadata": {},
   "outputs": [
    {
     "data": {
      "text/plain": [
       "Index(['Birth rate, crude (per 1,000 people)',\n",
       "       'Consumer Price Index, All items',\n",
       "       'Consumer Price Index, All items, Percentage change, Previous period',\n",
       "       'Education, Weight, Percent',\n",
       "       'Fertility rate, total (births per woman)',\n",
       "       'Final consumption expenditure (annual % growth)',\n",
       "       'Food and non-alcoholic beverages, Weight, Percent',\n",
       "       'Health, Weight, Percent',\n",
       "       'Housing, Water, Electricity, Gas and Other Fuels, Weight, Percent',\n",
       "       'Inflation, consumer prices (annual %)',\n",
       "       'Informal employment (% of total non-agricultural employment)',\n",
       "       'Life expectancy at birth, total (years)',\n",
       "       'Mortality rate, infant (per 1,000 live births)',\n",
       "       'Population ages 15-64 (% of total)',\n",
       "       'Population density (people per sq. km of land area)',\n",
       "       'Population growth (annual %)', 'Population, total',\n",
       "       'Prevalence of overweight (% of adults)',\n",
       "       'Recreation and culture, Weight, Percent',\n",
       "       'Rural population (% of total population)',\n",
       "       'Rural population growth (annual %)', 'Transport, Weight, Percent',\n",
       "       'Unemployment, Persons, Number of',\n",
       "       'Unemployment, total (% of total labor force) (national estimate)',\n",
       "       'Urban population (% of total)', 'Urban population growth (annual %)',\n",
       "       'Wage rates, Percentage change, previous period, Percent',\n",
       "       'GDP (constant 2010 US$)', 'gdp', 'GNI (constant 2010 US$)', 'gni',\n",
       "       'Households and NPISHs Final consumption expenditure per capita (constant 2010 US$)'],\n",
       "      dtype='object', name='indicator')"
      ]
     },
     "execution_count": 450,
     "metadata": {},
     "output_type": "execute_result"
    }
   ],
   "source": [
    "people_df = pd.read_csv('data/model_one/people.csv', sep=';')\n",
    "people_df = people_df[people_df['country'] == country]\n",
    "peoples_pivot_df = people_df.pivot_table(index='date', columns=['country', 'indicator'], values='value').drop_duplicates()\n",
    "peoples_index_df = pd.concat([peoples_pivot_df.stack('country'), gdp_df, gni_df, household_df], axis=1).sort_index().fillna(0.00)\n",
    "peoples_index_df.columns"
   ]
  },
  {
   "cell_type": "code",
   "execution_count": 451,
   "metadata": {},
   "outputs": [],
   "source": [
    "peoples_features = ['newborns', 'birth deaths', 'life expectancy', 'rural population', 'urban population',\n",
    "                    'unemployed', 'overweight', 'population density', 'housing expenditure', 'health expenditure',\n",
    "                    'food expenditure', 'transportation expenditure', 'education expenditure', 'leisure expenditure']"
   ]
  },
  {
   "cell_type": "markdown",
   "metadata": {},
   "source": [
    "#### People features\n",
    "\n",
    "- **newborns**: number of newborn infants.\n",
    "- **birth deaths**: number of deaths in live births.\n",
    "- **life expectancy**: life expectancy at birth in years.\n",
    "- **rural population**: number of people living in a rural setting. \n",
    "- **urban population**: number of people living in an urban setting.\n",
    "- **workers**: size of the nation's labor force.\n",
    "- **unemployed**: number of unemployed.\n",
    "- **overweight**: number adults in the population that are overweight.\n",
    "- **population density**: 1000 persons per sq. km of land area\n",
    "- **housing expenditure**: expenditure on housing in 2010 USD.\n",
    "- **health expenditure**: expenditure on health in 2010 USD.\n",
    "- **food expenditure**: expenditure on housing in 2010 USD.\n",
    "- **transportation expenditure**: expenditure on health in 2010 USD.\n",
    "- **education expenditure**: expenditure on housing in 2010 USD.\n",
    "- **leisure expenditure**: expenditure on health in 2010 USD."
   ]
  },
  {
   "cell_type": "code",
   "execution_count": 452,
   "metadata": {},
   "outputs": [],
   "source": [
    "peoples_index_df['newborns'] = (peoples_index_df['Population, total'] / 1000) * peoples_index_df['Birth rate, crude (per 1,000 people)']\n",
    "peoples_index_df['birth deaths'] = peoples_index_df['newborns'] * (peoples_index_df['Mortality rate, infant (per 1,000 live births)'] / 100)"
   ]
  },
  {
   "cell_type": "code",
   "execution_count": 453,
   "metadata": {},
   "outputs": [],
   "source": [
    "peoples_index_df['life expectancy'] = peoples_index_df['Life expectancy at birth, total (years)']\n",
    "peoples_index_df['unemployed'] = peoples_index_df['Unemployment, Persons, Number of']\n",
    "peoples_index_df['population density'] = peoples_index_df['Population density (people per sq. km of land area)'] / 1000"
   ]
  },
  {
   "cell_type": "code",
   "execution_count": 454,
   "metadata": {},
   "outputs": [],
   "source": [
    "peoples_index_df['rural population'] = (peoples_index_df['Rural population (% of total population)'] / 100) * peoples_index_df['Population, total'] \n",
    "peoples_index_df['urban population'] = (peoples_index_df['Urban population (% of total)'] / 100) * peoples_index_df['Population, total']"
   ]
  },
  {
   "cell_type": "code",
   "execution_count": 455,
   "metadata": {},
   "outputs": [],
   "source": [
    "peoples_index_df['overweight'] = (peoples_index_df['Population ages 15-64 (% of total)'] / 100) * (peoples_index_df['Prevalence of overweight (% of adults)'] / 100) * peoples_index_df['Population, total']"
   ]
  },
  {
   "cell_type": "code",
   "execution_count": 456,
   "metadata": {},
   "outputs": [],
   "source": [
    "peoples_index_df['housing expenditure'] = (peoples_index_df['Housing, Water, Electricity, Gas and Other Fuels, Weight, Percent'] / 100) * peoples_index_df['Households and NPISHs Final consumption expenditure per capita (constant 2010 US$)'] * peoples_index_df['Population, total']\n",
    "peoples_index_df['health expenditure'] = (peoples_index_df['Health, Weight, Percent'] / 100) * peoples_index_df['Households and NPISHs Final consumption expenditure per capita (constant 2010 US$)'] * peoples_index_df['Population, total']\n",
    "peoples_index_df['food expenditure'] = (peoples_index_df['Food and non-alcoholic beverages, Weight, Percent'] / 100) * peoples_index_df['Households and NPISHs Final consumption expenditure per capita (constant 2010 US$)'] * peoples_index_df['Population, total']\n",
    "peoples_index_df['transportation expenditure'] = (peoples_index_df['Transport, Weight, Percent'] / 100) * peoples_index_df['Households and NPISHs Final consumption expenditure per capita (constant 2010 US$)'] * peoples_index_df['Population, total']\n",
    "peoples_index_df['education expenditure'] = (peoples_index_df['Education, Weight, Percent'] / 100) * peoples_index_df['Households and NPISHs Final consumption expenditure per capita (constant 2010 US$)'] * peoples_index_df['Population, total']\n",
    "peoples_index_df['leisure expenditure'] = (peoples_index_df['Recreation and culture, Weight, Percent'] / 100) * peoples_index_df['Households and NPISHs Final consumption expenditure per capita (constant 2010 US$)'] * peoples_index_df['Population, total']"
   ]
  },
  {
   "cell_type": "code",
   "execution_count": 457,
   "metadata": {},
   "outputs": [],
   "source": [
    "peoples_features_df = peoples_index_df[peoples_features]"
   ]
  },
  {
   "cell_type": "code",
   "execution_count": 458,
   "metadata": {},
   "outputs": [
    {
     "data": {
      "text/plain": [
       "<matplotlib.legend.Legend at 0x11b681da0>"
      ]
     },
     "execution_count": 458,
     "metadata": {},
     "output_type": "execute_result"
    },
    {
     "data": {
      "image/png": "[encoded data removed]",
      "text/plain": [
       "<Figure size 1080x504 with 1 Axes>"
      ]
     },
     "metadata": {
      "needs_background": "light"
     },
     "output_type": "display_data"
    }
   ],
   "source": [
    "peoples_plots_df = peoples_features_df[['education expenditure']].unstack()\n",
    "fig, ax = plt.subplots(figsize=(15,7))\n",
    "peoples_plots_df.iloc[:, peoples_plots_df.columns.get_level_values(1).isin([country])].dropna().plot(kind='line', ax=ax)\n",
    "plt.legend(loc = 'upper center', bbox_to_anchor=(0.5, -0.05), fancybox = True, shadow = True)"
   ]
  },
  {
   "cell_type": "markdown",
   "metadata": {},
   "source": [
    "## Technology"
   ]
  },
  {
   "cell_type": "code",
   "execution_count": 459,
   "metadata": {},
   "outputs": [
    {
     "data": {
      "text/plain": [
       "Index(['Access to electricity (% of population)',\n",
       "       'CO2 emissions (metric tons per capita)',\n",
       "       'Cereal yield (kg per hectare)',\n",
       "       'Electric power consumption (kWh per capita)',\n",
       "       'Fertilizer consumption (kilograms per hectare of arable land)',\n",
       "       'Fixed broadband subscriptions (per 100 people)',\n",
       "       'Industry (including construction), value added per worker (constant 2010 US$)',\n",
       "       'Manufacturing, value added (% of GDP)',\n",
       "       'Manufacturing, value added (annual % growth)',\n",
       "       'Medium and high-tech Industry (including construction) (% manufacturing value added)',\n",
       "       'Mobile cellular subscriptions (per 100 people)',\n",
       "       'Research and development expenditure (% of GDP)', 'Population, total',\n",
       "       'population', 'GDP (constant 2010 US$)', 'gdp',\n",
       "       'GNI (constant 2010 US$)', 'gni'],\n",
       "      dtype='object', name='indicator')"
      ]
     },
     "execution_count": 459,
     "metadata": {},
     "output_type": "execute_result"
    }
   ],
   "source": [
    "tech_df = pd.read_csv('data/model_one/tech.csv', sep=';')\n",
    "tech_df = tech_df[tech_df['country'] == country]\n",
    "tech_pivot_df = tech_df.pivot_table(index='date', columns=['country', 'indicator'], values='value').drop_duplicates()\n",
    "tech_index_df = pd.concat([tech_pivot_df.stack('country'), population_df, gdp_df, gni_df], axis=1).sort_index().fillna(0.00)\n",
    "tech_index_df.columns"
   ]
  },
  {
   "cell_type": "code",
   "execution_count": 460,
   "metadata": {},
   "outputs": [],
   "source": [
    "tech_features = ['electricity access', 'electricity consumption', 'co2 emissions', 'broadband subscriptions',\n",
    "                 'mobile subscriptions', 'manufacturing value added', 'high-tech value added', 'r and d spend',\n",
    "                 'cereal yield']"
   ]
  },
  {
   "cell_type": "markdown",
   "metadata": {},
   "source": [
    "#### Tech features\n",
    "\n",
    "- **electricity access**: number of people with electricity access.\n",
    "- **electricity consumption**: MWh consumed per year.\n",
    "- **c02 emissions**: metric tons of CO2 emitted.\n",
    "- **broadband subscriptions**: number of broadband subscriptions.\n",
    "- **mobile subscriptions**: number of mobile subscriptions.\n",
    "- **manufacturing value added**: manufacturing value added in 2010 USD.\n",
    "- **high-tech value added**: high-tech industry value added in 2010 USD.\n",
    "- **r and d spend**: country r and d spend.\n",
    "- **cereal yield**: 1000 kg per hectare."
   ]
  },
  {
   "cell_type": "code",
   "execution_count": 461,
   "metadata": {},
   "outputs": [],
   "source": [
    "tech_index_df['manufacturing value added'] = ((tech_index_df['Manufacturing, value added (% of GDP)'] / 100) * tech_index_df['GDP (constant 2010 US$)'])\n",
    "tech_index_df['high-tech value added'] = (((tech_index_df['Manufacturing, value added (% of GDP)'] / 100) * tech_index_df['GDP (constant 2010 US$)']) * (tech_index_df['Medium and high-tech Industry (including construction) (% manufacturing value added)'] / 100))"
   ]
  },
  {
   "cell_type": "code",
   "execution_count": 462,
   "metadata": {},
   "outputs": [],
   "source": [
    "tech_index_df['electricity access'] = (tech_index_df['Access to electricity (% of population)'] / 100) * tech_index_df['Population, total']"
   ]
  },
  {
   "cell_type": "code",
   "execution_count": 463,
   "metadata": {},
   "outputs": [],
   "source": [
    "tech_index_df['broadband subscriptions'] = tech_index_df['Fixed broadband subscriptions (per 100 people)'] * (tech_index_df['Population, total'] / 100)\n",
    "tech_index_df['mobile subscriptions'] = tech_index_df['Mobile cellular subscriptions (per 100 people)'] * (tech_index_df['Population, total'] / 100)"
   ]
  },
  {
   "cell_type": "code",
   "execution_count": 464,
   "metadata": {},
   "outputs": [],
   "source": [
    "tech_index_df['electricity consumption'] = (tech_index_df['Electric power consumption (kWh per capita)'] / 1000) * tech_index_df['Population, total']\n",
    "tech_index_df['co2 emissions'] = tech_index_df['CO2 emissions (metric tons per capita)'] * tech_index_df['Population, total']\n",
    "tech_index_df['r and d spend'] = (tech_index_df['Research and development expenditure (% of GDP)'] / 100) * tech_index_df['GDP (constant 2010 US$)']\n",
    "tech_index_df['cereal yield'] = tech_index_df['Cereal yield (kg per hectare)'] / 1000"
   ]
  },
  {
   "cell_type": "code",
   "execution_count": 465,
   "metadata": {},
   "outputs": [],
   "source": [
    "tech_features_df = tech_index_df[tech_features]"
   ]
  },
  {
   "cell_type": "code",
   "execution_count": 466,
   "metadata": {},
   "outputs": [
    {
     "data": {
      "text/plain": [
       "<matplotlib.legend.Legend at 0x11b667748>"
      ]
     },
     "execution_count": 466,
     "metadata": {},
     "output_type": "execute_result"
    },
    {
     "data": {
      "image/png": "[encoded data removed]",
      "text/plain": [
       "<Figure size 1080x504 with 1 Axes>"
      ]
     },
     "metadata": {
      "needs_background": "light"
     },
     "output_type": "display_data"
    }
   ],
   "source": [
    "tech_plot_df = tech_features_df[['electricity access', 'broadband subscriptions']].unstack()\n",
    "fig, ax = plt.subplots(figsize=(15,7))\n",
    "tech_plot_df.iloc[:, tech_plot_df.columns.get_level_values(1).isin([country])].dropna().plot(kind='line', ax=ax)\n",
    "plt.legend(loc = 'upper center', bbox_to_anchor=(0.5, -0.05), fancybox = True, shadow = True)"
   ]
  },
  {
   "cell_type": "markdown",
   "metadata": {},
   "source": [
    "## Trade"
   ]
  },
  {
   "cell_type": "code",
   "execution_count": 467,
   "metadata": {},
   "outputs": [
    {
     "data": {
      "text/plain": [
       "Index(['Energy imports, net (% of energy use)',\n",
       "       'Exports of goods and services (% of GDP)',\n",
       "       'Exports of goods and services (constant 2010 US$)',\n",
       "       'Food exports (% of merchandise exports)',\n",
       "       'Food imports (% of merchandise imports)',\n",
       "       'GNI per capita (constant 2010 US$)',\n",
       "       'High-technology exports (% of manufactured exports)',\n",
       "       'Households and NPISHs Final consumption expenditure per capita (constant 2010 US$)',\n",
       "       'Imports of goods and services (% of GDP)',\n",
       "       'Imports of goods and services (constant 2010 US$)',\n",
       "       'Manufacturing, value added (% of GDP)',\n",
       "       'Manufacturing, value added (constant 2010 US$)', 'Trade (% of GDP)',\n",
       "       'Trade in services (% of GDP)', 'Population, total', 'population',\n",
       "       'GDP (constant 2010 US$)', 'gdp', 'GNI (constant 2010 US$)', 'gni'],\n",
       "      dtype='object', name='indicator')"
      ]
     },
     "execution_count": 467,
     "metadata": {},
     "output_type": "execute_result"
    }
   ],
   "source": [
    "trade_df = pd.read_csv('data/model_one/trade.csv', sep=';')\n",
    "trade_df = trade_df[trade_df['country'] == country]\n",
    "trade_pivot_df = trade_df.pivot_table(index='date', columns=['country', 'indicator'], values='value').drop_duplicates()\n",
    "trade_index_df = pd.concat([trade_pivot_df.stack('country'), population_df, gdp_df, gni_df], axis=1).sort_index().fillna(0.00)\n",
    "trade_index_df.columns"
   ]
  },
  {
   "cell_type": "code",
   "execution_count": 468,
   "metadata": {},
   "outputs": [],
   "source": [
    "trade_features = ['imports of goods and services', 'exports of goods and services', 'energy imports', \n",
    "                  'high-tech exports', 'food exports', 'services trade', 'trade', 'household consumption expenditure']"
   ]
  },
  {
   "cell_type": "markdown",
   "metadata": {},
   "source": [
    "#### Trade features\n",
    "\n",
    "- **imports of goods and services**: the imports of goods and services in 2010 USD.\n",
    "- **exports of goods and services**: the exports of goods and services in 2010 USD.\n",
    "- **energy imports**: percentage of energy used that was imported.\n",
    "- **high-tech exports**: percentage of manufactures consisting of high tech goods.\n",
    "- **food exports**: percentage of merchandise exports consisting of foodstuff.\n",
    "- **food imports**: percentage of merchandise imports consisting of foodstuff.\n",
    "- **services trade**: trade in services in 2010 USD.\n",
    "- **trade**: trade volumes in 2010 USD.\n",
    "- **household consumption expenditure**: household consumption expenditure in 2010 USD."
   ]
  },
  {
   "cell_type": "code",
   "execution_count": 469,
   "metadata": {},
   "outputs": [],
   "source": [
    "trade_index_df['imports of goods and services'] = trade_index_df['Imports of goods and services (constant 2010 US$)']\n",
    "trade_index_df['exports of goods and services'] = trade_index_df['Exports of goods and services (constant 2010 US$)']"
   ]
  },
  {
   "cell_type": "code",
   "execution_count": 470,
   "metadata": {},
   "outputs": [],
   "source": [
    "trade_index_df['energy imports'] = trade_index_df['Energy imports, net (% of energy use)'] / 100\n",
    "trade_index_df['high-tech exports'] = trade_index_df['High-technology exports (% of manufactured exports)'] / 100\n",
    "trade_index_df['food exports'] = trade_index_df['Food exports (% of merchandise exports)'] / 100\n",
    "trade_index_df['food imports'] = trade_index_df['Food imports (% of merchandise imports)'] / 100\n",
    "trade_index_df['household consumption expenditure'] = trade_index_df['Households and NPISHs Final consumption expenditure per capita (constant 2010 US$)'] * trade_index_df['Population, total']"
   ]
  },
  {
   "cell_type": "code",
   "execution_count": 471,
   "metadata": {},
   "outputs": [],
   "source": [
    "trade_index_df['services trade'] = (trade_index_df['Trade in services (% of GDP)'] / 100) * trade_index_df['GDP (constant 2010 US$)']\n",
    "trade_index_df['trade'] = (trade_index_df['Trade (% of GDP)'] / 100) * trade_index_df['GDP (constant 2010 US$)']"
   ]
  },
  {
   "cell_type": "code",
   "execution_count": 472,
   "metadata": {},
   "outputs": [],
   "source": [
    "trade_features_df = trade_index_df[trade_features]"
   ]
  },
  {
   "cell_type": "code",
   "execution_count": 473,
   "metadata": {},
   "outputs": [
    {
     "data": {
      "text/plain": [
       "<matplotlib.legend.Legend at 0x1197578d0>"
      ]
     },
     "execution_count": 473,
     "metadata": {},
     "output_type": "execute_result"
    },
    {
     "data": {
      "image/png": "[encoded data removed]",
      "text/plain": [
       "<Figure size 1080x504 with 1 Axes>"
      ]
     },
     "metadata": {
      "needs_background": "light"
     },
     "output_type": "display_data"
    }
   ],
   "source": [
    "trade_plot_df = trade_features_df[['trade', 'household consumption expenditure', 'exports of goods and services']].unstack()\n",
    "fig, ax = plt.subplots(figsize=(15,7))\n",
    "trade_plot_df.iloc[:, trade_plot_df.columns.get_level_values(1).isin([country])].dropna().plot(kind='line', ax=ax)\n",
    "plt.legend(loc = 'upper center', bbox_to_anchor=(0.5, -0.05), fancybox = True, shadow = True)"
   ]
  },
  {
   "cell_type": "markdown",
   "metadata": {},
   "source": [
    "## Policy"
   ]
  },
  {
   "cell_type": "code",
   "execution_count": 474,
   "metadata": {},
   "outputs": [
    {
     "data": {
      "text/plain": [
       "Index(['Bank capital to assets ratio (%)',\n",
       "       'Bank nonperforming loans to total gross loans (%)',\n",
       "       'Broad money (% of GDP)', 'Central government debt, total (% of GDP)',\n",
       "       'Compensation of employees (% of expense)',\n",
       "       'Firms using banks to finance investment (% of firms)',\n",
       "       'GDP (constant 2010 US$)', 'GDP growth (annual %)',\n",
       "       'GDP per capita growth (annual %)', 'GNI (constant 2010 US$)',\n",
       "       'GNI growth (annual %)', 'GNI per capita growth (annual %)',\n",
       "       'Gross domestic savings (% of GDP)', 'Gross savings (% of GNI)',\n",
       "       'Inflation, GDP deflator (annual %)',\n",
       "       'Interest payments (% of expense)',\n",
       "       'Interest payments on external debt (% of GNI)',\n",
       "       'Lending interest rate (%)',\n",
       "       'Market capitalization of listed domestic companies (% of GDP)',\n",
       "       'Real interest rate (%)', 'Short-term debt (% of total external debt)',\n",
       "       'Tax revenue (% of GDP)', 'Total debt service (% of GNI)',\n",
       "       'Total reserves (% of total external debt)', 'Population, total',\n",
       "       'population'],\n",
       "      dtype='object', name='indicator')"
      ]
     },
     "execution_count": 474,
     "metadata": {},
     "output_type": "execute_result"
    }
   ],
   "source": [
    "policy_df = pd.read_csv('data/model_one/policy.csv', sep=';')\n",
    "polciy_df = policy_df[policy_df['country'] == country]\n",
    "policy_pivot_df = policy_df.pivot_table(index='date', columns=['country', 'indicator'], values='value').drop_duplicates()\n",
    "policy_index_df = pd.concat([policy_pivot_df.stack('country'), population_df], axis=1).sort_index().fillna(0.00)\n",
    "policy_index_df.columns"
   ]
  },
  {
   "cell_type": "code",
   "execution_count": 475,
   "metadata": {},
   "outputs": [],
   "source": [
    "policy_features = ['bank capital to assets ratio', 'bank nonperforming loans', 'lending interest rate',\n",
    "                   'real interest rate', 'gross domestic savings',  'broad money', 'government debt',\n",
    "                   'government interest payments external debt', 'government tax revenue', 'government debt service', \n",
    "                   'gdp', 'gni', 'inflation', 'listed companies']"
   ]
  },
  {
   "cell_type": "markdown",
   "metadata": {},
   "source": [
    "#### Policy features\n",
    "\n",
    "- **bank capital to assets ratio**: (sic), commercial banks.\n",
    "- **bank nonperforming loans**: commercial bank nonperforming loans percentage.\n",
    "- **lending interest rate**: average commercial bank lending interest rate.\n",
    "- **real interest rate**: interest rate in percentages.\n",
    "- **gross domestic savings**: gross domestic savings in 2010 USD.\n",
    "- **listed companies**: market capitalization of listed companies in 2010 USD.\n",
    "- **broad money**: amount of broad money present in the economy in 2010 USD.\n",
    "- **government debt**: amount of outstanding government debt in 2010 USD.\n",
    "- **government interest payments external debt**: interest payments on external debt in 2010 USD.\n",
    "- **tax revenue**: government tax revenue in 2010 USD.\n",
    "- **total debt service**: government total debt service in 2010 USD.\n",
    "- **gdp**: gross domestic product in 2010 USD.\n",
    "- **gni**: gross national product in 2010 USD.\n",
    "- **inflation**: annual inflation."
   ]
  },
  {
   "cell_type": "code",
   "execution_count": 476,
   "metadata": {},
   "outputs": [],
   "source": [
    "policy_index_df['bank capital to assets ratio'] = policy_index_df['Bank capital to assets ratio (%)'] / 100\n",
    "policy_index_df['bank nonperforming loans'] = policy_index_df['Bank nonperforming loans to total gross loans (%)'] / 100\n",
    "policy_index_df['lending interest rate'] = policy_index_df['Lending interest rate (%)'] / 100\n",
    "policy_index_df['real interest rate'] = policy_index_df['Real interest rate (%)'] / 100\n",
    "policy_index_df['inflation'] = policy_index_df['Inflation, GDP deflator (annual %)'] / 100"
   ]
  },
  {
   "cell_type": "code",
   "execution_count": 477,
   "metadata": {},
   "outputs": [],
   "source": [
    "policy_index_df['gdp'] = policy_index_df['GDP (constant 2010 US$)']\n",
    "policy_index_df['gni'] = policy_index_df['GNI (constant 2010 US$)']"
   ]
  },
  {
   "cell_type": "code",
   "execution_count": 478,
   "metadata": {},
   "outputs": [],
   "source": [
    "policy_index_df['gross domestic savings'] = (policy_index_df['Gross domestic savings (% of GDP)'] / 100) * policy_index_df['GDP (constant 2010 US$)']\n",
    "policy_index_df['broad money'] = (policy_index_df['Broad money (% of GDP)'] / 100) * policy_index_df['GDP (constant 2010 US$)']\n",
    "policy_index_df['listed companies'] = (policy_index_df['Market capitalization of listed domestic companies (% of GDP)'] / 100) * policy_index_df['GDP (constant 2010 US$)']"
   ]
  },
  {
   "cell_type": "code",
   "execution_count": 479,
   "metadata": {},
   "outputs": [],
   "source": [
    "policy_index_df['government debt'] = (policy_index_df['Central government debt, total (% of GDP)'] / 100) * policy_index_df['GDP (constant 2010 US$)']\n",
    "policy_index_df['government interest payments external debt'] = (policy_index_df['Interest payments on external debt (% of GNI)'] / 100) * policy_index_df['GNI (constant 2010 US$)']\n",
    "policy_index_df['government tax revenue'] = (policy_index_df['Tax revenue (% of GDP)'] / 100) * policy_index_df['GDP (constant 2010 US$)']\n",
    "policy_index_df['government debt service'] = (policy_index_df['Total debt service (% of GNI)'] / 100) * policy_index_df['GNI (constant 2010 US$)']"
   ]
  },
  {
   "cell_type": "code",
   "execution_count": 480,
   "metadata": {},
   "outputs": [],
   "source": [
    "policy_features_df = policy_index_df[policy_features]"
   ]
  },
  {
   "cell_type": "code",
   "execution_count": 481,
   "metadata": {},
   "outputs": [
    {
     "data": {
      "text/plain": [
       "<matplotlib.legend.Legend at 0x11dc926a0>"
      ]
     },
     "execution_count": 481,
     "metadata": {},
     "output_type": "execute_result"
    },
    {
     "data": {
      "image/png": "[encoded data removed]",
      "text/plain": [
       "<Figure size 1080x504 with 1 Axes>"
      ]
     },
     "metadata": {
      "needs_background": "light"
     },
     "output_type": "display_data"
    }
   ],
   "source": [
    "policy_plot_df = policy_features_df[['government debt', 'gdp', 'broad money', 'gross domestic savings']].unstack()\n",
    "fig, ax = plt.subplots(figsize=(15,7))\n",
    "policy_plot_df.iloc[:, policy_plot_df.columns.get_level_values(1).isin([country])].dropna().plot(kind='line', ax=ax)\n",
    "plt.legend(loc = 'upper center', bbox_to_anchor=(0.5, -0.05), fancybox = True, shadow = True)"
   ]
  },
  {
   "cell_type": "markdown",
   "metadata": {},
   "source": [
    "## Aggregate the variables\n",
    "\n",
    "The indicator variables are mean-aggregated to create world-level values for each of the indicator variables."
   ]
  },
  {
   "cell_type": "markdown",
   "metadata": {},
   "source": [
    "#### Join the four groups of metaindicators to create a single feature set"
   ]
  },
  {
   "cell_type": "code",
   "execution_count": 482,
   "metadata": {},
   "outputs": [],
   "source": [
    "base_feature_df = pd.concat([peoples_features_df, tech_features_df, trade_features_df, policy_features_df, population_df], axis=1).sort_index().fillna(0.00)"
   ]
  },
  {
   "cell_type": "code",
   "execution_count": 483,
   "metadata": {},
   "outputs": [],
   "source": [
    "feature_df = base_feature_df[np.in1d(base_feature_df.index.get_level_values(1), [country])]"
   ]
  },
  {
   "cell_type": "code",
   "execution_count": 484,
   "metadata": {},
   "outputs": [],
   "source": [
    "ratio_based_features = ['bank capital to assets ratio', 'bank nonperforming loans', 'cereal yield', 'energy imports',\n",
    "                        'food exports', 'high-tech exports', 'inflation', 'lending interest rate', 'life expectancy',\n",
    "                        'population density', 'real interest rate']"
   ]
  },
  {
   "cell_type": "code",
   "execution_count": 485,
   "metadata": {},
   "outputs": [],
   "source": [
    "ratio_df = features_df[ratio_based_features]\n",
    "ratio_df = ratio_df[np.in1d(ratio_df.index.get_level_values(1), [country])]\n",
    "ratio_df = ratio_df.reset_index(level=1, col_level=0, drop=True)\n",
    "ratio_df.columns = ratio_based_features\n",
    "ratio_df.replace(0.00, np.nan, inplace=True)\n",
    "ratio_feature_df = ratio_df.interpolate().fillna(0.00)"
   ]
  },
  {
   "cell_type": "code",
   "execution_count": 486,
   "metadata": {},
   "outputs": [],
   "source": [
    "gdp_based_features = ['gdp', 'broad money', 'exports of goods and services', 'gross domestic savings',\n",
    "                      'high-tech value added', 'household consumption expenditure', 'imports of goods and services',\n",
    "                      'listed companies', 'manufacturing value added', 'r and d spend',  'services trade', 'trade']"
   ]
  },
  {
   "cell_type": "code",
   "execution_count": 487,
   "metadata": {},
   "outputs": [],
   "source": [
    "country_gdp_df = features_df[gdp_based_features]\n",
    "country_gdp_df = country_gdp_df[np.in1d(country_gdp_df.index.get_level_values(1), [country])]\n",
    "country_gdp_df = country_gdp_df.reset_index(level=1, col_level=0, drop=True)\n",
    "country_gdp_df.columns = gdp_based_features\n",
    "country_gdp_df.replace(0.00, np.nan, inplace=True)\n",
    "gdp_feature_df = country_gdp_df.iloc[:,1:].div(country_gdp_df.gdp, axis=0).interpolate().fillna(0.00)"
   ]
  },
  {
   "cell_type": "code",
   "execution_count": 488,
   "metadata": {},
   "outputs": [],
   "source": [
    "tax_based_features = ['government debt', 'government debt service', 'government interest payments external debt',\n",
    "                      'government tax revenue']"
   ]
  },
  {
   "cell_type": "code",
   "execution_count": 489,
   "metadata": {},
   "outputs": [],
   "source": [
    "tax_df = features_df[tax_based_features]\n",
    "tax_df = tax_df[np.in1d(tax_df.index.get_level_values(1), [country])]\n",
    "tax_df = tax_df.reset_index(level=1, col_level=0, drop=True)\n",
    "tax_df.columns = tax_based_features\n",
    "tax_df.replace(0.00, np.nan, inplace=True)\n",
    "tax_feature_df = tax_df.iloc[:,1:].div(tax_df['government tax revenue'], axis=0).interpolate().fillna(0.00)"
   ]
  },
  {
   "cell_type": "code",
   "execution_count": 490,
   "metadata": {},
   "outputs": [],
   "source": [
    "population_based_features = ['population', 'birth deaths', 'broadband subscriptions', 'electricity access',\n",
    "                             'co2 emissions', 'electricity consumption', 'mobile subscriptions', 'newborns',\n",
    "                             'overweight', 'rural population', 'unemployed', 'urban population']"
   ]
  },
  {
   "cell_type": "code",
   "execution_count": 491,
   "metadata": {},
   "outputs": [],
   "source": [
    "country_pop_df = features_df[population_based_features]\n",
    "country_pop_df = country_pop_df[np.in1d(country_pop_df.index.get_level_values(1), [country])]\n",
    "country_pop_df = country_pop_df.reset_index(level=1, col_level=0, drop=True)\n",
    "country_pop_df.columns = population_based_features\n",
    "country_pop_df.replace(0.00, np.nan, inplace=True)\n",
    "pop_feature_df = country_pop_df.iloc[:,1:].div(country_pop_df.population, axis=0).interpolate().fillna(0.00)"
   ]
  },
  {
   "cell_type": "code",
   "execution_count": 492,
   "metadata": {},
   "outputs": [],
   "source": [
    "country_feature_df = pd.concat([ratio_feature_df, gdp_feature_df, tax_feature_df, pop_feature_df], axis=1).sort_index().fillna(0.00)"
   ]
  },
  {
   "cell_type": "code",
   "execution_count": 493,
   "metadata": {},
   "outputs": [
    {
     "data": {
      "text/plain": [
       "Index(['bank capital to assets ratio', 'bank nonperforming loans',\n",
       "       'cereal yield', 'energy imports', 'food exports', 'high-tech exports',\n",
       "       'inflation', 'lending interest rate', 'life expectancy',\n",
       "       'population density', 'real interest rate', 'broad money',\n",
       "       'exports of goods and services', 'gross domestic savings',\n",
       "       'high-tech value added', 'household consumption expenditure',\n",
       "       'imports of goods and services', 'listed companies',\n",
       "       'manufacturing value added', 'r and d spend', 'services trade', 'trade',\n",
       "       'government debt service', 'government interest payments external debt',\n",
       "       'government tax revenue', 'birth deaths', 'broadband subscriptions',\n",
       "       'electricity access', 'co2 emissions', 'electricity consumption',\n",
       "       'mobile subscriptions', 'newborns', 'overweight', 'rural population',\n",
       "       'unemployed', 'urban population'],\n",
       "      dtype='object')"
      ]
     },
     "execution_count": 493,
     "metadata": {},
     "output_type": "execute_result"
    }
   ],
   "source": [
    "country_feature_df.columns"
   ]
  },
  {
   "cell_type": "markdown",
   "metadata": {},
   "source": [
    "#### Export the variables"
   ]
  },
  {
   "cell_type": "code",
   "execution_count": 494,
   "metadata": {},
   "outputs": [],
   "source": [
    "country_feature_df.to_csv('features/m_one/%s_features.csv' % country, sep=';')"
   ]
  },
  {
   "cell_type": "code",
   "execution_count": null,
   "metadata": {},
   "outputs": [],
   "source": []
  }
 ],
 "metadata": {
  "kernelspec": {
   "display_name": "me",
   "language": "python",
   "name": "me"
  },
  "language_info": {
   "codemirror_mode": {
    "name": "ipython",
    "version": 3
   },
   "file_extension": ".py",
   "mimetype": "text/x-python",
   "name": "python",
   "nbconvert_exporter": "python",
   "pygments_lexer": "ipython3",
   "version": "3.6.5"
  }
 },
 "nbformat": 4,
 "nbformat_minor": 2
}
