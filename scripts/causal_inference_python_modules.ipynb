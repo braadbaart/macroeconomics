{
 "cells": [
  {
   "cell_type": "markdown",
   "metadata": {},
   "source": [
    "### Causal inference for time series models\n",
    "---------------------------------------------\n",
    "\n",
    "Comparative analysis of brent, causal impact and causality Python modules.\n",
    "\n",
    "##### Granger causality:\n",
    "\n",
    "\"If $\\sigma^2(X|U) < \\sigma^2(X|\\overline{U - Y})$, we say that $Y$ is causing $X$, denoted by $Y_t => X_t$. We say that $Y_t$ is causing $X_t$ if we are better able to predict $X_t$ using all available information than if the information apart from $Y_t$ had been used.\" (Econometrica, Vol. 37, No. 3. (Aug., 1969), p. 428)"
   ]
  },
  {
   "cell_type": "markdown",
   "metadata": {},
   "source": [
    "### Load and prepare the data"
   ]
  },
  {
   "cell_type": "code",
   "execution_count": 1,
   "metadata": {},
   "outputs": [],
   "source": [
    "import warnings\n",
    "import numpy as np\n",
    "import pandas as pd\n",
    "import seaborn as sns\n",
    "import tensorflow as tf\n",
    "import tensorflow_probability as tfp\n",
    "import matplotlib.pyplot as plt\n",
    "\n",
    "%matplotlib inline"
   ]
  },
  {
   "cell_type": "code",
   "execution_count": 2,
   "metadata": {},
   "outputs": [],
   "source": [
    "warnings.filterwarnings('ignore')\n",
    "pd.options.display.float_format = '{:20,.4f}'.format"
   ]
  },
  {
   "cell_type": "code",
   "execution_count": 3,
   "metadata": {},
   "outputs": [],
   "source": [
    "sns.set_style(\"whitegrid\")\n",
    "sns.set_palette(\"colorblind\")"
   ]
  },
  {
   "cell_type": "code",
   "execution_count": 4,
   "metadata": {},
   "outputs": [],
   "source": [
    "country = 'United States'"
   ]
  },
  {
   "cell_type": "code",
   "execution_count": 5,
   "metadata": {},
   "outputs": [],
   "source": [
    "country_labels = ['Brazil', 'China', 'Colombia', 'France', 'Ghana', 'India', 'Indonesia', 'Japan', 'Netherlands',\n",
    "                  'Senegal', 'Singapore', 'Switzerland', 'United States']"
   ]
  },
  {
   "cell_type": "code",
   "execution_count": 6,
   "metadata": {},
   "outputs": [],
   "source": [
    "assert country in country_labels"
   ]
  },
  {
   "cell_type": "markdown",
   "metadata": {},
   "source": [
    "#### Load and combine the features and labels"
   ]
  },
  {
   "cell_type": "code",
   "execution_count": 7,
   "metadata": {},
   "outputs": [],
   "source": [
    "features_df = pd.read_csv('features/m_one/world_aggregate.csv', sep=';', header=0)\n",
    "labels_df = pd.read_csv('features/m_one/labels_interpolated.csv', sep=';', header=0)"
   ]
  },
  {
   "cell_type": "code",
   "execution_count": 8,
   "metadata": {},
   "outputs": [],
   "source": [
    "combined_df = pd.concat([features_df, labels_df.drop(columns=['date'])], axis=1)"
   ]
  },
  {
   "cell_type": "code",
   "execution_count": 9,
   "metadata": {},
   "outputs": [
    {
     "data": {
      "text/html": [
       "<div>\n",
       "<style scoped>\n",
       "    .dataframe tbody tr th:only-of-type {\n",
       "        vertical-align: middle;\n",
       "    }\n",
       "\n",
       "    .dataframe tbody tr th {\n",
       "        vertical-align: top;\n",
       "    }\n",
       "\n",
       "    .dataframe thead th {\n",
       "        text-align: right;\n",
       "    }\n",
       "</style>\n",
       "<table border=\"1\" class=\"dataframe\">\n",
       "  <thead>\n",
       "    <tr style=\"text-align: right;\">\n",
       "      <th></th>\n",
       "      <th>date</th>\n",
       "      <th>bank capital to assets ratio</th>\n",
       "      <th>bank nonperforming loans</th>\n",
       "      <th>cereal yield</th>\n",
       "      <th>energy imports</th>\n",
       "      <th>food exports</th>\n",
       "      <th>high-tech exports</th>\n",
       "      <th>inflation</th>\n",
       "      <th>lending interest rate</th>\n",
       "      <th>life expectancy</th>\n",
       "      <th>...</th>\n",
       "      <th>France</th>\n",
       "      <th>Ghana</th>\n",
       "      <th>India</th>\n",
       "      <th>Indonesia</th>\n",
       "      <th>Japan</th>\n",
       "      <th>Netherlands</th>\n",
       "      <th>Senegal</th>\n",
       "      <th>Singapore</th>\n",
       "      <th>Switzerland</th>\n",
       "      <th>United States</th>\n",
       "    </tr>\n",
       "  </thead>\n",
       "  <tbody>\n",
       "    <tr>\n",
       "      <th>0</th>\n",
       "      <td>1960-01-01</td>\n",
       "      <td>0.0000</td>\n",
       "      <td>0.0000</td>\n",
       "      <td>0.0000</td>\n",
       "      <td>0.0517</td>\n",
       "      <td>0.0000</td>\n",
       "      <td>0.0000</td>\n",
       "      <td>0.0000</td>\n",
       "      <td>0.0019</td>\n",
       "      <td>45.2673</td>\n",
       "      <td>...</td>\n",
       "      <td>0.0414</td>\n",
       "      <td>0.0000</td>\n",
       "      <td>0.0178</td>\n",
       "      <td>0.3959</td>\n",
       "      <td>0.0357</td>\n",
       "      <td>0.0232</td>\n",
       "      <td>0.0000</td>\n",
       "      <td>0.0000</td>\n",
       "      <td>0.0144</td>\n",
       "      <td>0.0146</td>\n",
       "    </tr>\n",
       "    <tr>\n",
       "      <th>1</th>\n",
       "      <td>1960-02-01</td>\n",
       "      <td>0.0000</td>\n",
       "      <td>0.0000</td>\n",
       "      <td>0.0000</td>\n",
       "      <td>0.0517</td>\n",
       "      <td>0.0000</td>\n",
       "      <td>0.0000</td>\n",
       "      <td>0.0000</td>\n",
       "      <td>0.0019</td>\n",
       "      <td>45.3268</td>\n",
       "      <td>...</td>\n",
       "      <td>0.0399</td>\n",
       "      <td>0.0000</td>\n",
       "      <td>0.0178</td>\n",
       "      <td>0.3743</td>\n",
       "      <td>0.0372</td>\n",
       "      <td>0.0224</td>\n",
       "      <td>0.0000</td>\n",
       "      <td>0.0003</td>\n",
       "      <td>0.0147</td>\n",
       "      <td>0.0143</td>\n",
       "    </tr>\n",
       "    <tr>\n",
       "      <th>2</th>\n",
       "      <td>1960-03-01</td>\n",
       "      <td>0.0000</td>\n",
       "      <td>0.0000</td>\n",
       "      <td>0.0000</td>\n",
       "      <td>0.0518</td>\n",
       "      <td>0.0000</td>\n",
       "      <td>0.0000</td>\n",
       "      <td>0.0000</td>\n",
       "      <td>0.0019</td>\n",
       "      <td>45.3863</td>\n",
       "      <td>...</td>\n",
       "      <td>0.0385</td>\n",
       "      <td>0.0000</td>\n",
       "      <td>0.0178</td>\n",
       "      <td>0.3527</td>\n",
       "      <td>0.0387</td>\n",
       "      <td>0.0215</td>\n",
       "      <td>0.0000</td>\n",
       "      <td>0.0007</td>\n",
       "      <td>0.0151</td>\n",
       "      <td>0.0139</td>\n",
       "    </tr>\n",
       "    <tr>\n",
       "      <th>3</th>\n",
       "      <td>1960-04-01</td>\n",
       "      <td>0.0000</td>\n",
       "      <td>0.0000</td>\n",
       "      <td>0.0000</td>\n",
       "      <td>0.0519</td>\n",
       "      <td>0.0000</td>\n",
       "      <td>0.0000</td>\n",
       "      <td>0.0000</td>\n",
       "      <td>0.0019</td>\n",
       "      <td>45.4458</td>\n",
       "      <td>...</td>\n",
       "      <td>0.0371</td>\n",
       "      <td>0.0000</td>\n",
       "      <td>0.0178</td>\n",
       "      <td>0.3312</td>\n",
       "      <td>0.0402</td>\n",
       "      <td>0.0207</td>\n",
       "      <td>0.0000</td>\n",
       "      <td>0.0010</td>\n",
       "      <td>0.0154</td>\n",
       "      <td>0.0136</td>\n",
       "    </tr>\n",
       "    <tr>\n",
       "      <th>4</th>\n",
       "      <td>1960-05-01</td>\n",
       "      <td>0.0000</td>\n",
       "      <td>0.0000</td>\n",
       "      <td>0.0000</td>\n",
       "      <td>0.0520</td>\n",
       "      <td>0.0000</td>\n",
       "      <td>0.0000</td>\n",
       "      <td>0.0000</td>\n",
       "      <td>0.0019</td>\n",
       "      <td>45.5052</td>\n",
       "      <td>...</td>\n",
       "      <td>0.0356</td>\n",
       "      <td>0.0000</td>\n",
       "      <td>0.0177</td>\n",
       "      <td>0.3096</td>\n",
       "      <td>0.0417</td>\n",
       "      <td>0.0199</td>\n",
       "      <td>0.0000</td>\n",
       "      <td>0.0013</td>\n",
       "      <td>0.0157</td>\n",
       "      <td>0.0133</td>\n",
       "    </tr>\n",
       "  </tbody>\n",
       "</table>\n",
       "<p>5 rows × 51 columns</p>\n",
       "</div>"
      ],
      "text/plain": [
       "         date  bank capital to assets ratio  bank nonperforming loans  \\\n",
       "0  1960-01-01                        0.0000                    0.0000   \n",
       "1  1960-02-01                        0.0000                    0.0000   \n",
       "2  1960-03-01                        0.0000                    0.0000   \n",
       "3  1960-04-01                        0.0000                    0.0000   \n",
       "4  1960-05-01                        0.0000                    0.0000   \n",
       "\n",
       "          cereal yield       energy imports         food exports  \\\n",
       "0               0.0000               0.0517               0.0000   \n",
       "1               0.0000               0.0517               0.0000   \n",
       "2               0.0000               0.0518               0.0000   \n",
       "3               0.0000               0.0519               0.0000   \n",
       "4               0.0000               0.0520               0.0000   \n",
       "\n",
       "     high-tech exports            inflation  lending interest rate  \\\n",
       "0               0.0000               0.0000                 0.0019   \n",
       "1               0.0000               0.0000                 0.0019   \n",
       "2               0.0000               0.0000                 0.0019   \n",
       "3               0.0000               0.0000                 0.0019   \n",
       "4               0.0000               0.0000                 0.0019   \n",
       "\n",
       "       life expectancy         ...                        France  \\\n",
       "0              45.2673         ...                        0.0414   \n",
       "1              45.3268         ...                        0.0399   \n",
       "2              45.3863         ...                        0.0385   \n",
       "3              45.4458         ...                        0.0371   \n",
       "4              45.5052         ...                        0.0356   \n",
       "\n",
       "                 Ghana                India            Indonesia  \\\n",
       "0               0.0000               0.0178               0.3959   \n",
       "1               0.0000               0.0178               0.3743   \n",
       "2               0.0000               0.0178               0.3527   \n",
       "3               0.0000               0.0178               0.3312   \n",
       "4               0.0000               0.0177               0.3096   \n",
       "\n",
       "                 Japan          Netherlands              Senegal  \\\n",
       "0               0.0357               0.0232               0.0000   \n",
       "1               0.0372               0.0224               0.0000   \n",
       "2               0.0387               0.0215               0.0000   \n",
       "3               0.0402               0.0207               0.0000   \n",
       "4               0.0417               0.0199               0.0000   \n",
       "\n",
       "             Singapore          Switzerland        United States  \n",
       "0               0.0000               0.0144               0.0146  \n",
       "1               0.0003               0.0147               0.0143  \n",
       "2               0.0007               0.0151               0.0139  \n",
       "3               0.0010               0.0154               0.0136  \n",
       "4               0.0013               0.0157               0.0133  \n",
       "\n",
       "[5 rows x 51 columns]"
      ]
     },
     "execution_count": 9,
     "metadata": {},
     "output_type": "execute_result"
    }
   ],
   "source": [
    "combined_df.head()"
   ]
  },
  {
   "cell_type": "code",
   "execution_count": 10,
   "metadata": {},
   "outputs": [
    {
     "data": {
      "text/plain": [
       "Index(['date', 'bank capital to assets ratio', 'bank nonperforming loans',\n",
       "       'cereal yield', 'energy imports', 'food exports', 'high-tech exports',\n",
       "       'inflation', 'lending interest rate', 'life expectancy',\n",
       "       'population density', 'real interest rate', 'broad money',\n",
       "       'exports of goods and services', 'gross domestic savings',\n",
       "       'high-tech value added', 'household consumption expenditure',\n",
       "       'imports of goods and services', 'listed companies',\n",
       "       'manufacturing value added', 'r and d spend', 'services trade', 'trade',\n",
       "       'government debt service', 'government interest payments external debt',\n",
       "       'government tax revenue', 'birth deaths', 'broadband subscriptions',\n",
       "       'electricity access', 'co2 emissions', 'electricity consumption',\n",
       "       'mobile subscriptions', 'newborns', 'overweight', 'rural population',\n",
       "       'unemployed', 'urban population', 'workers', 'Brazil', 'China',\n",
       "       'Colombia', 'France', 'Ghana', 'India', 'Indonesia', 'Japan',\n",
       "       'Netherlands', 'Senegal', 'Singapore', 'Switzerland', 'United States'],\n",
       "      dtype='object')"
      ]
     },
     "execution_count": 10,
     "metadata": {},
     "output_type": "execute_result"
    }
   ],
   "source": [
    "combined_df.columns"
   ]
  },
  {
   "cell_type": "markdown",
   "metadata": {},
   "source": [
    "#### Prepare the country features"
   ]
  },
  {
   "cell_type": "code",
   "execution_count": 11,
   "metadata": {},
   "outputs": [],
   "source": [
    "base_feature_df = combined_df[['date', 'bank capital to assets ratio', 'bank nonperforming loans', 'cereal yield',\n",
    "                               'energy imports', 'food exports', 'high-tech exports', 'inflation',\n",
    "                               'lending interest rate', 'life expectancy', 'population density', 'real interest rate',\n",
    "                               'broad money', 'exports of goods and services', 'gross domestic savings',\n",
    "                               'high-tech value added', 'household consumption expenditure',\n",
    "                               'imports of goods and services', 'listed companies', 'manufacturing value added',\n",
    "                               'r and d spend', 'services trade', 'trade', 'government debt service',\n",
    "                               'government interest payments external debt', 'government tax revenue', 'birth deaths',\n",
    "                               'broadband subscriptions', 'electricity access', 'co2 emissions',\n",
    "                               'electricity consumption', 'mobile subscriptions', 'newborns', 'overweight',\n",
    "                               'rural population', 'unemployed', 'urban population', 'workers', country]]"
   ]
  },
  {
   "cell_type": "code",
   "execution_count": 12,
   "metadata": {},
   "outputs": [],
   "source": [
    "base_feature_df.to_csv('features/ci/combined_%s.csv' % country.lower(), sep=',', index=False)"
   ]
  },
  {
   "cell_type": "code",
   "execution_count": 13,
   "metadata": {},
   "outputs": [],
   "source": [
    "base_feature_df['cpi'] = base_feature_df[country].shift(periods=1)\n",
    "base_df = base_feature_df.drop(country, axis=1).fillna(0.00);"
   ]
  },
  {
   "cell_type": "code",
   "execution_count": 14,
   "metadata": {},
   "outputs": [],
   "source": [
    "num_obs = len(base_df)\n",
    "num_cols = len(base_df.columns)\n",
    "num_features = len(base_df.columns) - 1"
   ]
  },
  {
   "cell_type": "code",
   "execution_count": 15,
   "metadata": {},
   "outputs": [
    {
     "data": {
      "text/plain": [
       "Index(['date', 'bank capital to assets ratio', 'bank nonperforming loans',\n",
       "       'cereal yield', 'energy imports', 'food exports', 'high-tech exports',\n",
       "       'inflation', 'lending interest rate', 'life expectancy',\n",
       "       'population density', 'real interest rate', 'broad money',\n",
       "       'exports of goods and services', 'gross domestic savings',\n",
       "       'high-tech value added', 'household consumption expenditure',\n",
       "       'imports of goods and services', 'listed companies',\n",
       "       'manufacturing value added', 'r and d spend', 'services trade', 'trade',\n",
       "       'government debt service', 'government interest payments external debt',\n",
       "       'government tax revenue', 'birth deaths', 'broadband subscriptions',\n",
       "       'electricity access', 'co2 emissions', 'electricity consumption',\n",
       "       'mobile subscriptions', 'newborns', 'overweight', 'rural population',\n",
       "       'unemployed', 'urban population', 'workers', 'cpi'],\n",
       "      dtype='object')"
      ]
     },
     "execution_count": 15,
     "metadata": {},
     "output_type": "execute_result"
    }
   ],
   "source": [
    "base_df.columns"
   ]
  },
  {
   "cell_type": "code",
   "execution_count": 16,
   "metadata": {},
   "outputs": [],
   "source": [
    "df = base_df[['date','bank nonperforming loans', 'energy imports', 'food exports',\n",
    "       'inflation', 'lending interest rate', 'real interest rate', 'broad money',\n",
    "       'exports of goods and services', 'gross domestic savings', 'household consumption expenditure',\n",
    "       'listed companies', 'services trade', 'trade', 'government interest payments external debt',\n",
    "       'government tax revenue', 'unemployed', 'workers', 'cpi']].set_index('date')"
   ]
  },
  {
   "cell_type": "markdown",
   "metadata": {},
   "source": [
    "### Causal impact\n",
    "-------------------\n",
    "\n",
    "[Causal impact](https://github.com/tcassou/causal_impact) provides causal inference using Bayesian structural time-series models, so no pre-processing was required."
   ]
  },
  {
   "cell_type": "code",
   "execution_count": 17,
   "metadata": {},
   "outputs": [],
   "source": [
    "ci_df = df.rename(columns={'cpi': 'y'})"
   ]
  },
  {
   "cell_type": "code",
   "execution_count": 18,
   "metadata": {},
   "outputs": [
    {
     "data": {
      "text/plain": [
       "Index(['1960-01-01', '1960-02-01', '1960-03-01', '1960-04-01', '1960-05-01',\n",
       "       '1960-06-01', '1960-07-01', '1960-08-01', '1960-09-01', '1960-10-01',\n",
       "       ...\n",
       "       '2017-03-01', '2017-04-01', '2017-05-01', '2017-06-01', '2017-07-01',\n",
       "       '2017-08-01', '2017-09-01', '2017-10-01', '2017-11-01', '2017-12-01'],\n",
       "      dtype='object', name='date', length=696)"
      ]
     },
     "execution_count": 18,
     "metadata": {},
     "output_type": "execute_result"
    }
   ],
   "source": [
    "ci_df.index"
   ]
  },
  {
   "cell_type": "code",
   "execution_count": 19,
   "metadata": {},
   "outputs": [
    {
     "name": "stdout",
     "output_type": "stream",
     "text": [
      "Plot impact of global financial crisis on consumer price indices in United States.\n"
     ]
    }
   ],
   "source": [
    "from causal_impact.causal_impact import CausalImpact\n",
    "\n",
    "ci = CausalImpact(ci_df, '2008-10-01')\n",
    "print('Plot impact of global financial crisis on consumer price indices in %s.' % country)"
   ]
  },
  {
   "cell_type": "code",
   "execution_count": 20,
   "metadata": {},
   "outputs": [
    {
     "data": {
      "image/png": "[encoded data removed]",
      "text/plain": [
       "<Figure size 1080x864 with 3 Axes>"
      ]
     },
     "metadata": {},
     "output_type": "display_data"
    }
   ],
   "source": [
    "ci.run()\n",
    "ci.plot()"
   ]
  },
  {
   "cell_type": "markdown",
   "metadata": {},
   "source": [
    "### Causality\n",
    "--------------\n",
    "\n",
    "[Causality](https://github.com/akelleh/causality) is a module for causal effect estimation."
   ]
  },
  {
   "cell_type": "code",
   "execution_count": 21,
   "metadata": {},
   "outputs": [
    {
     "data": {
      "text/plain": [
       "EdgeDataView([('bank nonperforming loans', 'workers', {'marked': False, 'arrows': ['workers']}), ('food exports', 'gross domestic savings', {'marked': False, 'arrows': ['gross domestic savings']}), ('inflation', 'lending interest rate', {'marked': False, 'arrows': ['inflation']}), ('inflation', 'unemployed', {'marked': False, 'arrows': ['inflation', 'unemployed', 'unemployed']}), ('lending interest rate', 'government interest payments external debt', {'marked': False, 'arrows': []}), ('real interest rate', 'listed companies', {'marked': False, 'arrows': []}), ('real interest rate', 'unemployed', {'marked': False, 'arrows': ['unemployed', 'unemployed']}), ('broad money', 'exports of goods and services', {'marked': False, 'arrows': ['exports of goods and services']}), ('broad money', 'trade', {'marked': False, 'arrows': ['trade']}), ('exports of goods and services', 'trade', {'marked': False, 'arrows': ['exports of goods and services', 'exports of goods and services', 'trade']}), ('exports of goods and services', 'unemployed', {'marked': False, 'arrows': ['exports of goods and services', 'exports of goods and services', 'exports of goods and services', 'unemployed', 'unemployed']}), ('exports of goods and services', 'workers', {'marked': False, 'arrows': ['exports of goods and services', 'exports of goods and services', 'workers']}), ('gross domestic savings', 'household consumption expenditure', {'marked': True, 'arrows': ['household consumption expenditure']}), ('gross domestic savings', 'government tax revenue', {'marked': False, 'arrows': ['gross domestic savings', 'gross domestic savings', 'government tax revenue']}), ('gross domestic savings', 'cpi', {'marked': False, 'arrows': ['gross domestic savings']}), ('household consumption expenditure', 'government tax revenue', {'marked': True, 'arrows': ['household consumption expenditure']}), ('listed companies', 'services trade', {'marked': False, 'arrows': ['services trade']}), ('services trade', 'government tax revenue', {'marked': False, 'arrows': ['services trade', 'government tax revenue']}), ('trade', 'cpi', {'marked': False, 'arrows': ['trade', 'trade']})])"
      ]
     },
     "execution_count": 21,
     "metadata": {},
     "output_type": "execute_result"
    }
   ],
   "source": [
    "from causality.inference.search import IC\n",
    "from causality.inference.independence_tests import RobustRegressionTest\n",
    "\n",
    "ic_algo = IC(RobustRegressionTest)\n",
    "variable_types = { c: 'c' for c in list(df.columns.values)}\n",
    "graph = ic_algo.search(df, variable_types)\n",
    "graph.edges(data=True)"
   ]
  },
  {
   "cell_type": "code",
   "execution_count": 22,
   "metadata": {},
   "outputs": [],
   "source": [
    "true_edges = list(filter(lambda x: len(x) > 3, [str(edge) if 'True' in str(edge) else '' for edge in graph.edges(data=True)]))"
   ]
  },
  {
   "cell_type": "code",
   "execution_count": 23,
   "metadata": {},
   "outputs": [
    {
     "data": {
      "text/plain": [
       "[\"('gross domestic savings', 'household consumption expenditure', {'marked': True, 'arrows': ['household consumption expenditure']})\",\n",
       " \"('household consumption expenditure', 'government tax revenue', {'marked': True, 'arrows': ['household consumption expenditure']})\"]"
      ]
     },
     "execution_count": 23,
     "metadata": {},
     "output_type": "execute_result"
    }
   ],
   "source": [
    "true_edges"
   ]
  },
  {
   "cell_type": "markdown",
   "metadata": {},
   "source": [
    "### Brent\n",
    "----------\n",
    "\n",
    "Since [brent](https://github.com/koaning/brent) requires discretized variables, I've computed deltas over the timeseries to be able to apply the module - with {0, 1} as the binary expressions of decrease / no change vs. increase in the value."
   ]
  },
  {
   "cell_type": "code",
   "execution_count": 24,
   "metadata": {},
   "outputs": [
    {
     "data": {
      "text/plain": [
       "Index(['bank nonperforming loans', 'energy imports', 'food exports',\n",
       "       'inflation', 'lending interest rate', 'real interest rate',\n",
       "       'broad money', 'exports of goods and services',\n",
       "       'gross domestic savings', 'household consumption expenditure',\n",
       "       'listed companies', 'services trade', 'trade',\n",
       "       'government interest payments external debt', 'government tax revenue',\n",
       "       'unemployed', 'workers', 'cpi'],\n",
       "      dtype='object')"
      ]
     },
     "execution_count": 24,
     "metadata": {},
     "output_type": "execute_result"
    }
   ],
   "source": [
    "df.columns"
   ]
  },
  {
   "cell_type": "code",
   "execution_count": 25,
   "metadata": {},
   "outputs": [],
   "source": [
    "diff_df = df.diff().iloc[1:]"
   ]
  },
  {
   "cell_type": "code",
   "execution_count": 26,
   "metadata": {},
   "outputs": [],
   "source": [
    "for column in diff_df.columns:\n",
    "    diff_df[column.replace(' ', '_')] = np.where(np.sign(diff_df[column]) == 1.0, 1.0, 0.0) "
   ]
  },
  {
   "cell_type": "code",
   "execution_count": 27,
   "metadata": {},
   "outputs": [],
   "source": [
    "brent_df = diff_df[list(map(lambda x: x.replace(' ', '_'), diff_df.columns))]"
   ]
  },
  {
   "cell_type": "code",
   "execution_count": 28,
   "metadata": {},
   "outputs": [
    {
     "data": {
      "text/html": [
       "<div>\n",
       "<style scoped>\n",
       "    .dataframe tbody tr th:only-of-type {\n",
       "        vertical-align: middle;\n",
       "    }\n",
       "\n",
       "    .dataframe tbody tr th {\n",
       "        vertical-align: top;\n",
       "    }\n",
       "\n",
       "    .dataframe thead th {\n",
       "        text-align: right;\n",
       "    }\n",
       "</style>\n",
       "<table border=\"1\" class=\"dataframe\">\n",
       "  <thead>\n",
       "    <tr style=\"text-align: right;\">\n",
       "      <th></th>\n",
       "      <th>bank_nonperforming_loans</th>\n",
       "      <th>energy_imports</th>\n",
       "      <th>food_exports</th>\n",
       "      <th>inflation</th>\n",
       "      <th>lending_interest_rate</th>\n",
       "      <th>real_interest_rate</th>\n",
       "      <th>broad_money</th>\n",
       "      <th>exports_of_goods_and_services</th>\n",
       "      <th>gross_domestic_savings</th>\n",
       "      <th>household_consumption_expenditure</th>\n",
       "      <th>...</th>\n",
       "      <th>lending_interest_rate</th>\n",
       "      <th>real_interest_rate</th>\n",
       "      <th>broad_money</th>\n",
       "      <th>exports_of_goods_and_services</th>\n",
       "      <th>gross_domestic_savings</th>\n",
       "      <th>household_consumption_expenditure</th>\n",
       "      <th>listed_companies</th>\n",
       "      <th>services_trade</th>\n",
       "      <th>government_interest_payments_external_debt</th>\n",
       "      <th>government_tax_revenue</th>\n",
       "    </tr>\n",
       "  </thead>\n",
       "  <tbody>\n",
       "    <tr>\n",
       "      <th>count</th>\n",
       "      <td>695.0000</td>\n",
       "      <td>695.0000</td>\n",
       "      <td>695.0000</td>\n",
       "      <td>695.0000</td>\n",
       "      <td>695.0000</td>\n",
       "      <td>695.0000</td>\n",
       "      <td>695.0000</td>\n",
       "      <td>695.0000</td>\n",
       "      <td>695.0000</td>\n",
       "      <td>695.0000</td>\n",
       "      <td>...</td>\n",
       "      <td>695.0000</td>\n",
       "      <td>695.0000</td>\n",
       "      <td>695.0000</td>\n",
       "      <td>695.0000</td>\n",
       "      <td>695.0000</td>\n",
       "      <td>695.0000</td>\n",
       "      <td>695.0000</td>\n",
       "      <td>695.0000</td>\n",
       "      <td>695.0000</td>\n",
       "      <td>695.0000</td>\n",
       "    </tr>\n",
       "    <tr>\n",
       "      <th>mean</th>\n",
       "      <td>0.1568</td>\n",
       "      <td>0.6734</td>\n",
       "      <td>0.4504</td>\n",
       "      <td>0.5885</td>\n",
       "      <td>0.5698</td>\n",
       "      <td>0.4849</td>\n",
       "      <td>0.7597</td>\n",
       "      <td>0.7942</td>\n",
       "      <td>0.5180</td>\n",
       "      <td>0.4317</td>\n",
       "      <td>...</td>\n",
       "      <td>0.5698</td>\n",
       "      <td>0.4849</td>\n",
       "      <td>0.7597</td>\n",
       "      <td>0.7942</td>\n",
       "      <td>0.5180</td>\n",
       "      <td>0.4317</td>\n",
       "      <td>0.5194</td>\n",
       "      <td>0.7597</td>\n",
       "      <td>0.3986</td>\n",
       "      <td>0.0014</td>\n",
       "    </tr>\n",
       "    <tr>\n",
       "      <th>std</th>\n",
       "      <td>0.3639</td>\n",
       "      <td>0.4693</td>\n",
       "      <td>0.4979</td>\n",
       "      <td>0.4925</td>\n",
       "      <td>0.4955</td>\n",
       "      <td>0.5001</td>\n",
       "      <td>0.4276</td>\n",
       "      <td>0.4045</td>\n",
       "      <td>0.5000</td>\n",
       "      <td>0.4957</td>\n",
       "      <td>...</td>\n",
       "      <td>0.4955</td>\n",
       "      <td>0.5001</td>\n",
       "      <td>0.4276</td>\n",
       "      <td>0.4045</td>\n",
       "      <td>0.5000</td>\n",
       "      <td>0.4957</td>\n",
       "      <td>0.5000</td>\n",
       "      <td>0.4276</td>\n",
       "      <td>0.4900</td>\n",
       "      <td>0.0379</td>\n",
       "    </tr>\n",
       "    <tr>\n",
       "      <th>min</th>\n",
       "      <td>0.0000</td>\n",
       "      <td>0.0000</td>\n",
       "      <td>0.0000</td>\n",
       "      <td>0.0000</td>\n",
       "      <td>0.0000</td>\n",
       "      <td>0.0000</td>\n",
       "      <td>0.0000</td>\n",
       "      <td>0.0000</td>\n",
       "      <td>0.0000</td>\n",
       "      <td>0.0000</td>\n",
       "      <td>...</td>\n",
       "      <td>0.0000</td>\n",
       "      <td>0.0000</td>\n",
       "      <td>0.0000</td>\n",
       "      <td>0.0000</td>\n",
       "      <td>0.0000</td>\n",
       "      <td>0.0000</td>\n",
       "      <td>0.0000</td>\n",
       "      <td>0.0000</td>\n",
       "      <td>0.0000</td>\n",
       "      <td>0.0000</td>\n",
       "    </tr>\n",
       "    <tr>\n",
       "      <th>25%</th>\n",
       "      <td>0.0000</td>\n",
       "      <td>0.0000</td>\n",
       "      <td>0.0000</td>\n",
       "      <td>0.0000</td>\n",
       "      <td>0.0000</td>\n",
       "      <td>0.0000</td>\n",
       "      <td>1.0000</td>\n",
       "      <td>1.0000</td>\n",
       "      <td>0.0000</td>\n",
       "      <td>0.0000</td>\n",
       "      <td>...</td>\n",
       "      <td>0.0000</td>\n",
       "      <td>0.0000</td>\n",
       "      <td>1.0000</td>\n",
       "      <td>1.0000</td>\n",
       "      <td>0.0000</td>\n",
       "      <td>0.0000</td>\n",
       "      <td>0.0000</td>\n",
       "      <td>1.0000</td>\n",
       "      <td>0.0000</td>\n",
       "      <td>0.0000</td>\n",
       "    </tr>\n",
       "    <tr>\n",
       "      <th>50%</th>\n",
       "      <td>0.0000</td>\n",
       "      <td>1.0000</td>\n",
       "      <td>0.0000</td>\n",
       "      <td>1.0000</td>\n",
       "      <td>1.0000</td>\n",
       "      <td>0.0000</td>\n",
       "      <td>1.0000</td>\n",
       "      <td>1.0000</td>\n",
       "      <td>1.0000</td>\n",
       "      <td>0.0000</td>\n",
       "      <td>...</td>\n",
       "      <td>1.0000</td>\n",
       "      <td>0.0000</td>\n",
       "      <td>1.0000</td>\n",
       "      <td>1.0000</td>\n",
       "      <td>1.0000</td>\n",
       "      <td>0.0000</td>\n",
       "      <td>1.0000</td>\n",
       "      <td>1.0000</td>\n",
       "      <td>0.0000</td>\n",
       "      <td>0.0000</td>\n",
       "    </tr>\n",
       "    <tr>\n",
       "      <th>75%</th>\n",
       "      <td>0.0000</td>\n",
       "      <td>1.0000</td>\n",
       "      <td>1.0000</td>\n",
       "      <td>1.0000</td>\n",
       "      <td>1.0000</td>\n",
       "      <td>1.0000</td>\n",
       "      <td>1.0000</td>\n",
       "      <td>1.0000</td>\n",
       "      <td>1.0000</td>\n",
       "      <td>1.0000</td>\n",
       "      <td>...</td>\n",
       "      <td>1.0000</td>\n",
       "      <td>1.0000</td>\n",
       "      <td>1.0000</td>\n",
       "      <td>1.0000</td>\n",
       "      <td>1.0000</td>\n",
       "      <td>1.0000</td>\n",
       "      <td>1.0000</td>\n",
       "      <td>1.0000</td>\n",
       "      <td>1.0000</td>\n",
       "      <td>0.0000</td>\n",
       "    </tr>\n",
       "    <tr>\n",
       "      <th>max</th>\n",
       "      <td>1.0000</td>\n",
       "      <td>1.0000</td>\n",
       "      <td>1.0000</td>\n",
       "      <td>1.0000</td>\n",
       "      <td>1.0000</td>\n",
       "      <td>1.0000</td>\n",
       "      <td>1.0000</td>\n",
       "      <td>1.0000</td>\n",
       "      <td>1.0000</td>\n",
       "      <td>1.0000</td>\n",
       "      <td>...</td>\n",
       "      <td>1.0000</td>\n",
       "      <td>1.0000</td>\n",
       "      <td>1.0000</td>\n",
       "      <td>1.0000</td>\n",
       "      <td>1.0000</td>\n",
       "      <td>1.0000</td>\n",
       "      <td>1.0000</td>\n",
       "      <td>1.0000</td>\n",
       "      <td>1.0000</td>\n",
       "      <td>1.0000</td>\n",
       "    </tr>\n",
       "  </tbody>\n",
       "</table>\n",
       "<p>8 rows × 31 columns</p>\n",
       "</div>"
      ],
      "text/plain": [
       "       bank_nonperforming_loans       energy_imports         food_exports  \\\n",
       "count                  695.0000             695.0000             695.0000   \n",
       "mean                     0.1568               0.6734               0.4504   \n",
       "std                      0.3639               0.4693               0.4979   \n",
       "min                      0.0000               0.0000               0.0000   \n",
       "25%                      0.0000               0.0000               0.0000   \n",
       "50%                      0.0000               1.0000               0.0000   \n",
       "75%                      0.0000               1.0000               1.0000   \n",
       "max                      1.0000               1.0000               1.0000   \n",
       "\n",
       "                 inflation  lending_interest_rate   real_interest_rate  \\\n",
       "count             695.0000               695.0000             695.0000   \n",
       "mean                0.5885                 0.5698               0.4849   \n",
       "std                 0.4925                 0.4955               0.5001   \n",
       "min                 0.0000                 0.0000               0.0000   \n",
       "25%                 0.0000                 0.0000               0.0000   \n",
       "50%                 1.0000                 1.0000               0.0000   \n",
       "75%                 1.0000                 1.0000               1.0000   \n",
       "max                 1.0000                 1.0000               1.0000   \n",
       "\n",
       "               broad_money  exports_of_goods_and_services  \\\n",
       "count             695.0000                       695.0000   \n",
       "mean                0.7597                         0.7942   \n",
       "std                 0.4276                         0.4045   \n",
       "min                 0.0000                         0.0000   \n",
       "25%                 1.0000                         1.0000   \n",
       "50%                 1.0000                         1.0000   \n",
       "75%                 1.0000                         1.0000   \n",
       "max                 1.0000                         1.0000   \n",
       "\n",
       "       gross_domestic_savings  household_consumption_expenditure  \\\n",
       "count                695.0000                           695.0000   \n",
       "mean                   0.5180                             0.4317   \n",
       "std                    0.5000                             0.4957   \n",
       "min                    0.0000                             0.0000   \n",
       "25%                    0.0000                             0.0000   \n",
       "50%                    1.0000                             0.0000   \n",
       "75%                    1.0000                             1.0000   \n",
       "max                    1.0000                             1.0000   \n",
       "\n",
       "                ...            lending_interest_rate   real_interest_rate  \\\n",
       "count           ...                         695.0000             695.0000   \n",
       "mean            ...                           0.5698               0.4849   \n",
       "std             ...                           0.4955               0.5001   \n",
       "min             ...                           0.0000               0.0000   \n",
       "25%             ...                           0.0000               0.0000   \n",
       "50%             ...                           1.0000               0.0000   \n",
       "75%             ...                           1.0000               1.0000   \n",
       "max             ...                           1.0000               1.0000   \n",
       "\n",
       "               broad_money  exports_of_goods_and_services  \\\n",
       "count             695.0000                       695.0000   \n",
       "mean                0.7597                         0.7942   \n",
       "std                 0.4276                         0.4045   \n",
       "min                 0.0000                         0.0000   \n",
       "25%                 1.0000                         1.0000   \n",
       "50%                 1.0000                         1.0000   \n",
       "75%                 1.0000                         1.0000   \n",
       "max                 1.0000                         1.0000   \n",
       "\n",
       "       gross_domestic_savings  household_consumption_expenditure  \\\n",
       "count                695.0000                           695.0000   \n",
       "mean                   0.5180                             0.4317   \n",
       "std                    0.5000                             0.4957   \n",
       "min                    0.0000                             0.0000   \n",
       "25%                    0.0000                             0.0000   \n",
       "50%                    1.0000                             0.0000   \n",
       "75%                    1.0000                             1.0000   \n",
       "max                    1.0000                             1.0000   \n",
       "\n",
       "          listed_companies       services_trade  \\\n",
       "count             695.0000             695.0000   \n",
       "mean                0.5194               0.7597   \n",
       "std                 0.5000               0.4276   \n",
       "min                 0.0000               0.0000   \n",
       "25%                 0.0000               1.0000   \n",
       "50%                 1.0000               1.0000   \n",
       "75%                 1.0000               1.0000   \n",
       "max                 1.0000               1.0000   \n",
       "\n",
       "       government_interest_payments_external_debt  government_tax_revenue  \n",
       "count                                    695.0000                695.0000  \n",
       "mean                                       0.3986                  0.0014  \n",
       "std                                        0.4900                  0.0379  \n",
       "min                                        0.0000                  0.0000  \n",
       "25%                                        0.0000                  0.0000  \n",
       "50%                                        0.0000                  0.0000  \n",
       "75%                                        1.0000                  0.0000  \n",
       "max                                        1.0000                  1.0000  \n",
       "\n",
       "[8 rows x 31 columns]"
      ]
     },
     "execution_count": 28,
     "metadata": {},
     "output_type": "execute_result"
    }
   ],
   "source": [
    "brent_df.describe()"
   ]
  },
  {
   "cell_type": "code",
   "execution_count": 29,
   "metadata": {},
   "outputs": [],
   "source": [
    "selected_columns = ['broad_money', 'exports_of_goods_and_services', 'gross_domestic_savings', 'household_consumption_expenditure', 'government_tax_revenue', 'inflation', 'unemployed']"
   ]
  },
  {
   "cell_type": "code",
   "execution_count": 30,
   "metadata": {},
   "outputs": [
    {
     "data": {
      "image/svg+xml": [
       "<?xml version=\"1.0\" encoding=\"UTF-8\" standalone=\"no\"?>\n",
       "<!DOCTYPE svg PUBLIC \"-//W3C//DTD SVG 1.1//EN\"\n",
       " \"http://www.w3.org/Graphics/SVG/1.1/DTD/svg11.dtd\">\n",
       "<!-- Generated by graphviz version 2.40.1 (20161225.0304)\n",
       " -->\n",
       "<!-- Title: %3 Pages: 1 -->\n",
       "<svg width=\"758pt\" height=\"684pt\"\n",
       " viewBox=\"0.00 0.00 757.59 684.40\" xmlns=\"http://www.w3.org/2000/svg\" xmlns:xlink=\"http://www.w3.org/1999/xlink\">\n",
       "<g id=\"graph0\" class=\"graph\" transform=\"scale(1 1) rotate(0) translate(4 680.3968)\">\n",
       "<title>%3</title>\n",
       "<polygon fill=\"#ffffff\" stroke=\"transparent\" points=\"-4,4 -4,-680.3968 753.5936,-680.3968 753.5936,4 -4,4\"/>\n",
       "<!-- broad_money -->\n",
       "<g id=\"node1\" class=\"node\">\n",
       "<title>broad_money</title>\n",
       "<ellipse fill=\"none\" stroke=\"#000000\" cx=\"96.0802\" cy=\"-123.5735\" rx=\"58.9668\" ry=\"58.9668\"/>\n",
       "<text text-anchor=\"middle\" x=\"96.0802\" y=\"-119.3735\" font-family=\"Times,serif\" font-size=\"14.00\" fill=\"#000000\">broad_money</text>\n",
       "</g>\n",
       "<!-- exports_of_goods_and_services -->\n",
       "<g id=\"node2\" class=\"node\">\n",
       "<title>exports_of_goods_and_services</title>\n",
       "<ellipse fill=\"none\" stroke=\"#000000\" cx=\"370.8976\" cy=\"-123.5735\" rx=\"123.647\" ry=\"123.647\"/>\n",
       "<text text-anchor=\"middle\" x=\"370.8976\" y=\"-119.3735\" font-family=\"Times,serif\" font-size=\"14.00\" fill=\"#000000\">exports_of_goods_and_services</text>\n",
       "</g>\n",
       "<!-- broad_money&#45;&gt;exports_of_goods_and_services -->\n",
       "<g id=\"edge1\" class=\"edge\">\n",
       "<title>broad_money&#45;&gt;exports_of_goods_and_services</title>\n",
       "<path fill=\"none\" stroke=\"#000000\" d=\"M155.0354,-123.5735C179.1603,-123.5735 208.1374,-123.5735 236.9141,-123.5735\"/>\n",
       "<polygon fill=\"#000000\" stroke=\"#000000\" points=\"237.0761,-127.0736 247.0761,-123.5735 237.0761,-120.0736 237.0761,-127.0736\"/>\n",
       "</g>\n",
       "<!-- gross_domestic_savings -->\n",
       "<g id=\"node3\" class=\"node\">\n",
       "<title>gross_domestic_savings</title>\n",
       "<ellipse fill=\"none\" stroke=\"#000000\" cx=\"96.0802\" cy=\"-407.5735\" rx=\"96.1604\" ry=\"96.1604\"/>\n",
       "<text text-anchor=\"middle\" x=\"96.0802\" y=\"-403.3735\" font-family=\"Times,serif\" font-size=\"14.00\" fill=\"#000000\">gross_domestic_savings</text>\n",
       "</g>\n",
       "<!-- household_consumption_expenditure -->\n",
       "<g id=\"node4\" class=\"node\">\n",
       "<title>household_consumption_expenditure</title>\n",
       "<ellipse fill=\"none\" stroke=\"#000000\" cx=\"370.8976\" cy=\"-407.5735\" rx=\"142.9748\" ry=\"142.9748\"/>\n",
       "<text text-anchor=\"middle\" x=\"370.8976\" y=\"-403.3735\" font-family=\"Times,serif\" font-size=\"14.00\" fill=\"#000000\">household_consumption_expenditure</text>\n",
       "</g>\n",
       "<!-- gross_domestic_savings&#45;&gt;household_consumption_expenditure -->\n",
       "<g id=\"edge2\" class=\"edge\">\n",
       "<title>gross_domestic_savings&#45;&gt;household_consumption_expenditure</title>\n",
       "<path fill=\"none\" stroke=\"#000000\" d=\"M192.198,-407.5735C200.5418,-407.5735 209.1095,-407.5735 217.7616,-407.5735\"/>\n",
       "<polygon fill=\"#000000\" stroke=\"#000000\" points=\"217.9487,-411.0736 227.9486,-407.5735 217.9486,-404.0736 217.9487,-411.0736\"/>\n",
       "</g>\n",
       "<!-- government_tax_revenue -->\n",
       "<g id=\"node5\" class=\"node\">\n",
       "<title>government_tax_revenue</title>\n",
       "<ellipse fill=\"none\" stroke=\"#000000\" cx=\"649.6142\" cy=\"-407.5735\" rx=\"99.9588\" ry=\"99.9588\"/>\n",
       "<text text-anchor=\"middle\" x=\"649.6142\" y=\"-403.3735\" font-family=\"Times,serif\" font-size=\"14.00\" fill=\"#000000\">government_tax_revenue</text>\n",
       "</g>\n",
       "<!-- household_consumption_expenditure&#45;&gt;government_tax_revenue -->\n",
       "<g id=\"edge3\" class=\"edge\">\n",
       "<title>household_consumption_expenditure&#45;&gt;government_tax_revenue</title>\n",
       "<path fill=\"none\" stroke=\"#000000\" d=\"M513.93,-407.5735C522.482,-407.5735 531.0156,-407.5735 539.4018,-407.5735\"/>\n",
       "<polygon fill=\"#000000\" stroke=\"#000000\" points=\"539.5494,-411.0736 549.5494,-407.5735 539.5493,-404.0736 539.5494,-411.0736\"/>\n",
       "</g>\n",
       "<!-- inflation -->\n",
       "<g id=\"node6\" class=\"node\">\n",
       "<title>inflation</title>\n",
       "<ellipse fill=\"none\" stroke=\"#000000\" cx=\"96.0802\" cy=\"-622.5735\" rx=\"39.6731\" ry=\"39.6731\"/>\n",
       "<text text-anchor=\"middle\" x=\"96.0802\" y=\"-618.3735\" font-family=\"Times,serif\" font-size=\"14.00\" fill=\"#000000\">inflation</text>\n",
       "</g>\n",
       "<!-- unemployed -->\n",
       "<g id=\"node7\" class=\"node\">\n",
       "<title>unemployed</title>\n",
       "<ellipse fill=\"none\" stroke=\"#000000\" cx=\"370.8976\" cy=\"-622.5735\" rx=\"53.6471\" ry=\"53.6471\"/>\n",
       "<text text-anchor=\"middle\" x=\"370.8976\" y=\"-618.3735\" font-family=\"Times,serif\" font-size=\"14.00\" fill=\"#000000\">unemployed</text>\n",
       "</g>\n",
       "<!-- inflation&#45;&gt;unemployed -->\n",
       "<g id=\"edge4\" class=\"edge\">\n",
       "<title>inflation&#45;&gt;unemployed</title>\n",
       "<path fill=\"none\" stroke=\"#000000\" d=\"M135.7475,-622.5735C180.4798,-622.5735 253.8654,-622.5735 306.7675,-622.5735\"/>\n",
       "<polygon fill=\"#000000\" stroke=\"#000000\" points=\"307.0602,-626.0736 317.0602,-622.5735 307.0602,-619.0736 307.0602,-626.0736\"/>\n",
       "</g>\n",
       "</g>\n",
       "</svg>\n"
      ],
      "text/plain": [
       "<graphviz.dot.Digraph at 0x1300b93c8>"
      ]
     },
     "execution_count": 30,
     "metadata": {},
     "output_type": "execute_result"
    }
   ],
   "source": [
    "from brent import DAG, Query\n",
    "\n",
    "dag = (DAG(dataframe=brent_df[selected_columns])\\\n",
    "       .add_edge('inflation', 'unemployed')\\\n",
    "       .add_edge('broad_money', 'exports_of_goods_and_services')\\\n",
    "       .add_edge('gross_domestic_savings', 'household_consumption_expenditure')\\\n",
    "       .add_edge('household_consumption_expenditure', 'government_tax_revenue'))\n",
    "dag.plot()"
   ]
  },
  {
   "cell_type": "code",
   "execution_count": 31,
   "metadata": {},
   "outputs": [
    {
     "data": {
      "image/svg+xml": [
       "<?xml version=\"1.0\" encoding=\"UTF-8\" standalone=\"no\"?>\n",
       "<!DOCTYPE svg PUBLIC \"-//W3C//DTD SVG 1.1//EN\"\n",
       " \"http://www.w3.org/Graphics/SVG/1.1/DTD/svg11.dtd\">\n",
       "<!-- Generated by graphviz version 2.40.1 (20161225.0304)\n",
       " -->\n",
       "<!-- Title: %3 Pages: 1 -->\n",
       "<svg width=\"766pt\" height=\"739pt\"\n",
       " viewBox=\"0.00 0.00 765.59 739.40\" xmlns=\"http://www.w3.org/2000/svg\" xmlns:xlink=\"http://www.w3.org/1999/xlink\">\n",
       "<g id=\"graph0\" class=\"graph\" transform=\"scale(1 1) rotate(0) translate(4 735.3968)\">\n",
       "<title>%3</title>\n",
       "<polygon fill=\"#ffffff\" stroke=\"transparent\" points=\"-4,4 -4,-735.3968 761.5936,-735.3968 761.5936,4 -4,4\"/>\n",
       "<!-- broad_money -->\n",
       "<g id=\"node1\" class=\"node\">\n",
       "<title>broad_money</title>\n",
       "<ellipse fill=\"none\" stroke=\"#000000\" cx=\"96.0802\" cy=\"-123.5735\" rx=\"58.9518\" ry=\"58.9518\"/>\n",
       "<ellipse fill=\"none\" stroke=\"#000000\" cx=\"96.0802\" cy=\"-123.5735\" rx=\"62.9667\" ry=\"62.9667\"/>\n",
       "<text text-anchor=\"middle\" x=\"96.0802\" y=\"-119.3735\" font-family=\"Times,serif\" font-size=\"14.00\" fill=\"#000000\">broad_money</text>\n",
       "</g>\n",
       "<!-- exports_of_goods_and_services -->\n",
       "<g id=\"node2\" class=\"node\">\n",
       "<title>exports_of_goods_and_services</title>\n",
       "<ellipse fill=\"none\" stroke=\"#000000\" cx=\"370.8976\" cy=\"-123.5735\" rx=\"123.647\" ry=\"123.647\"/>\n",
       "<text text-anchor=\"middle\" x=\"370.8976\" y=\"-119.3735\" font-family=\"Times,serif\" font-size=\"14.00\" fill=\"#000000\">exports_of_goods_and_services</text>\n",
       "</g>\n",
       "<!-- broad_money&#45;&gt;exports_of_goods_and_services -->\n",
       "<g id=\"edge2\" class=\"edge\">\n",
       "<title>broad_money&#45;&gt;exports_of_goods_and_services</title>\n",
       "<path fill=\"none\" stroke=\"#000000\" d=\"M159.1288,-123.5735C182.4867,-123.5735 209.947,-123.5735 237.2116,-123.5735\"/>\n",
       "<polygon fill=\"#000000\" stroke=\"#000000\" points=\"237.2397,-127.0736 247.2397,-123.5735 237.2397,-120.0736 237.2397,-127.0736\"/>\n",
       "</g>\n",
       "<!-- gross_domestic_savings -->\n",
       "<g id=\"node3\" class=\"node\">\n",
       "<title>gross_domestic_savings</title>\n",
       "<ellipse fill=\"none\" stroke=\"#000000\" cx=\"96.0802\" cy=\"-462.5735\" rx=\"96.1604\" ry=\"96.1604\"/>\n",
       "<text text-anchor=\"middle\" x=\"96.0802\" y=\"-458.3735\" font-family=\"Times,serif\" font-size=\"14.00\" fill=\"#000000\">gross_domestic_savings</text>\n",
       "</g>\n",
       "<!-- household_consumption_expenditure -->\n",
       "<g id=\"node4\" class=\"node\">\n",
       "<title>household_consumption_expenditure</title>\n",
       "<ellipse fill=\"none\" stroke=\"#000000\" cx=\"370.8976\" cy=\"-462.5735\" rx=\"142.9748\" ry=\"142.9748\"/>\n",
       "<text text-anchor=\"middle\" x=\"370.8976\" y=\"-458.3735\" font-family=\"Times,serif\" font-size=\"14.00\" fill=\"#000000\">household_consumption_expenditure</text>\n",
       "</g>\n",
       "<!-- gross_domestic_savings&#45;&gt;household_consumption_expenditure -->\n",
       "<g id=\"edge3\" class=\"edge\">\n",
       "<title>gross_domestic_savings&#45;&gt;household_consumption_expenditure</title>\n",
       "<path fill=\"none\" stroke=\"#000000\" d=\"M192.198,-462.5735C200.5418,-462.5735 209.1095,-462.5735 217.7616,-462.5735\"/>\n",
       "<polygon fill=\"#000000\" stroke=\"#000000\" points=\"217.9487,-466.0736 227.9486,-462.5735 217.9486,-459.0736 217.9487,-466.0736\"/>\n",
       "</g>\n",
       "<!-- government_tax_revenue -->\n",
       "<g id=\"node5\" class=\"node\">\n",
       "<title>government_tax_revenue</title>\n",
       "<ellipse fill=\"none\" stroke=\"#000000\" cx=\"653.6142\" cy=\"-372.5735\" rx=\"99.9596\" ry=\"99.9596\"/>\n",
       "<ellipse fill=\"none\" stroke=\"#000000\" cx=\"653.6142\" cy=\"-372.5735\" rx=\"103.9588\" ry=\"103.9588\"/>\n",
       "<text text-anchor=\"middle\" x=\"653.6142\" y=\"-368.3735\" font-family=\"Times,serif\" font-size=\"14.00\" fill=\"#000000\">government_tax_revenue</text>\n",
       "</g>\n",
       "<!-- household_consumption_expenditure&#45;&gt;government_tax_revenue -->\n",
       "<g id=\"edge4\" class=\"edge\">\n",
       "<title>household_consumption_expenditure&#45;&gt;government_tax_revenue</title>\n",
       "<path fill=\"none\" stroke=\"#d3d3d3\" stroke-dasharray=\"5,2\" d=\"M507.2872,-419.1552C519.766,-415.1827 532.2965,-411.1938 544.4891,-407.3124\"/>\n",
       "<polygon fill=\"#d3d3d3\" stroke=\"#d3d3d3\" points=\"545.7203,-410.5936 554.1874,-404.225 543.5968,-403.9234 545.7203,-410.5936\"/>\n",
       "</g>\n",
       "<!--  &#160;&#160;&#160; -->\n",
       "<g id=\"node6\" class=\"node\">\n",
       "<title> &#160;&#160;&#160;</title>\n",
       "<text text-anchor=\"middle\" x=\"370.8976\" y=\"-279.3735\" font-family=\"Times,serif\" font-size=\"14.00\" fill=\"#000000\"> &#160;&#160;&#160;</text>\n",
       "</g>\n",
       "<!--  &#160;&#160;&#160;&#45;&gt;government_tax_revenue -->\n",
       "<g id=\"edge1\" class=\"edge\">\n",
       "<title> &#160;&#160;&#160;&#45;&gt;government_tax_revenue</title>\n",
       "<path fill=\"none\" stroke=\"#000000\" d=\"M397.917,-286.7983C426.9614,-290.6985 474.2653,-298.3109 513.6348,-310.5735 525.768,-314.3527 538.2518,-318.8829 550.532,-323.7518\"/>\n",
       "<polygon fill=\"#000000\" stroke=\"#000000\" points=\"549.2912,-327.0254 559.8738,-327.5343 551.9183,-320.5371 549.2912,-327.0254\"/>\n",
       "</g>\n",
       "<!-- inflation -->\n",
       "<g id=\"node7\" class=\"node\">\n",
       "<title>inflation</title>\n",
       "<ellipse fill=\"none\" stroke=\"#000000\" cx=\"96.0802\" cy=\"-677.5735\" rx=\"39.6731\" ry=\"39.6731\"/>\n",
       "<text text-anchor=\"middle\" x=\"96.0802\" y=\"-673.3735\" font-family=\"Times,serif\" font-size=\"14.00\" fill=\"#000000\">inflation</text>\n",
       "</g>\n",
       "<!-- unemployed -->\n",
       "<g id=\"node8\" class=\"node\">\n",
       "<title>unemployed</title>\n",
       "<ellipse fill=\"none\" stroke=\"#000000\" cx=\"370.8976\" cy=\"-677.5735\" rx=\"53.6471\" ry=\"53.6471\"/>\n",
       "<text text-anchor=\"middle\" x=\"370.8976\" y=\"-673.3735\" font-family=\"Times,serif\" font-size=\"14.00\" fill=\"#000000\">unemployed</text>\n",
       "</g>\n",
       "<!-- inflation&#45;&gt;unemployed -->\n",
       "<g id=\"edge5\" class=\"edge\">\n",
       "<title>inflation&#45;&gt;unemployed</title>\n",
       "<path fill=\"none\" stroke=\"#000000\" d=\"M135.7475,-677.5735C180.4798,-677.5735 253.8654,-677.5735 306.7675,-677.5735\"/>\n",
       "<polygon fill=\"#000000\" stroke=\"#000000\" points=\"307.0602,-681.0736 317.0602,-677.5735 307.0602,-674.0736 307.0602,-681.0736\"/>\n",
       "</g>\n",
       "</g>\n",
       "</svg>\n"
      ],
      "text/plain": [
       "<graphviz.dot.Digraph at 0x12b725b38>"
      ]
     },
     "execution_count": 31,
     "metadata": {},
     "output_type": "execute_result"
    }
   ],
   "source": [
    "q = Query(dag).given(broad_money=1.0).do(government_tax_revenue=0.0)\n",
    "q.plot()"
   ]
  },
  {
   "cell_type": "code",
   "execution_count": null,
   "metadata": {},
   "outputs": [],
   "source": []
  }
 ],
 "metadata": {
  "kernelspec": {
   "display_name": "me",
   "language": "python",
   "name": "me"
  },
  "language_info": {
   "codemirror_mode": {
    "name": "ipython",
    "version": 3
   },
   "file_extension": ".py",
   "mimetype": "text/x-python",
   "name": "python",
   "nbconvert_exporter": "python",
   "pygments_lexer": "ipython3",
   "version": "3.6.5"
  }
 },
 "nbformat": 4,
 "nbformat_minor": 2
}
