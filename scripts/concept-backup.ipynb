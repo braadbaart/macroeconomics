{
 "cells": [
  {
   "cell_type": "markdown",
   "metadata": {},
   "source": [
    "### *One world*\n",
    "\n",
    "By modeling the relationship between services, trade, and consumption patterns across countries over time that should provide me enough insights to further develop the questions below into actual hypotheses:\n",
    "\n",
    "* what are the limitations of using money as the principal measure of economic activity (some will be obvious of course, others - hopefully - not so much)?\n",
    "* how does the (mis-/non-)valuation of services and the informal economy determine into the economic worldview? and consequently, how to deal with missing data and accurate estimates and/ or valuations of intangible economic activity? and labour pricing in general?\n",
    "* what is the impact of the growing share of services (intangibles) in global economic activity on the world economy?\n",
    "* what part of the cycle of supply and demand is endogeneous, and what part is exogeneous? this question is closely related to the role of technological development, information diffusion, knowledge / knowhow transfer (education), and the exceedingly dominant role of services in the global economy.\n",
    "* could the working models of the **real** economy be improved in the light of the questions posed above?\n",
    "* could any of the resulting insights be used to improve the valuation of firms and (e)valuation and remuneration of firm employees?\n",
    "* how would the automation of service work through cognitive computing affect the macroeconomic outlook?\n",
    "* what is the consumer exposure to macroeconomic policy decisions?\n",
    "\n",
    "The goal being to build a functioning predictive model of global human economic activity.\n",
    "\n",
    "*Reminder: continuously perform sanity checks on the completeness and sufficieny of the developed models and systems.*"
   ]
  },
  {
   "cell_type": "markdown",
   "metadata": {},
   "source": [
    "### Research outline\n",
    "\n",
    "Current technological advances make possible both unprecented economies of scale and scope and the exact matching of supply and demand for labour and skills. These advances would in theory allow firms to significantly reduce overhead on non-productive employees, at the same time creating more meaningful work opportunities for workers. However, given difficulties involved in building up buffers for workers specializing in less in-demand activities, the gig economy currently disproportionally benefits highly skilled workers. Unfortunately, these workers only constitute a small percentage of the total workforce of a country. As a result, the same technologies that enable unprecented economies of scale and scope at the level of the individual worker therefore also work to aggravate existing economic inequalities across the workforce, perpetuating a cycle of privilege and access to education inherent in the socio-economic fabric of our early 21st-century world. Solutions such as universal basic income (UBI) fail to take into account the positive psychological, social, societal and health benifits of individuals participating in and contributing to a community. In the inverse sense, increasing the economic value of the population provides a buffer and leverage against any exclusivist tendencies or policies developed by the most powerful economic and political actors. Where in the last three hundred-fifty years (roughly 1650 CE to 1990 CE) the nation-state had a powerful military incentive to improve the education levels of the workforce and national economy, at the beginning of the 21st century these incentives appear of limited value given the global challenges mankind faces. In fact, the incentivization schemes being maintained at the national level are counterproductive or even damaging when it come to tackling issues such as climate change, epidemic diseases, resource scarcity, poverty reduction, economic development, and the protection of the earth ecosystem. What I argue in this paper is that break is needed from economic the paradigm put forward in it's most clear form in Adam Smith's *The Wealth of Nations* (1776 CE), and the construction of a new social contract, which I will refer to as *the advancement of mankind*.\n",
    "\n",
    "##### People\n",
    "-----------\n",
    "\n",
    "Of course merely changing conversation themes and discussion points in political discourse in itself won't change the world economic outlook. However, framing the political discourse and greater good along global lines rather than national borders and national identities should - over time - help force politicians and the general public away from the currents of misplaced bigotry, tribalism, and nepotism still all too common in today's world. Progress as a rallying cry has of course been used and abused throughout history, so a clear definition of what is meant by human development is merited. \n",
    "\n",
    "...\n",
    "\n",
    "\n",
    "##### Technology\n",
    "--------------\n",
    "\n",
    "(innovation, adaptation, education, transference)\n",
    "\n",
    "...\n",
    "\n",
    "\n",
    "##### Trade\n",
    "----------\n",
    "\n",
    "(including any means of exchange, viz markets, currencies, labour)\n",
    "\n",
    "...\n",
    "\n",
    "#### Policy\n",
    "----------\n",
    "\n",
    "(roughly speaking, institutions in the broadest sense)\n",
    "\n",
    ".."
   ]
  },
  {
   "cell_type": "code",
   "execution_count": 1,
   "metadata": {},
   "outputs": [
    {
     "data": {
      "application/vnd.jupyter.widget-view+json": {
       "model_id": "08a0a6c3b63a4786be0e9a1f8eafeeed",
       "version_major": 2,
       "version_minor": 0
      },
      "text/plain": [
       "Output(layout=Layout(border='1px solid black'), outputs=({'output_type': 'stream', 'name': 'stdout', 'text': '…"
      ]
     },
     "metadata": {},
     "output_type": "display_data"
    }
   ],
   "source": [
    "import ipywidgets as widgets\n",
    "from IPython.display import YouTubeVideo\n",
    "\n",
    "out = widgets.Output(layout={'border': '1px solid black'})\n",
    "out.append_stdout('Amartya Sen on demonetization in India')\n",
    "out.append_display_data(YouTubeVideo('OknuVaSW4M0'))\n",
    "out"
   ]
  },
  {
   "cell_type": "code",
   "execution_count": null,
   "metadata": {},
   "outputs": [],
   "source": [
    "out.clear_output()"
   ]
  },
  {
   "cell_type": "markdown",
   "metadata": {},
   "source": [
    "## Modelling approaches\n",
    "\n",
    "Short overview of the existing approaches for modelling our global macroeconomic system.\n",
    "\n",
    "#### Dynamic Stochastic General Equilibrium (DSGE)\n",
    "\n",
    "- Non-linear approximations of stochastic (Gaussian) processes, for example through vector autoregression (VAR):\n",
    "\n",
    "$$ \\begin{bmatrix} y_{t} \\\\ x_{t} \\end{bmatrix} = A(L) \\begin{bmatrix} y_{t-1} \\\\ x_{t-1} \\end{bmatrix} + \\begin{bmatrix} u_{yt} \\\\ u_{xt} \\end{bmatrix}$$\n",
    "\n",
    "with $A(L)$ a matrix polynomial over the lag operator $L$ and $u$ innovations (linear combinations of iid shocks to output $e_{yt}$ and policy $e_{xt}$) on the $t$-th observation (source: Walsh 2010, p. 18). The VAR is system is usually solved by applying least squares over a moving average of the lag operators:\n",
    "\n",
    "$$y_{t} = \\sum\\limits_{i=0}^{\\infty}a_{1}^{i}u_{yt-i} + \\sum\\limits_{i=0}^{\\infty}a_{1}^{i}a_{2}u_{xt-i-1}$$\n",
    "\n",
    "#### Deep Neural Network (DNN)\n",
    "\n",
    "- Nonlinear network representations of sequential processes, for example an RNN with LSTM cells comprising of the following layers and operations:\n",
    "  * *forget gate layer*: $f_t = \\sigma(W_f * [h_{t-1}, x_t] + b_f)$\n",
    "  * *input gate layer*: $i_t = \\sigma(W_i * [h_{t-1}, x_t]+ b_i)$\n",
    "  * *state update candidate generation op*: $C_t = tanh(W_C * [h_{t-1}, x_t] + b_c)$\n",
    "  * *internal state update op*: $C_t = f_t * C_{t-1} + i_t * C_t$\n",
    "  * *output gate layer*: $O_t = \\sigma(W_O * [h_{t-1}, x_t] + b_O)$\n",
    "  * *hidden state output op*: $h_t=O_t * tanh C_t$\n",
    "\n",
    "where each step in the sequence is modeled in a DNN consisting of a dense layer stacked on to $n$ of the LSTM cells  described above. DNNs (either with recurrent or convolutional layers, or a combination of both) have been shown to be powerful enough to allow the modelling of non-linearities and multiple dimensions in time series data.\n",
    "\n",
    "\n",
    "#### Actor-based Computational Economics (ACE)\n",
    "\n",
    "- Game-theoretical simulations and network models of non-linear complex evolving systems, e.g. using reinforcement learning to optimise stock picks:\n",
    "  * *environment*:\n",
    "    * state: market price $s$ of tickers ${a, b, c, ...}$ at time $t$, i.e. ${s_{a,t}, s_{a,t}, s_{a,t}, ...}$\n",
    "  * *agent*:\n",
    "    * reward: portfolio value $G = \\sum\\limits_{t=0}^{t=T} r_t$, the sum (return) of all rewards (increases / decreases in value) of the portfolio of an episode of length $T$.\n",
    "    * actions: hold, buy $x$, sell $x$ shares of tickers ${a, b, c, ...}$.\n",
    "  * *policy*: learn a function so as to maximise total reward / return $G$ given the environment and available actions.\n",
    "    * value function: $V^\\pi(s) = E[R|s,\\pi]$ the expected value (reward $R$) of a policy $\\pi$ given state $s$.\n",
    "    * state value function: $Q^\\pi(s,a) = E[R|s,a,\\pi]$ the expected value (reward $R$) of an action $a$ given state $s$ and policy $\\pi$.\n"
   ]
  },
  {
   "cell_type": "markdown",
   "metadata": {},
   "source": [
    "## Methodology\n",
    "\n",
    "The research follows an iterative, step-wise approach in which findings from sub-tasks are used to inform subsequent model-building steps.\n",
    "\n",
    "At the outset, two steps are identified:\n",
    "\n",
    "1. Model the relationship of global economic changes on country-level macroeconomic variables.\n",
    "2. Use the findings in 1) to inform the development of a policy simulator that allows country-level policy analysis."
   ]
  },
  {
   "cell_type": "markdown",
   "metadata": {},
   "source": [
    "### Model 1: Interlinked economies\n",
    "\n",
    "The aim of this model is to predict the impact of global macroeconomic shifts on individual country economies, and demonstrate the dependency of countries on the global economy. The sample of 10 countries investigated in detail is taken mostly out of personal interest."
   ]
  },
  {
   "cell_type": "markdown",
   "metadata": {},
   "source": [
    "### Model 2: Country-level policy analysis\n",
    "\n",
    "Simulated experimentation of country-level policy variables using a model of the world economy and real observed country-level macroeconomic variables. Using bootstrapping or other data augmentation techniques."
   ]
  },
  {
   "cell_type": "code",
   "execution_count": null,
   "metadata": {},
   "outputs": [],
   "source": []
  }
 ],
 "metadata": {
  "kernelspec": {
   "display_name": "me",
   "language": "python",
   "name": "me"
  },
  "language_info": {
   "codemirror_mode": {
    "name": "ipython",
    "version": 3
   },
   "file_extension": ".py",
   "mimetype": "text/x-python",
   "name": "python",
   "nbconvert_exporter": "python",
   "pygments_lexer": "ipython3",
   "version": "3.6.5"
  }
 },
 "nbformat": 4,
 "nbformat_minor": 2
}
