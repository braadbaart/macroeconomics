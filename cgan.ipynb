{
 "cells": [
  {
   "cell_type": "markdown",
   "metadata": {},
   "source": [
    "# Conditional GAN for timeseries generation\n",
    "\n",
    ".."
   ]
  },
  {
   "cell_type": "code",
   "execution_count": null,
   "metadata": {},
   "outputs": [],
   "source": [
    "import warnings\n",
    "import numpy as np\n",
    "import pandas as pd\n",
    "import seaborn as sns\n",
    "import tensorflow as tf\n",
    "import tensorflow_probability as tfp\n",
    "import matplotlib.pyplot as plt\n",
    "from tensorflow import keras\n",
    "\n",
    "%matplotlib inline"
   ]
  },
  {
   "cell_type": "code",
   "execution_count": null,
   "metadata": {},
   "outputs": [],
   "source": [
    "warnings.filterwarnings('ignore')\n",
    "pd.options.display.float_format = '{:20,.4f}'.format"
   ]
  },
  {
   "cell_type": "code",
   "execution_count": null,
   "metadata": {},
   "outputs": [],
   "source": [
    "sns.set_style(\"whitegrid\")\n",
    "sns.set_palette(\"colorblind\")"
   ]
  },
  {
   "cell_type": "code",
   "execution_count": null,
   "metadata": {},
   "outputs": [],
   "source": []
  },
  {
   "cell_type": "code",
   "execution_count": null,
   "metadata": {},
   "outputs": [],
   "source": [
    "from keras.models import Sequential, Model\n",
    "from keras.layers import Input\n",
    "from keras.optimizers import Adam\n",
    "from sklearn.metrics import mean_squared_error"
   ]
  },
  {
   "cell_type": "code",
   "execution_count": null,
   "metadata": {},
   "outputs": [],
   "source": [
    "gan_params = {\n",
    "   'num_epochs': 800,\n",
    "   'save_interval': 100,\n",
    "   'sequence_length': 6,\n",
    "   'num_variables': gan_cols,\n",
    "   'batch_size': 64,\n",
    "   'lr': 0.0001 \n",
    "}"
   ]
  },
  {
   "cell_type": "code",
   "execution_count": null,
   "metadata": {},
   "outputs": [],
   "source": [
    "generator_params = {\n",
    "   'noise_sigma': 0.3,\n",
    "   'lstm_units': 128,\n",
    "   'lstm_dropout': 0.4,\n",
    "   'gru_units': 64,\n",
    "   'lr': 0.0001\n",
    "}"
   ]
  },
  {
   "cell_type": "code",
   "execution_count": null,
   "metadata": {},
   "outputs": [],
   "source": [
    "discriminator_params = {\n",
    "   'bi_lstm_units': 256,\n",
    "   'dropout_rate': 0.4,\n",
    "   'lr': 0.0001\n",
    "}"
   ]
  },
  {
   "cell_type": "code",
   "execution_count": null,
   "metadata": {},
   "outputs": [],
   "source": [
    "gan_features = []\n",
    "gan_labels = []\n",
    "\n",
    "for i in range(int(num_obs / gan_params['sequence_length'])):\n",
    "    gan_labels_df = gan_df['label']\n",
    "    gan_labels.append(gan_labels_df[i:(i+gan_params['sequence_length'])].values[-1:])\n",
    "    gan_features.append(gan_df[i:(i+gan_params['sequence_length'])].values)"
   ]
  },
  {
   "cell_type": "code",
   "execution_count": null,
   "metadata": {},
   "outputs": [],
   "source": [
    "real = np.asarray(gan_features)\n",
    "real = real.reshape((real.shape[0], gan_params['sequence_length'], gan_cols))"
   ]
  },
  {
   "cell_type": "code",
   "execution_count": null,
   "metadata": {},
   "outputs": [],
   "source": [
    "real.shape"
   ]
  },
  {
   "cell_type": "markdown",
   "metadata": {},
   "source": [
    "### Generator"
   ]
  },
  {
   "cell_type": "code",
   "execution_count": null,
   "metadata": {},
   "outputs": [],
   "source": [
    "from keras.layers import GaussianNoise, LSTM, Dropout, BatchNormalization, Dense, LocallyConnected2D, GRU, Reshape\n",
    "\n",
    "def build_generator(params):\n",
    "    gshape = params['sequence_length'], params['num_variables']\n",
    "    inputs = Input(shape=(gshape))\n",
    "    \n",
    "    g = Sequential(name='generator')\n",
    "    g.add(GRU(params['gru_units'], input_shape=(gshape), return_sequences=True))\n",
    "    g.add(Dense(params['num_variables'], activation='softmax'))\n",
    "    g.add(Reshape(target_shape=(gshape)))\n",
    "    g.summary()\n",
    "    \n",
    "    return Model(inputs, g(inputs))"
   ]
  },
  {
   "cell_type": "code",
   "execution_count": null,
   "metadata": {},
   "outputs": [],
   "source": [
    "generator = build_generator({**gan_params, **generator_params})"
   ]
  },
  {
   "cell_type": "markdown",
   "metadata": {},
   "source": [
    "### Discriminator"
   ]
  },
  {
   "cell_type": "code",
   "execution_count": null,
   "metadata": {},
   "outputs": [],
   "source": [
    "from keras.layers import Bidirectional, LSTM, Dense, concatenate, Flatten\n",
    "\n",
    "def build_discriminator(params):\n",
    "    dshape = params['sequence_length'], params['num_variables']\n",
    "    batch_shape = params['batch_size'], params['sequence_length'], params['num_variables']\n",
    "    \n",
    "    real = Input(shape=(dshape))\n",
    "    generated = Input(shape=(dshape))\n",
    "    inputs = concatenate([generated, real], axis=1)\n",
    "    \n",
    "    d = Sequential(name='discriminator')\n",
    "    d.add(Bidirectional(LSTM(params['bi_lstm_units']), batch_input_shape=(batch_shape)))\n",
    "    d.add(Dropout(params['dropout_rate']))\n",
    "    d.add(Dense(1, activation='sigmoid'))\n",
    "    d.summary()\n",
    "    return Model([generated, real], d(inputs))"
   ]
  },
  {
   "cell_type": "code",
   "execution_count": null,
   "metadata": {},
   "outputs": [],
   "source": [
    "discriminator = build_discriminator({**gan_params, **discriminator_params})\n",
    "discriminator.compile(loss='mse', optimizer=Adam(lr=discriminator_params['lr']), metrics=['mse'])"
   ]
  },
  {
   "cell_type": "markdown",
   "metadata": {},
   "source": [
    "### CGAN"
   ]
  },
  {
   "cell_type": "code",
   "execution_count": null,
   "metadata": {},
   "outputs": [],
   "source": [
    "def build_cgan(generator, discriminator, params):\n",
    "    ganshape = params['sequence_length'], params['num_variables']\n",
    "    discriminator.trainable = False\n",
    "    \n",
    "    noise = Input(shape=(ganshape))\n",
    "    generated = generator(noise)\n",
    "    \n",
    "    prediction = discriminator([data, generated])\n",
    "    \n",
    "    gan = Model([noise, data], prediction, name='cgan')\n",
    "    gan.summary()\n",
    "    return gan"
   ]
  },
  {
   "cell_type": "code",
   "execution_count": null,
   "metadata": {},
   "outputs": [],
   "source": [
    "cgan = build_cgan(generator, discriminator, gan_params)\n",
    "cgan.compile(loss=['kullback_leibler_divergence', 'kullback_leibler_divergence'], \n",
    "            optimizer=Adam(lr=generator_params['lr']), metrics=['mse', 'mse'])"
   ]
  },
  {
   "cell_type": "code",
   "execution_count": null,
   "metadata": {},
   "outputs": [],
   "source": [
    "def train_gan(real, batch_size, params):\n",
    "    g_metrics = []\n",
    "    d_metrics = []\n",
    "    \n",
    "    reals = np.ones(batch_size)\n",
    "    synths = np.zeros(batch_size)\n",
    "    \n",
    "    for i in range(params['num_epochs']):\n",
    "        # create input of real and synthetic data\n",
    "        random_index = np.random.randint(0, len(real) - batch_size)\n",
    "        half_real = real[random_index:int(random_index + batch_size)]\n",
    "        half_synth = np.random.normal(-1.0, 1.0, size=[batch_size, params['sequence_length'], real.shape[2]])\n",
    "        \n",
    "        # apply generator and encoder\n",
    "        generated = generator.predict(half_synth)\n",
    "        \n",
    "        # train discriminator\n",
    "        disc = discriminator.train_on_batch([generated, half_real], reals)\n",
    "                                                            \n",
    "        # train gan\n",
    "        gen_ = cgan.train_on_batch([half_synth, generated], [reals, synths])\n",
    "        if i % 100 == 0:\n",
    "            print('Epoch %s losses: discriminator %.4f%%, generator: %.4f%%' % \n",
    "                  (i, d[0], gen_[0]))\n",
    "        \n",
    "        d_metrics.append(disc)\n",
    "        g_metrics.append(gen_)\n",
    "    return d_metrics, g_metrics"
   ]
  },
  {
   "cell_type": "code",
   "execution_count": null,
   "metadata": {},
   "outputs": [],
   "source": [
    "d_metrics, g_metrics = train_gan(real, gan_params['batch_size'], gan_params)"
   ]
  },
  {
   "cell_type": "code",
   "execution_count": null,
   "metadata": {},
   "outputs": [],
   "source": [
    "plt.figure(figsize=(15,7))\n",
    "plt.plot([metrics[0] for metrics in d_metrics], label='discriminator loss')\n",
    "plt.plot([metrics[0] for metrics in g_metrics], label='generator loss')\n",
    "plt.legend()\n",
    "plt.title('CGAN losses')\n",
    "plt.show()"
   ]
  },
  {
   "cell_type": "code",
   "execution_count": null,
   "metadata": {},
   "outputs": [],
   "source": [
    "plt.figure(figsize=(15,7))\n",
    "plt.plot([metrics[1] for metrics in d_metrics], label='discriminator mean squared error')\n",
    "plt.plot([metrics[1] for metrics in g_metrics], label='generator mean average error')\n",
    "plt.legend()\n",
    "plt.title('CGAN performance metrics')\n",
    "plt.show()"
   ]
  },
  {
   "cell_type": "code",
   "execution_count": null,
   "metadata": {},
   "outputs": [],
   "source": [
    "generated_y = generator.predict(np.random.rand(num_obs, gan_params['sequence_length'], gan_cols))[:,-1,-1]\n",
    "gan_y = gan_df['label'].values"
   ]
  },
  {
   "cell_type": "code",
   "execution_count": null,
   "metadata": {},
   "outputs": [],
   "source": [
    "plt.figure(figsize=(15,7))\n",
    "plt.plot(gan_y, label='observed cpi')\n",
    "plt.plot(generated_y, label='gan-generated cpi')\n",
    "plt.legend()\n",
    "plt.title('Observed versus GAN-generated values for consumer price inflation in %s' % country)\n",
    "plt.show()"
   ]
  },
  {
   "cell_type": "code",
   "execution_count": null,
   "metadata": {},
   "outputs": [],
   "source": [
    "print('rmse: %s\\nmean observed: %s\\nmean generated: %s' % (np.sqrt(mean_squared_error(gan_y, generated_y)),\n",
    "                                                           np.mean(gan_y), np.mean(generated_y)))"
   ]
  }
 ],
 "metadata": {
  "kernelspec": {
   "display_name": "me",
   "language": "python",
   "name": "me"
  },
  "language_info": {
   "codemirror_mode": {
    "name": "ipython",
    "version": 3
   },
   "file_extension": ".py",
   "mimetype": "text/x-python",
   "name": "python",
   "nbconvert_exporter": "python",
   "pygments_lexer": "ipython3",
   "version": "3.6.5"
  }
 },
 "nbformat": 4,
 "nbformat_minor": 2
}
