{
 "cells": [
  {
   "cell_type": "markdown",
   "metadata": {},
   "source": [
    "# Counterfactual transformer for macroeconomic policy simulation\n",
    "\n",
    "The core idea is to use **counterfactual shifts** to simulate macroeconomic scenarios based on changes in one key indicator variable $i$ - the conditioning variable $c$. That is to say, to determine the effectiveness of for example a central bank policy measured by $\\textbf{x} = {x_1, x_2, ..., x_m}, \\textbf{x} \\subset X \\land i \\in X$ (with $\\textbf{x} = X \\setminus y$) when the exchange rate of a certain currency $i$ would have been different from that found in the real data (counterfactually shifting observed $i$ to simulated $c$ under macroeconomic scenario $s$), one needs to be able to model the effect of changes in variable $i$ on all other variables $\\textbf{x}$ in the dataset $X$.\n",
    "\n",
    "### The Bayesian model\n",
    "\n",
    "To formalize, the generative model needs to learn both the joint probability\n",
    "\n",
    "$$ P(i_t,\\textbf{x}_t) = P(X_{t-n:t-1}|i_{t-n:t-1},\\textbf{x}_{t-n:t-1}), i \\in X, \\textbf{x} \\subset X, i \\notin \\textbf{x}$$\n",
    "\n",
    "of the conditioning variable $i$ and the conditioned variables $\\textbf{x} \\subset X$ at time $t$ conditional on previous timesteps ${t-n, ..., t-1}$, **and** the conditional probability of $\\textbf{x}$ given $i$ at time $t$ conditioned on a macroeconomic scenario $s$, where $i_t^s = c_t$,\n",
    "\n",
    "$$P(\\textbf{x}_t|c_t)$$\n",
    "\n",
    "From a Bayesian point of view, it makes sense to take the distribution in the real data as the prior. This means that the model needs to\n",
    "1. Approximate the $n$ historical autoregressive priors for all variables $p(X_t|X_{t-n:t-1})$ at $X_t$ given $X_{t-n}, ..., X_{t-1}$.\n",
    "2. Infer the posterior distribution $p(X_{t-n:t-1},\\beta,\\gamma|X_t) \\propto p(X_t|X_{t-n:t-1},\\beta,\\gamma)p(X_t|X_{t-n:t-1})$, where $\\gamma$ maps contemporary relationships between variables at time $t$ and $\\beta$ models the autoregressive relationship over time for all variables, mapping $X_{t-n:t-1}$ on to $X_t$.\n",
    "3. Use the inferred posterior of the variables $\\textbf{x}$ to generate $Y = c,P(\\textbf{x}|c,s,\\beta,\\gamma)$, where $c$ is the conditioned form of $i$ shifted to simulate some explicitly programmed counterfactual scenario $s$, and $P(\\textbf{x}|c,s)$ are the values of $\\textbf{x}$ mapped onto this counterfactual scenario $s$. \n",
    "\n",
    "Given that a scenario $s$ can also be modeled as a regime, it might be good to look into RL research on the topic of policy switches in model-based RL.\n",
    "\n",
    "### Counterfactuals\n",
    "\n",
    "From a causal inference standpoint, policy simulations should result in an estimate of either individual treatment effects ($ITE_i = Y_1^{(i)} - Y_0^{(i)}$ for treatment (1) and non-treatment (0) conditions on unit $i$), or average treatment effects ($ATE = 1/N \\sum\\limits_i y_1(i) - y_0(i)$) of the policy intervention $c$ on the other variables $\\textbf{x}$.\n",
    "\n",
    "In the language of causal analysis, the factual variable $i$ and counterfactual variable $c$ under scenario $s$ are investigated. Therefore the generator should learn to model not only the generated variables but also underlying confounders, which are hypothesized to aid in generating more realistic simulations.\n",
    "\n",
    "### Training and inference\n",
    "\n",
    "The model is trained as a conditional timeseries transformer, generating datapoints conditional both on $\\textbf{A}$) autoregressive previous timesteps ${t-n, ..., t-1}$ and $\\textbf{B}$) lateral relationships between variables (longitudinal and contemporary effects), ignoring $\\textbf{C}$) the conditional variable $c$ during training. During inference $c$ is shifted to simulate the counterfactual condition $\\textbf{C}$), letting the generator model the effect of $c$ on the $x \\subset X$ variables of interest.\n",
    "\n",
    "The training data will come from a training pool consisting of datapoints for some 100 or so countries, shuffled for training purposes but with country encodings to allow the model to learn different distributions. The validation data consists of a separate pool of 15 heterogeneous countries.\n",
    "\n",
    "The model learns to predict variables $\\textbf{i}_t = \\textbf{x}_t$ at time $t$ given $\\textbf{x}_{t-1}$ within the context of $\\textbf{x}_{t-n:t-1}$. For practical purposes the data feed consists of multivariate sequences of length $n-1$, and multivariate labels with length $1$. During inference, the model needs to have access to predictions at it made at previous timesteps in order to set the generated context $\\hat{\\textbf{x}}_{t-n:t-1}$.\n",
    "\n",
    "###### Reconstruction loss\n",
    "\n",
    "The correctness of the generator can be measured by proxy by looking at **reconstruction losses** from historical data. I.e., provide it with a prompt of $m$ sequences on unseen historical country data, and determine how close it matched the real data for the remaining $n-m$ observations. Given the natural differences in country data, it might be good to take a pool of representative countries as the validation dataset. This will also help mitigate covariate shift issues (c.f. [Johansson et al. 2018](https://arxiv.org/abs/1605.03661)).\n",
    "\n",
    "###### Counterfactual loss\n",
    "\n",
    "Since we are dealing with counterfactuals, the loss metric cannot be measured directly from labeled data. However, a proxy of **counterfactual loss** could be to measure the proportional, variable-bound divergence of the simulated data from the real distribution, for example through Kullback-Leibler divergence, Fisher information, or optimal transport. The assumption underlying such an approach would be that of *real-world constraints* on macroeconomic data, i.e. the overall quantities of the indicator variable won't change as a result of counterfactual evidence, but their underlying distribution might.\n",
    "\n",
    "A correct measurement of the loss will need to incorporate covariate shifts across country datasets into the function. One widely-used metric to include a measure thereof in the loss function is maximum-mean discrepancy (MMD, c.f. [Gretton et al., 2012](http://www.jmlr.org/papers/volume13/gretton12a/gretton12a.pdf), [Sutherland et al., 2107](https://arxiv.org/abs/1611.04488)), which can be estimated empirically over the means of the real and simulated data distributions. "
   ]
  },
  {
   "cell_type": "code",
   "execution_count": 2,
   "metadata": {},
   "outputs": [],
   "source": [
    "import os\n",
    "import shutil\n",
    "import warnings\n",
    "import numpy as np\n",
    "import pandas as pd\n",
    "import seaborn as sns\n",
    "import tensorflow as tf\n",
    "import tensorflow_probability as tfp\n",
    "import matplotlib.pyplot as plt\n",
    "from tensorflow import keras\n",
    "\n",
    "%matplotlib inline"
   ]
  },
  {
   "cell_type": "code",
   "execution_count": 3,
   "metadata": {},
   "outputs": [],
   "source": [
    "warnings.filterwarnings('ignore')\n",
    "pd.options.display.float_format = '{:20,.4f}'.format"
   ]
  },
  {
   "cell_type": "code",
   "execution_count": 4,
   "metadata": {},
   "outputs": [],
   "source": [
    "sns.set_style(\"whitegrid\")\n",
    "sns.set_palette(\"colorblind\")"
   ]
  },
  {
   "cell_type": "code",
   "execution_count": 5,
   "metadata": {},
   "outputs": [
    {
     "data": {
      "text/plain": [
       "'2.2.0'"
      ]
     },
     "execution_count": 5,
     "metadata": {},
     "output_type": "execute_result"
    }
   ],
   "source": [
    "tf.__version__"
   ]
  },
  {
   "cell_type": "markdown",
   "metadata": {},
   "source": [
    "#### Load and prepare the data"
   ]
  },
  {
   "cell_type": "code",
   "execution_count": 68,
   "metadata": {},
   "outputs": [],
   "source": [
    "country = 'Switzerland'"
   ]
  },
  {
   "cell_type": "code",
   "execution_count": 69,
   "metadata": {},
   "outputs": [],
   "source": [
    "train_countries =['Singapore', 'Switzerland', 'Netherlands', 'Japan', 'France', 'United States', 'China',\n",
    "                  'India', 'Brazil', 'Colombia', 'Indonesia', 'Senegal', 'Ghana']"
   ]
  },
  {
   "cell_type": "code",
   "execution_count": 70,
   "metadata": {},
   "outputs": [],
   "source": [
    "train_countries.remove(country)"
   ]
  },
  {
   "cell_type": "code",
   "execution_count": null,
   "metadata": {},
   "outputs": [],
   "source": [
    "labels_df = pd.read_csv('features/m_one/labels_interpolated.csv', sep=';', header=0)"
   ]
  },
  {
   "cell_type": "code",
   "execution_count": 22,
   "metadata": {},
   "outputs": [],
   "source": [
    "holdout_df = pd.read_csv('features/m_one/%s_features.csv' % country, sep=';', header=0)"
   ]
  },
  {
   "cell_type": "code",
   "execution_count": 23,
   "metadata": {},
   "outputs": [],
   "source": [
    "country_df = pd.concat([holdout_df, labels_df.drop(columns=['date'])], axis=1)"
   ]
  },
  {
   "cell_type": "code",
   "execution_count": 24,
   "metadata": {},
   "outputs": [
    {
     "data": {
      "text/html": [
       "<div>\n",
       "<style scoped>\n",
       "    .dataframe tbody tr th:only-of-type {\n",
       "        vertical-align: middle;\n",
       "    }\n",
       "\n",
       "    .dataframe tbody tr th {\n",
       "        vertical-align: top;\n",
       "    }\n",
       "\n",
       "    .dataframe thead th {\n",
       "        text-align: right;\n",
       "    }\n",
       "</style>\n",
       "<table border=\"1\" class=\"dataframe\">\n",
       "  <thead>\n",
       "    <tr style=\"text-align: right;\">\n",
       "      <th></th>\n",
       "      <th>date</th>\n",
       "      <th>bank capital to assets ratio</th>\n",
       "      <th>bank nonperforming loans</th>\n",
       "      <th>cereal yield</th>\n",
       "      <th>energy imports</th>\n",
       "      <th>food exports</th>\n",
       "      <th>high-tech exports</th>\n",
       "      <th>inflation</th>\n",
       "      <th>lending interest rate</th>\n",
       "      <th>life expectancy</th>\n",
       "      <th>...</th>\n",
       "      <th>France</th>\n",
       "      <th>Ghana</th>\n",
       "      <th>India</th>\n",
       "      <th>Indonesia</th>\n",
       "      <th>Japan</th>\n",
       "      <th>Netherlands</th>\n",
       "      <th>Senegal</th>\n",
       "      <th>Singapore</th>\n",
       "      <th>Switzerland</th>\n",
       "      <th>United States</th>\n",
       "    </tr>\n",
       "  </thead>\n",
       "  <tbody>\n",
       "    <tr>\n",
       "      <th>0</th>\n",
       "      <td>1960-01-01</td>\n",
       "      <td>0.0000</td>\n",
       "      <td>0.0000</td>\n",
       "      <td>0.0000</td>\n",
       "      <td>0.7167</td>\n",
       "      <td>0.0000</td>\n",
       "      <td>0.0000</td>\n",
       "      <td>0.0000</td>\n",
       "      <td>0.0000</td>\n",
       "      <td>71.3134</td>\n",
       "      <td>...</td>\n",
       "      <td>0.0414</td>\n",
       "      <td>0.0000</td>\n",
       "      <td>0.0178</td>\n",
       "      <td>0.3959</td>\n",
       "      <td>0.0357</td>\n",
       "      <td>0.0232</td>\n",
       "      <td>0.0000</td>\n",
       "      <td>0.0000</td>\n",
       "      <td>0.0144</td>\n",
       "      <td>0.0146</td>\n",
       "    </tr>\n",
       "    <tr>\n",
       "      <th>1</th>\n",
       "      <td>1960-02-01</td>\n",
       "      <td>0.0000</td>\n",
       "      <td>0.0000</td>\n",
       "      <td>0.0000</td>\n",
       "      <td>0.7171</td>\n",
       "      <td>0.0000</td>\n",
       "      <td>0.0000</td>\n",
       "      <td>0.0000</td>\n",
       "      <td>0.0000</td>\n",
       "      <td>71.3410</td>\n",
       "      <td>...</td>\n",
       "      <td>0.0399</td>\n",
       "      <td>0.0000</td>\n",
       "      <td>0.0178</td>\n",
       "      <td>0.3743</td>\n",
       "      <td>0.0372</td>\n",
       "      <td>0.0224</td>\n",
       "      <td>0.0000</td>\n",
       "      <td>0.0003</td>\n",
       "      <td>0.0147</td>\n",
       "      <td>0.0143</td>\n",
       "    </tr>\n",
       "    <tr>\n",
       "      <th>2</th>\n",
       "      <td>1960-03-01</td>\n",
       "      <td>0.0000</td>\n",
       "      <td>0.0000</td>\n",
       "      <td>0.0000</td>\n",
       "      <td>0.7176</td>\n",
       "      <td>0.0000</td>\n",
       "      <td>0.0000</td>\n",
       "      <td>0.0000</td>\n",
       "      <td>0.0000</td>\n",
       "      <td>71.3687</td>\n",
       "      <td>...</td>\n",
       "      <td>0.0385</td>\n",
       "      <td>0.0000</td>\n",
       "      <td>0.0178</td>\n",
       "      <td>0.3527</td>\n",
       "      <td>0.0387</td>\n",
       "      <td>0.0215</td>\n",
       "      <td>0.0000</td>\n",
       "      <td>0.0007</td>\n",
       "      <td>0.0151</td>\n",
       "      <td>0.0139</td>\n",
       "    </tr>\n",
       "    <tr>\n",
       "      <th>3</th>\n",
       "      <td>1960-04-01</td>\n",
       "      <td>0.0000</td>\n",
       "      <td>0.0000</td>\n",
       "      <td>0.0000</td>\n",
       "      <td>0.7180</td>\n",
       "      <td>0.0000</td>\n",
       "      <td>0.0000</td>\n",
       "      <td>0.0000</td>\n",
       "      <td>0.0000</td>\n",
       "      <td>71.3963</td>\n",
       "      <td>...</td>\n",
       "      <td>0.0371</td>\n",
       "      <td>0.0000</td>\n",
       "      <td>0.0178</td>\n",
       "      <td>0.3312</td>\n",
       "      <td>0.0402</td>\n",
       "      <td>0.0207</td>\n",
       "      <td>0.0000</td>\n",
       "      <td>0.0010</td>\n",
       "      <td>0.0154</td>\n",
       "      <td>0.0136</td>\n",
       "    </tr>\n",
       "    <tr>\n",
       "      <th>4</th>\n",
       "      <td>1960-05-01</td>\n",
       "      <td>0.0000</td>\n",
       "      <td>0.0000</td>\n",
       "      <td>0.0000</td>\n",
       "      <td>0.7185</td>\n",
       "      <td>0.0000</td>\n",
       "      <td>0.0000</td>\n",
       "      <td>0.0000</td>\n",
       "      <td>0.0000</td>\n",
       "      <td>71.4239</td>\n",
       "      <td>...</td>\n",
       "      <td>0.0356</td>\n",
       "      <td>0.0000</td>\n",
       "      <td>0.0177</td>\n",
       "      <td>0.3096</td>\n",
       "      <td>0.0417</td>\n",
       "      <td>0.0199</td>\n",
       "      <td>0.0000</td>\n",
       "      <td>0.0013</td>\n",
       "      <td>0.0157</td>\n",
       "      <td>0.0133</td>\n",
       "    </tr>\n",
       "  </tbody>\n",
       "</table>\n",
       "<p>5 rows × 49 columns</p>\n",
       "</div>"
      ],
      "text/plain": [
       "         date  bank capital to assets ratio  bank nonperforming loans  \\\n",
       "0  1960-01-01                        0.0000                    0.0000   \n",
       "1  1960-02-01                        0.0000                    0.0000   \n",
       "2  1960-03-01                        0.0000                    0.0000   \n",
       "3  1960-04-01                        0.0000                    0.0000   \n",
       "4  1960-05-01                        0.0000                    0.0000   \n",
       "\n",
       "          cereal yield       energy imports         food exports  \\\n",
       "0               0.0000               0.7167               0.0000   \n",
       "1               0.0000               0.7171               0.0000   \n",
       "2               0.0000               0.7176               0.0000   \n",
       "3               0.0000               0.7180               0.0000   \n",
       "4               0.0000               0.7185               0.0000   \n",
       "\n",
       "     high-tech exports            inflation  lending interest rate  \\\n",
       "0               0.0000               0.0000                 0.0000   \n",
       "1               0.0000               0.0000                 0.0000   \n",
       "2               0.0000               0.0000                 0.0000   \n",
       "3               0.0000               0.0000                 0.0000   \n",
       "4               0.0000               0.0000                 0.0000   \n",
       "\n",
       "       life expectancy  ...               France                Ghana  \\\n",
       "0              71.3134  ...               0.0414               0.0000   \n",
       "1              71.3410  ...               0.0399               0.0000   \n",
       "2              71.3687  ...               0.0385               0.0000   \n",
       "3              71.3963  ...               0.0371               0.0000   \n",
       "4              71.4239  ...               0.0356               0.0000   \n",
       "\n",
       "                 India            Indonesia                Japan  \\\n",
       "0               0.0178               0.3959               0.0357   \n",
       "1               0.0178               0.3743               0.0372   \n",
       "2               0.0178               0.3527               0.0387   \n",
       "3               0.0178               0.3312               0.0402   \n",
       "4               0.0177               0.3096               0.0417   \n",
       "\n",
       "           Netherlands              Senegal            Singapore  \\\n",
       "0               0.0232               0.0000               0.0000   \n",
       "1               0.0224               0.0000               0.0003   \n",
       "2               0.0215               0.0000               0.0007   \n",
       "3               0.0207               0.0000               0.0010   \n",
       "4               0.0199               0.0000               0.0013   \n",
       "\n",
       "           Switzerland        United States  \n",
       "0               0.0144               0.0146  \n",
       "1               0.0147               0.0143  \n",
       "2               0.0151               0.0139  \n",
       "3               0.0154               0.0136  \n",
       "4               0.0157               0.0133  \n",
       "\n",
       "[5 rows x 49 columns]"
      ]
     },
     "execution_count": 24,
     "metadata": {},
     "output_type": "execute_result"
    }
   ],
   "source": [
    "country_df.head()"
   ]
  },
  {
   "cell_type": "code",
   "execution_count": 25,
   "metadata": {},
   "outputs": [
    {
     "data": {
      "image/png": "[encoded data removed]",
      "text/plain": [
       "<Figure size 1080x504 with 1 Axes>"
      ]
     },
     "metadata": {},
     "output_type": "display_data"
    }
   ],
   "source": [
    "fig, ax = plt.subplots(figsize=(15,7))\n",
    "[sns.lineplot(x='date', y=c, markers=True, ax=ax, label=c, data=country_df) for c in list([country, 'lending interest rate', 'real interest rate', 'inflation', 'gross domestic savings', 'government debt service'])]\n",
    "\n",
    "xticks=ax.xaxis.get_major_ticks()\n",
    "for i in range(len(xticks)):\n",
    "    if i % 12 == 1:\n",
    "        xticks[i].set_visible(True)\n",
    "    else:\n",
    "        xticks[i].set_visible(False)\n",
    "\n",
    "ax.set_xticklabels(country_df['date'], rotation=45);"
   ]
  },
  {
   "cell_type": "code",
   "execution_count": 26,
   "metadata": {},
   "outputs": [
    {
     "data": {
      "text/plain": [
       "Index(['date', 'bank capital to assets ratio', 'bank nonperforming loans',\n",
       "       'cereal yield', 'energy imports', 'food exports', 'high-tech exports',\n",
       "       'inflation', 'lending interest rate', 'life expectancy',\n",
       "       'population density', 'real interest rate', 'broad money',\n",
       "       'exports of goods and services', 'gross domestic savings',\n",
       "       'high-tech value added', 'household consumption expenditure',\n",
       "       'imports of goods and services', 'listed companies',\n",
       "       'manufacturing value added', 'r and d spend', 'services trade', 'trade',\n",
       "       'government debt service', 'government interest payments external debt',\n",
       "       'government tax revenue', 'birth deaths', 'broadband subscriptions',\n",
       "       'electricity access', 'co2 emissions', 'electricity consumption',\n",
       "       'mobile subscriptions', 'newborns', 'overweight', 'rural population',\n",
       "       'urban population', 'Brazil', 'China', 'Colombia', 'France', 'Ghana',\n",
       "       'India', 'Indonesia', 'Japan', 'Netherlands', 'Senegal', 'Singapore',\n",
       "       'Switzerland', 'United States'],\n",
       "      dtype='object')"
      ]
     },
     "execution_count": 26,
     "metadata": {},
     "output_type": "execute_result"
    }
   ],
   "source": [
    "country_df.columns"
   ]
  },
  {
   "cell_type": "code",
   "execution_count": 77,
   "metadata": {},
   "outputs": [],
   "source": [
    "cols = ['date', 'bank capital to assets ratio', 'bank nonperforming loans', 'cereal yield',\n",
    "        'energy imports', 'food exports', 'high-tech exports', 'inflation',\n",
    "        'lending interest rate', 'life expectancy', 'population density', 'real interest rate',\n",
    "        'broad money', 'exports of goods and services', 'gross domestic savings',\n",
    "        'high-tech value added', 'household consumption expenditure',\n",
    "        'imports of goods and services', 'listed companies', 'manufacturing value added',\n",
    "        'r and d spend', 'services trade', 'trade', 'government debt service',\n",
    "        'government interest payments external debt', 'government tax revenue', 'birth deaths',\n",
    "        'broadband subscriptions', 'electricity access', 'co2 emissions',\n",
    "        'electricity consumption', 'mobile subscriptions', 'newborns', 'overweight',\n",
    "        'rural population', 'urban population']"
   ]
  },
  {
   "cell_type": "code",
   "execution_count": 78,
   "metadata": {},
   "outputs": [],
   "source": [
    "base_feature_df = country_df[cols + [country]]"
   ]
  },
  {
   "cell_type": "code",
   "execution_count": 79,
   "metadata": {},
   "outputs": [],
   "source": [
    "base_feature_df['label'] = base_feature_df[country].shift(periods=1)\n",
    "base_df = base_feature_df.drop(country, axis=1).fillna(0.00);\n",
    "base_df.set_index('date');"
   ]
  },
  {
   "cell_type": "markdown",
   "metadata": {},
   "source": [
    "The following feature groups are used in the simulation:\n",
    "\n",
    "* **finance**: bank nonperforming loans, lending interest rate\n",
    "* **consumption behaviour**: gross domestic savings, household consumption expenditure, <... missing: detailed consumption expenditure areas>\n",
    "* **trade**: exports of goods and services, imports of goods and services, services trade, trade\n",
    "* **governance**: broad money, government interest payments external debt, government tax revenue"
   ]
  },
  {
   "cell_type": "code",
   "execution_count": 80,
   "metadata": {},
   "outputs": [],
   "source": [
    "model_cols = ['bank nonperforming loans', 'lending interest rate', 'gross domestic savings',\n",
    "              'household consumption expenditure', 'exports of goods and services',\n",
    "              'imports of goods and services', 'services trade', 'trade', 'broad money',\n",
    "              'government tax revenue', 'label']"
   ]
  },
  {
   "cell_type": "code",
   "execution_count": 81,
   "metadata": {},
   "outputs": [
    {
     "data": {
      "text/plain": [
       "(696, 11)"
      ]
     },
     "execution_count": 81,
     "metadata": {},
     "output_type": "execute_result"
    }
   ],
   "source": [
    "factual_df = base_df[model_cols]\n",
    "factual_df.shape"
   ]
  },
  {
   "cell_type": "code",
   "execution_count": 82,
   "metadata": {},
   "outputs": [],
   "source": [
    "num_variables = len(factual_df.columns)"
   ]
  },
  {
   "cell_type": "markdown",
   "metadata": {},
   "source": [
    "## Counterfactual timeseries transformer\n",
    "\n",
    "* The model consists of a transformer architecture adapted for generating continous timeseries across $n$ variables.\n",
    "* An additional conditional time series can be fed to the model to investigate the effect of counterfactual scenarios on the $n$ variables.\n",
    "\n",
    "This setup gives macroeconomic researchers an alternative tool to investigate the robustness of policy decisions and outcomes."
   ]
  },
  {
   "cell_type": "code",
   "execution_count": 83,
   "metadata": {},
   "outputs": [],
   "source": [
    "from sklearn.metrics import mean_squared_error"
   ]
  },
  {
   "cell_type": "code",
   "execution_count": 84,
   "metadata": {},
   "outputs": [],
   "source": [
    "params = {\n",
    "   'num_epochs': 25,\n",
    "   'save_interval': 5,\n",
    "   'num_timesteps': 4,\n",
    "   'num_variables': num_variables,\n",
    "   'batch_size': 16,\n",
    "   'num_layers': 2,\n",
    "   'd_model': 256,\n",
    "   'dff': 1024,\n",
    "   'num_heads': 4,\n",
    "   'dropout_rate': 0.1,\n",
    "   'lr': 0.1\n",
    "}"
   ]
  },
  {
   "cell_type": "code",
   "execution_count": 85,
   "metadata": {},
   "outputs": [],
   "source": [
    "def timeseries_dataprep(num_obs, num_variables, num_timesteps, simulation_df):\n",
    "    t_at_n = []\n",
    "    n_to_t = []\n",
    "    t_at_n_plus_one = []\n",
    "    n_plus_one_to_t_plus_one = []\n",
    "    labels = []\n",
    "    \n",
    "    for i in range(int(num_obs)):\n",
    "        n_to_t.append(simulation_df[i:(i+num_timesteps)].values)\n",
    "        t_at_n.append(simulation_df[(i+num_timesteps):(i+num_timesteps+1)].values)\n",
    "        t_at_n_plus_one.append(simulation_df[(i+num_timesteps+1):(i+num_timesteps+2)].values)\n",
    "        n_plus_one_to_t_plus_one.append(simulation_df[i+1:(i+num_timesteps+1)].values)\n",
    "        labels.append(simulation_df['label'][(i+num_timesteps+1):(i+num_timesteps+2)].values)\n",
    "        \n",
    "    \n",
    "    n = num_obs - (num_timesteps + 1)\n",
    "    \n",
    "    src_input = np.asarray(t_at_n[0:n])\n",
    "    src = src_input.reshape((n, num_variables, 1))\n",
    "    tar_input = np.asarray(t_at_n_plus_one[0:n])\n",
    "    tar = tar_input.reshape((n, num_variables, 1))\n",
    "    src_history_input = np.asarray(n_to_t[0:n])\n",
    "    src_history = src_history_input.reshape((n, num_variables, num_timesteps))\n",
    "    y_input = np.asarray(labels[0:n])\n",
    "    y = y_input.reshape((n, 1))\n",
    "    \n",
    "    return src, tar, src_history, y"
   ]
  },
  {
   "cell_type": "code",
   "execution_count": 152,
   "metadata": {},
   "outputs": [],
   "source": [
    "def train_dataprep(cols, model_cols, num_variables, num_timesteps, countries):\n",
    "    srcs = []\n",
    "    tgts = []\n",
    "    hist = []\n",
    "    lbls = [] \n",
    "\n",
    "    for train_country in countries:\n",
    "        # Prepare the country dataframe with time-shift labels\n",
    "        country_features_df = pd.read_csv('features/m_one/%s_features.csv' % train_country, sep=';', header=0)\n",
    "        train_country_df = pd.concat([country_features_df, \n",
    "                                      labels_df.drop(columns=['date'])], axis=1)[cols+[train_country]]\n",
    "        train_country_df['label'] = train_country_df[train_country].shift(periods=1)\n",
    "        base_train_df = train_country_df.drop(train_country, axis=1).fillna(0.00);\n",
    "        base_train_df.set_index('date');\n",
    "        train_df = base_train_df[model_cols]\n",
    "        \n",
    "        # Prepare the data for the time series transformer\n",
    "        s, t, h, y = timeseries_dataprep(len(train_df), num_variables, params['num_timesteps'], train_df)\n",
    "        \n",
    "        srcs.append(s)\n",
    "        tgts.append(t)\n",
    "        hist.append(h)\n",
    "        lbls.append(y)\n",
    "        \n",
    "    n_obs = len(countries) * len(lbls[0])\n",
    "    \n",
    "    srcs_input = np.asarray(srcs)\n",
    "    srcs_arr = srcs_input.reshape((n_obs, num_variables, 1))\n",
    "    tars_input = np.asarray(tgts)\n",
    "    tar_arr = tars_input.reshape((n_obs, num_variables, 1))\n",
    "    srcs_hist_input = np.asarray(hist)\n",
    "    src_hist_arr = srcs_hist_input.reshape((n_obs, num_variables, num_timesteps))\n",
    "    lbls_input = np.asarray(lbls)\n",
    "    y_arr = lbls_input.reshape((n_obs, 1))\n",
    "    \n",
    "    return srcs_arr, src_hist_arr, tar_arr, y_arr"
   ]
  },
  {
   "cell_type": "code",
   "execution_count": 157,
   "metadata": {},
   "outputs": [],
   "source": [
    "train_src, train_src_history, train_tar, train_y = train_dataprep(cols, model_cols, num_variables,\n",
    "                                                                  params['num_timesteps'], train_countries)"
   ]
  },
  {
   "cell_type": "code",
   "execution_count": 205,
   "metadata": {},
   "outputs": [],
   "source": [
    "src, tar, src_history, y = timeseries_dataprep(len(factual_df), num_variables, params['num_timesteps'], factual_df)"
   ]
  },
  {
   "cell_type": "code",
   "execution_count": 159,
   "metadata": {},
   "outputs": [],
   "source": [
    "n = len(factual_df) - (params['num_timesteps'] + 1)"
   ]
  },
  {
   "cell_type": "markdown",
   "metadata": {},
   "source": [
    "### Model architecture\n",
    "\n",
    "The model architecture is that of a transformer-based time series generator. A set of variables at fixed positions is used as source, and that same set of in the next timestep is used as target. Since the model is ran over continuous variables, rather than an embedding $n$ context timesteps are fed to the model encoded with relative positional embeddings. Since the autoregression of interest are learnt from the context timesteps rather than from the position of the variable in $\\textbf{x}$ (where ordering is fixed but random), some modifications had to be made to ensure the model learnt correct dependencies between variables in the multivariate set $\\textbf{x}$. Furthermore, rather than tokens, the generator needs to learn continous variables. The approach here is inspired by an application of the transformer architecture to music generation by [the Google Magenta team](https://magenta.tensorflow.org/music-transformer).\n",
    "\n",
    "The Transformer implementation in TensorFlow Keras is adapted for timeseries from [the TensorFlow transformer tutorial](https://www.tensorflow.org/beta/tutorials/text/transformer) for neural machine translation."
   ]
  },
  {
   "cell_type": "code",
   "execution_count": 163,
   "metadata": {},
   "outputs": [],
   "source": [
    "def get_angles(pos, i, d_model):\n",
    "    angle_rates = 1 / np.power(10000, (2 * (i//2)) / np.float32(d_model))\n",
    "    return pos * angle_rates"
   ]
  },
  {
   "cell_type": "code",
   "execution_count": 164,
   "metadata": {},
   "outputs": [],
   "source": [
    "def positional_encoding(num_positions, d_model):\n",
    "    angle_rads = get_angles(np.arange(num_positions)[:, np.newaxis], np.arange(d_model)[np.newaxis, :], d_model)\n",
    "    angle_rads[:, 0::2] = np.sin(angle_rads[:, 0::2])\n",
    "    angle_rads[:, 1::2] = np.cos(angle_rads[:, 1::2])\n",
    "    pos_encoding = angle_rads[np.newaxis, ...]\n",
    "    return tf.cast(pos_encoding, dtype=tf.float32)"
   ]
  },
  {
   "cell_type": "code",
   "execution_count": 165,
   "metadata": {},
   "outputs": [],
   "source": [
    "def scaled_dot_product_attention(q, k, v):\n",
    "    matmul_qk = tf.matmul(q, k, transpose_b=True) \n",
    "    dk = tf.cast(tf.shape(k)[-1], tf.float32)\n",
    "    scaled_attention_logits = matmul_qk / tf.math.sqrt(dk)\n",
    "\n",
    "    attention_weights = tf.nn.softmax(scaled_attention_logits, axis=-1)\n",
    "    output = tf.matmul(attention_weights, v)\n",
    "    return output, attention_weights"
   ]
  },
  {
   "cell_type": "code",
   "execution_count": 166,
   "metadata": {},
   "outputs": [],
   "source": [
    "class MultiHeadAttention(tf.keras.layers.Layer):\n",
    "    def __init__(self, d_model, num_heads):\n",
    "        super(MultiHeadAttention, self).__init__()\n",
    "        self.num_heads = num_heads\n",
    "        self.d_model = d_model\n",
    "        assert d_model % self.num_heads == 0\n",
    "        self.depth = d_model // self.num_heads\n",
    "        self.wq = tf.keras.layers.Dense(d_model)\n",
    "        self.wk = tf.keras.layers.Dense(d_model)\n",
    "        self.wv = tf.keras.layers.Dense(d_model)\n",
    "        self.dense = tf.keras.layers.Dense(d_model)\n",
    "          \n",
    "    def split_heads(self, x, batch_size):\n",
    "        x = tf.reshape(x, (batch_size, -1, self.num_heads, self.depth))\n",
    "        return tf.transpose(x, perm=[0, 2, 1, 3])\n",
    "      \n",
    "    def call(self, v, k, q):\n",
    "        batch_size = tf.shape(q)[0]\n",
    "      \n",
    "        q = self.wq(q)\n",
    "        k = self.wk(k)\n",
    "        v = self.wv(v)\n",
    "      \n",
    "        q = self.split_heads(q, batch_size)\n",
    "        k = self.split_heads(k, batch_size) \n",
    "        v = self.split_heads(v, batch_size) \n",
    "\n",
    "        scaled_attention, attention_weights = scaled_dot_product_attention(q, k, v)\n",
    "        scaled_attention = tf.transpose(scaled_attention, perm=[0, 2, 1, 3])\n",
    "        concat_attention = tf.reshape(scaled_attention, (batch_size, -1, self.d_model))\n",
    "    \n",
    "        output = self.dense(concat_attention)\n",
    "        return output, attention_weights"
   ]
  },
  {
   "cell_type": "code",
   "execution_count": 167,
   "metadata": {},
   "outputs": [],
   "source": [
    "def point_wise_feed_forward_network(d_model, dff):\n",
    "    return tf.keras.Sequential([tf.keras.layers.Dense(dff, activation='relu'), tf.keras.layers.Dense(d_model)])"
   ]
  },
  {
   "cell_type": "code",
   "execution_count": 168,
   "metadata": {},
   "outputs": [],
   "source": [
    "class TimeseriesEncoderLayer(tf.keras.layers.Layer):\n",
    "    def __init__(self, d_model, num_heads, dff, num_variables, num_timesteps, rate=0.1):\n",
    "        super(TimeseriesEncoderLayer, self).__init__()\n",
    "        \n",
    "        self.mha = MultiHeadAttention(d_model, num_heads)\n",
    "        self.ffn = point_wise_feed_forward_network(d_model, dff)\n",
    "    \n",
    "        self.layernorm1 = tf.keras.layers.LayerNormalization(epsilon=1e-6)\n",
    "        self.layernorm2 = tf.keras.layers.LayerNormalization(epsilon=1e-6)\n",
    "        \n",
    "        self.dropout1 = tf.keras.layers.Dropout(rate)\n",
    "        self.dropout2 = tf.keras.layers.Dropout(rate)\n",
    "      \n",
    "    def call(self, inputs, x, training):\n",
    "        attn_output, _ = self.mha(x, k=x, q=inputs)\n",
    "        attn_output = self.dropout1(attn_output, training=training)\n",
    "        out1 = self.layernorm1(inputs + attn_output)\n",
    "        \n",
    "        ffn_output = self.ffn(out1)\n",
    "        ffn_output = self.dropout2(ffn_output, training=training)\n",
    "        out2 = self.layernorm2(out1 + ffn_output)\n",
    "        return out2"
   ]
  },
  {
   "cell_type": "code",
   "execution_count": 169,
   "metadata": {},
   "outputs": [
    {
     "data": {
      "text/plain": [
       "TensorShape([16, 11, 512])"
      ]
     },
     "execution_count": 169,
     "metadata": {},
     "output_type": "execute_result"
    }
   ],
   "source": [
    "sample_encoder = TimeseriesEncoderLayer(512, 8, 2048, params['num_variables'], params['num_timesteps'])\n",
    "sample_encoder_output = sample_encoder(\n",
    "    tf.random.uniform((params['batch_size'], params['num_variables'], 1)),\n",
    "    x=tf.random.uniform((params['batch_size'], params['num_variables'], params['num_timesteps'])),\n",
    "    training=False)\n",
    "sample_encoder_output.shape"
   ]
  },
  {
   "cell_type": "code",
   "execution_count": 170,
   "metadata": {},
   "outputs": [],
   "source": [
    "class TimeseriesDecoderLayer(tf.keras.layers.Layer):\n",
    "    def __init__(self, d_model, num_heads, dff, num_variables, num_timesteps, rate=0.1):\n",
    "        super(TimeseriesDecoderLayer, self).__init__()\n",
    "    \n",
    "        self.mha1 = MultiHeadAttention(d_model, num_heads)\n",
    "        self.mha2 = MultiHeadAttention(d_model, num_heads)\n",
    "    \n",
    "        self.ffn = point_wise_feed_forward_network(d_model, dff)\n",
    "     \n",
    "        self.layernorm1 = tf.keras.layers.LayerNormalization(epsilon=1e-6)\n",
    "        self.layernorm2 = tf.keras.layers.LayerNormalization(epsilon=1e-6)\n",
    "        self.layernorm3 = tf.keras.layers.LayerNormalization(epsilon=1e-6)\n",
    "        \n",
    "        self.dropout1 = tf.keras.layers.Dropout(rate)\n",
    "        self.dropout2 = tf.keras.layers.Dropout(rate)\n",
    "        self.dropout3 = tf.keras.layers.Dropout(rate)\n",
    "      \n",
    "      \n",
    "    def call(self, inputs, x, training):\n",
    "        attn1, attn_weights_block1 = self.mha1(x, k=x, q=inputs)\n",
    "        attn1 = self.dropout1(attn1, training=training)\n",
    "        out1 = self.layernorm1(attn1 + inputs)\n",
    "        \n",
    "        attn2, attn_weights_block2 = self.mha2(x, k=x, q=out1)\n",
    "        attn2 = self.dropout2(attn2, training=training)\n",
    "        out2 = self.layernorm2(attn2 + out1)\n",
    "        \n",
    "        ffn_output = self.ffn(out2)\n",
    "        ffn_output = self.dropout3(ffn_output, training=training)\n",
    "        out3 = self.layernorm3(ffn_output + out2)\n",
    "        return out3, attn_weights_block1, attn_weights_block2"
   ]
  },
  {
   "cell_type": "code",
   "execution_count": 171,
   "metadata": {},
   "outputs": [
    {
     "data": {
      "text/plain": [
       "TensorShape([16, 11, 512])"
      ]
     },
     "execution_count": 171,
     "metadata": {},
     "output_type": "execute_result"
    }
   ],
   "source": [
    "sample_decoder = TimeseriesDecoderLayer(512, 8, 2048, params['num_variables'], params['num_timesteps'])\n",
    "\n",
    "sample_decoder_output, _, _ = sample_decoder(\n",
    "    tf.random.uniform((params['batch_size'], params['num_variables'], 1)),\n",
    "    x=tf.random.uniform((params['batch_size'], params['num_variables'], params['num_timesteps'])),\n",
    "    training=False)\n",
    "\n",
    "sample_decoder_output.shape"
   ]
  },
  {
   "cell_type": "code",
   "execution_count": 172,
   "metadata": {},
   "outputs": [],
   "source": [
    "class TimeseriesEncoder(tf.keras.layers.Layer):\n",
    "    def __init__(self, num_layers, d_model, num_heads, dff, num_variables, num_timesteps, rate=0.1):\n",
    "        super(TimeseriesEncoder, self).__init__()\n",
    "    \n",
    "        self.d_model = d_model\n",
    "        self.num_layers = num_layers\n",
    "        self.num_variables = num_variables\n",
    "        self.num_timesteps = num_timesteps\n",
    "        \n",
    "        self.pos_encoding = positional_encoding(self.d_model * 4, self.d_model)        \n",
    "        self.enc_layers = [TimeseriesEncoderLayer(d_model, num_heads, dff,\n",
    "                                                  num_variables, num_timesteps, rate) for _ in range(num_layers)]\n",
    "      \n",
    "        self.dropout = tf.keras.layers.Dropout(rate)\n",
    "            \n",
    "    def call(self, inputs, history, training):\n",
    "        x = tf.concat([inputs, history], axis=-1)\n",
    "        x *= tf.math.sqrt(tf.cast(self.d_model, tf.float32))\n",
    "        x += self.pos_encoding[:, :self.num_variables, :self.num_timesteps+1]\n",
    "        \n",
    "        x = self.dropout(x, training=training)\n",
    "        \n",
    "        for i in range(self.num_layers):\n",
    "            x = self.enc_layers[i](inputs, x=x, training=training)\n",
    "        \n",
    "        return x"
   ]
  },
  {
   "cell_type": "code",
   "execution_count": 173,
   "metadata": {},
   "outputs": [
    {
     "name": "stdout",
     "output_type": "stream",
     "text": [
      "(16, 11, 256)\n"
     ]
    }
   ],
   "source": [
    "sample_encoder = TimeseriesEncoder(num_layers=2, d_model=params['d_model'], num_heads=params['num_heads'],\n",
    "                                   dff=params['dff'], num_variables=params['num_variables'], \n",
    "                                   num_timesteps=params['num_timesteps'])\n",
    "\n",
    "sample_encoder_output = sample_encoder(\n",
    "    tf.random.uniform((params['batch_size'], params['num_variables'], 1)),\n",
    "    history=tf.random.uniform((params['batch_size'], params['num_variables'], \n",
    "                               params['num_timesteps'])),\n",
    "    training=False)\n",
    "print (sample_encoder_output.shape)"
   ]
  },
  {
   "cell_type": "code",
   "execution_count": 174,
   "metadata": {},
   "outputs": [],
   "source": [
    "# print (sample_encoder_output)"
   ]
  },
  {
   "cell_type": "code",
   "execution_count": 175,
   "metadata": {},
   "outputs": [],
   "source": [
    "class TimeseriesDecoder(tf.keras.layers.Layer):\n",
    "    def __init__(self, num_layers, d_model, num_heads, dff, num_variables, num_timesteps, rate=0.1):\n",
    "        super(TimeseriesDecoder, self).__init__()\n",
    "    \n",
    "        self.d_model = d_model\n",
    "        self.num_layers = num_layers\n",
    "        self.num_variables = num_variables\n",
    "        self.num_timesteps = num_timesteps\n",
    "        \n",
    "        self.pos_encoding = positional_encoding(self.d_model * 2, self.d_model)\n",
    "        self.dec_layers = [TimeseriesDecoderLayer(d_model, num_heads, dff, num_variables, num_timesteps, rate)\n",
    "                           for _ in range(num_layers)]\n",
    "        self.dropout = tf.keras.layers.Dropout(rate)\n",
    "      \n",
    "    def call(self, inputs, x, training):\n",
    "        attention_weights = {}\n",
    "        \n",
    "        x *= tf.math.sqrt(tf.cast(self.d_model, tf.float32))\n",
    "        x += self.pos_encoding[:, :self.num_variables, :self.d_model]\n",
    "        \n",
    "        x = self.dropout(x, training=training)\n",
    "    \n",
    "        for i in range(self.num_layers):\n",
    "            x, block1, block2 = self.dec_layers[i](inputs, x=x, training=training)\n",
    "            attention_weights['decoder_layer{}_block1'.format(i+1)] = block1\n",
    "            attention_weights['decoder_layer{}_block2'.format(i+1)] = block2\n",
    "        \n",
    "        return x"
   ]
  },
  {
   "cell_type": "code",
   "execution_count": 176,
   "metadata": {},
   "outputs": [
    {
     "data": {
      "text/plain": [
       "TensorShape([16, 11, 256])"
      ]
     },
     "execution_count": 176,
     "metadata": {},
     "output_type": "execute_result"
    }
   ],
   "source": [
    "sample_decoder = TimeseriesDecoder(num_layers=2, d_model=256, num_heads=8, dff=2048, \n",
    "                                   num_variables=params['num_variables'],\n",
    "                                   num_timesteps=params['num_timesteps'])\n",
    "\n",
    "output = sample_decoder(\n",
    "    tf.random.uniform((params['batch_size'], params['num_variables'], 1)),\n",
    "    x=sample_encoder_output, \n",
    "    training=False)\n",
    "\n",
    "output.shape"
   ]
  },
  {
   "cell_type": "code",
   "execution_count": 177,
   "metadata": {},
   "outputs": [],
   "source": [
    "class TimeseriesTransformer(tf.keras.layers.Layer):\n",
    "    def __init__(self, num_layers, d_model, num_heads, dff, num_variables, num_timesteps, batch_size, rate=0.1):\n",
    "        super(TimeseriesTransformer, self).__init__()\n",
    "\n",
    "        self.encoder = TimeseriesEncoder(num_layers, d_model, num_heads, dff, num_variables, num_timesteps, rate)\n",
    "        self.reshape = tf.keras.layers.Reshape((num_variables, 1))\n",
    "        self.decoder = TimeseriesDecoder(num_layers, d_model, num_heads, dff, num_variables, num_timesteps, rate)\n",
    "        self.output_layer = tf.keras.layers.Dense(num_variables, kernel_initializer='he_uniform',\n",
    "                                                  activation='sigmoid')\n",
    "    \n",
    "    def call(self, inputs, hist=None, tar=None, training=False):\n",
    "        enc_output = self.encoder(inputs, history=hist, training=training)\n",
    "        x = self.reshape(inputs)\n",
    "        x = tf.keras.layers.Add()([x, enc_output])\n",
    "        dec_output = self.decoder(tar, x=x, training=training)\n",
    "        \n",
    "        model_output = tf.keras.layers.Flatten()(dec_output)\n",
    "        final_output = self.output_layer(model_output)\n",
    "        return final_output"
   ]
  },
  {
   "cell_type": "code",
   "execution_count": 178,
   "metadata": {},
   "outputs": [
    {
     "data": {
      "text/plain": [
       "TensorShape([16, 11])"
      ]
     },
     "execution_count": 178,
     "metadata": {},
     "output_type": "execute_result"
    }
   ],
   "source": [
    "sample_transformer = TimeseriesTransformer(num_layers=1, d_model=512, num_heads=1, dff=2048, \n",
    "                                           num_timesteps=params['num_timesteps'],\n",
    "                                           num_variables=params['num_variables'],\n",
    "                                           batch_size=params['batch_size'])\n",
    "\n",
    "t = tf.random.uniform((params['batch_size'], params['num_variables'], 1))\n",
    "hist = tf.random.uniform((params['batch_size'], params['num_variables'], params['num_timesteps']))\n",
    "t_plus_one = tf.random.uniform((params['batch_size'], params['num_variables'], 1))\n",
    "\n",
    "fn_out = sample_transformer(t, hist=hist, tar=t_plus_one)\n",
    "\n",
    "fn_out.shape"
   ]
  },
  {
   "cell_type": "markdown",
   "metadata": {},
   "source": [
    "### Build the timeseries transformer model"
   ]
  },
  {
   "cell_type": "code",
   "execution_count": 179,
   "metadata": {},
   "outputs": [],
   "source": [
    "def simulator_schedule(epoch, lr):\n",
    "    if epoch > 0 and epoch % 5 == 0:\n",
    "        return lr / (epoch / 5)\n",
    "    else:\n",
    "        return lr"
   ]
  },
  {
   "cell_type": "code",
   "execution_count": 180,
   "metadata": {},
   "outputs": [],
   "source": [
    "if os.path.exists('./output'):\n",
    "    shutil.rmtree('./output/')"
   ]
  },
  {
   "cell_type": "code",
   "execution_count": 181,
   "metadata": {},
   "outputs": [],
   "source": [
    "es = tf.keras.callbacks.EarlyStopping(monitor='loss', mode='min', patience=2)\n",
    "lr = tf.keras.callbacks.LearningRateScheduler(simulator_schedule, verbose=0)\n",
    "tb = tf.keras.callbacks.TensorBoard(log_dir='./output', histogram_freq=1, write_graph=True)"
   ]
  },
  {
   "cell_type": "code",
   "execution_count": 182,
   "metadata": {},
   "outputs": [],
   "source": [
    "tf.keras.backend.clear_session()"
   ]
  },
  {
   "cell_type": "code",
   "execution_count": 191,
   "metadata": {},
   "outputs": [],
   "source": [
    "def build_simulator(params, model_name='simulator'):\n",
    "    src = tf.keras.Input(shape=(params['num_variables'], 1), name='src_input')\n",
    "    hist = tf.keras.Input(shape=(params['num_variables'], params['num_timesteps']), name='hist_input')\n",
    "    tar = tf.keras.Input(shape=(params['num_variables'], 1), name='tar_input')\n",
    "    \n",
    "    transformer = TimeseriesTransformer(num_layers=params['num_layers'], num_heads=params['num_heads'], \n",
    "                                        d_model=params['d_model'], dff=params['dff'], \n",
    "                                        num_variables=params['num_variables'],\n",
    "                                        num_timesteps=params['num_timesteps'], batch_size=params['batch_size'])\n",
    "    simulation = transformer(src, hist=hist, tar=tar, training=True)\n",
    "    simulation = tf.keras.layers.Reshape((params['num_variables'], 1), name='simulation')(simulation)\n",
    "    predicted = tf.keras.layers.Dense(1, activation='tanh', name='predicted')(simulation)\n",
    "    generator = tf.keras.Model(inputs=[src, hist, tar], outputs=[simulation, predicted], name=model_name)\n",
    "    generator.summary()\n",
    "    \n",
    "    return generator"
   ]
  },
  {
   "cell_type": "code",
   "execution_count": 196,
   "metadata": {},
   "outputs": [],
   "source": [
    "losses = {\"simulation\": \"mean_absolute_error\", \"predicted\": \"mean_absolute_error\"}"
   ]
  },
  {
   "cell_type": "code",
   "execution_count": 197,
   "metadata": {},
   "outputs": [],
   "source": [
    "loss_weights = {\"simulation\": 0.5, \"predicted\": 1.0}"
   ]
  },
  {
   "cell_type": "code",
   "execution_count": 198,
   "metadata": {},
   "outputs": [
    {
     "name": "stdout",
     "output_type": "stream",
     "text": [
      "Model: \"simulator\"\n",
      "__________________________________________________________________________________________________\n",
      "Layer (type)                    Output Shape         Param #     Connected to                     \n",
      "==================================================================================================\n",
      "src_input (InputLayer)          [(None, 11, 1)]      0                                            \n",
      "__________________________________________________________________________________________________\n",
      "hist_input (InputLayer)         [(None, 11, 4)]      0                                            \n",
      "__________________________________________________________________________________________________\n",
      "tar_input (InputLayer)          [(None, 11, 1)]      0                                            \n",
      "__________________________________________________________________________________________________\n",
      "timeseries_transformer_3 (Times (None, 11)           3327755     src_input[0][0]                  \n",
      "__________________________________________________________________________________________________\n",
      "simulation (Reshape)            (None, 11, 1)        0           timeseries_transformer_3[0][0]   \n",
      "__________________________________________________________________________________________________\n",
      "predicted (Dense)               (None, 11, 1)        2           simulation[0][0]                 \n",
      "==================================================================================================\n",
      "Total params: 3,327,757\n",
      "Trainable params: 3,327,757\n",
      "Non-trainable params: 0\n",
      "__________________________________________________________________________________________________\n"
     ]
    }
   ],
   "source": [
    "simulator = build_simulator(params)\n",
    "simulator.compile('adam', loss=losses, loss_weights=loss_weights, metrics=['mse'])"
   ]
  },
  {
   "cell_type": "code",
   "execution_count": 199,
   "metadata": {},
   "outputs": [
    {
     "name": "stdout",
     "output_type": "stream",
     "text": [
      "WARNING:tensorflow:Model failed to serialize as JSON. Ignoring... Layer TimeseriesTransformer has arguments in `__init__` and therefore must override `get_config`.\n",
      "Epoch 1/25\n",
      "519/519 [==============================] - 54s 104ms/step - loss: 0.3591 - simulation_loss: 0.2105 - predicted_loss: 0.2539 - simulation_mse: 0.4181 - predicted_mse: 2.7086 - lr: 0.0010\n",
      "Epoch 2/25\n",
      "519/519 [==============================] - 52s 100ms/step - loss: 0.3586 - simulation_loss: 0.2098 - predicted_loss: 0.2537 - simulation_mse: 0.4272 - predicted_mse: 2.7710 - lr: 0.0010\n",
      "Epoch 3/25\n",
      "519/519 [==============================] - 46s 89ms/step - loss: 0.3586 - simulation_loss: 0.2098 - predicted_loss: 0.2537 - simulation_mse: 0.4272 - predicted_mse: 2.7712 - lr: 0.0010\n",
      "Epoch 4/25\n",
      "519/519 [==============================] - 49s 95ms/step - loss: 0.3586 - simulation_loss: 0.2098 - predicted_loss: 0.2537 - simulation_mse: 0.4272 - predicted_mse: 2.7712 - lr: 0.0010\n"
     ]
    },
    {
     "data": {
      "text/plain": [
       "<tensorflow.python.keras.callbacks.History at 0x14835d910>"
      ]
     },
     "execution_count": 199,
     "metadata": {},
     "output_type": "execute_result"
    }
   ],
   "source": [
    "simulator.fit([train_src, train_src_history, train_tar], {\"simulation\": train_tar, \"predicted\": train_y}, \n",
    "              batch_size=params['batch_size'], epochs=params['num_epochs'], callbacks=[es, lr, tb])"
   ]
  },
  {
   "cell_type": "code",
   "execution_count": 200,
   "metadata": {},
   "outputs": [
    {
     "data": {
      "text/html": [
       "<div>\n",
       "<style scoped>\n",
       "    .dataframe tbody tr th:only-of-type {\n",
       "        vertical-align: middle;\n",
       "    }\n",
       "\n",
       "    .dataframe tbody tr th {\n",
       "        vertical-align: top;\n",
       "    }\n",
       "\n",
       "    .dataframe thead th {\n",
       "        text-align: right;\n",
       "    }\n",
       "</style>\n",
       "<table border=\"1\" class=\"dataframe\">\n",
       "  <thead>\n",
       "    <tr style=\"text-align: right;\">\n",
       "      <th></th>\n",
       "      <th>0</th>\n",
       "      <th>1</th>\n",
       "      <th>2</th>\n",
       "      <th>3</th>\n",
       "      <th>4</th>\n",
       "      <th>5</th>\n",
       "      <th>6</th>\n",
       "      <th>7</th>\n",
       "      <th>8</th>\n",
       "      <th>9</th>\n",
       "      <th>10</th>\n",
       "    </tr>\n",
       "  </thead>\n",
       "  <tbody>\n",
       "    <tr>\n",
       "      <th>count</th>\n",
       "      <td>8,292.0000</td>\n",
       "      <td>8,292.0000</td>\n",
       "      <td>8,292.0000</td>\n",
       "      <td>8,292.0000</td>\n",
       "      <td>8,292.0000</td>\n",
       "      <td>8,292.0000</td>\n",
       "      <td>8,292.0000</td>\n",
       "      <td>8,292.0000</td>\n",
       "      <td>8,292.0000</td>\n",
       "      <td>8,292.0000</td>\n",
       "      <td>8,292.0000</td>\n",
       "    </tr>\n",
       "    <tr>\n",
       "      <th>mean</th>\n",
       "      <td>0.0057</td>\n",
       "      <td>0.0554</td>\n",
       "      <td>0.1427</td>\n",
       "      <td>0.2926</td>\n",
       "      <td>0.1535</td>\n",
       "      <td>0.1491</td>\n",
       "      <td>0.0721</td>\n",
       "      <td>0.3690</td>\n",
       "      <td>0.3367</td>\n",
       "      <td>0.4620</td>\n",
       "      <td>0.2684</td>\n",
       "    </tr>\n",
       "    <tr>\n",
       "      <th>std</th>\n",
       "      <td>0.0202</td>\n",
       "      <td>0.1128</td>\n",
       "      <td>0.1505</td>\n",
       "      <td>0.2952</td>\n",
       "      <td>0.3137</td>\n",
       "      <td>0.2812</td>\n",
       "      <td>0.1485</td>\n",
       "      <td>0.6252</td>\n",
       "      <td>0.5676</td>\n",
       "      <td>0.4986</td>\n",
       "      <td>1.6494</td>\n",
       "    </tr>\n",
       "    <tr>\n",
       "      <th>min</th>\n",
       "      <td>0.0000</td>\n",
       "      <td>0.0000</td>\n",
       "      <td>-0.0481</td>\n",
       "      <td>0.0000</td>\n",
       "      <td>0.0000</td>\n",
       "      <td>0.0000</td>\n",
       "      <td>0.0000</td>\n",
       "      <td>0.0000</td>\n",
       "      <td>0.0000</td>\n",
       "      <td>0.0000</td>\n",
       "      <td>-0.0842</td>\n",
       "    </tr>\n",
       "    <tr>\n",
       "      <th>25%</th>\n",
       "      <td>0.0000</td>\n",
       "      <td>0.0000</td>\n",
       "      <td>0.0000</td>\n",
       "      <td>0.0000</td>\n",
       "      <td>0.0000</td>\n",
       "      <td>0.0000</td>\n",
       "      <td>0.0000</td>\n",
       "      <td>0.0000</td>\n",
       "      <td>0.0000</td>\n",
       "      <td>0.0000</td>\n",
       "      <td>0.0153</td>\n",
       "    </tr>\n",
       "    <tr>\n",
       "      <th>50%</th>\n",
       "      <td>0.0000</td>\n",
       "      <td>0.0000</td>\n",
       "      <td>0.1276</td>\n",
       "      <td>0.3536</td>\n",
       "      <td>0.0649</td>\n",
       "      <td>0.0695</td>\n",
       "      <td>0.0000</td>\n",
       "      <td>0.2228</td>\n",
       "      <td>0.0000</td>\n",
       "      <td>0.0000</td>\n",
       "      <td>0.0427</td>\n",
       "    </tr>\n",
       "    <tr>\n",
       "      <th>75%</th>\n",
       "      <td>0.0000</td>\n",
       "      <td>0.0660</td>\n",
       "      <td>0.2569</td>\n",
       "      <td>0.5634</td>\n",
       "      <td>0.1972</td>\n",
       "      <td>0.1852</td>\n",
       "      <td>0.0831</td>\n",
       "      <td>0.4703</td>\n",
       "      <td>0.4235</td>\n",
       "      <td>1.0000</td>\n",
       "      <td>0.0977</td>\n",
       "    </tr>\n",
       "    <tr>\n",
       "      <th>max</th>\n",
       "      <td>0.2159</td>\n",
       "      <td>0.8636</td>\n",
       "      <td>0.5492</td>\n",
       "      <td>0.9449</td>\n",
       "      <td>2.1098</td>\n",
       "      <td>1.9127</td>\n",
       "      <td>1.0591</td>\n",
       "      <td>4.4160</td>\n",
       "      <td>2.4238</td>\n",
       "      <td>1.0000</td>\n",
       "      <td>29.4773</td>\n",
       "    </tr>\n",
       "  </tbody>\n",
       "</table>\n",
       "</div>"
      ],
      "text/plain": [
       "                        0                    1                    2   \\\n",
       "count           8,292.0000           8,292.0000           8,292.0000   \n",
       "mean                0.0057               0.0554               0.1427   \n",
       "std                 0.0202               0.1128               0.1505   \n",
       "min                 0.0000               0.0000              -0.0481   \n",
       "25%                 0.0000               0.0000               0.0000   \n",
       "50%                 0.0000               0.0000               0.1276   \n",
       "75%                 0.0000               0.0660               0.2569   \n",
       "max                 0.2159               0.8636               0.5492   \n",
       "\n",
       "                        3                    4                    5   \\\n",
       "count           8,292.0000           8,292.0000           8,292.0000   \n",
       "mean                0.2926               0.1535               0.1491   \n",
       "std                 0.2952               0.3137               0.2812   \n",
       "min                 0.0000               0.0000               0.0000   \n",
       "25%                 0.0000               0.0000               0.0000   \n",
       "50%                 0.3536               0.0649               0.0695   \n",
       "75%                 0.5634               0.1972               0.1852   \n",
       "max                 0.9449               2.1098               1.9127   \n",
       "\n",
       "                        6                    7                    8   \\\n",
       "count           8,292.0000           8,292.0000           8,292.0000   \n",
       "mean                0.0721               0.3690               0.3367   \n",
       "std                 0.1485               0.6252               0.5676   \n",
       "min                 0.0000               0.0000               0.0000   \n",
       "25%                 0.0000               0.0000               0.0000   \n",
       "50%                 0.0000               0.2228               0.0000   \n",
       "75%                 0.0831               0.4703               0.4235   \n",
       "max                 1.0591               4.4160               2.4238   \n",
       "\n",
       "                        9                    10  \n",
       "count           8,292.0000           8,292.0000  \n",
       "mean                0.4620               0.2684  \n",
       "std                 0.4986               1.6494  \n",
       "min                 0.0000              -0.0842  \n",
       "25%                 0.0000               0.0153  \n",
       "50%                 0.0000               0.0427  \n",
       "75%                 1.0000               0.0977  \n",
       "max                 1.0000              29.4773  "
      ]
     },
     "execution_count": 200,
     "metadata": {},
     "output_type": "execute_result"
    }
   ],
   "source": [
    "generator_target = map(lambda v: v.flatten(), train_tar)\n",
    "pd.DataFrame(generator_target).describe()"
   ]
  },
  {
   "cell_type": "code",
   "execution_count": 220,
   "metadata": {},
   "outputs": [
    {
     "data": {
      "text/html": [
       "<div>\n",
       "<style scoped>\n",
       "    .dataframe tbody tr th:only-of-type {\n",
       "        vertical-align: middle;\n",
       "    }\n",
       "\n",
       "    .dataframe tbody tr th {\n",
       "        vertical-align: top;\n",
       "    }\n",
       "\n",
       "    .dataframe thead th {\n",
       "        text-align: right;\n",
       "    }\n",
       "</style>\n",
       "<table border=\"1\" class=\"dataframe\">\n",
       "  <thead>\n",
       "    <tr style=\"text-align: right;\">\n",
       "      <th></th>\n",
       "      <th>0</th>\n",
       "      <th>1</th>\n",
       "      <th>2</th>\n",
       "      <th>3</th>\n",
       "      <th>4</th>\n",
       "      <th>5</th>\n",
       "      <th>6</th>\n",
       "      <th>7</th>\n",
       "      <th>8</th>\n",
       "      <th>9</th>\n",
       "      <th>10</th>\n",
       "    </tr>\n",
       "  </thead>\n",
       "  <tbody>\n",
       "    <tr>\n",
       "      <th>count</th>\n",
       "      <td>691.0000</td>\n",
       "      <td>691.0000</td>\n",
       "      <td>691.0000</td>\n",
       "      <td>691.0000</td>\n",
       "      <td>691.0000</td>\n",
       "      <td>691.0000</td>\n",
       "      <td>691.0000</td>\n",
       "      <td>691.0000</td>\n",
       "      <td>691.0000</td>\n",
       "      <td>691.0000</td>\n",
       "      <td>691.0000</td>\n",
       "    </tr>\n",
       "    <tr>\n",
       "      <th>mean</th>\n",
       "      <td>0.0000</td>\n",
       "      <td>0.0000</td>\n",
       "      <td>0.0000</td>\n",
       "      <td>0.0023</td>\n",
       "      <td>0.0003</td>\n",
       "      <td>0.0004</td>\n",
       "      <td>0.0000</td>\n",
       "      <td>0.0001</td>\n",
       "      <td>0.0000</td>\n",
       "      <td>0.0000</td>\n",
       "      <td>0.0000</td>\n",
       "    </tr>\n",
       "    <tr>\n",
       "      <th>std</th>\n",
       "      <td>0.0000</td>\n",
       "      <td>0.0000</td>\n",
       "      <td>0.0000</td>\n",
       "      <td>0.0010</td>\n",
       "      <td>0.0001</td>\n",
       "      <td>0.0002</td>\n",
       "      <td>0.0000</td>\n",
       "      <td>0.0001</td>\n",
       "      <td>0.0000</td>\n",
       "      <td>0.0000</td>\n",
       "      <td>0.0000</td>\n",
       "    </tr>\n",
       "    <tr>\n",
       "      <th>min</th>\n",
       "      <td>0.0000</td>\n",
       "      <td>0.0000</td>\n",
       "      <td>0.0000</td>\n",
       "      <td>0.0006</td>\n",
       "      <td>0.0001</td>\n",
       "      <td>0.0001</td>\n",
       "      <td>0.0000</td>\n",
       "      <td>0.0000</td>\n",
       "      <td>0.0000</td>\n",
       "      <td>0.0000</td>\n",
       "      <td>0.0000</td>\n",
       "    </tr>\n",
       "    <tr>\n",
       "      <th>25%</th>\n",
       "      <td>0.0000</td>\n",
       "      <td>0.0000</td>\n",
       "      <td>0.0000</td>\n",
       "      <td>0.0016</td>\n",
       "      <td>0.0002</td>\n",
       "      <td>0.0002</td>\n",
       "      <td>0.0000</td>\n",
       "      <td>0.0001</td>\n",
       "      <td>0.0000</td>\n",
       "      <td>0.0000</td>\n",
       "      <td>0.0000</td>\n",
       "    </tr>\n",
       "    <tr>\n",
       "      <th>50%</th>\n",
       "      <td>0.0000</td>\n",
       "      <td>0.0000</td>\n",
       "      <td>0.0000</td>\n",
       "      <td>0.0021</td>\n",
       "      <td>0.0003</td>\n",
       "      <td>0.0003</td>\n",
       "      <td>0.0000</td>\n",
       "      <td>0.0001</td>\n",
       "      <td>0.0000</td>\n",
       "      <td>0.0000</td>\n",
       "      <td>0.0000</td>\n",
       "    </tr>\n",
       "    <tr>\n",
       "      <th>75%</th>\n",
       "      <td>0.0000</td>\n",
       "      <td>0.0000</td>\n",
       "      <td>0.0000</td>\n",
       "      <td>0.0028</td>\n",
       "      <td>0.0004</td>\n",
       "      <td>0.0004</td>\n",
       "      <td>0.0000</td>\n",
       "      <td>0.0002</td>\n",
       "      <td>0.0000</td>\n",
       "      <td>0.0000</td>\n",
       "      <td>0.0000</td>\n",
       "    </tr>\n",
       "    <tr>\n",
       "      <th>max</th>\n",
       "      <td>0.0000</td>\n",
       "      <td>0.0000</td>\n",
       "      <td>0.0000</td>\n",
       "      <td>0.0084</td>\n",
       "      <td>0.0009</td>\n",
       "      <td>0.0011</td>\n",
       "      <td>0.0001</td>\n",
       "      <td>0.0004</td>\n",
       "      <td>0.0000</td>\n",
       "      <td>0.0000</td>\n",
       "      <td>0.0000</td>\n",
       "    </tr>\n",
       "  </tbody>\n",
       "</table>\n",
       "</div>"
      ],
      "text/plain": [
       "                        0                    1                    2   \\\n",
       "count             691.0000             691.0000             691.0000   \n",
       "mean                0.0000               0.0000               0.0000   \n",
       "std                 0.0000               0.0000               0.0000   \n",
       "min                 0.0000               0.0000               0.0000   \n",
       "25%                 0.0000               0.0000               0.0000   \n",
       "50%                 0.0000               0.0000               0.0000   \n",
       "75%                 0.0000               0.0000               0.0000   \n",
       "max                 0.0000               0.0000               0.0000   \n",
       "\n",
       "                        3                    4                    5   \\\n",
       "count             691.0000             691.0000             691.0000   \n",
       "mean                0.0023               0.0003               0.0004   \n",
       "std                 0.0010               0.0001               0.0002   \n",
       "min                 0.0006               0.0001               0.0001   \n",
       "25%                 0.0016               0.0002               0.0002   \n",
       "50%                 0.0021               0.0003               0.0003   \n",
       "75%                 0.0028               0.0004               0.0004   \n",
       "max                 0.0084               0.0009               0.0011   \n",
       "\n",
       "                        6                    7                    8   \\\n",
       "count             691.0000             691.0000             691.0000   \n",
       "mean                0.0000               0.0001               0.0000   \n",
       "std                 0.0000               0.0001               0.0000   \n",
       "min                 0.0000               0.0000               0.0000   \n",
       "25%                 0.0000               0.0001               0.0000   \n",
       "50%                 0.0000               0.0001               0.0000   \n",
       "75%                 0.0000               0.0002               0.0000   \n",
       "max                 0.0001               0.0004               0.0000   \n",
       "\n",
       "                        9                    10  \n",
       "count             691.0000             691.0000  \n",
       "mean                0.0000               0.0000  \n",
       "std                 0.0000               0.0000  \n",
       "min                 0.0000               0.0000  \n",
       "25%                 0.0000               0.0000  \n",
       "50%                 0.0000               0.0000  \n",
       "75%                 0.0000               0.0000  \n",
       "max                 0.0000               0.0000  "
      ]
     },
     "execution_count": 220,
     "metadata": {},
     "output_type": "execute_result"
    }
   ],
   "source": [
    "simulator_generated_values = simulator.predict([src, src_history, tar])\n",
    "generated_values = map(lambda v: v.flatten(), simulator_generated_values[0])\n",
    "gen_df = pd.DataFrame(generated_values)\n",
    "gen_df.describe()"
   ]
  },
  {
   "cell_type": "code",
   "execution_count": 221,
   "metadata": {},
   "outputs": [],
   "source": [
    "generated_cpi = gen_df[num_variables-1].values\n",
    "cpi = factual_df[['label']][0:n].values"
   ]
  },
  {
   "cell_type": "code",
   "execution_count": 222,
   "metadata": {},
   "outputs": [
    {
     "data": {
      "image/png": "[encoded data removed]",
      "text/plain": [
       "<Figure size 1080x504 with 1 Axes>"
      ]
     },
     "metadata": {},
     "output_type": "display_data"
    }
   ],
   "source": [
    "plt.figure(figsize=(15,7))\n",
    "plt.plot(cpi, label='observed cpi')\n",
    "plt.plot(generated_cpi, label='simulator generated cpi')\n",
    "plt.legend()\n",
    "plt.title('Observed versus simulator generated values for consumer price inflation in %s' % country)\n",
    "plt.show()"
   ]
  },
  {
   "cell_type": "code",
   "execution_count": 223,
   "metadata": {},
   "outputs": [
    {
     "name": "stdout",
     "output_type": "stream",
     "text": [
      "rmse: 0.03412648700641462\n",
      "mean observed: 0.025158758986210967\n",
      "mean generated: 1.0852799659903413e-19\n"
     ]
    }
   ],
   "source": [
    "print('rmse: %s\\nmean observed: %s\\nmean generated: %s' % (np.sqrt(mean_squared_error(cpi, generated_cpi)),\n",
    "                                                           np.mean(cpi), np.mean(generated_cpi)))"
   ]
  },
  {
   "cell_type": "code",
   "execution_count": 224,
   "metadata": {},
   "outputs": [],
   "source": [
    "generated_hhcons = gen_df[3].values\n",
    "gan_hhcons = factual_df[['household consumption expenditure']][0:n].values"
   ]
  },
  {
   "cell_type": "code",
   "execution_count": 225,
   "metadata": {},
   "outputs": [
    {
     "data": {
      "image/png": "[encoded data removed]",
      "text/plain": [
       "<Figure size 1080x504 with 1 Axes>"
      ]
     },
     "metadata": {},
     "output_type": "display_data"
    }
   ],
   "source": [
    "plt.figure(figsize=(15,7))\n",
    "plt.plot(gan_hhcons, label='observed household consumption expenditures')\n",
    "plt.plot(generated_hhcons, label='generated household consumption expenditures')\n",
    "plt.legend()\n",
    "plt.title('Observed versus  simulator generated values for household consumption expenditures in %s' % country)\n",
    "plt.show()"
   ]
  },
  {
   "cell_type": "markdown",
   "metadata": {},
   "source": [
    "## Counterfactual simulation\n",
    "\n",
    "In this simple simulation, the counterfactual conditional variable is `x` times what is found in the observed data."
   ]
  },
  {
   "cell_type": "code",
   "execution_count": 226,
   "metadata": {},
   "outputs": [],
   "source": [
    "cf_df = factual_df\n",
    "cf_df['trade'] = factual_df['trade'] * 2."
   ]
  },
  {
   "cell_type": "code",
   "execution_count": 227,
   "metadata": {},
   "outputs": [],
   "source": [
    "cf_src, cf_tar, cf_src_history, cf_y = timeseries_dataprep(num_obs, num_variables, params['num_timesteps'], cf_df)"
   ]
  },
  {
   "cell_type": "code",
   "execution_count": 228,
   "metadata": {},
   "outputs": [
    {
     "data": {
      "text/html": [
       "<div>\n",
       "<style scoped>\n",
       "    .dataframe tbody tr th:only-of-type {\n",
       "        vertical-align: middle;\n",
       "    }\n",
       "\n",
       "    .dataframe tbody tr th {\n",
       "        vertical-align: top;\n",
       "    }\n",
       "\n",
       "    .dataframe thead th {\n",
       "        text-align: right;\n",
       "    }\n",
       "</style>\n",
       "<table border=\"1\" class=\"dataframe\">\n",
       "  <thead>\n",
       "    <tr style=\"text-align: right;\">\n",
       "      <th></th>\n",
       "      <th>0</th>\n",
       "      <th>1</th>\n",
       "      <th>2</th>\n",
       "      <th>3</th>\n",
       "      <th>4</th>\n",
       "      <th>5</th>\n",
       "      <th>6</th>\n",
       "      <th>7</th>\n",
       "      <th>8</th>\n",
       "      <th>9</th>\n",
       "      <th>10</th>\n",
       "    </tr>\n",
       "  </thead>\n",
       "  <tbody>\n",
       "    <tr>\n",
       "      <th>count</th>\n",
       "      <td>691.0000</td>\n",
       "      <td>691.0000</td>\n",
       "      <td>691.0000</td>\n",
       "      <td>691.0000</td>\n",
       "      <td>691.0000</td>\n",
       "      <td>691.0000</td>\n",
       "      <td>691.0000</td>\n",
       "      <td>691.0000</td>\n",
       "      <td>691.0000</td>\n",
       "      <td>691.0000</td>\n",
       "      <td>691.0000</td>\n",
       "    </tr>\n",
       "    <tr>\n",
       "      <th>mean</th>\n",
       "      <td>0.0000</td>\n",
       "      <td>0.0000</td>\n",
       "      <td>0.0000</td>\n",
       "      <td>0.0027</td>\n",
       "      <td>0.0003</td>\n",
       "      <td>0.0004</td>\n",
       "      <td>0.0000</td>\n",
       "      <td>0.0001</td>\n",
       "      <td>0.0000</td>\n",
       "      <td>0.0000</td>\n",
       "      <td>0.0000</td>\n",
       "    </tr>\n",
       "    <tr>\n",
       "      <th>std</th>\n",
       "      <td>0.0000</td>\n",
       "      <td>0.0000</td>\n",
       "      <td>0.0000</td>\n",
       "      <td>0.0013</td>\n",
       "      <td>0.0001</td>\n",
       "      <td>0.0001</td>\n",
       "      <td>0.0000</td>\n",
       "      <td>0.0001</td>\n",
       "      <td>0.0000</td>\n",
       "      <td>0.0000</td>\n",
       "      <td>0.0000</td>\n",
       "    </tr>\n",
       "    <tr>\n",
       "      <th>min</th>\n",
       "      <td>0.0000</td>\n",
       "      <td>0.0000</td>\n",
       "      <td>0.0000</td>\n",
       "      <td>0.0006</td>\n",
       "      <td>0.0001</td>\n",
       "      <td>0.0001</td>\n",
       "      <td>0.0000</td>\n",
       "      <td>0.0000</td>\n",
       "      <td>0.0000</td>\n",
       "      <td>0.0000</td>\n",
       "      <td>0.0000</td>\n",
       "    </tr>\n",
       "    <tr>\n",
       "      <th>25%</th>\n",
       "      <td>0.0000</td>\n",
       "      <td>0.0000</td>\n",
       "      <td>0.0000</td>\n",
       "      <td>0.0018</td>\n",
       "      <td>0.0002</td>\n",
       "      <td>0.0002</td>\n",
       "      <td>0.0000</td>\n",
       "      <td>0.0001</td>\n",
       "      <td>0.0000</td>\n",
       "      <td>0.0000</td>\n",
       "      <td>0.0000</td>\n",
       "    </tr>\n",
       "    <tr>\n",
       "      <th>50%</th>\n",
       "      <td>0.0000</td>\n",
       "      <td>0.0000</td>\n",
       "      <td>0.0000</td>\n",
       "      <td>0.0024</td>\n",
       "      <td>0.0003</td>\n",
       "      <td>0.0003</td>\n",
       "      <td>0.0000</td>\n",
       "      <td>0.0001</td>\n",
       "      <td>0.0000</td>\n",
       "      <td>0.0000</td>\n",
       "      <td>0.0000</td>\n",
       "    </tr>\n",
       "    <tr>\n",
       "      <th>75%</th>\n",
       "      <td>0.0000</td>\n",
       "      <td>0.0000</td>\n",
       "      <td>0.0000</td>\n",
       "      <td>0.0034</td>\n",
       "      <td>0.0004</td>\n",
       "      <td>0.0004</td>\n",
       "      <td>0.0000</td>\n",
       "      <td>0.0002</td>\n",
       "      <td>0.0000</td>\n",
       "      <td>0.0000</td>\n",
       "      <td>0.0000</td>\n",
       "    </tr>\n",
       "    <tr>\n",
       "      <th>max</th>\n",
       "      <td>0.0000</td>\n",
       "      <td>0.0000</td>\n",
       "      <td>0.0000</td>\n",
       "      <td>0.0099</td>\n",
       "      <td>0.0010</td>\n",
       "      <td>0.0011</td>\n",
       "      <td>0.0001</td>\n",
       "      <td>0.0006</td>\n",
       "      <td>0.0000</td>\n",
       "      <td>0.0000</td>\n",
       "      <td>0.0000</td>\n",
       "    </tr>\n",
       "  </tbody>\n",
       "</table>\n",
       "</div>"
      ],
      "text/plain": [
       "                        0                    1                    2   \\\n",
       "count             691.0000             691.0000             691.0000   \n",
       "mean                0.0000               0.0000               0.0000   \n",
       "std                 0.0000               0.0000               0.0000   \n",
       "min                 0.0000               0.0000               0.0000   \n",
       "25%                 0.0000               0.0000               0.0000   \n",
       "50%                 0.0000               0.0000               0.0000   \n",
       "75%                 0.0000               0.0000               0.0000   \n",
       "max                 0.0000               0.0000               0.0000   \n",
       "\n",
       "                        3                    4                    5   \\\n",
       "count             691.0000             691.0000             691.0000   \n",
       "mean                0.0027               0.0003               0.0004   \n",
       "std                 0.0013               0.0001               0.0001   \n",
       "min                 0.0006               0.0001               0.0001   \n",
       "25%                 0.0018               0.0002               0.0002   \n",
       "50%                 0.0024               0.0003               0.0003   \n",
       "75%                 0.0034               0.0004               0.0004   \n",
       "max                 0.0099               0.0010               0.0011   \n",
       "\n",
       "                        6                    7                    8   \\\n",
       "count             691.0000             691.0000             691.0000   \n",
       "mean                0.0000               0.0001               0.0000   \n",
       "std                 0.0000               0.0001               0.0000   \n",
       "min                 0.0000               0.0000               0.0000   \n",
       "25%                 0.0000               0.0001               0.0000   \n",
       "50%                 0.0000               0.0001               0.0000   \n",
       "75%                 0.0000               0.0002               0.0000   \n",
       "max                 0.0001               0.0006               0.0000   \n",
       "\n",
       "                        9                    10  \n",
       "count             691.0000             691.0000  \n",
       "mean                0.0000               0.0000  \n",
       "std                 0.0000               0.0000  \n",
       "min                 0.0000               0.0000  \n",
       "25%                 0.0000               0.0000  \n",
       "50%                 0.0000               0.0000  \n",
       "75%                 0.0000               0.0000  \n",
       "max                 0.0000               0.0000  "
      ]
     },
     "execution_count": 228,
     "metadata": {},
     "output_type": "execute_result"
    }
   ],
   "source": [
    "sim_preds = simulator.predict([cf_src, cf_src_history, cf_tar])[0]\n",
    "counterfactual_predictions = map(lambda v: v.flatten(), sim_preds)\n",
    "cf_sim_df = pd.DataFrame(counterfactual_predictions)\n",
    "cf_sim_df.describe()"
   ]
  },
  {
   "cell_type": "code",
   "execution_count": 229,
   "metadata": {},
   "outputs": [],
   "source": [
    "cf_cpi = cf_sim_df[num_variables-1].values\n",
    "cpi = sim_df[['label']][0:n].values"
   ]
  },
  {
   "cell_type": "code",
   "execution_count": 230,
   "metadata": {},
   "outputs": [
    {
     "data": {
      "image/png": "[encoded data removed]",
      "text/plain": [
       "<Figure size 1080x504 with 1 Axes>"
      ]
     },
     "metadata": {},
     "output_type": "display_data"
    }
   ],
   "source": [
    "plt.figure(figsize=(15,7))\n",
    "plt.plot(cpi, label='observed cpi')\n",
    "plt.plot(cf_cpi, label='counterfactually generated cpi')\n",
    "plt.legend()\n",
    "plt.title('Observed versus counterfactually generated consumer price inflation in %s' % country)\n",
    "plt.show()"
   ]
  },
  {
   "cell_type": "code",
   "execution_count": 231,
   "metadata": {},
   "outputs": [
    {
     "name": "stdout",
     "output_type": "stream",
     "text": [
      "rmse: 0.03412648700641462\n",
      "mean observed: 0.025158758986210967\n",
      "mean generated: 1.0754457829231781e-19\n"
     ]
    }
   ],
   "source": [
    "print('rmse: %s\\nmean observed: %s\\nmean generated: %s' % (np.sqrt(mean_squared_error(cpi, cf_cpi)),\n",
    "                                                           np.mean(cpi), np.mean(cf_cpi)))"
   ]
  },
  {
   "cell_type": "code",
   "execution_count": null,
   "metadata": {},
   "outputs": [],
   "source": []
  }
 ],
 "metadata": {
  "kernelspec": {
   "display_name": "me",
   "language": "python",
   "name": "me"
  },
  "language_info": {
   "codemirror_mode": {
    "name": "ipython",
    "version": 3
   },
   "file_extension": ".py",
   "mimetype": "text/x-python",
   "name": "python",
   "nbconvert_exporter": "python",
   "pygments_lexer": "ipython3",
   "version": "3.7.7"
  }
 },
 "nbformat": 4,
 "nbformat_minor": 2
}
