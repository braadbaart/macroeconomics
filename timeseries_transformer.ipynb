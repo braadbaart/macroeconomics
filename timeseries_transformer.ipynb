{
 "cells": [
  {
   "cell_type": "markdown",
   "metadata": {},
   "source": [
    "# Counterfactual transformer for macroeconomic policy simulation\n",
    "\n",
    "The core idea is to use **counterfactual shifts** to simulate macroeconomic scenarios based on changes in one key indicator variable $i$ - the conditioning variable $c$. That is to say, to determine the effectiveness of for example a central bank policy measured by $\\textbf{x} = {x_1, x_2, ..., x_m}, \\textbf{x} \\subset X \\land i \\in X$ (with $\\textbf{x} = X \\setminus y$) when the exchange rate of a certain currency $i$ would have been different from that found in the real data (counterfactually shifting observed $i$ to simulated $c$ under macroeconomic scenario $s$), one needs to be able to model the effect of changes in variable $i$ on all other variables $\\textbf{x}$ in the dataset $X$.\n",
    "\n",
    "### The Bayesian model\n",
    "\n",
    "To formalize, the generative model needs to learn both the joint probability\n",
    "\n",
    "$$ P(i_t,\\textbf{x}_t) = P(X_{t-n:t-1}|i_{t-n:t-1},\\textbf{x}_{t-n:t-1}), i \\in X, \\textbf{x} \\subset X, i \\notin \\textbf{x}$$\n",
    "\n",
    "of the conditioning variable $i$ and the conditioned variables $\\textbf{x} \\subset X$ at time $t$ conditional on previous timesteps ${t-n, ..., t-1}$, **and** the conditional probability of $\\textbf{x}$ given $i$ at time $t$ conditioned on a macroeconomic scenario $s$, where $i_t^s = c_t$,\n",
    "\n",
    "$$P(\\textbf{x}_t|c_t)$$\n",
    "\n",
    "From a Bayesian point of view, it makes sense to take the distribution in the real data as the prior. This means that the model needs to\n",
    "1. Approximate the $n$ historical autoregressive priors for all variables $p(X_t|X_{t-n:t-1})$ at $X_t$ given $X_{t-n}, ..., X_{t-1}$.\n",
    "2. Infer the posterior distribution $p(X_{t-n:t-1},\\beta,\\gamma|X_t) \\propto p(X_t|X_{t-n:t-1},\\beta,\\gamma)p(X_t|X_{t-n:t-1})$, where $\\gamma$ maps contemporary relationships between variables at time $t$ and $\\beta$ models the autoregressive relationship over time for all variables, mapping $X_{t-n:t-1}$ on to $X_t$.\n",
    "3. Use the inferred posterior of the variables $\\textbf{x}$ to generate $Y = c,P(\\textbf{x}|c,s,\\beta,\\gamma)$, where $c$ is the conditioned form of $i$ shifted to simulate some explicitly programmed counterfactual scenario $s$, and $P(\\textbf{x}|c,s)$ are the values of $\\textbf{x}$ mapped onto this counterfactual scenario $s$. \n",
    "\n",
    "Given that a scenario $s$ can also be modeled as a regime, it might be good to look into RL research on the topic of policy switches in model-based RL.\n",
    "\n",
    "### Counterfactuals\n",
    "\n",
    "From a causal inference standpoint, policy simulations should result in an estimate of either individual treatment effects ($ITE_i = Y_1^{(i)} - Y_0^{(i)}$ for treatment (1) and non-treatment (0) conditions on unit $i$), or average treatment effects ($ATE = 1/N \\sum\\limits_i y_1(i) - y_0(i)$) of the policy intervention $c$ on the other variables $\\textbf{x}$.\n",
    "\n",
    "In the language of causal analysis, the factual variable $i$ and counterfactual variable $c$ under scenario $s$ are investigated. Therefore the generator should learn to model not only the generated variables but also underlying confounders, which are hypothesized to aid in generating more realistic simulations.\n",
    "\n",
    "### Training and inference\n",
    "\n",
    "The model is trained as a conditional timeseries transformer, generating datapoints conditional both on $\\textbf{A}$) autoregressive previous timesteps ${t-n, ..., t-1}$ and $\\textbf{B}$) lateral relationships between variables (longitudinal and contemporary effects), ignoring $\\textbf{C}$) the conditional variable $c$ during training. During inference $c$ is shifted to simulate the counterfactual condition $\\textbf{C}$), letting the generator model the effect of $c$ on the $x \\subset X$ variables of interest.\n",
    "\n",
    "The training data will come from a training pool consisting of datapoints for some 100 or so countries, shuffled for training purposes but with country encodings to allow the model to learn different distributions. The validation data consists of a separate pool of 15 heterogeneous countries.\n",
    "\n",
    "The model learns to predict variables $\\textbf{i}_t = \\textbf{x}_t$ at time $t$ given $\\textbf{x}_{t-1}$ within the context of $\\textbf{x}_{t-n:t-1}$. For practical purposes the data feed consists of multivariate sequences of length $n-1$, and multivariate labels with length $1$. During inference, the model needs to have access to predictions at it made at previous timesteps in order to set the generated context $\\hat{\\textbf{x}}_{t-n:t-1}$.\n",
    "\n",
    "###### Reconstruction loss\n",
    "\n",
    "The correctness of the generator can be measured by proxy by looking at **reconstruction losses** from historical data. I.e., provide it with a prompt of $m$ sequences on unseen historical country data, and determine how close it matched the real data for the remaining $n-m$ observations. Given the natural differences in country data, it might be good to take a pool of representative countries as the validation dataset. This will also help mitigate covariate shift issues (c.f. [Johansson et al. 2018](https://arxiv.org/abs/1605.03661)).\n",
    "\n",
    "###### Counterfactual loss\n",
    "\n",
    "Since we are dealing with counterfactuals, the loss metric cannot be measured directly from labeled data. However, a proxy of **counterfactual loss** could be to measure the proportional, variable-bound divergence of the simulated data from the real distribution, for example through Kullback-Leibler divergence, Fisher information, or optimal transport. The assumption underlying such an approach would be that of *real-world constraints* on macroeconomic data, i.e. the overall quantities of the indicator variable won't change as a result of counterfactual evidence, but their underlying distribution might.\n",
    "\n",
    "A correct measurement of the loss will need to incorporate covariate shifts across country datasets into the function. One widely-used metric to include a measure thereof in the loss function is maximum-mean discrepancy (MMD, c.f. [Gretton et al., 2012](http://www.jmlr.org/papers/volume13/gretton12a/gretton12a.pdf), [Sutherland et al., 2107](https://arxiv.org/abs/1611.04488)), which can be estimated empirically over the means of the real and simulated data distributions. \n",
    "\n",
    "*// TODO: investigate loss functions for time series generation and simulation models.*\n",
    "\n",
    "### Simulation\n",
    "\n",
    "*// TODO: implement inference layer that allows for the combination of manually conditioned timeseries data $c$ and generated data $x$.*\n",
    "\n",
    "\n",
    "##### Applications\n",
    "\n",
    "*// TODO: create demos of simulator applications for macroeconomic policy analysis.*\n",
    "\n",
    "\n",
    "##### Generalization\n",
    "\n",
    "*// TODO: develop tests and visualisations to check the generalization capabilities of the model.*"
   ]
  },
  {
   "cell_type": "code",
   "execution_count": 1,
   "metadata": {},
   "outputs": [],
   "source": [
    "import warnings\n",
    "import numpy as np\n",
    "import pandas as pd\n",
    "import seaborn as sns\n",
    "import tensorflow as tf\n",
    "import tensorflow_probability as tfp\n",
    "import matplotlib.pyplot as plt\n",
    "from tensorflow import keras\n",
    "\n",
    "%matplotlib inline"
   ]
  },
  {
   "cell_type": "code",
   "execution_count": 2,
   "metadata": {},
   "outputs": [],
   "source": [
    "warnings.filterwarnings('ignore')\n",
    "pd.options.display.float_format = '{:20,.4f}'.format"
   ]
  },
  {
   "cell_type": "code",
   "execution_count": 3,
   "metadata": {},
   "outputs": [],
   "source": [
    "sns.set_style(\"whitegrid\")\n",
    "sns.set_palette(\"colorblind\")"
   ]
  },
  {
   "cell_type": "code",
   "execution_count": 4,
   "metadata": {},
   "outputs": [
    {
     "data": {
      "text/plain": [
       "'2.0.0'"
      ]
     },
     "execution_count": 4,
     "metadata": {},
     "output_type": "execute_result"
    }
   ],
   "source": [
    "tf.__version__"
   ]
  },
  {
   "cell_type": "markdown",
   "metadata": {},
   "source": [
    "#### Load and prepare the data"
   ]
  },
  {
   "cell_type": "code",
   "execution_count": 5,
   "metadata": {},
   "outputs": [],
   "source": [
    "country = 'Switzerland'"
   ]
  },
  {
   "cell_type": "code",
   "execution_count": 6,
   "metadata": {},
   "outputs": [],
   "source": [
    "features_df = pd.read_csv('features/m_one/%s_features.csv' % country, sep=';', header=0)\n",
    "labels_df = pd.read_csv('features/m_one/labels_interpolated.csv', sep=';', header=0)"
   ]
  },
  {
   "cell_type": "code",
   "execution_count": 7,
   "metadata": {},
   "outputs": [],
   "source": [
    "combined_df = pd.concat([features_df, labels_df.drop(columns=['date'])], axis=1)"
   ]
  },
  {
   "cell_type": "code",
   "execution_count": 8,
   "metadata": {},
   "outputs": [
    {
     "data": {
      "text/html": [
       "<div>\n",
       "<style scoped>\n",
       "    .dataframe tbody tr th:only-of-type {\n",
       "        vertical-align: middle;\n",
       "    }\n",
       "\n",
       "    .dataframe tbody tr th {\n",
       "        vertical-align: top;\n",
       "    }\n",
       "\n",
       "    .dataframe thead th {\n",
       "        text-align: right;\n",
       "    }\n",
       "</style>\n",
       "<table border=\"1\" class=\"dataframe\">\n",
       "  <thead>\n",
       "    <tr style=\"text-align: right;\">\n",
       "      <th></th>\n",
       "      <th>date</th>\n",
       "      <th>bank capital to assets ratio</th>\n",
       "      <th>bank nonperforming loans</th>\n",
       "      <th>cereal yield</th>\n",
       "      <th>energy imports</th>\n",
       "      <th>food exports</th>\n",
       "      <th>high-tech exports</th>\n",
       "      <th>inflation</th>\n",
       "      <th>lending interest rate</th>\n",
       "      <th>life expectancy</th>\n",
       "      <th>...</th>\n",
       "      <th>France</th>\n",
       "      <th>Ghana</th>\n",
       "      <th>India</th>\n",
       "      <th>Indonesia</th>\n",
       "      <th>Japan</th>\n",
       "      <th>Netherlands</th>\n",
       "      <th>Senegal</th>\n",
       "      <th>Singapore</th>\n",
       "      <th>Switzerland</th>\n",
       "      <th>United States</th>\n",
       "    </tr>\n",
       "  </thead>\n",
       "  <tbody>\n",
       "    <tr>\n",
       "      <td>0</td>\n",
       "      <td>1960-01-01</td>\n",
       "      <td>0.0000</td>\n",
       "      <td>0.0000</td>\n",
       "      <td>0.0000</td>\n",
       "      <td>0.7167</td>\n",
       "      <td>0.0000</td>\n",
       "      <td>0.0000</td>\n",
       "      <td>0.0000</td>\n",
       "      <td>0.0000</td>\n",
       "      <td>71.3134</td>\n",
       "      <td>...</td>\n",
       "      <td>0.0414</td>\n",
       "      <td>0.0000</td>\n",
       "      <td>0.0178</td>\n",
       "      <td>0.3959</td>\n",
       "      <td>0.0357</td>\n",
       "      <td>0.0232</td>\n",
       "      <td>0.0000</td>\n",
       "      <td>0.0000</td>\n",
       "      <td>0.0144</td>\n",
       "      <td>0.0146</td>\n",
       "    </tr>\n",
       "    <tr>\n",
       "      <td>1</td>\n",
       "      <td>1960-02-01</td>\n",
       "      <td>0.0000</td>\n",
       "      <td>0.0000</td>\n",
       "      <td>0.0000</td>\n",
       "      <td>0.7171</td>\n",
       "      <td>0.0000</td>\n",
       "      <td>0.0000</td>\n",
       "      <td>0.0000</td>\n",
       "      <td>0.0000</td>\n",
       "      <td>71.3410</td>\n",
       "      <td>...</td>\n",
       "      <td>0.0399</td>\n",
       "      <td>0.0000</td>\n",
       "      <td>0.0178</td>\n",
       "      <td>0.3743</td>\n",
       "      <td>0.0372</td>\n",
       "      <td>0.0224</td>\n",
       "      <td>0.0000</td>\n",
       "      <td>0.0003</td>\n",
       "      <td>0.0147</td>\n",
       "      <td>0.0143</td>\n",
       "    </tr>\n",
       "    <tr>\n",
       "      <td>2</td>\n",
       "      <td>1960-03-01</td>\n",
       "      <td>0.0000</td>\n",
       "      <td>0.0000</td>\n",
       "      <td>0.0000</td>\n",
       "      <td>0.7176</td>\n",
       "      <td>0.0000</td>\n",
       "      <td>0.0000</td>\n",
       "      <td>0.0000</td>\n",
       "      <td>0.0000</td>\n",
       "      <td>71.3687</td>\n",
       "      <td>...</td>\n",
       "      <td>0.0385</td>\n",
       "      <td>0.0000</td>\n",
       "      <td>0.0178</td>\n",
       "      <td>0.3527</td>\n",
       "      <td>0.0387</td>\n",
       "      <td>0.0215</td>\n",
       "      <td>0.0000</td>\n",
       "      <td>0.0007</td>\n",
       "      <td>0.0151</td>\n",
       "      <td>0.0139</td>\n",
       "    </tr>\n",
       "    <tr>\n",
       "      <td>3</td>\n",
       "      <td>1960-04-01</td>\n",
       "      <td>0.0000</td>\n",
       "      <td>0.0000</td>\n",
       "      <td>0.0000</td>\n",
       "      <td>0.7180</td>\n",
       "      <td>0.0000</td>\n",
       "      <td>0.0000</td>\n",
       "      <td>0.0000</td>\n",
       "      <td>0.0000</td>\n",
       "      <td>71.3963</td>\n",
       "      <td>...</td>\n",
       "      <td>0.0371</td>\n",
       "      <td>0.0000</td>\n",
       "      <td>0.0178</td>\n",
       "      <td>0.3312</td>\n",
       "      <td>0.0402</td>\n",
       "      <td>0.0207</td>\n",
       "      <td>0.0000</td>\n",
       "      <td>0.0010</td>\n",
       "      <td>0.0154</td>\n",
       "      <td>0.0136</td>\n",
       "    </tr>\n",
       "    <tr>\n",
       "      <td>4</td>\n",
       "      <td>1960-05-01</td>\n",
       "      <td>0.0000</td>\n",
       "      <td>0.0000</td>\n",
       "      <td>0.0000</td>\n",
       "      <td>0.7185</td>\n",
       "      <td>0.0000</td>\n",
       "      <td>0.0000</td>\n",
       "      <td>0.0000</td>\n",
       "      <td>0.0000</td>\n",
       "      <td>71.4239</td>\n",
       "      <td>...</td>\n",
       "      <td>0.0356</td>\n",
       "      <td>0.0000</td>\n",
       "      <td>0.0177</td>\n",
       "      <td>0.3096</td>\n",
       "      <td>0.0417</td>\n",
       "      <td>0.0199</td>\n",
       "      <td>0.0000</td>\n",
       "      <td>0.0013</td>\n",
       "      <td>0.0157</td>\n",
       "      <td>0.0133</td>\n",
       "    </tr>\n",
       "  </tbody>\n",
       "</table>\n",
       "<p>5 rows × 49 columns</p>\n",
       "</div>"
      ],
      "text/plain": [
       "         date  bank capital to assets ratio  bank nonperforming loans  \\\n",
       "0  1960-01-01                        0.0000                    0.0000   \n",
       "1  1960-02-01                        0.0000                    0.0000   \n",
       "2  1960-03-01                        0.0000                    0.0000   \n",
       "3  1960-04-01                        0.0000                    0.0000   \n",
       "4  1960-05-01                        0.0000                    0.0000   \n",
       "\n",
       "          cereal yield       energy imports         food exports  \\\n",
       "0               0.0000               0.7167               0.0000   \n",
       "1               0.0000               0.7171               0.0000   \n",
       "2               0.0000               0.7176               0.0000   \n",
       "3               0.0000               0.7180               0.0000   \n",
       "4               0.0000               0.7185               0.0000   \n",
       "\n",
       "     high-tech exports            inflation  lending interest rate  \\\n",
       "0               0.0000               0.0000                 0.0000   \n",
       "1               0.0000               0.0000                 0.0000   \n",
       "2               0.0000               0.0000                 0.0000   \n",
       "3               0.0000               0.0000                 0.0000   \n",
       "4               0.0000               0.0000                 0.0000   \n",
       "\n",
       "       life expectancy  ...               France                Ghana  \\\n",
       "0              71.3134  ...               0.0414               0.0000   \n",
       "1              71.3410  ...               0.0399               0.0000   \n",
       "2              71.3687  ...               0.0385               0.0000   \n",
       "3              71.3963  ...               0.0371               0.0000   \n",
       "4              71.4239  ...               0.0356               0.0000   \n",
       "\n",
       "                 India            Indonesia                Japan  \\\n",
       "0               0.0178               0.3959               0.0357   \n",
       "1               0.0178               0.3743               0.0372   \n",
       "2               0.0178               0.3527               0.0387   \n",
       "3               0.0178               0.3312               0.0402   \n",
       "4               0.0177               0.3096               0.0417   \n",
       "\n",
       "           Netherlands              Senegal            Singapore  \\\n",
       "0               0.0232               0.0000               0.0000   \n",
       "1               0.0224               0.0000               0.0003   \n",
       "2               0.0215               0.0000               0.0007   \n",
       "3               0.0207               0.0000               0.0010   \n",
       "4               0.0199               0.0000               0.0013   \n",
       "\n",
       "           Switzerland        United States  \n",
       "0               0.0144               0.0146  \n",
       "1               0.0147               0.0143  \n",
       "2               0.0151               0.0139  \n",
       "3               0.0154               0.0136  \n",
       "4               0.0157               0.0133  \n",
       "\n",
       "[5 rows x 49 columns]"
      ]
     },
     "execution_count": 8,
     "metadata": {},
     "output_type": "execute_result"
    }
   ],
   "source": [
    "combined_df.head()"
   ]
  },
  {
   "cell_type": "code",
   "execution_count": 9,
   "metadata": {},
   "outputs": [
    {
     "data": {
      "image/png": "[encoded data removed]",
      "text/plain": [
       "<Figure size 1080x504 with 1 Axes>"
      ]
     },
     "metadata": {},
     "output_type": "display_data"
    }
   ],
   "source": [
    "fig, ax = plt.subplots(figsize=(15,7))\n",
    "[sns.lineplot(x='date', y=c, markers=True, ax=ax, label=c, data=combined_df) for c in list([country, 'lending interest rate', 'real interest rate', 'inflation', 'gross domestic savings', 'government debt service'])]\n",
    "\n",
    "xticks=ax.xaxis.get_major_ticks()\n",
    "for i in range(len(xticks)):\n",
    "    if i % 12 == 1:\n",
    "        xticks[i].set_visible(True)\n",
    "    else:\n",
    "        xticks[i].set_visible(False)\n",
    "\n",
    "ax.set_xticklabels(combined_df['date'], rotation=45);"
   ]
  },
  {
   "cell_type": "code",
   "execution_count": 10,
   "metadata": {},
   "outputs": [
    {
     "data": {
      "text/plain": [
       "Index(['date', 'bank capital to assets ratio', 'bank nonperforming loans',\n",
       "       'cereal yield', 'energy imports', 'food exports', 'high-tech exports',\n",
       "       'inflation', 'lending interest rate', 'life expectancy',\n",
       "       'population density', 'real interest rate', 'broad money',\n",
       "       'exports of goods and services', 'gross domestic savings',\n",
       "       'high-tech value added', 'household consumption expenditure',\n",
       "       'imports of goods and services', 'listed companies',\n",
       "       'manufacturing value added', 'r and d spend', 'services trade', 'trade',\n",
       "       'government debt service', 'government interest payments external debt',\n",
       "       'government tax revenue', 'birth deaths', 'broadband subscriptions',\n",
       "       'electricity access', 'co2 emissions', 'electricity consumption',\n",
       "       'mobile subscriptions', 'newborns', 'overweight', 'rural population',\n",
       "       'urban population', 'Brazil', 'China', 'Colombia', 'France', 'Ghana',\n",
       "       'India', 'Indonesia', 'Japan', 'Netherlands', 'Senegal', 'Singapore',\n",
       "       'Switzerland', 'United States'],\n",
       "      dtype='object')"
      ]
     },
     "execution_count": 10,
     "metadata": {},
     "output_type": "execute_result"
    }
   ],
   "source": [
    "combined_df.columns"
   ]
  },
  {
   "cell_type": "code",
   "execution_count": 11,
   "metadata": {},
   "outputs": [],
   "source": [
    "base_feature_df = combined_df[['date', 'bank capital to assets ratio', 'bank nonperforming loans', 'cereal yield',\n",
    "                               'energy imports', 'food exports', 'high-tech exports', 'inflation',\n",
    "                               'lending interest rate', 'life expectancy', 'population density', 'real interest rate',\n",
    "                               'broad money', 'exports of goods and services', 'gross domestic savings',\n",
    "                               'high-tech value added', 'household consumption expenditure',\n",
    "                               'imports of goods and services', 'listed companies', 'manufacturing value added',\n",
    "                               'r and d spend', 'services trade', 'trade', 'government debt service',\n",
    "                               'government interest payments external debt', 'government tax revenue', 'birth deaths',\n",
    "                               'broadband subscriptions', 'electricity access', 'co2 emissions',\n",
    "                               'electricity consumption', 'mobile subscriptions', 'newborns', 'overweight',\n",
    "                               'rural population', 'urban population', country]]"
   ]
  },
  {
   "cell_type": "code",
   "execution_count": 12,
   "metadata": {},
   "outputs": [],
   "source": [
    "base_feature_df['label'] = base_feature_df[country].shift(periods=1)\n",
    "base_df = base_feature_df.drop(country, axis=1).fillna(0.00);\n",
    "base_df.set_index('date');"
   ]
  },
  {
   "cell_type": "markdown",
   "metadata": {},
   "source": [
    "The following feature groups are used in the simulation:\n",
    "\n",
    "* **finance**: bank nonperforming loans, lending interest rate\n",
    "* **consumption behaviour**: gross domestic savings, household consumption expenditure, <... missing: detailed consumption expenditure areas>\n",
    "* **trade**: exports of goods and services, imports of goods and services, services trade, trade\n",
    "* **governance**: broad money, government interest payments external debt, government tax revenue"
   ]
  },
  {
   "cell_type": "code",
   "execution_count": 13,
   "metadata": {},
   "outputs": [
    {
     "data": {
      "text/plain": [
       "(696, 11)"
      ]
     },
     "execution_count": 13,
     "metadata": {},
     "output_type": "execute_result"
    }
   ],
   "source": [
    "sim_df = base_df[['bank nonperforming loans', 'lending interest rate', 'gross domestic savings',\n",
    "                  'household consumption expenditure', 'exports of goods and services',\n",
    "                  'imports of goods and services', 'services trade', 'trade', 'broad money',\n",
    "                  'government tax revenue', 'label']]\n",
    "sim_df.shape"
   ]
  },
  {
   "cell_type": "code",
   "execution_count": 14,
   "metadata": {},
   "outputs": [],
   "source": [
    "num_obs = len(sim_df)\n",
    "num_variables = len(sim_df.columns)"
   ]
  },
  {
   "cell_type": "markdown",
   "metadata": {},
   "source": [
    "The *counterfactual variable* used during model development is real interest rate. \n",
    "\n",
    "Here, we can take both the real observations and generated scenario-based simulated data."
   ]
  },
  {
   "cell_type": "code",
   "execution_count": 15,
   "metadata": {},
   "outputs": [],
   "source": [
    "counterfactual_df = base_df['real interest rate']"
   ]
  },
  {
   "cell_type": "markdown",
   "metadata": {},
   "source": [
    "## Counterfactual timeseries transformer\n",
    "\n",
    "* The model consists of a transformer architecture adapted for generating continous timeseries across $n$ variables.\n",
    "* An additional conditional time series can be fed to the model to investigate the effect of counterfactual scenarios on the $n$ variables.\n",
    "\n",
    "This setup gives macroeconomic researchers an alternative tool to investigate the robustness of policy decisions and outcomes."
   ]
  },
  {
   "cell_type": "code",
   "execution_count": 16,
   "metadata": {},
   "outputs": [],
   "source": [
    "from sklearn.metrics import mean_squared_error"
   ]
  },
  {
   "cell_type": "code",
   "execution_count": 17,
   "metadata": {},
   "outputs": [],
   "source": [
    "params = {\n",
    "   'num_epochs': 100,\n",
    "   'save_interval': 5,\n",
    "   'num_timesteps': 4,\n",
    "   'num_variables': num_variables,\n",
    "   'batch_size': 16,\n",
    "   'num_layers': 2,\n",
    "   'd_model': 256,\n",
    "   'dff': 1024,\n",
    "   'num_heads': 4,\n",
    "   'dropout_rate': 0.3,\n",
    "   'lr': 0.01\n",
    "}"
   ]
  },
  {
   "cell_type": "code",
   "execution_count": 20,
   "metadata": {},
   "outputs": [],
   "source": [
    "t_at_n = []\n",
    "n_to_t = []\n",
    "t_at_n_plus_one = []\n",
    "n_plus_one_to_t_plus_one = []\n",
    "cf_up_to_n = []\n",
    "cf_up_to_n_plus_one = []\n",
    "\n",
    "for i in range(int(num_obs)):\n",
    "    n_to_t.append(sim_df[i:(i+params['num_timesteps'])].values)\n",
    "    t_at_n.append(sim_df[(i+params['num_timesteps']):(i+params['num_timesteps']+1)].values)\n",
    "    t_at_n_plus_one.append(sim_df[(i+params['num_timesteps']+1):(i+params['num_timesteps']+2)].values)\n",
    "    n_plus_one_to_t_plus_one.append(sim_df[i+1:(i+params['num_timesteps']+1)].values)\n",
    "    cf_up_to_n.append(counterfactual_df[i:(i+params['num_timesteps']+1)].values)\n",
    "    cf_up_to_n_plus_one.append(counterfactual_df[i+1:(i+params['num_timesteps']+2)].values)"
   ]
  },
  {
   "cell_type": "code",
   "execution_count": 21,
   "metadata": {},
   "outputs": [],
   "source": [
    "n = num_obs - (params['num_timesteps'] + 1)"
   ]
  },
  {
   "cell_type": "code",
   "execution_count": 22,
   "metadata": {},
   "outputs": [],
   "source": [
    "src_input = np.asarray(t_at_n[0:n])\n",
    "src_input = src_input.reshape((n, num_variables, 1))"
   ]
  },
  {
   "cell_type": "code",
   "execution_count": 23,
   "metadata": {},
   "outputs": [
    {
     "data": {
      "text/plain": [
       "(691, 11, 1)"
      ]
     },
     "execution_count": 23,
     "metadata": {},
     "output_type": "execute_result"
    }
   ],
   "source": [
    "src_input.shape"
   ]
  },
  {
   "cell_type": "code",
   "execution_count": 24,
   "metadata": {},
   "outputs": [],
   "source": [
    "tar_input = np.asarray(t_at_n_plus_one[0:n])\n",
    "tar_input = tar_input.reshape((n, num_variables, 1))"
   ]
  },
  {
   "cell_type": "code",
   "execution_count": 25,
   "metadata": {},
   "outputs": [],
   "source": [
    "src_history_input = np.asarray(n_to_t[0:n])\n",
    "src_history_input = src_history_input.reshape((n, num_variables, params['num_timesteps']))"
   ]
  },
  {
   "cell_type": "code",
   "execution_count": 26,
   "metadata": {},
   "outputs": [
    {
     "data": {
      "text/plain": [
       "(691, 11, 4)"
      ]
     },
     "execution_count": 26,
     "metadata": {},
     "output_type": "execute_result"
    }
   ],
   "source": [
    "src_history_input.shape"
   ]
  },
  {
   "cell_type": "code",
   "execution_count": 27,
   "metadata": {},
   "outputs": [],
   "source": [
    "cf_src_features = np.asarray(cf_up_to_n[0:n])\n",
    "cf_src_features = cf_src_features.reshape((n, 1, params['num_timesteps']+1))"
   ]
  },
  {
   "cell_type": "code",
   "execution_count": 28,
   "metadata": {},
   "outputs": [
    {
     "data": {
      "text/plain": [
       "(691, 1, 5)"
      ]
     },
     "execution_count": 28,
     "metadata": {},
     "output_type": "execute_result"
    }
   ],
   "source": [
    "cf_src_features.shape"
   ]
  },
  {
   "cell_type": "code",
   "execution_count": 29,
   "metadata": {},
   "outputs": [],
   "source": [
    "cf_tar_features = np.asarray(cf_up_to_n_plus_one[0:n])\n",
    "cf_tar_features = cf_tar_features.reshape((n, 1, params['num_timesteps']+1))"
   ]
  },
  {
   "cell_type": "code",
   "execution_count": 30,
   "metadata": {},
   "outputs": [
    {
     "data": {
      "text/plain": [
       "(691, 1, 5)"
      ]
     },
     "execution_count": 30,
     "metadata": {},
     "output_type": "execute_result"
    }
   ],
   "source": [
    "cf_tar_features.shape"
   ]
  },
  {
   "cell_type": "markdown",
   "metadata": {},
   "source": [
    "### Model architecture\n",
    "\n",
    "The model architecture is that of a transformer-based time series generator. A set of variables at fixed positions is used as source, and that same set of in the next timestep is used as target. Since the model is ran over continuous variables, rather than an embedding $n$ context timesteps are fed to the model encoded with relative positional embeddings. Since the autoregression of interest are learnt from the context timesteps rather than from the position of the variable in $\\textbf{x}$ (where ordering is fixed but random), some modifications had to be made to ensure the model learnt correct dependencies between variables in the multivariate set $\\textbf{x}$. Furthermore, rather than tokens, the generator needs to learn continous variables. The approach here is inspired by an application of the transformer architecture to music generation by [the Google Magenta team](https://magenta.tensorflow.org/music-transformer).\n",
    "\n",
    "The Transformer implementation in TensorFlow Keras is adapted for timeseries from [the TensorFlow transformer tutorial](https://www.tensorflow.org/beta/tutorials/text/transformer) for neural machine translation."
   ]
  },
  {
   "cell_type": "code",
   "execution_count": 31,
   "metadata": {},
   "outputs": [],
   "source": [
    "def get_angles(pos, i, d_model):\n",
    "    angle_rates = 1 / np.power(10000, (2 * (i//2)) / np.float32(d_model))\n",
    "    return pos * angle_rates"
   ]
  },
  {
   "cell_type": "code",
   "execution_count": 32,
   "metadata": {},
   "outputs": [],
   "source": [
    "def positional_encoding(num_positions, d_model):\n",
    "    angle_rads = get_angles(np.arange(num_positions)[:, np.newaxis], np.arange(d_model)[np.newaxis, :], d_model)\n",
    "    angle_rads[:, 0::2] = np.sin(angle_rads[:, 0::2])\n",
    "    angle_rads[:, 1::2] = np.cos(angle_rads[:, 1::2])\n",
    "    pos_encoding = angle_rads[np.newaxis, ...]\n",
    "    return tf.cast(pos_encoding, dtype=tf.float32)"
   ]
  },
  {
   "cell_type": "code",
   "execution_count": 33,
   "metadata": {},
   "outputs": [],
   "source": [
    "encoding = positional_encoding(params['num_variables'], params['dff'])"
   ]
  },
  {
   "cell_type": "code",
   "execution_count": 34,
   "metadata": {},
   "outputs": [],
   "source": [
    "def create_look_ahead_mask(size):\n",
    "    mask = 1 - tf.linalg.band_part(tf.ones((size, size)), -1, 0)\n",
    "    return mask"
   ]
  },
  {
   "cell_type": "code",
   "execution_count": 35,
   "metadata": {},
   "outputs": [],
   "source": [
    "def scaled_dot_product_attention(q, k, v, mask):\n",
    "    matmul_qk = tf.matmul(q, k, transpose_b=True) \n",
    "    dk = tf.cast(tf.shape(k)[-1], tf.float32)\n",
    "    scaled_attention_logits = matmul_qk / tf.math.sqrt(dk)\n",
    "  \n",
    "    if mask is not None:\n",
    "        scaled_attention_logits += (mask * -1e9)\n",
    "\n",
    "    attention_weights = tf.nn.softmax(scaled_attention_logits, axis=-1)\n",
    "    output = tf.matmul(attention_weights, v)\n",
    "    return output, attention_weights"
   ]
  },
  {
   "cell_type": "code",
   "execution_count": 36,
   "metadata": {},
   "outputs": [],
   "source": [
    "class MultiHeadAttention(tf.keras.layers.Layer):\n",
    "    def __init__(self, d_model, num_heads):\n",
    "        super(MultiHeadAttention, self).__init__()\n",
    "        self.num_heads = num_heads\n",
    "        self.d_model = d_model\n",
    "        assert d_model % self.num_heads == 0\n",
    "        self.depth = d_model // self.num_heads\n",
    "        self.wq = tf.keras.layers.Dense(d_model)\n",
    "        self.wk = tf.keras.layers.Dense(d_model)\n",
    "        self.wv = tf.keras.layers.Dense(d_model)\n",
    "        self.dense = tf.keras.layers.Dense(d_model)\n",
    "          \n",
    "    def split_heads(self, x, batch_size):\n",
    "        x = tf.reshape(x, (batch_size, -1, self.num_heads, self.depth))\n",
    "        return tf.transpose(x, perm=[0, 2, 1, 3])\n",
    "      \n",
    "    def call(self, v, k, q, mask):\n",
    "        batch_size = tf.shape(q)[0]\n",
    "      \n",
    "        q = self.wq(q)\n",
    "        k = self.wk(k)\n",
    "        v = self.wv(v)\n",
    "      \n",
    "        q = self.split_heads(q, batch_size)\n",
    "        k = self.split_heads(k, batch_size) \n",
    "        v = self.split_heads(v, batch_size) \n",
    "\n",
    "        scaled_attention, attention_weights = scaled_dot_product_attention(q, k, v, mask)\n",
    "        scaled_attention = tf.transpose(scaled_attention, perm=[0, 2, 1, 3])\n",
    "        concat_attention = tf.reshape(scaled_attention, (batch_size, -1, self.d_model))\n",
    "    \n",
    "        output = self.dense(concat_attention)\n",
    "        return output, attention_weights"
   ]
  },
  {
   "cell_type": "code",
   "execution_count": 37,
   "metadata": {},
   "outputs": [],
   "source": [
    "def point_wise_feed_forward_network(d_model, dff):\n",
    "    return tf.keras.Sequential([tf.keras.layers.Dense(dff, activation='relu'), tf.keras.layers.Dense(d_model)])"
   ]
  },
  {
   "cell_type": "code",
   "execution_count": 38,
   "metadata": {},
   "outputs": [],
   "source": [
    "class TimeseriesEncoderLayer(tf.keras.layers.Layer):\n",
    "    def __init__(self, d_model, num_heads, dff, num_variables, num_timesteps, rate=0.1):\n",
    "        super(TimeseriesEncoderLayer, self).__init__()\n",
    "        \n",
    "        self.mha = MultiHeadAttention(d_model, num_heads)\n",
    "        self.ffn = point_wise_feed_forward_network(d_model, dff)\n",
    "    \n",
    "        self.layernorm1 = tf.keras.layers.LayerNormalization(epsilon=1e-6)\n",
    "        self.layernorm2 = tf.keras.layers.LayerNormalization(epsilon=1e-6)\n",
    "        \n",
    "        self.dropout1 = tf.keras.layers.Dropout(rate)\n",
    "        self.dropout2 = tf.keras.layers.Dropout(rate)\n",
    "      \n",
    "    def call(self, inputs, x, training, mask):\n",
    "        attn_output, _ = self.mha(x, k=x, q=inputs, mask=mask)\n",
    "        attn_output = self.dropout1(attn_output, training=training)\n",
    "        out1 = self.layernorm1(inputs + attn_output)\n",
    "        \n",
    "        ffn_output = self.ffn(out1)\n",
    "        ffn_output = self.dropout2(ffn_output, training=training)\n",
    "        out2 = self.layernorm2(out1 + ffn_output)\n",
    "        return out2"
   ]
  },
  {
   "cell_type": "code",
   "execution_count": 39,
   "metadata": {},
   "outputs": [
    {
     "data": {
      "text/plain": [
       "TensorShape([16, 11, 512])"
      ]
     },
     "execution_count": 39,
     "metadata": {},
     "output_type": "execute_result"
    }
   ],
   "source": [
    "sample_encoder = TimeseriesEncoderLayer(512, 8, 2048, params['num_variables'], params['num_timesteps'])\n",
    "sample_encoder_output = sample_encoder(\n",
    "    tf.random.uniform((params['batch_size'], params['num_variables'], 1)),\n",
    "    x=tf.random.uniform((params['batch_size'], params['num_variables'], params['num_timesteps'])),\n",
    "    training=False, mask=None)\n",
    "sample_encoder_output.shape"
   ]
  },
  {
   "cell_type": "code",
   "execution_count": 40,
   "metadata": {},
   "outputs": [],
   "source": [
    "class TimeseriesDecoderLayer(tf.keras.layers.Layer):\n",
    "    def __init__(self, d_model, num_heads, dff, num_variables, num_timesteps, rate=0.1):\n",
    "        super(TimeseriesDecoderLayer, self).__init__()\n",
    "    \n",
    "        self.mha1 = MultiHeadAttention(d_model, num_heads)\n",
    "        self.mha2 = MultiHeadAttention(d_model, num_heads)\n",
    "    \n",
    "        self.ffn = point_wise_feed_forward_network(d_model, dff)\n",
    "     \n",
    "        self.layernorm1 = tf.keras.layers.LayerNormalization(epsilon=1e-6)\n",
    "        self.layernorm2 = tf.keras.layers.LayerNormalization(epsilon=1e-6)\n",
    "        self.layernorm3 = tf.keras.layers.LayerNormalization(epsilon=1e-6)\n",
    "        \n",
    "        self.dropout1 = tf.keras.layers.Dropout(rate)\n",
    "        self.dropout2 = tf.keras.layers.Dropout(rate)\n",
    "        self.dropout3 = tf.keras.layers.Dropout(rate)\n",
    "      \n",
    "      \n",
    "    def call(self, inputs, x, training, look_ahead_mask, padding_mask):\n",
    "        attn1, attn_weights_block1 = self.mha1(x, k=x, q=inputs, mask=look_ahead_mask)\n",
    "        attn1 = self.dropout1(attn1, training=training)\n",
    "        out1 = self.layernorm1(attn1 + inputs)\n",
    "        \n",
    "        attn2, attn_weights_block2 = self.mha2(x, k=x, q=out1, mask=padding_mask)\n",
    "        attn2 = self.dropout2(attn2, training=training)\n",
    "        out2 = self.layernorm2(attn2 + out1)\n",
    "        \n",
    "        ffn_output = self.ffn(out2)\n",
    "        ffn_output = self.dropout3(ffn_output, training=training)\n",
    "        out3 = self.layernorm3(ffn_output + out2)\n",
    "        return out3, attn_weights_block1, attn_weights_block2"
   ]
  },
  {
   "cell_type": "code",
   "execution_count": 41,
   "metadata": {},
   "outputs": [
    {
     "data": {
      "text/plain": [
       "TensorShape([16, 11, 512])"
      ]
     },
     "execution_count": 41,
     "metadata": {},
     "output_type": "execute_result"
    }
   ],
   "source": [
    "sample_decoder = TimeseriesDecoderLayer(512, 8, 2048, params['num_variables'], params['num_timesteps'])\n",
    "\n",
    "sample_decoder_output, _, _ = sample_decoder(\n",
    "    tf.random.uniform((params['batch_size'], params['num_variables'], 1)),\n",
    "    x=tf.random.uniform((params['batch_size'], params['num_variables'], params['num_timesteps'])),\n",
    "    training=False,\n",
    "    look_ahead_mask=None,\n",
    "    padding_mask=None)\n",
    "\n",
    "sample_decoder_output.shape"
   ]
  },
  {
   "cell_type": "code",
   "execution_count": 42,
   "metadata": {},
   "outputs": [],
   "source": [
    "class TimeseriesEncoder(tf.keras.layers.Layer):\n",
    "    def __init__(self, num_layers, d_model, num_heads, dff, num_variables, num_timesteps, rate=0.1):\n",
    "        super(TimeseriesEncoder, self).__init__()\n",
    "    \n",
    "        self.d_model = d_model\n",
    "        self.num_layers = num_layers\n",
    "        self.num_variables = num_variables\n",
    "        self.num_timesteps = num_timesteps\n",
    "        \n",
    "        self.pos_encoding = positional_encoding(self.d_model * 8, self.d_model)        \n",
    "        self.enc_layers = [TimeseriesEncoderLayer(d_model, num_heads, dff,\n",
    "                                                  num_variables, num_timesteps, rate) for _ in range(num_layers)]\n",
    "      \n",
    "        self.dropout = tf.keras.layers.Dropout(rate)\n",
    "            \n",
    "    def call(self, inputs, history, training, mask):\n",
    "        x = tf.concat([inputs, history], axis=-1)\n",
    "        x *= tf.math.sqrt(tf.cast(self.d_model, tf.float32))\n",
    "        x += self.pos_encoding[:, :self.num_variables, :self.num_timesteps+1]\n",
    "        \n",
    "        x = self.dropout(x, training=training)\n",
    "        \n",
    "        for i in range(self.num_layers):\n",
    "            x = self.enc_layers[i](inputs, x=x, training=training, mask=mask)\n",
    "        \n",
    "        return x"
   ]
  },
  {
   "cell_type": "code",
   "execution_count": 43,
   "metadata": {},
   "outputs": [
    {
     "name": "stdout",
     "output_type": "stream",
     "text": [
      "(16, 11, 256)\n"
     ]
    }
   ],
   "source": [
    "sample_encoder = TimeseriesEncoder(num_layers=2, d_model=generator_params['d_model'], num_heads=8, \n",
    "                                   dff=generator_params['dff'], num_variables=params['num_variables'],\n",
    "                                   num_timesteps=params['num_timesteps'])\n",
    "\n",
    "sample_encoder_output = sample_encoder(\n",
    "    tf.random.uniform((params['batch_size'], params['num_variables'], 1)),\n",
    "    history=tf.random.uniform((params['batch_size'], params['num_variables'], \n",
    "                               params['num_timesteps'])),\n",
    "    training=False, mask=None)\n",
    "print (sample_encoder_output.shape)"
   ]
  },
  {
   "cell_type": "code",
   "execution_count": 44,
   "metadata": {},
   "outputs": [],
   "source": [
    "# print (sample_encoder_output)"
   ]
  },
  {
   "cell_type": "code",
   "execution_count": 45,
   "metadata": {},
   "outputs": [],
   "source": [
    "class TimeseriesDecoder(tf.keras.layers.Layer):\n",
    "    def __init__(self, num_layers, d_model, num_heads, dff, num_variables, num_timesteps, rate=0.1):\n",
    "        super(TimeseriesDecoder, self).__init__()\n",
    "    \n",
    "        self.d_model = d_model\n",
    "        self.num_layers = num_layers\n",
    "        self.num_variables = num_variables\n",
    "        self.num_timesteps = num_timesteps\n",
    "        \n",
    "        self.pos_encoding = positional_encoding(self.d_model * 4, self.d_model)\n",
    "        self.dec_layers = [TimeseriesDecoderLayer(d_model, num_heads, dff, num_variables, num_timesteps, rate)\n",
    "                           for _ in range(num_layers)]\n",
    "        self.dropout = tf.keras.layers.Dropout(rate)\n",
    "      \n",
    "    def call(self, inputs, x, training, look_ahead_mask, padding_mask):\n",
    "        attention_weights = {}\n",
    "        \n",
    "        x *= tf.math.sqrt(tf.cast(self.d_model, tf.float32))\n",
    "        x += self.pos_encoding[:, :self.num_variables, :self.d_model]\n",
    "        \n",
    "        x = self.dropout(x, training=training)\n",
    "    \n",
    "        for i in range(self.num_layers):\n",
    "            x, block1, block2 = self.dec_layers[i](inputs, x=x, training=training, look_ahead_mask=look_ahead_mask,\n",
    "                                                   padding_mask=padding_mask)\n",
    "            attention_weights['decoder_layer{}_block1'.format(i+1)] = block1\n",
    "            attention_weights['decoder_layer{}_block2'.format(i+1)] = block2\n",
    "        \n",
    "        return x"
   ]
  },
  {
   "cell_type": "code",
   "execution_count": 46,
   "metadata": {},
   "outputs": [
    {
     "data": {
      "text/plain": [
       "TensorShape([16, 11, 256])"
      ]
     },
     "execution_count": 46,
     "metadata": {},
     "output_type": "execute_result"
    }
   ],
   "source": [
    "sample_decoder = TimeseriesDecoder(num_layers=2, d_model=256, num_heads=8, dff=2048, \n",
    "                                   num_variables=params['num_variables'],\n",
    "                                   num_timesteps=params['num_timesteps'])\n",
    "\n",
    "output = sample_decoder(\n",
    "    tf.random.uniform((params['batch_size'], params['num_variables'], 1)),\n",
    "    x=sample_encoder_output, \n",
    "    training=False,\n",
    "    look_ahead_mask=None, \n",
    "    padding_mask=None)\n",
    "\n",
    "output.shape"
   ]
  },
  {
   "cell_type": "code",
   "execution_count": 47,
   "metadata": {},
   "outputs": [],
   "source": [
    "class TimeseriesTransformer(tf.keras.layers.Layer):\n",
    "    def __init__(self, num_layers, d_model, num_heads, dff, num_variables, num_timesteps, batch_size, rate=0.1):\n",
    "        super(TimeseriesTransformer, self).__init__()\n",
    "\n",
    "        self.encoder = TimeseriesEncoder(num_layers, d_model, num_heads, dff, num_variables, num_timesteps, rate)\n",
    "        self.reshape = tf.keras.layers.Reshape((num_variables, 1))\n",
    "        self.decoder = TimeseriesDecoder(num_layers, d_model, num_heads, dff, num_variables, num_timesteps, rate)\n",
    "        self.noise = tf.keras.layers.GaussianNoise(rate)\n",
    "        self.output_layer = tf.keras.layers.Dense(num_variables, activation='sigmoid')\n",
    "    \n",
    "    def call(self, inputs, hist=None, tar=None, training=False, enc_padding_mask=None, look_ahead_mask=None,\n",
    "             dec_padding_mask=None):\n",
    "        enc_output = self.encoder(inputs, history=hist, training=training, mask=enc_padding_mask)\n",
    "        x = self.reshape(inputs)\n",
    "        x = tf.keras.layers.Add()([x, enc_output])\n",
    "        dec_output = self.decoder(tar, x=x, training=training, look_ahead_mask=look_ahead_mask,\n",
    "                                  padding_mask=dec_padding_mask)\n",
    "        \n",
    "        model_output = tf.keras.layers.Flatten()(dec_output)\n",
    "        noisy_output = self.noise(model_output)\n",
    "        final_output = self.output_layer(noisy_output)\n",
    "        return final_output"
   ]
  },
  {
   "cell_type": "code",
   "execution_count": 48,
   "metadata": {},
   "outputs": [
    {
     "data": {
      "text/plain": [
       "TensorShape([16, 11])"
      ]
     },
     "execution_count": 48,
     "metadata": {},
     "output_type": "execute_result"
    }
   ],
   "source": [
    "sample_transformer = TimeseriesTransformer(num_layers=1, d_model=512, num_heads=1, dff=2048, \n",
    "                                           num_timesteps=params['num_timesteps'],\n",
    "                                           num_variables=params['num_variables'],\n",
    "                                           batch_size=params['batch_size'])\n",
    "\n",
    "t = tf.random.uniform((params['batch_size'], params['num_variables'], 1))\n",
    "hist = tf.random.uniform((params['batch_size'], params['num_variables'], params['num_timesteps']))\n",
    "t_plus_one = tf.random.uniform((params['batch_size'], params['num_variables'], 1))\n",
    "\n",
    "fn_out = sample_transformer(t, hist=hist, tar=t_plus_one)\n",
    "\n",
    "fn_out.shape"
   ]
  },
  {
   "cell_type": "markdown",
   "metadata": {},
   "source": [
    "### Build the transformer model for the generator"
   ]
  },
  {
   "cell_type": "code",
   "execution_count": 49,
   "metadata": {},
   "outputs": [],
   "source": [
    "def build_generator(params, model_name='generator'):\n",
    "    src = tf.keras.Input(shape=(params['num_variables'], 1), name='src_input')\n",
    "    hist = tf.keras.Input(shape=(params['num_variables'], params['num_timesteps']), name='hist_input')\n",
    "    tar = tf.keras.Input(shape=(params['num_variables'], 1), name='tar_input')\n",
    "    \n",
    "    transformer = TimeseriesTransformer(num_layers=params['num_layers'], num_heads=params['num_heads'], \n",
    "                                        d_model=params['d_model'], dff=params['dff'], \n",
    "                                        num_variables=params['num_variables'],\n",
    "                                        num_timesteps=params['num_timesteps'], batch_size=params['batch_size'])\n",
    "    generated = transformer(src, hist=hist, tar=tar)\n",
    "    generated = tf.keras.layers.Reshape((params['num_variables'], 1))(generated)\n",
    "    generator = tf.keras.Model(inputs=[src, hist, tar], outputs=generated, name=model_name)\n",
    "    generator.summary()\n",
    "    \n",
    "    return generator"
   ]
  },
  {
   "cell_type": "code",
   "execution_count": 50,
   "metadata": {},
   "outputs": [
    {
     "name": "stdout",
     "output_type": "stream",
     "text": [
      "Model: \"test_generator\"\n",
      "__________________________________________________________________________________________________\n",
      "Layer (type)                    Output Shape         Param #     Connected to                     \n",
      "==================================================================================================\n",
      "src_input (InputLayer)          [(None, 11, 1)]      0                                            \n",
      "__________________________________________________________________________________________________\n",
      "hist_input (InputLayer)         [(None, 11, 4)]      0                                            \n",
      "__________________________________________________________________________________________________\n",
      "tar_input (InputLayer)          [(None, 11, 1)]      0                                            \n",
      "__________________________________________________________________________________________________\n",
      "timeseries_transformer_1 (Times (None, 11)           3327755     src_input[0][0]                  \n",
      "__________________________________________________________________________________________________\n",
      "reshape_2 (Reshape)             (None, 11, 1)        0           timeseries_transformer_1[0][0]   \n",
      "==================================================================================================\n",
      "Total params: 3,327,755\n",
      "Trainable params: 3,327,755\n",
      "Non-trainable params: 0\n",
      "__________________________________________________________________________________________________\n"
     ]
    }
   ],
   "source": [
    "generator = build_generator(params, model_name='generator')\n",
    "generator.compile('adam', loss='mean_absolute_error', metrics=['mse'])"
   ]
  },
  {
   "cell_type": "code",
   "execution_count": 51,
   "metadata": {},
   "outputs": [
    {
     "name": "stdout",
     "output_type": "stream",
     "text": [
      "Train on 691 samples\n",
      "Epoch 1/15\n",
      "691/691 [==============================] - 14s 20ms/sample - loss: 0.1542 - mse: 0.0740\n",
      "Epoch 2/15\n",
      "691/691 [==============================] - 4s 6ms/sample - loss: 0.1002 - mse: 0.0348\n",
      "Epoch 3/15\n",
      "691/691 [==============================] - 4s 6ms/sample - loss: 0.1023 - mse: 0.0354\n",
      "Epoch 4/15\n",
      "691/691 [==============================] - 4s 6ms/sample - loss: 0.1034 - mse: 0.0360\n",
      "Epoch 5/15\n",
      "691/691 [==============================] - 4s 6ms/sample - loss: 0.0932 - mse: 0.0320\n",
      "Epoch 6/15\n",
      "691/691 [==============================] - 4s 6ms/sample - loss: 0.0952 - mse: 0.0331\n",
      "Epoch 7/15\n",
      "691/691 [==============================] - 4s 6ms/sample - loss: 0.0944 - mse: 0.0329\n",
      "Epoch 8/15\n",
      "691/691 [==============================] - 4s 6ms/sample - loss: 0.0913 - mse: 0.0305\n",
      "Epoch 9/15\n",
      "691/691 [==============================] - 4s 6ms/sample - loss: 0.0736 - mse: 0.0225\n",
      "Epoch 10/15\n",
      "691/691 [==============================] - 5s 7ms/sample - loss: 0.0778 - mse: 0.0235\n",
      "Epoch 11/15\n",
      "691/691 [==============================] - 5s 7ms/sample - loss: 0.0694 - mse: 0.0209\n",
      "Epoch 12/15\n",
      "691/691 [==============================] - 5s 7ms/sample - loss: 0.0714 - mse: 0.0217\n",
      "Epoch 13/15\n",
      "691/691 [==============================] - 5s 7ms/sample - loss: 0.0668 - mse: 0.0204\n",
      "Epoch 14/15\n",
      "691/691 [==============================] - 5s 7ms/sample - loss: 0.0658 - mse: 0.0204\n",
      "Epoch 15/15\n",
      "691/691 [==============================] - 5s 7ms/sample - loss: 0.0670 - mse: 0.0207\n"
     ]
    },
    {
     "data": {
      "text/plain": [
       "<tensorflow.python.keras.callbacks.History at 0x13e7546d8>"
      ]
     },
     "execution_count": 51,
     "metadata": {},
     "output_type": "execute_result"
    }
   ],
   "source": [
    "generator.fit([src_input, src_history_input, tar_input], tar_input, batch_size=params['batch_size'], \n",
    "              epochs=params['num_epochs'])"
   ]
  },
  {
   "cell_type": "code",
   "execution_count": 52,
   "metadata": {},
   "outputs": [
    {
     "data": {
      "text/html": [
       "<div>\n",
       "<style scoped>\n",
       "    .dataframe tbody tr th:only-of-type {\n",
       "        vertical-align: middle;\n",
       "    }\n",
       "\n",
       "    .dataframe tbody tr th {\n",
       "        vertical-align: top;\n",
       "    }\n",
       "\n",
       "    .dataframe thead th {\n",
       "        text-align: right;\n",
       "    }\n",
       "</style>\n",
       "<table border=\"1\" class=\"dataframe\">\n",
       "  <thead>\n",
       "    <tr style=\"text-align: right;\">\n",
       "      <th></th>\n",
       "      <th>0</th>\n",
       "      <th>1</th>\n",
       "      <th>2</th>\n",
       "      <th>3</th>\n",
       "      <th>4</th>\n",
       "      <th>5</th>\n",
       "      <th>6</th>\n",
       "      <th>7</th>\n",
       "      <th>8</th>\n",
       "      <th>9</th>\n",
       "      <th>10</th>\n",
       "    </tr>\n",
       "  </thead>\n",
       "  <tbody>\n",
       "    <tr>\n",
       "      <td>count</td>\n",
       "      <td>691.0000</td>\n",
       "      <td>691.0000</td>\n",
       "      <td>691.0000</td>\n",
       "      <td>691.0000</td>\n",
       "      <td>691.0000</td>\n",
       "      <td>691.0000</td>\n",
       "      <td>691.0000</td>\n",
       "      <td>691.0000</td>\n",
       "      <td>691.0000</td>\n",
       "      <td>691.0000</td>\n",
       "      <td>691.0000</td>\n",
       "    </tr>\n",
       "    <tr>\n",
       "      <td>mean</td>\n",
       "      <td>0.0019</td>\n",
       "      <td>0.0282</td>\n",
       "      <td>0.2098</td>\n",
       "      <td>0.3696</td>\n",
       "      <td>0.3417</td>\n",
       "      <td>0.2925</td>\n",
       "      <td>0.1335</td>\n",
       "      <td>0.6440</td>\n",
       "      <td>0.8624</td>\n",
       "      <td>0.6599</td>\n",
       "      <td>0.0251</td>\n",
       "    </tr>\n",
       "    <tr>\n",
       "      <td>std</td>\n",
       "      <td>0.0036</td>\n",
       "      <td>0.0244</td>\n",
       "      <td>0.1518</td>\n",
       "      <td>0.2658</td>\n",
       "      <td>0.2636</td>\n",
       "      <td>0.2232</td>\n",
       "      <td>0.1180</td>\n",
       "      <td>0.4784</td>\n",
       "      <td>0.6623</td>\n",
       "      <td>0.4741</td>\n",
       "      <td>0.0231</td>\n",
       "    </tr>\n",
       "    <tr>\n",
       "      <td>min</td>\n",
       "      <td>0.0000</td>\n",
       "      <td>0.0000</td>\n",
       "      <td>0.0000</td>\n",
       "      <td>0.0000</td>\n",
       "      <td>0.0000</td>\n",
       "      <td>0.0000</td>\n",
       "      <td>0.0000</td>\n",
       "      <td>0.0000</td>\n",
       "      <td>0.0000</td>\n",
       "      <td>0.0000</td>\n",
       "      <td>-0.0114</td>\n",
       "    </tr>\n",
       "    <tr>\n",
       "      <td>25%</td>\n",
       "      <td>0.0000</td>\n",
       "      <td>0.0000</td>\n",
       "      <td>0.0000</td>\n",
       "      <td>0.0000</td>\n",
       "      <td>0.0000</td>\n",
       "      <td>0.0000</td>\n",
       "      <td>0.0000</td>\n",
       "      <td>0.0000</td>\n",
       "      <td>0.0000</td>\n",
       "      <td>0.0000</td>\n",
       "      <td>0.0076</td>\n",
       "    </tr>\n",
       "    <tr>\n",
       "      <td>50%</td>\n",
       "      <td>0.0000</td>\n",
       "      <td>0.0274</td>\n",
       "      <td>0.2995</td>\n",
       "      <td>0.5424</td>\n",
       "      <td>0.4115</td>\n",
       "      <td>0.3652</td>\n",
       "      <td>0.1205</td>\n",
       "      <td>0.8629</td>\n",
       "      <td>1.0807</td>\n",
       "      <td>1.0000</td>\n",
       "      <td>0.0180</td>\n",
       "    </tr>\n",
       "    <tr>\n",
       "      <td>75%</td>\n",
       "      <td>0.0000</td>\n",
       "      <td>0.0512</td>\n",
       "      <td>0.3227</td>\n",
       "      <td>0.5708</td>\n",
       "      <td>0.5421</td>\n",
       "      <td>0.4743</td>\n",
       "      <td>0.2693</td>\n",
       "      <td>0.9718</td>\n",
       "      <td>1.3246</td>\n",
       "      <td>1.0000</td>\n",
       "      <td>0.0380</td>\n",
       "    </tr>\n",
       "    <tr>\n",
       "      <td>max</td>\n",
       "      <td>0.0129</td>\n",
       "      <td>0.0783</td>\n",
       "      <td>0.3587</td>\n",
       "      <td>0.5859</td>\n",
       "      <td>0.7470</td>\n",
       "      <td>0.6148</td>\n",
       "      <td>0.3272</td>\n",
       "      <td>1.3180</td>\n",
       "      <td>1.9000</td>\n",
       "      <td>1.0000</td>\n",
       "      <td>0.0977</td>\n",
       "    </tr>\n",
       "  </tbody>\n",
       "</table>\n",
       "</div>"
      ],
      "text/plain": [
       "                        0                    1                    2   \\\n",
       "count             691.0000             691.0000             691.0000   \n",
       "mean                0.0019               0.0282               0.2098   \n",
       "std                 0.0036               0.0244               0.1518   \n",
       "min                 0.0000               0.0000               0.0000   \n",
       "25%                 0.0000               0.0000               0.0000   \n",
       "50%                 0.0000               0.0274               0.2995   \n",
       "75%                 0.0000               0.0512               0.3227   \n",
       "max                 0.0129               0.0783               0.3587   \n",
       "\n",
       "                        3                    4                    5   \\\n",
       "count             691.0000             691.0000             691.0000   \n",
       "mean                0.3696               0.3417               0.2925   \n",
       "std                 0.2658               0.2636               0.2232   \n",
       "min                 0.0000               0.0000               0.0000   \n",
       "25%                 0.0000               0.0000               0.0000   \n",
       "50%                 0.5424               0.4115               0.3652   \n",
       "75%                 0.5708               0.5421               0.4743   \n",
       "max                 0.5859               0.7470               0.6148   \n",
       "\n",
       "                        6                    7                    8   \\\n",
       "count             691.0000             691.0000             691.0000   \n",
       "mean                0.1335               0.6440               0.8624   \n",
       "std                 0.1180               0.4784               0.6623   \n",
       "min                 0.0000               0.0000               0.0000   \n",
       "25%                 0.0000               0.0000               0.0000   \n",
       "50%                 0.1205               0.8629               1.0807   \n",
       "75%                 0.2693               0.9718               1.3246   \n",
       "max                 0.3272               1.3180               1.9000   \n",
       "\n",
       "                        9                    10  \n",
       "count             691.0000             691.0000  \n",
       "mean                0.6599               0.0251  \n",
       "std                 0.4741               0.0231  \n",
       "min                 0.0000              -0.0114  \n",
       "25%                 0.0000               0.0076  \n",
       "50%                 1.0000               0.0180  \n",
       "75%                 1.0000               0.0380  \n",
       "max                 1.0000               0.0977  "
      ]
     },
     "execution_count": 52,
     "metadata": {},
     "output_type": "execute_result"
    }
   ],
   "source": [
    "generator_target = map(lambda v: v.flatten(), tar_input)\n",
    "pd.DataFrame(generator_target).describe()"
   ]
  },
  {
   "cell_type": "code",
   "execution_count": 53,
   "metadata": {},
   "outputs": [
    {
     "data": {
      "text/html": [
       "<div>\n",
       "<style scoped>\n",
       "    .dataframe tbody tr th:only-of-type {\n",
       "        vertical-align: middle;\n",
       "    }\n",
       "\n",
       "    .dataframe tbody tr th {\n",
       "        vertical-align: top;\n",
       "    }\n",
       "\n",
       "    .dataframe thead th {\n",
       "        text-align: right;\n",
       "    }\n",
       "</style>\n",
       "<table border=\"1\" class=\"dataframe\">\n",
       "  <thead>\n",
       "    <tr style=\"text-align: right;\">\n",
       "      <th></th>\n",
       "      <th>0</th>\n",
       "      <th>1</th>\n",
       "      <th>2</th>\n",
       "      <th>3</th>\n",
       "      <th>4</th>\n",
       "      <th>5</th>\n",
       "      <th>6</th>\n",
       "      <th>7</th>\n",
       "      <th>8</th>\n",
       "      <th>9</th>\n",
       "      <th>10</th>\n",
       "    </tr>\n",
       "  </thead>\n",
       "  <tbody>\n",
       "    <tr>\n",
       "      <td>count</td>\n",
       "      <td>691.0000</td>\n",
       "      <td>691.0000</td>\n",
       "      <td>691.0000</td>\n",
       "      <td>691.0000</td>\n",
       "      <td>691.0000</td>\n",
       "      <td>691.0000</td>\n",
       "      <td>691.0000</td>\n",
       "      <td>691.0000</td>\n",
       "      <td>691.0000</td>\n",
       "      <td>691.0000</td>\n",
       "      <td>691.0000</td>\n",
       "    </tr>\n",
       "    <tr>\n",
       "      <td>mean</td>\n",
       "      <td>0.0001</td>\n",
       "      <td>0.0123</td>\n",
       "      <td>0.0008</td>\n",
       "      <td>0.3748</td>\n",
       "      <td>0.3795</td>\n",
       "      <td>0.2303</td>\n",
       "      <td>0.0957</td>\n",
       "      <td>0.6344</td>\n",
       "      <td>0.6584</td>\n",
       "      <td>0.6584</td>\n",
       "      <td>0.0101</td>\n",
       "    </tr>\n",
       "    <tr>\n",
       "      <td>std</td>\n",
       "      <td>0.0001</td>\n",
       "      <td>0.0095</td>\n",
       "      <td>0.0006</td>\n",
       "      <td>0.2699</td>\n",
       "      <td>0.2918</td>\n",
       "      <td>0.1854</td>\n",
       "      <td>0.0893</td>\n",
       "      <td>0.4576</td>\n",
       "      <td>0.4745</td>\n",
       "      <td>0.4745</td>\n",
       "      <td>0.0102</td>\n",
       "    </tr>\n",
       "    <tr>\n",
       "      <td>min</td>\n",
       "      <td>0.0000</td>\n",
       "      <td>0.0000</td>\n",
       "      <td>0.0000</td>\n",
       "      <td>0.0004</td>\n",
       "      <td>0.0006</td>\n",
       "      <td>0.0003</td>\n",
       "      <td>0.0002</td>\n",
       "      <td>0.0000</td>\n",
       "      <td>0.0000</td>\n",
       "      <td>0.0000</td>\n",
       "      <td>0.0000</td>\n",
       "    </tr>\n",
       "    <tr>\n",
       "      <td>25%</td>\n",
       "      <td>0.0000</td>\n",
       "      <td>0.0000</td>\n",
       "      <td>0.0000</td>\n",
       "      <td>0.0004</td>\n",
       "      <td>0.0007</td>\n",
       "      <td>0.0004</td>\n",
       "      <td>0.0002</td>\n",
       "      <td>0.0000</td>\n",
       "      <td>0.0000</td>\n",
       "      <td>0.0000</td>\n",
       "      <td>0.0000</td>\n",
       "    </tr>\n",
       "    <tr>\n",
       "      <td>50%</td>\n",
       "      <td>0.0001</td>\n",
       "      <td>0.0152</td>\n",
       "      <td>0.0010</td>\n",
       "      <td>0.5695</td>\n",
       "      <td>0.4603</td>\n",
       "      <td>0.2598</td>\n",
       "      <td>0.0869</td>\n",
       "      <td>0.9407</td>\n",
       "      <td>0.9998</td>\n",
       "      <td>0.9998</td>\n",
       "      <td>0.0070</td>\n",
       "    </tr>\n",
       "    <tr>\n",
       "      <td>75%</td>\n",
       "      <td>0.0001</td>\n",
       "      <td>0.0221</td>\n",
       "      <td>0.0012</td>\n",
       "      <td>0.5719</td>\n",
       "      <td>0.6139</td>\n",
       "      <td>0.3677</td>\n",
       "      <td>0.1495</td>\n",
       "      <td>0.9783</td>\n",
       "      <td>0.9999</td>\n",
       "      <td>0.9999</td>\n",
       "      <td>0.0219</td>\n",
       "    </tr>\n",
       "    <tr>\n",
       "      <td>max</td>\n",
       "      <td>0.0002</td>\n",
       "      <td>0.0241</td>\n",
       "      <td>0.0016</td>\n",
       "      <td>0.5738</td>\n",
       "      <td>0.7935</td>\n",
       "      <td>0.5380</td>\n",
       "      <td>0.2819</td>\n",
       "      <td>0.9951</td>\n",
       "      <td>1.0000</td>\n",
       "      <td>1.0000</td>\n",
       "      <td>0.0285</td>\n",
       "    </tr>\n",
       "  </tbody>\n",
       "</table>\n",
       "</div>"
      ],
      "text/plain": [
       "                        0                    1                    2   \\\n",
       "count             691.0000             691.0000             691.0000   \n",
       "mean                0.0001               0.0123               0.0008   \n",
       "std                 0.0001               0.0095               0.0006   \n",
       "min                 0.0000               0.0000               0.0000   \n",
       "25%                 0.0000               0.0000               0.0000   \n",
       "50%                 0.0001               0.0152               0.0010   \n",
       "75%                 0.0001               0.0221               0.0012   \n",
       "max                 0.0002               0.0241               0.0016   \n",
       "\n",
       "                        3                    4                    5   \\\n",
       "count             691.0000             691.0000             691.0000   \n",
       "mean                0.3748               0.3795               0.2303   \n",
       "std                 0.2699               0.2918               0.1854   \n",
       "min                 0.0004               0.0006               0.0003   \n",
       "25%                 0.0004               0.0007               0.0004   \n",
       "50%                 0.5695               0.4603               0.2598   \n",
       "75%                 0.5719               0.6139               0.3677   \n",
       "max                 0.5738               0.7935               0.5380   \n",
       "\n",
       "                        6                    7                    8   \\\n",
       "count             691.0000             691.0000             691.0000   \n",
       "mean                0.0957               0.6344               0.6584   \n",
       "std                 0.0893               0.4576               0.4745   \n",
       "min                 0.0002               0.0000               0.0000   \n",
       "25%                 0.0002               0.0000               0.0000   \n",
       "50%                 0.0869               0.9407               0.9998   \n",
       "75%                 0.1495               0.9783               0.9999   \n",
       "max                 0.2819               0.9951               1.0000   \n",
       "\n",
       "                        9                    10  \n",
       "count             691.0000             691.0000  \n",
       "mean                0.6584               0.0101  \n",
       "std                 0.4745               0.0102  \n",
       "min                 0.0000               0.0000  \n",
       "25%                 0.0000               0.0000  \n",
       "50%                 0.9998               0.0070  \n",
       "75%                 0.9999               0.0219  \n",
       "max                 1.0000               0.0285  "
      ]
     },
     "execution_count": 53,
     "metadata": {},
     "output_type": "execute_result"
    }
   ],
   "source": [
    "gen_preds = generator.predict([src_input, src_history_input, tar_input])\n",
    "generator_predictions = map(lambda v: v.flatten(), gen_preds)\n",
    "gen_df = pd.DataFrame(generator_predictions)\n",
    "gen_df.describe()"
   ]
  },
  {
   "cell_type": "code",
   "execution_count": 54,
   "metadata": {},
   "outputs": [],
   "source": [
    "generated_cpi = gen_df[num_variables-1].values\n",
    "gan_cpi = sim_df[['label']][0:n].values"
   ]
  },
  {
   "cell_type": "code",
   "execution_count": 55,
   "metadata": {},
   "outputs": [
    {
     "data": {
      "image/png": "[encoded data removed]",
      "text/plain": [
       "<Figure size 1080x504 with 1 Axes>"
      ]
     },
     "metadata": {},
     "output_type": "display_data"
    }
   ],
   "source": [
    "plt.figure(figsize=(15,7))\n",
    "plt.plot(gan_cpi, label='observed cpi')\n",
    "plt.plot(generated_cpi, label='gan-generated cpi')\n",
    "plt.legend()\n",
    "plt.title('Observed versus GAN-generated values for consumer price inflation in %s' % country)\n",
    "plt.show()"
   ]
  },
  {
   "cell_type": "code",
   "execution_count": 56,
   "metadata": {},
   "outputs": [
    {
     "name": "stdout",
     "output_type": "stream",
     "text": [
      "rmse: 0.029049657697137587\n",
      "mean observed: 0.025158758986210967\n",
      "mean generated: 0.010083339148094573\n"
     ]
    }
   ],
   "source": [
    "print('rmse: %s\\nmean observed: %s\\nmean generated: %s' % (np.sqrt(mean_squared_error(test_gan_cpi, test_generated_cpi)),\n",
    "                                                           np.mean(test_gan_cpi), np.mean(test_generated_cpi)))"
   ]
  },
  {
   "cell_type": "code",
   "execution_count": 57,
   "metadata": {},
   "outputs": [],
   "source": [
    "generated_hhcons = gen_df[3].values\n",
    "gan_hhcons = sim_df[['household consumption expenditure']][0:n].values"
   ]
  },
  {
   "cell_type": "code",
   "execution_count": 58,
   "metadata": {},
   "outputs": [
    {
     "data": {
      "image/png": "[encoded data removed]",
      "text/plain": [
       "<Figure size 1080x504 with 1 Axes>"
      ]
     },
     "metadata": {},
     "output_type": "display_data"
    }
   ],
   "source": [
    "plt.figure(figsize=(15,7))\n",
    "plt.plot(gan_hhcons, label='observed household consumption expenditures')\n",
    "plt.plot(generated_hhcons, label='gan-generated household consumption expenditures')\n",
    "plt.legend()\n",
    "plt.title('Observed versus GAN-generated values for household consumption expenditures in %s' % country)\n",
    "plt.show()"
   ]
  },
  {
   "cell_type": "markdown",
   "metadata": {},
   "source": [
    "## Counterfactual simulations"
   ]
  },
  {
   "cell_type": "code",
   "execution_count": null,
   "metadata": {},
   "outputs": [],
   "source": []
  },
  {
   "cell_type": "code",
   "execution_count": null,
   "metadata": {},
   "outputs": [],
   "source": []
  }
 ],
 "metadata": {
  "kernelspec": {
   "display_name": "me",
   "language": "python",
   "name": "me"
  },
  "language_info": {
   "codemirror_mode": {
    "name": "ipython",
    "version": 3
   },
   "file_extension": ".py",
   "mimetype": "text/x-python",
   "name": "python",
   "nbconvert_exporter": "python",
   "pygments_lexer": "ipython3",
   "version": "3.6.5"
  }
 },
 "nbformat": 4,
 "nbformat_minor": 2
}
