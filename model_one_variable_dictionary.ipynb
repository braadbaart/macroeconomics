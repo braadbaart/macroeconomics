{
 "cells": [
  {
   "cell_type": "markdown",
   "metadata": {},
   "source": [
    "# Interlinked economies model variables dictionary\n",
    "\n"
   ]
  },
  {
   "cell_type": "markdown",
   "metadata": {},
   "source": [
    "### Features\n",
    "\n",
    "Roughly speaking, I want to be able to model effect of these forces in the world on country-level consumer prices\n",
    "\n",
    "1. **people**: consumption, demand, autonomy\n",
    "2. **trade**: markets, money, liquidity, and logistics\n",
    "3. **technology**: innovation, development, education\n",
    "4. **policy**: fiscal, legal, investment, firm\n",
    "\n",
    "##### 1. People\n",
    "\n",
    "Anything related to the population not captured by the other metrics. Metric examples\n",
    "\n",
    "* Self-realization coefficient\n",
    "* New HDI (H: life expectancy at birth - E: schooling, years average and expected - I: GNI per capita USD): $H^{1/3}*E^{1/3}*I^{1/3}$\n",
    "* Number of children per household\n",
    "* Disposable income / purchasing power\n",
    "* Access to leisure (e.g. avg working hours, hourly wages)\n",
    "\n",
    "##### 2. Trade\n",
    "\n",
    "The trade statistics includes both international and national trading metrics. Metric examples\n",
    "\n",
    "* Trade volumes\n",
    "* Average country import to export ratio\n",
    "* Liquidity ratios in firms (tangible to intangible assets)\n",
    "* Costs of borrowing (consumer, firm, bonds)\n",
    "* ..\n",
    "\n",
    "##### 3. Technology\n",
    "\n",
    "Measures (by proxy) of comparative technological advantages of countries. Metric examples\n",
    "\n",
    "* Hours-to-dollar-value generated per industry sector\n",
    "* Capital-to-dollar-value generated per industry sector\n",
    "* TFP\n",
    "* Investment in education\n",
    "\n",
    "##### 4. Policy\n",
    "\n",
    "Policy is taken in the wider sense to include both government and business policies. Metric examples\n",
    "\n",
    "* Firm turnover (ratio of new business started to businesses dissolved)\n",
    "* Taxation rates (e.g. wage income, tariffs, sales)\n",
    "* Central bank interest rates"
   ]
  },
  {
   "cell_type": "markdown",
   "metadata": {},
   "source": [
    "### Labels: selected country-level consumer price indices\n",
    "\n",
    "The label dataset are monthly observations of consumer price indices taken from IMF (1960-2016):\n",
    "\n",
    "|  variable                 | origin            | source      |granularity|countries|   description                                               | composition                                                       |\n",
    "| --------------------------|-------------------|-------------|-----------|---------|-------------------------------------------------------------|-------------------------------------------------------------------|\n",
    "| cpi change all items      | -                 | imf cpi     | monthly   | 189     | Consumer Price Index, All items, Percentage change           | -                                                                 |\n",
    "| cpi all items             | -                 | imf cpi     | monthly   | 189     | Consumer Price Index, All items                             | -                                                                 |\n",
    "| cpi housing weigth        | -                 | imf cpi     | monthly   | 189     | Housing, Water, Electricity, Gas and Other Fuels, Weight Percent | Percentage                                                    |\n",
    "| cpi food weigth           | -                 | imf cpi     | monthly   | 189     | Food and non-alcoholic beverages, Weight, Percent  | Percentage                                                        |\n",
    "| cpi education weigth      | -                 | imf cpi     | monthly   | 189     | Education, Weight, Percent                                   | Percentage                                                        |\n",
    "| cpi health weigth         | -                 | imf cpi     | monthly   | 189     | Health, Weight, Percent                                     | Percentage                                                        |\n",
    "| cpi transport weigth      | -                 | imf cpi     | monthly   | 189     | Transport, Weight, Percent                                   | Percentage                                                        |\n",
    "| cpi leisure weigth        | -                 | imf cpi     | monthly   | 189     | Recreation and culture, Weight, Percent                     | Percentage                                                        |\n",
    "\n",
    "The train-test split is made by taking 6 years of data at 10-year intervals (e.g. 1970, 1980, 1990, 2000, 2010, 2016) as the holdout data set.\n",
    "\n",
    "Obvious issues with this approach:\n",
    "1. Very limited number of data points for a large number of variables \n",
    "2. Breaking continuity and distorting the effect of real business cycles"
   ]
  },
  {
   "cell_type": "markdown",
   "metadata": {},
   "source": [
    "### Data augmentation\n",
    "\n",
    "To deal with issue 1), a comprehensive data augementation strategy was adopted, consisting of\n",
    "\n",
    "1. Interpolation of missing monthly values\n",
    "2. Sampling methods (e.g. MCMC or importance sampling)"
   ]
  },
  {
   "cell_type": "markdown",
   "metadata": {},
   "source": [
    "## Variable dictionaries"
   ]
  },
  {
   "cell_type": "markdown",
   "metadata": {},
   "source": [
    "### People\n",
    "\n",
    "|  variable                 | origin            | source      |granularity|countries|   description                                               | composition                                                       |\n",
    "| --------------------------|-------------------|-------------|-----------|---------|-------------------------------------------------------------|-------------------------------------------------------------------|\n",
    "| population                | -                 | world bank  | yearly    | 217     | Population, total                                           | Unweighted sum                                                    |\n",
    "| population growth         | -                 | world bank  | yearly    | 217     | Population growth (annual %)                                 | -                                                                 |\n",
    "| infant mortality rate     | -                 | world bank  | yearly    | 217     | Mortality rate, infant (per 1,000 live births)          | -                                                                 |\n",
    "| births rate               | -                 | world bank  | yearly    | 217     | Birth rate, crude (per 1,000 people)                     | -                                                                 |\n",
    "| fertility rate            | -                 | world bank  | yearly    | 217     | Fertility rate, total (births per woman)                  | -                                                                 |\n",
    "| rural population          | -                 | world bank  | yearly    | 217     | Rural population (% of total population)                 | -                                                                 |\n",
    "| rural population growth   | -                 | world bank  | yearly    | 217     | Rural population growth (annual %)                          | -                                                                 |\n",
    "| urban population          | -                 | world bank  | yearly    | 217     | Urban population (% of total)                               | -                                                                 |\n",
    "| urban population growth   | -                 | world bank  | yearly    | 217     | Urban population growth (annual %)                          | -                                                                 |\n",
    "| life expectancy           | -                 | world bank  | yearly    | 217     | Life expectancy at birth, total (years)                     | -                                                                 |\n",
    "| population aged 15-64     | -                 | world bank  | yearly    | 217     | Population ages 15-64 (% of total)                      | -                                                                 |\n",
    "| population density        | -                 | world bank  | yearly    | 217     | Population density (people per sq. km of land area)        | -                                                                 |\n",
    "| adults overweight         | -                 | world bank  | yearly    | 217     | Prevalence of overweight (% of adults)                     | -                                                                 |\n",
    "| informal employment       | -                 | wb econ     | yearly    | 217     | Informal employment (% of total non-agricultural employment)| -                                                                 |\n",
    "| consumption growth        | -                 | wb econ     | yearly    | 217     | Final consumption expenditure (annual % growth)           | -                                                                 |\n",
    "| consumer price inflation  | -                 | wb econ     | yearly    | 217     | Inflation, consumer prices (annual %)                  | -                                                                 |\n",
    "| labor force               | -                 | imf pplt    | monthly   | 208     | Labor Force, Persons, Number of                             | Unweighted sum                                                    |\n",
    "| wage rates change         | -                 | imf pplt    | monthly   | 208     | Wage rates, Percentage change, previous period, Percent    | -                                                                 |\n",
    "| unemployed                | -                 | imf pplt    | monthly   | 208     | Unemployment, Persons, Number of                             | Unweighted sum                                                    |\n",
    "| unemployment rate         | -                 | imf pplt    | monthly   | 208     | Unemployment, total (% of total labor force) (national estimate)| -                                                             |\n",
    "| cpi change all items      | -                 | imf cpi     | monthly   | 189     | Consumer Price Index, All items, Percentage change, Previous period| -                                                           |\n",
    "| cpi all items             | -                 | imf cpi     | monthly   | 189     | Consumer Price Index, All items                             | -                                                                 |\n",
    "| cpi housing weigth        | -                 | imf cpi     | monthly   | 189     | Housing, Water, Electricity, Gas and Other Fuels, Weight, Percent| Percentage                                                    |\n",
    "| cpi food weigth           | -                 | imf cpi     | monthly   | 189     | Food and non-alcoholic beverages, Weight, Percent  | Percentage                                                        |\n",
    "| cpi education weigth      | -                 | imf cpi     | monthly   | 189     | Education, Weight, Percent                                   | Percentage                                                        |\n",
    "| cpi health weigth         | -                 | imf cpi     | monthly   | 189     | Health, Weight, Percent                                     | Percentage                                                        |\n",
    "| cpi transport weigth      | -                 | imf cpi     | monthly   | 189     | Transport, Weight, Percent                                   | Percentage                                                        |\n",
    "| cpi leisure weigth        | -                 | imf cpi     | monthly   | 189     | Recreation and culture, Weight, Percent                     | Percentage                                                        |"
   ]
  },
  {
   "cell_type": "markdown",
   "metadata": {},
   "source": [
    "### Trade\n",
    "\n",
    "|  variable                 | origin            | source      |granularity|countries|   description                                               | composition                                                       |\n",
    "| --------------------------|-------------------|-------------|-----------|---------|-------------------------------------------------------------|-------------------------------------------------------------------|\n",
    "| imports                   | -                 | wb econ     | yearly    | 217     | Imports of goods and services (% of GDP)                     | -                                                     |\n",
    "| manufacturing value       | -                 | wb econ     | yearly    | 217     | Manufacturing, value added (% of GDP)                        | -                                                     |\n",
    "| consumption per capita    | -                 | wb econ     | yearly    | 217     | Households and NPISHs Final consumption expenditure per capita (2010 USD)| -                                    |\n",
    "| food exports              | -                 | wb econ     | yearly    | 217     | Food exports (% of merchandise exports)                    | -                                                     |\n",
    "| energy imports            | -                 | wb econ     | yearly    | 217     | Energy imports, net (% of energy use)                        | -                                                     |\n",
    "| consumption per capita    | -                 | wb econ     | yearly    | 217     | Households and NPISHs Final consumption expenditure per capita (constant 2010 USD)| -                           |\n",
    "| GNI per capita            | -                 | wb econ     | yearly    | 217     | GNI per capita (constant 2010 USD)                        | -                                                     |\n",
    "| food imports              | -                 | wb econ     | yearly    | 217     | Food imports (% of merchandise imports)                    | -                                                     |\n",
    "| manufacturing value USD   | -                 | wb econ     | yearly    | 217     | Manufacturing, value added (constant 2010 USD)         | -                                                     |\n",
    "| exports                   | -                 | wb econ     | yearly    | 217     | Exports of goods and services (% of GDP)                     | -                                    |\n",
    "| trade share of GDP        | -                 | wb econ     | yearly    | 217     | Trade (% of GDP)                                             | -                                                     |\n",
    "| high-tech exports         | -                 | wb econ     | yearly    | 217     | High-technology exports (% of manufactured exports)       | -                                                     |\n",
    "| imports USD               | -                 | wb econ     | yearly    | 217     | Imports of goods and services (constant 2010 USD)         | -                                                     |\n",
    "| exports USD               | -                 | wb econ     | yearly    | 217     | Exports of goods and services (constant 2010 USD)         | -                                                     |\n",
    "| services trade            | -                 | wb econ     | yearly    | 217     | Trade in services (% of GDP)                                 | -                                                     |"
   ]
  },
  {
   "cell_type": "markdown",
   "metadata": {},
   "source": [
    "### Technology\n",
    "\n",
    "|  variable                 | origin            | source      |granularity|countries|   description                                               | composition                                                       |\n",
    "| --------------------------|-------------------|-------------|-----------|---------|-------------------------------------------------------------|-------------------------------------------------------------------|\n",
    "| fertilizer consumption    | -                 | wb econ     | yearly    | 217     | Fertilizer consumption (kilograms per hectare of arable land)  | -                                                     |\n",
    "| broadband subscriptions   | -                 | wb econ     | yearly    | 217     | Fixed broadband subscriptions (per 100 people)            | Per 100 people                                                    |\n",
    "| manufacturing value added | -                 | wb econ     | yearly    | 217     | Manufacturing, value added (% of GDP)                        | -                                                                 |\n",
    "| tech manufacturing share  | -                 | wb econ     | yearly    | 217     | Medium and high-tech Industry (including construction) (% manufacturing value added)  | -                                     |\n",
    "| electricity access        | -                 | wb econ     | yearly    | 217     | Access to electricity (% of population)                 | -                                                                 |\n",
    "| electricity consumption   | -                 | wb econ     | yearly    | 217     | Electric power consumption (kWh per capita)                 | -                                                                 |\n",
    "| Manufacturing value growth| -                 | wb econ     | yearly    | 217     | Manufacturing, value added (annual % growth)           | -                                                                 |\n",
    "| CO2 emissions             | -                 | wb econ     | yearly    | 217     | CO2 emissions (metric tons per capita)                     | -                                                                 |\n",
    "| cellular subscriptions    | -                 | wb econ     | yearly    | 217     | Mobile cellular subscriptions (per 100 people)            | -                                                                 |\n",
    "| R&D expenditure           | -                 | wb econ     | yearly    | 217     | Research and development expenditure (% of GDP)      | -                                                                 |\n",
    "| cereal yield              | -                 | wb econ     | yearly    | 217     | Cereal yield (kg per hectare)                               | -                                                                 |\n",
    "| industry value per worker | -                 | wb econ     | yearly    | 217     | Industry (including construction), value added per worker (constant 2010 USD)| -                                    |         "
   ]
  },
  {
   "cell_type": "markdown",
   "metadata": {},
   "source": [
    "### Policy\n",
    "\n",
    "|  variable                 | origin            | source      |granularity|countries|   description                                               | composition                                                       |\n",
    "| --------------------------|-------------------|-------------|-----------|---------|-------------------------------------------------------------|-------------------------------------------------------------------|\n",
    "| total debt service        | -                 | wb econ     | yearly    | 217     | Total debt service (% of GNI)                               | -                                                     |\n",
    "| interest payments         | -                 | wb econ     | yearly    | 217     | Interest payments on external debt (% of GNI)             | -                                                     |\n",
    "| lending interest rate     | -                 | wb econ     | yearly    | 217     | Lending interest rate (%)                                   | -                                                     |\n",
    "| firms using banks         | -                 | wb econ     | yearly    | 217     | Firms using banks to finance investment (% of firms)     | -                                                     |\n",
    "| bank capital ratio        | -                 | wb econ     | yearly    | 217     | Bank capital to assets ratio (%)                             | -                                                     |\n",
    "| tax revenue gdp share     | -                 | wb econ     | yearly    | 217     | Tax revenue (% of GDP)                                       | -                                                     |\n",
    "| short term debt           | -                 | wb econ     | yearly    | 217     | Short-term debt (% of total external debt)              | -                                                     |\n",
    "| inflation                 | -                 | wb econ     | yearly    | 217     | Inflation, GDP deflator (annual %)                          | -                                                     |\n",
    "| GDP growth                | -                 | wb econ     | yearly    | 217     | GDP growth (annual %)                                       | -                                                     |\n",
    "| real interest rate        | -                 | wb econ     | yearly    | 217     | Real interest rate (%)                                       | -                                                     |\n",
    "| firm market cap           | -                 | wb econ     | yearly    | 217     | Market capitalization of listed domestic companies (% of GDP) | -                                                   |\n",
    "| GDP per capita growth     | -                 | wb econ     | yearly    | 217     | GDP per capita growth (annual %)                             | -                                                     |\n",
    "| GDP                       | -                 | wb econ     | yearly    | 217     | GDP (constant 2010 USD)                                     | -                                                     |\n",
    "| GNI growth                | -                 | wb econ     | yearly    | 217     | GNI growth (annual %)                                       | -                                                     |\n",
    "| interest payments         | -                 | wb econ     | yearly    | 217     | Interest payments (% of expense)                             | -                                                     |\n",
    "| nonperforming bank loans  | -                 | wb econ     | yearly    | 217     | Bank nonperforming loans to total gross loans (%)       | -                                                     |\n",
    "| savings                   | -                 | wb econ     | yearly    | 217     | Gross domestic savings (% of GDP)                        | -                                                     |\n",
    "| gross savings             | -                 | wb econ     | yearly    | 217     | Gross savings (% of GNI)                                     | -                                                     |\n",
    "| GNI per capita growth     | -                 | wb econ     | yearly    | 217     | GNI per capita growth (annual %)                             | -                                                     |\n",
    "| employee compensation     | -                 | wb econ     | yearly    | 217     | Compensation of employees (% of expense)                    | -                                                     |\n",
    "| reserves                  | -                 | wb econ     | yearly    | 217     | Total reserves (% of total external debt)              | -                                                     |\n",
    "| broad money               | -                 | wb econ     | yearly    | 217     | Broad money (% of GDP)                                       | -                                                     |\n",
    "| GNI                       | -                 | wb econ     | yearly    | 217     | GNI (constant 2010 USD)                                     | -                                                     |\n",
    "| government debt           | -                 | wb econ     | yearly    | 217     | Central government debt, total (% of GDP)                  | -                                                     |"
   ]
  },
  {
   "cell_type": "code",
   "execution_count": null,
   "metadata": {},
   "outputs": [],
   "source": []
  },
  {
   "cell_type": "code",
   "execution_count": null,
   "metadata": {},
   "outputs": [],
   "source": []
  }
 ],
 "metadata": {
  "kernelspec": {
   "display_name": "me",
   "language": "python",
   "name": "me"
  },
  "language_info": {
   "codemirror_mode": {
    "name": "ipython",
    "version": 3
   },
   "file_extension": ".py",
   "mimetype": "text/x-python",
   "name": "python",
   "nbconvert_exporter": "python",
   "pygments_lexer": "ipython3",
   "version": "3.7.7"
  }
 },
 "nbformat": 4,
 "nbformat_minor": 2
}
