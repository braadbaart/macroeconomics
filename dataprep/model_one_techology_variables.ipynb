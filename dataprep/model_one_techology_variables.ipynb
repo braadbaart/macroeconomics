{
 "cells": [
  {
   "cell_type": "markdown",
   "metadata": {},
   "source": [
    "## Model one technology variables\n",
    "\n",
    "This notebook extracts the selected technology variables in the `indicator_list` from IMF and World Bank (wb) data sources, and writes them to a csv file."
   ]
  },
  {
   "cell_type": "code",
   "execution_count": 8,
   "metadata": {},
   "outputs": [],
   "source": [
    "import warnings\n",
    "import numpy as np\n",
    "import pandas as pd\n",
    "import seaborn as sns\n",
    "import matplotlib.pyplot as plt\n",
    "\n",
    "%matplotlib inline"
   ]
  },
  {
   "cell_type": "code",
   "execution_count": 9,
   "metadata": {},
   "outputs": [],
   "source": [
    "warnings.filterwarnings('ignore')\n",
    "pd.options.display.float_format = '{:20,.2f}'.format"
   ]
  },
  {
   "cell_type": "markdown",
   "metadata": {},
   "source": [
    "|  variable                 | origin            | source      |granularity|countries|   description                                               | composition                                                       |\n",
    "| --------------------------|-------------------|-------------|-----------|---------|-------------------------------------------------------------|-------------------------------------------------------------------|\n",
    "| fertilizer consumption    | -                 | wb econ     | yearly    | 217     | Fertilizer consumption (kilograms per hectare of arable land)  | -                                                     |\n",
    "| broadband subscriptions   | -                 | wb econ     | yearly    | 217     | Fixed broadband subscriptions (per 100 people)            | Per 100 people                                                    |\n",
    "| manufacturing value added | -                 | wb econ     | yearly    | 217     | Manufacturing, value added (% of GDP)                        | -                                                                 |\n",
    "| tech manufacturing share  | -                 | wb econ     | yearly    | 217     | Medium and high-tech Industry (including construction) (% manufacturing value added)  | -                                     |\n",
    "| electricity access        | -                 | wb econ     | yearly    | 217     | Access to electricity (% of population)                 | -                                                                 |\n",
    "| electricity consumption   | -                 | wb econ     | yearly    | 217     | Electric power consumption (kWh per capita)                 | -                                                                 |\n",
    "| Manufacturing value growth| -                 | wb econ     | yearly    | 217     | Manufacturing, value added (annual % growth)           | -                                                                 |\n",
    "| CO2 emissions             | -                 | wb econ     | yearly    | 217     | CO2 emissions (metric tons per capita)                     | -                                                                 |\n",
    "| cellular subscriptions    | -                 | wb econ     | yearly    | 217     | Mobile cellular subscriptions (per 100 people)            | -                                                                 |\n",
    "| R&D expenditure           | -                 | wb econ     | yearly    | 217     | Research and development expenditure (% of GDP)      | -                                                                 |\n",
    "| cereal yield              | -                 | wb econ     | yearly    | 217     | Cereal yield (kg per hectare)                               | -                                                                 |\n",
    "| industry value per worker | -                 | wb econ     | yearly    | 217     | Industry (including construction), value added per worker (constant 2010 USD)| -                                    |         "
   ]
  },
  {
   "cell_type": "code",
   "execution_count": 89,
   "metadata": {},
   "outputs": [],
   "source": [
    "indicator_list = ['Fertilizer consumption (kilograms per hectare of arable land)', 'Fixed broadband subscriptions (per 100 people)',\n",
    "                  'Manufacturing, value added (% of GDP)', 'Medium and high-tech Industry (including construction) (% manufacturing value added)',\n",
    "                  'Access to electricity (% of population)', 'Electric power consumption (kWh per capita)',\n",
    "                  'Manufacturing, value added (annual % growth)', 'CO2 emissions (metric tons per capita)',\n",
    "                  'Mobile cellular subscriptions (per 100 people)', 'Research and development expenditure (% of GDP)',\n",
    "                  'Cereal yield (kg per hectare)', 'Industry (including construction), value added per worker (constant 2010 US$)']"
   ]
  },
  {
   "cell_type": "code",
   "execution_count": 90,
   "metadata": {},
   "outputs": [
    {
     "data": {
      "text/plain": [
       "12"
      ]
     },
     "execution_count": 90,
     "metadata": {},
     "output_type": "execute_result"
    }
   ],
   "source": [
    "len(indicator_list)"
   ]
  },
  {
   "cell_type": "markdown",
   "metadata": {},
   "source": [
    "## Load imf monthly data"
   ]
  },
  {
   "cell_type": "code",
   "execution_count": 91,
   "metadata": {},
   "outputs": [
    {
     "name": "stdout",
     "output_type": "stream",
     "text": [
      "  365536 data/imf/BOP_11-25-2018 19-15-19-60_timeSeries.csv\n",
      "      64 data/imf/COMMP_11-25-2018 19-13-52-15_timeSeries.csv\n",
      "   14430 data/imf/CPI_11-25-2018 19-14-47-26_timeSeries.csv\n",
      "    1693 data/imf/FDI_11-20-2018 21-39-31-89_timeSeries.csv\n",
      " 1247714 data/imf/GFSR_11-25-2018 19-23-39-70_timeSeries.csv\n",
      "   16732 data/imf/IRFCL_11-25-2018 19-13-18-05_timeSeries.csv\n",
      "    7846 data/imf/ITS_11-14-2018 15-14-06-02_timeSeries.csv\n",
      "    7425 data/imf/PPLT_11-25-2018 19-25-01-32_timeSeries.csv\n",
      " 1661440 total\n"
     ]
    }
   ],
   "source": [
    "%%bash\n",
    "wc -l imf/*.csv"
   ]
  },
  {
   "cell_type": "code",
   "execution_count": 92,
   "metadata": {},
   "outputs": [],
   "source": [
    "time_values = [str('%sM%s' % (y, m)) for m in list(range(1, 13)) for y in list(range(1960, 2018))]\n",
    "imf_columns = ['Country Name', 'Indicator Name'] + time_values"
   ]
  },
  {
   "cell_type": "code",
   "execution_count": 93,
   "metadata": {},
   "outputs": [],
   "source": [
    "imf_country_aggregates = ['Euro Area']"
   ]
  },
  {
   "cell_type": "code",
   "execution_count": 94,
   "metadata": {},
   "outputs": [],
   "source": [
    "def load_imf_monthly(file_name, indicators, imf_columns, country_aggregates):\n",
    "    csv_df = pd.read_csv('imf/%s' % file_name).fillna(0)\n",
    "    base_df = csv_df.loc[csv_df['Attribute'] == 'Value'].drop(columns=['Attribute'])\n",
    "    monthly_df = base_df.loc[(base_df['Indicator Name'].isin(indicators))]\n",
    "    imf_df = monthly_df[imf_columns].fillna(0)\n",
    "    df = pd.melt(imf_df, id_vars=['Country Name', 'Indicator Name'], var_name='date', value_name='value')\n",
    "    df['date'] = pd.to_datetime(df['date'], format='%YM%m')\n",
    "    df.columns = ['country', 'indicator', 'date', 'value']\n",
    "    return df.loc[~df['country'].isin(country_aggregates)]"
   ]
  },
  {
   "cell_type": "code",
   "execution_count": 95,
   "metadata": {},
   "outputs": [],
   "source": [
    "imf_pplt_df = load_imf_monthly('PPLT_11-25-2018 19-25-01-32_timeSeries.csv', indicator_list, imf_columns, imf_country_aggregates)"
   ]
  },
  {
   "cell_type": "code",
   "execution_count": 96,
   "metadata": {},
   "outputs": [],
   "source": [
    "imf_cpi_df = load_imf_monthly('CPI_11-25-2018 19-14-47-26_timeSeries.csv', indicator_list, imf_columns, imf_country_aggregates)"
   ]
  },
  {
   "cell_type": "code",
   "execution_count": 97,
   "metadata": {},
   "outputs": [],
   "source": [
    "imf_df = pd.concat([imf_cpi_df, imf_pplt_df], join='outer')"
   ]
  },
  {
   "cell_type": "code",
   "execution_count": 98,
   "metadata": {},
   "outputs": [
    {
     "data": {
      "text/plain": [
       "0"
      ]
     },
     "execution_count": 98,
     "metadata": {},
     "output_type": "execute_result"
    }
   ],
   "source": [
    "imf_df.size"
   ]
  },
  {
   "cell_type": "code",
   "execution_count": 99,
   "metadata": {},
   "outputs": [
    {
     "data": {
      "text/html": [
       "<div>\n",
       "<style scoped>\n",
       "    .dataframe tbody tr th:only-of-type {\n",
       "        vertical-align: middle;\n",
       "    }\n",
       "\n",
       "    .dataframe tbody tr th {\n",
       "        vertical-align: top;\n",
       "    }\n",
       "\n",
       "    .dataframe thead th {\n",
       "        text-align: right;\n",
       "    }\n",
       "</style>\n",
       "<table border=\"1\" class=\"dataframe\">\n",
       "  <thead>\n",
       "    <tr style=\"text-align: right;\">\n",
       "      <th></th>\n",
       "      <th>country</th>\n",
       "      <th>indicator</th>\n",
       "      <th>date</th>\n",
       "      <th>value</th>\n",
       "    </tr>\n",
       "  </thead>\n",
       "  <tbody>\n",
       "  </tbody>\n",
       "</table>\n",
       "</div>"
      ],
      "text/plain": [
       "Empty DataFrame\n",
       "Columns: [country, indicator, date, value]\n",
       "Index: []"
      ]
     },
     "execution_count": 99,
     "metadata": {},
     "output_type": "execute_result"
    }
   ],
   "source": [
    "imf_df.head(15)"
   ]
  },
  {
   "cell_type": "code",
   "execution_count": 100,
   "metadata": {},
   "outputs": [
    {
     "data": {
      "text/plain": [
       "0"
      ]
     },
     "execution_count": 100,
     "metadata": {},
     "output_type": "execute_result"
    }
   ],
   "source": [
    "len(imf_df['country'].unique())"
   ]
  },
  {
   "cell_type": "code",
   "execution_count": 101,
   "metadata": {},
   "outputs": [],
   "source": [
    "imf_countries = sorted(list(imf_df['country'].unique()))"
   ]
  },
  {
   "cell_type": "markdown",
   "metadata": {},
   "source": [
    "### Load world bank yearly data"
   ]
  },
  {
   "cell_type": "code",
   "execution_count": 102,
   "metadata": {},
   "outputs": [
    {
     "name": "stdout",
     "output_type": "stream",
     "text": [
      "   33534 data/world_bank/ECON.csv\n",
      "    9589 data/world_bank/HNP.csv\n",
      "      38 data/world_bank/HNP_indicator_definitions.csv\n",
      "   36174 data/world_bank/POP.csv\n",
      "   79335 total\n"
     ]
    }
   ],
   "source": [
    "%%bash\n",
    "wc -l world_bank/*.csv"
   ]
  },
  {
   "cell_type": "code",
   "execution_count": 103,
   "metadata": {},
   "outputs": [],
   "source": [
    "wb_country_aggregates = ['nan', 'Lower middle income', 'Post-demographic dividend', 'High income',\n",
    "                         'Pre-demographic dividend', 'East Asia & Pacific (IDA & IBRD countries)',\n",
    "                         'Europe & Central Asia (excluding high income)', 'Heavily indebted poor countries (HIPC)',\n",
    "                         'Caribbean small states', 'Pacific island small states', 'Middle income',\n",
    "                         'Late-demographic dividend', 'OECD members', 'IDA & IBRD total', 'Not classified', \n",
    "                         'East Asia & Pacific (excluding high income)',\n",
    "                         'Latin America & the Caribbean (IDA & IBRD countries)', 'Low income', 'Low & middle income',\n",
    "                         'IDA blend', 'IBRD only', 'Sub-Saharan Africa (excluding high income)', \n",
    "                         'Fragile and conflict affected situations', 'Europe & Central Asia (IDA & IBRD countries)',\n",
    "                         'Euro area', 'Other small states', 'Europe & Central Asia', 'Arab World',\n",
    "                         'Latin America & Caribbean (excluding high income)', \n",
    "                         'Sub-Saharan Africa (IDA & IBRD countries)', 'Early-demographic dividend', 'IDA only',\n",
    "                         'Small states', 'Middle East & North Africa (excluding high income)', 'East Asia & Pacific',\n",
    "                         'South Asia', 'European Union', 'Least developed countries: UN classification',\n",
    "                         'Middle East & North Africa (IDA & IBRD countries)', 'Upper middle income',\n",
    "                         'South Asia (IDA & IBRD)', 'Central Europe and the Baltics', 'Sub-Saharan Africa', \n",
    "                         'Latin America & Caribbean', 'Middle East & North Africa', 'IDA total', 'North America',\n",
    "                         'Last Updated: 11/14/2018', 'Data from database: World Development Indicators', 'World']"
   ]
  },
  {
   "cell_type": "code",
   "execution_count": 104,
   "metadata": {},
   "outputs": [],
   "source": [
    "wb_cols = ['Country Name', 'Series Name'] + [str('%s [YR%s]' % (y, y)) for y in list(range(1960, 2018))]"
   ]
  },
  {
   "cell_type": "code",
   "execution_count": 105,
   "metadata": {},
   "outputs": [],
   "source": [
    "def load_wb_yearly(file_name, indicators, wb_columns, country_aggregates):\n",
    "    csv_df = pd.read_csv('world_bank/%s' % file_name).fillna(0)\n",
    "    base_df = csv_df.loc[(csv_df['Series Name'].isin(indicators))]\n",
    "    wb_df = base_df[wb_columns].fillna(0)\n",
    "    df = pd.melt(wb_df, id_vars=['Country Name', 'Series Name'], var_name='date', value_name='value')\n",
    "    df['date'] = pd.to_datetime(df['date'].map(lambda x: int(x.split(' ')[0])), format='%Y')\n",
    "    df.columns = ['country', 'indicator', 'date', 'value']\n",
    "    return df.loc[~df['country'].isin(country_aggregates)]"
   ]
  },
  {
   "cell_type": "code",
   "execution_count": 106,
   "metadata": {},
   "outputs": [],
   "source": [
    "wb_econ_df = load_wb_yearly('ECON.csv', indicator_list, wb_cols, wb_country_aggregates)"
   ]
  },
  {
   "cell_type": "code",
   "execution_count": 107,
   "metadata": {},
   "outputs": [],
   "source": [
    "wb_hnp_df = load_wb_yearly('HNP.csv', indicator_list, wb_cols, wb_country_aggregates)"
   ]
  },
  {
   "cell_type": "code",
   "execution_count": 108,
   "metadata": {},
   "outputs": [],
   "source": [
    "wb_pop_df = load_wb_yearly('POP.csv', indicator_list, wb_cols, wb_country_aggregates)"
   ]
  },
  {
   "cell_type": "code",
   "execution_count": 109,
   "metadata": {},
   "outputs": [],
   "source": [
    "wb_df = pd.concat([wb_econ_df, wb_hnp_df, wb_pop_df], join='outer')"
   ]
  },
  {
   "cell_type": "code",
   "execution_count": 110,
   "metadata": {},
   "outputs": [
    {
     "data": {
      "text/plain": [
       "755160"
      ]
     },
     "execution_count": 110,
     "metadata": {},
     "output_type": "execute_result"
    }
   ],
   "source": [
    "wb_df.size"
   ]
  },
  {
   "cell_type": "code",
   "execution_count": 111,
   "metadata": {},
   "outputs": [
    {
     "data": {
      "text/html": [
       "<div>\n",
       "<style scoped>\n",
       "    .dataframe tbody tr th:only-of-type {\n",
       "        vertical-align: middle;\n",
       "    }\n",
       "\n",
       "    .dataframe tbody tr th {\n",
       "        vertical-align: top;\n",
       "    }\n",
       "\n",
       "    .dataframe thead th {\n",
       "        text-align: right;\n",
       "    }\n",
       "</style>\n",
       "<table border=\"1\" class=\"dataframe\">\n",
       "  <thead>\n",
       "    <tr style=\"text-align: right;\">\n",
       "      <th></th>\n",
       "      <th>country</th>\n",
       "      <th>indicator</th>\n",
       "      <th>date</th>\n",
       "      <th>value</th>\n",
       "    </tr>\n",
       "  </thead>\n",
       "  <tbody>\n",
       "    <tr>\n",
       "      <th>0</th>\n",
       "      <td>Afghanistan</td>\n",
       "      <td>Access to electricity (% of population)</td>\n",
       "      <td>1960-01-01</td>\n",
       "      <td>0.00</td>\n",
       "    </tr>\n",
       "    <tr>\n",
       "      <th>1</th>\n",
       "      <td>Afghanistan</td>\n",
       "      <td>Cereal yield (kg per hectare)</td>\n",
       "      <td>1960-01-01</td>\n",
       "      <td>0.00</td>\n",
       "    </tr>\n",
       "    <tr>\n",
       "      <th>2</th>\n",
       "      <td>Afghanistan</td>\n",
       "      <td>CO2 emissions (metric tons per capita)</td>\n",
       "      <td>1960-01-01</td>\n",
       "      <td>0.05</td>\n",
       "    </tr>\n",
       "    <tr>\n",
       "      <th>3</th>\n",
       "      <td>Afghanistan</td>\n",
       "      <td>Electric power consumption (kWh per capita)</td>\n",
       "      <td>1960-01-01</td>\n",
       "      <td>0.00</td>\n",
       "    </tr>\n",
       "    <tr>\n",
       "      <th>4</th>\n",
       "      <td>Afghanistan</td>\n",
       "      <td>Fertilizer consumption (kilograms per hectare ...</td>\n",
       "      <td>1960-01-01</td>\n",
       "      <td>0.00</td>\n",
       "    </tr>\n",
       "    <tr>\n",
       "      <th>5</th>\n",
       "      <td>Afghanistan</td>\n",
       "      <td>Fixed broadband subscriptions (per 100 people)</td>\n",
       "      <td>1960-01-01</td>\n",
       "      <td>0.00</td>\n",
       "    </tr>\n",
       "    <tr>\n",
       "      <th>6</th>\n",
       "      <td>Afghanistan</td>\n",
       "      <td>Industry (including construction), value added...</td>\n",
       "      <td>1960-01-01</td>\n",
       "      <td>0.00</td>\n",
       "    </tr>\n",
       "    <tr>\n",
       "      <th>7</th>\n",
       "      <td>Afghanistan</td>\n",
       "      <td>Manufacturing, value added (% of GDP)</td>\n",
       "      <td>1960-01-01</td>\n",
       "      <td>0.00</td>\n",
       "    </tr>\n",
       "    <tr>\n",
       "      <th>8</th>\n",
       "      <td>Afghanistan</td>\n",
       "      <td>Manufacturing, value added (annual % growth)</td>\n",
       "      <td>1960-01-01</td>\n",
       "      <td>0.00</td>\n",
       "    </tr>\n",
       "    <tr>\n",
       "      <th>9</th>\n",
       "      <td>Afghanistan</td>\n",
       "      <td>Medium and high-tech Industry (including const...</td>\n",
       "      <td>1960-01-01</td>\n",
       "      <td>0.00</td>\n",
       "    </tr>\n",
       "    <tr>\n",
       "      <th>10</th>\n",
       "      <td>Afghanistan</td>\n",
       "      <td>Mobile cellular subscriptions (per 100 people)</td>\n",
       "      <td>1960-01-01</td>\n",
       "      <td>0.00</td>\n",
       "    </tr>\n",
       "    <tr>\n",
       "      <th>11</th>\n",
       "      <td>Afghanistan</td>\n",
       "      <td>Research and development expenditure (% of GDP)</td>\n",
       "      <td>1960-01-01</td>\n",
       "      <td>0.00</td>\n",
       "    </tr>\n",
       "    <tr>\n",
       "      <th>12</th>\n",
       "      <td>Albania</td>\n",
       "      <td>Access to electricity (% of population)</td>\n",
       "      <td>1960-01-01</td>\n",
       "      <td>0.00</td>\n",
       "    </tr>\n",
       "    <tr>\n",
       "      <th>13</th>\n",
       "      <td>Albania</td>\n",
       "      <td>Cereal yield (kg per hectare)</td>\n",
       "      <td>1960-01-01</td>\n",
       "      <td>0.00</td>\n",
       "    </tr>\n",
       "    <tr>\n",
       "      <th>14</th>\n",
       "      <td>Albania</td>\n",
       "      <td>CO2 emissions (metric tons per capita)</td>\n",
       "      <td>1960-01-01</td>\n",
       "      <td>1.26</td>\n",
       "    </tr>\n",
       "  </tbody>\n",
       "</table>\n",
       "</div>"
      ],
      "text/plain": [
       "        country                                          indicator       date  \\\n",
       "0   Afghanistan            Access to electricity (% of population) 1960-01-01   \n",
       "1   Afghanistan                      Cereal yield (kg per hectare) 1960-01-01   \n",
       "2   Afghanistan             CO2 emissions (metric tons per capita) 1960-01-01   \n",
       "3   Afghanistan        Electric power consumption (kWh per capita) 1960-01-01   \n",
       "4   Afghanistan  Fertilizer consumption (kilograms per hectare ... 1960-01-01   \n",
       "5   Afghanistan     Fixed broadband subscriptions (per 100 people) 1960-01-01   \n",
       "6   Afghanistan  Industry (including construction), value added... 1960-01-01   \n",
       "7   Afghanistan              Manufacturing, value added (% of GDP) 1960-01-01   \n",
       "8   Afghanistan       Manufacturing, value added (annual % growth) 1960-01-01   \n",
       "9   Afghanistan  Medium and high-tech Industry (including const... 1960-01-01   \n",
       "10  Afghanistan     Mobile cellular subscriptions (per 100 people) 1960-01-01   \n",
       "11  Afghanistan    Research and development expenditure (% of GDP) 1960-01-01   \n",
       "12      Albania            Access to electricity (% of population) 1960-01-01   \n",
       "13      Albania                      Cereal yield (kg per hectare) 1960-01-01   \n",
       "14      Albania             CO2 emissions (metric tons per capita) 1960-01-01   \n",
       "\n",
       "                  value  \n",
       "0                  0.00  \n",
       "1                  0.00  \n",
       "2                  0.05  \n",
       "3                  0.00  \n",
       "4                  0.00  \n",
       "5                  0.00  \n",
       "6                  0.00  \n",
       "7                  0.00  \n",
       "8                  0.00  \n",
       "9                  0.00  \n",
       "10                 0.00  \n",
       "11                 0.00  \n",
       "12                 0.00  \n",
       "13                 0.00  \n",
       "14                 1.26  "
      ]
     },
     "execution_count": 111,
     "metadata": {},
     "output_type": "execute_result"
    }
   ],
   "source": [
    "wb_df.head(15)"
   ]
  },
  {
   "cell_type": "code",
   "execution_count": 112,
   "metadata": {},
   "outputs": [
    {
     "data": {
      "text/plain": [
       "217"
      ]
     },
     "execution_count": 112,
     "metadata": {},
     "output_type": "execute_result"
    }
   ],
   "source": [
    "len(wb_df['country'].unique())"
   ]
  },
  {
   "cell_type": "code",
   "execution_count": 113,
   "metadata": {},
   "outputs": [],
   "source": [
    "wb_countries = sorted(list(wb_df['country'].unique()))"
   ]
  },
  {
   "cell_type": "markdown",
   "metadata": {},
   "source": [
    "### Combine the two datasets"
   ]
  },
  {
   "cell_type": "code",
   "execution_count": 114,
   "metadata": {},
   "outputs": [],
   "source": [
    "imf_specific = [country for country in imf_countries if country not in wb_countries]"
   ]
  },
  {
   "cell_type": "code",
   "execution_count": 115,
   "metadata": {},
   "outputs": [
    {
     "data": {
      "text/plain": [
       "0"
      ]
     },
     "execution_count": 115,
     "metadata": {},
     "output_type": "execute_result"
    }
   ],
   "source": [
    "len(imf_specific)"
   ]
  },
  {
   "cell_type": "code",
   "execution_count": 116,
   "metadata": {},
   "outputs": [],
   "source": [
    "imf_to_wb_country_map = {\n",
    "    'Afghanistan, Islamic Republic of': 'Afghanistan',\n",
    "    'Armenia, Republic of': 'Armenia',\n",
    "    'Azerbaijan, Republic of': 'Azerbaijan',\n",
    "    'Bahrain, Kingdom of': 'Bahrain',\n",
    "    'China, P.R.: Hong Kong': 'Hong Kong SAR, China',\n",
    "    'China, P.R.: Macao': 'Macao SAR, China',\n",
    "    'China, P.R.: Mainland': 'China',\n",
    "    'Congo, Democratic Republic of': 'Congo, Dem. Rep.',\n",
    "    'Congo, Republic of': 'Congo, Rep.',\n",
    "    'Egypt': 'Egypt, Arab Rep.',\n",
    "    'French Territories: New Caledonia': 'New Caledonia',\n",
    "    'Iran, Islamic Republic of': 'Iran',\n",
    "    'Korea, Republic of': 'Korea, Rep.',\n",
    "    'Kosovo, Republic of': 'Kosovo',\n",
    "    \"Lao People's Democratic Republic\": 'Lao PDR',\n",
    "    'Serbia, Republic of': 'Serbia',\n",
    "    'Sint Maarten': 'Sint Maarten (Dutch part)',\n",
    "    'Timor-Leste, Dem. Rep. of': 'Timor-Leste',\n",
    "    'Venezuela, Republica Bolivariana de': 'Venezuela, RB',\n",
    "    'Venezuela, República Bolivariana de': 'Venezuela, RB',\n",
    "    'Yemen, Republic of': 'Yemen'\n",
    "}"
   ]
  },
  {
   "cell_type": "code",
   "execution_count": 117,
   "metadata": {},
   "outputs": [],
   "source": [
    "imf_df = imf_df.replace({'country': imf_to_wb_country_map})"
   ]
  },
  {
   "cell_type": "code",
   "execution_count": 118,
   "metadata": {},
   "outputs": [],
   "source": [
    "tech_df = pd.concat([wb_df, imf_df], join='outer')"
   ]
  },
  {
   "cell_type": "code",
   "execution_count": 119,
   "metadata": {},
   "outputs": [
    {
     "data": {
      "text/plain": [
       "755160"
      ]
     },
     "execution_count": 119,
     "metadata": {},
     "output_type": "execute_result"
    }
   ],
   "source": [
    "tech_df.size"
   ]
  },
  {
   "cell_type": "code",
   "execution_count": 120,
   "metadata": {},
   "outputs": [
    {
     "data": {
      "text/html": [
       "<div>\n",
       "<style scoped>\n",
       "    .dataframe tbody tr th:only-of-type {\n",
       "        vertical-align: middle;\n",
       "    }\n",
       "\n",
       "    .dataframe tbody tr th {\n",
       "        vertical-align: top;\n",
       "    }\n",
       "\n",
       "    .dataframe thead th {\n",
       "        text-align: right;\n",
       "    }\n",
       "</style>\n",
       "<table border=\"1\" class=\"dataframe\">\n",
       "  <thead>\n",
       "    <tr style=\"text-align: right;\">\n",
       "      <th></th>\n",
       "      <th>country</th>\n",
       "      <th>indicator</th>\n",
       "      <th>date</th>\n",
       "      <th>value</th>\n",
       "    </tr>\n",
       "  </thead>\n",
       "  <tbody>\n",
       "    <tr>\n",
       "      <th>0</th>\n",
       "      <td>Afghanistan</td>\n",
       "      <td>Access to electricity (% of population)</td>\n",
       "      <td>1960-01-01</td>\n",
       "      <td>0.00</td>\n",
       "    </tr>\n",
       "    <tr>\n",
       "      <th>1</th>\n",
       "      <td>Afghanistan</td>\n",
       "      <td>Cereal yield (kg per hectare)</td>\n",
       "      <td>1960-01-01</td>\n",
       "      <td>0.00</td>\n",
       "    </tr>\n",
       "    <tr>\n",
       "      <th>2</th>\n",
       "      <td>Afghanistan</td>\n",
       "      <td>CO2 emissions (metric tons per capita)</td>\n",
       "      <td>1960-01-01</td>\n",
       "      <td>0.05</td>\n",
       "    </tr>\n",
       "    <tr>\n",
       "      <th>3</th>\n",
       "      <td>Afghanistan</td>\n",
       "      <td>Electric power consumption (kWh per capita)</td>\n",
       "      <td>1960-01-01</td>\n",
       "      <td>0.00</td>\n",
       "    </tr>\n",
       "    <tr>\n",
       "      <th>4</th>\n",
       "      <td>Afghanistan</td>\n",
       "      <td>Fertilizer consumption (kilograms per hectare ...</td>\n",
       "      <td>1960-01-01</td>\n",
       "      <td>0.00</td>\n",
       "    </tr>\n",
       "    <tr>\n",
       "      <th>5</th>\n",
       "      <td>Afghanistan</td>\n",
       "      <td>Fixed broadband subscriptions (per 100 people)</td>\n",
       "      <td>1960-01-01</td>\n",
       "      <td>0.00</td>\n",
       "    </tr>\n",
       "    <tr>\n",
       "      <th>6</th>\n",
       "      <td>Afghanistan</td>\n",
       "      <td>Industry (including construction), value added...</td>\n",
       "      <td>1960-01-01</td>\n",
       "      <td>0.00</td>\n",
       "    </tr>\n",
       "    <tr>\n",
       "      <th>7</th>\n",
       "      <td>Afghanistan</td>\n",
       "      <td>Manufacturing, value added (% of GDP)</td>\n",
       "      <td>1960-01-01</td>\n",
       "      <td>0.00</td>\n",
       "    </tr>\n",
       "    <tr>\n",
       "      <th>8</th>\n",
       "      <td>Afghanistan</td>\n",
       "      <td>Manufacturing, value added (annual % growth)</td>\n",
       "      <td>1960-01-01</td>\n",
       "      <td>0.00</td>\n",
       "    </tr>\n",
       "    <tr>\n",
       "      <th>9</th>\n",
       "      <td>Afghanistan</td>\n",
       "      <td>Medium and high-tech Industry (including const...</td>\n",
       "      <td>1960-01-01</td>\n",
       "      <td>0.00</td>\n",
       "    </tr>\n",
       "    <tr>\n",
       "      <th>10</th>\n",
       "      <td>Afghanistan</td>\n",
       "      <td>Mobile cellular subscriptions (per 100 people)</td>\n",
       "      <td>1960-01-01</td>\n",
       "      <td>0.00</td>\n",
       "    </tr>\n",
       "    <tr>\n",
       "      <th>11</th>\n",
       "      <td>Afghanistan</td>\n",
       "      <td>Research and development expenditure (% of GDP)</td>\n",
       "      <td>1960-01-01</td>\n",
       "      <td>0.00</td>\n",
       "    </tr>\n",
       "    <tr>\n",
       "      <th>12</th>\n",
       "      <td>Albania</td>\n",
       "      <td>Access to electricity (% of population)</td>\n",
       "      <td>1960-01-01</td>\n",
       "      <td>0.00</td>\n",
       "    </tr>\n",
       "    <tr>\n",
       "      <th>13</th>\n",
       "      <td>Albania</td>\n",
       "      <td>Cereal yield (kg per hectare)</td>\n",
       "      <td>1960-01-01</td>\n",
       "      <td>0.00</td>\n",
       "    </tr>\n",
       "    <tr>\n",
       "      <th>14</th>\n",
       "      <td>Albania</td>\n",
       "      <td>CO2 emissions (metric tons per capita)</td>\n",
       "      <td>1960-01-01</td>\n",
       "      <td>1.26</td>\n",
       "    </tr>\n",
       "  </tbody>\n",
       "</table>\n",
       "</div>"
      ],
      "text/plain": [
       "        country                                          indicator       date  \\\n",
       "0   Afghanistan            Access to electricity (% of population) 1960-01-01   \n",
       "1   Afghanistan                      Cereal yield (kg per hectare) 1960-01-01   \n",
       "2   Afghanistan             CO2 emissions (metric tons per capita) 1960-01-01   \n",
       "3   Afghanistan        Electric power consumption (kWh per capita) 1960-01-01   \n",
       "4   Afghanistan  Fertilizer consumption (kilograms per hectare ... 1960-01-01   \n",
       "5   Afghanistan     Fixed broadband subscriptions (per 100 people) 1960-01-01   \n",
       "6   Afghanistan  Industry (including construction), value added... 1960-01-01   \n",
       "7   Afghanistan              Manufacturing, value added (% of GDP) 1960-01-01   \n",
       "8   Afghanistan       Manufacturing, value added (annual % growth) 1960-01-01   \n",
       "9   Afghanistan  Medium and high-tech Industry (including const... 1960-01-01   \n",
       "10  Afghanistan     Mobile cellular subscriptions (per 100 people) 1960-01-01   \n",
       "11  Afghanistan    Research and development expenditure (% of GDP) 1960-01-01   \n",
       "12      Albania            Access to electricity (% of population) 1960-01-01   \n",
       "13      Albania                      Cereal yield (kg per hectare) 1960-01-01   \n",
       "14      Albania             CO2 emissions (metric tons per capita) 1960-01-01   \n",
       "\n",
       "                  value  \n",
       "0                  0.00  \n",
       "1                  0.00  \n",
       "2                  0.05  \n",
       "3                  0.00  \n",
       "4                  0.00  \n",
       "5                  0.00  \n",
       "6                  0.00  \n",
       "7                  0.00  \n",
       "8                  0.00  \n",
       "9                  0.00  \n",
       "10                 0.00  \n",
       "11                 0.00  \n",
       "12                 0.00  \n",
       "13                 0.00  \n",
       "14                 1.26  "
      ]
     },
     "execution_count": 120,
     "metadata": {},
     "output_type": "execute_result"
    }
   ],
   "source": [
    "tech_df.head(15)"
   ]
  },
  {
   "cell_type": "code",
   "execution_count": 121,
   "metadata": {},
   "outputs": [],
   "source": [
    "indicators = sorted(list(tech_df['indicator'].unique()))"
   ]
  },
  {
   "cell_type": "code",
   "execution_count": 123,
   "metadata": {},
   "outputs": [],
   "source": [
    "assert len(indicators) == len(indicator_list), 'The number of retrieved variables (%s) does not match the number of specified variables (%s).\\nThe following variables are missing:\\n\\n %s' % (len(indicators), len(indicator_list), [i for i in indicator_list if i not in indicators])"
   ]
  },
  {
   "cell_type": "code",
   "execution_count": 124,
   "metadata": {},
   "outputs": [],
   "source": [
    "tech_df.to_csv('model_one/tech.csv', sep=';', index=False)"
   ]
  },
  {
   "cell_type": "code",
   "execution_count": null,
   "metadata": {},
   "outputs": [],
   "source": []
  }
 ],
 "metadata": {
  "kernelspec": {
   "display_name": "me",
   "language": "python",
   "name": "me"
  },
  "language_info": {
   "codemirror_mode": {
    "name": "ipython",
    "version": 3
   },
   "file_extension": ".py",
   "mimetype": "text/x-python",
   "name": "python",
   "nbconvert_exporter": "python",
   "pygments_lexer": "ipython3",
   "version": "3.7.7"
  }
 },
 "nbformat": 4,
 "nbformat_minor": 2
}
