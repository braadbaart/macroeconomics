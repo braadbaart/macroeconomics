{
 "cells": [
  {
   "cell_type": "markdown",
   "metadata": {},
   "source": [
    "## Model 1b: Single-country policy simulation\n",
    "\n",
    "The objective of this model-based simulation is to analyse the impact of policy, technology, and commodity changes on consumer price inflation in selected countries. The simulation environment is learnt from real data, after which simulations using synthetic data are used to do policy analysis by manipulating a number of selected variables such as government debt, cellular subscription, gdp growth, and real interest rates in the synthetic data. A secondary purpose of the simulation model is to identify and map the interactions between world-level and country-level indicator variables.\n",
    "\n",
    "#### Features\n",
    "------------\n",
    "\n",
    "Human and technological development indicator timeseries for a country x.\n",
    "\n",
    "#### Labels\n",
    "----------\n",
    "\n",
    "Consumer price inflation levels.\n",
    "\n",
    "#### Training\n",
    "------------\n",
    "\n",
    "Training is done on a feature - single country basis."
   ]
  },
  {
   "cell_type": "markdown",
   "metadata": {},
   "source": [
    "### Load and prepare the data"
   ]
  },
  {
   "cell_type": "code",
   "execution_count": 239,
   "metadata": {},
   "outputs": [],
   "source": [
    "import warnings\n",
    "import numpy as np\n",
    "import pandas as pd\n",
    "import seaborn as sns\n",
    "import tensorflow as tf\n",
    "import tensorflow_probability as tfp\n",
    "import matplotlib.pyplot as plt\n",
    "from tensorflow import keras\n",
    "\n",
    "%matplotlib inline"
   ]
  },
  {
   "cell_type": "code",
   "execution_count": 240,
   "metadata": {},
   "outputs": [],
   "source": [
    "warnings.filterwarnings('ignore')\n",
    "pd.options.display.float_format = '{:20,.4f}'.format"
   ]
  },
  {
   "cell_type": "code",
   "execution_count": 241,
   "metadata": {},
   "outputs": [],
   "source": [
    "sns.set_style(\"whitegrid\")\n",
    "sns.set_palette(\"colorblind\")"
   ]
  },
  {
   "cell_type": "code",
   "execution_count": 242,
   "metadata": {},
   "outputs": [],
   "source": [
    "country = 'Switzerland'"
   ]
  },
  {
   "cell_type": "markdown",
   "metadata": {},
   "source": [
    "#### Load and combine the features and labels"
   ]
  },
  {
   "cell_type": "code",
   "execution_count": 243,
   "metadata": {},
   "outputs": [],
   "source": [
    "features_df = pd.read_csv('features/m_one/%s_features.csv' % country, sep=';', header=0)\n",
    "labels_df = pd.read_csv('features/m_one/labels_interpolated.csv', sep=';', header=0)"
   ]
  },
  {
   "cell_type": "code",
   "execution_count": 244,
   "metadata": {},
   "outputs": [
    {
     "data": {
      "text/html": [
       "<div>\n",
       "<style scoped>\n",
       "    .dataframe tbody tr th:only-of-type {\n",
       "        vertical-align: middle;\n",
       "    }\n",
       "\n",
       "    .dataframe tbody tr th {\n",
       "        vertical-align: top;\n",
       "    }\n",
       "\n",
       "    .dataframe thead th {\n",
       "        text-align: right;\n",
       "    }\n",
       "</style>\n",
       "<table border=\"1\" class=\"dataframe\">\n",
       "  <thead>\n",
       "    <tr style=\"text-align: right;\">\n",
       "      <th></th>\n",
       "      <th>date</th>\n",
       "      <th>bank capital to assets ratio</th>\n",
       "      <th>bank nonperforming loans</th>\n",
       "      <th>cereal yield</th>\n",
       "      <th>energy imports</th>\n",
       "      <th>food exports</th>\n",
       "      <th>high-tech exports</th>\n",
       "      <th>inflation</th>\n",
       "      <th>lending interest rate</th>\n",
       "      <th>life expectancy</th>\n",
       "      <th>...</th>\n",
       "      <th>broadband subscriptions</th>\n",
       "      <th>electricity access</th>\n",
       "      <th>co2 emissions</th>\n",
       "      <th>electricity consumption</th>\n",
       "      <th>mobile subscriptions</th>\n",
       "      <th>newborns</th>\n",
       "      <th>overweight</th>\n",
       "      <th>rural population</th>\n",
       "      <th>unemployed</th>\n",
       "      <th>urban population</th>\n",
       "    </tr>\n",
       "  </thead>\n",
       "  <tbody>\n",
       "    <tr>\n",
       "      <th>0</th>\n",
       "      <td>1960-01-01</td>\n",
       "      <td>0.0000</td>\n",
       "      <td>0.0000</td>\n",
       "      <td>0.0000</td>\n",
       "      <td>0.0000</td>\n",
       "      <td>0.0000</td>\n",
       "      <td>0.0000</td>\n",
       "      <td>0.0000</td>\n",
       "      <td>0.0000</td>\n",
       "      <td>0.0000</td>\n",
       "      <td>...</td>\n",
       "      <td>0.0000</td>\n",
       "      <td>0.0000</td>\n",
       "      <td>0.0000</td>\n",
       "      <td>0.0000</td>\n",
       "      <td>0.0000</td>\n",
       "      <td>0.0000</td>\n",
       "      <td>0.0000</td>\n",
       "      <td>0.0000</td>\n",
       "      <td>0.0000</td>\n",
       "      <td>0.0000</td>\n",
       "    </tr>\n",
       "    <tr>\n",
       "      <th>1</th>\n",
       "      <td>1961-01-01</td>\n",
       "      <td>0.0000</td>\n",
       "      <td>0.0000</td>\n",
       "      <td>0.0000</td>\n",
       "      <td>0.0000</td>\n",
       "      <td>0.0000</td>\n",
       "      <td>0.0000</td>\n",
       "      <td>0.0000</td>\n",
       "      <td>0.0000</td>\n",
       "      <td>0.0000</td>\n",
       "      <td>...</td>\n",
       "      <td>0.0000</td>\n",
       "      <td>0.0000</td>\n",
       "      <td>0.0000</td>\n",
       "      <td>0.0000</td>\n",
       "      <td>0.0000</td>\n",
       "      <td>0.0000</td>\n",
       "      <td>0.0000</td>\n",
       "      <td>0.0000</td>\n",
       "      <td>0.0000</td>\n",
       "      <td>0.0000</td>\n",
       "    </tr>\n",
       "    <tr>\n",
       "      <th>2</th>\n",
       "      <td>1962-01-01</td>\n",
       "      <td>0.0000</td>\n",
       "      <td>0.0000</td>\n",
       "      <td>0.0000</td>\n",
       "      <td>0.0000</td>\n",
       "      <td>0.0000</td>\n",
       "      <td>0.0000</td>\n",
       "      <td>0.0000</td>\n",
       "      <td>0.0000</td>\n",
       "      <td>0.0000</td>\n",
       "      <td>...</td>\n",
       "      <td>0.0000</td>\n",
       "      <td>0.0000</td>\n",
       "      <td>0.0000</td>\n",
       "      <td>0.0000</td>\n",
       "      <td>0.0000</td>\n",
       "      <td>0.0000</td>\n",
       "      <td>0.0000</td>\n",
       "      <td>0.0000</td>\n",
       "      <td>0.0000</td>\n",
       "      <td>0.0000</td>\n",
       "    </tr>\n",
       "    <tr>\n",
       "      <th>3</th>\n",
       "      <td>1963-01-01</td>\n",
       "      <td>0.0000</td>\n",
       "      <td>0.0000</td>\n",
       "      <td>0.0000</td>\n",
       "      <td>0.0000</td>\n",
       "      <td>0.0000</td>\n",
       "      <td>0.0000</td>\n",
       "      <td>0.0000</td>\n",
       "      <td>0.0000</td>\n",
       "      <td>0.0000</td>\n",
       "      <td>...</td>\n",
       "      <td>0.0000</td>\n",
       "      <td>0.0000</td>\n",
       "      <td>0.0000</td>\n",
       "      <td>0.0000</td>\n",
       "      <td>0.0000</td>\n",
       "      <td>0.0000</td>\n",
       "      <td>0.0000</td>\n",
       "      <td>0.0000</td>\n",
       "      <td>0.0000</td>\n",
       "      <td>0.0000</td>\n",
       "    </tr>\n",
       "    <tr>\n",
       "      <th>4</th>\n",
       "      <td>1964-01-01</td>\n",
       "      <td>0.0000</td>\n",
       "      <td>0.0000</td>\n",
       "      <td>0.0000</td>\n",
       "      <td>0.0000</td>\n",
       "      <td>0.0000</td>\n",
       "      <td>0.0000</td>\n",
       "      <td>0.0000</td>\n",
       "      <td>0.0000</td>\n",
       "      <td>0.0000</td>\n",
       "      <td>...</td>\n",
       "      <td>0.0000</td>\n",
       "      <td>0.0000</td>\n",
       "      <td>0.0000</td>\n",
       "      <td>0.0000</td>\n",
       "      <td>0.0000</td>\n",
       "      <td>0.0000</td>\n",
       "      <td>0.0000</td>\n",
       "      <td>0.0000</td>\n",
       "      <td>0.0000</td>\n",
       "      <td>0.0000</td>\n",
       "    </tr>\n",
       "  </tbody>\n",
       "</table>\n",
       "<p>5 rows × 37 columns</p>\n",
       "</div>"
      ],
      "text/plain": [
       "         date  bank capital to assets ratio  bank nonperforming loans  \\\n",
       "0  1960-01-01                        0.0000                    0.0000   \n",
       "1  1961-01-01                        0.0000                    0.0000   \n",
       "2  1962-01-01                        0.0000                    0.0000   \n",
       "3  1963-01-01                        0.0000                    0.0000   \n",
       "4  1964-01-01                        0.0000                    0.0000   \n",
       "\n",
       "          cereal yield       energy imports         food exports  \\\n",
       "0               0.0000               0.0000               0.0000   \n",
       "1               0.0000               0.0000               0.0000   \n",
       "2               0.0000               0.0000               0.0000   \n",
       "3               0.0000               0.0000               0.0000   \n",
       "4               0.0000               0.0000               0.0000   \n",
       "\n",
       "     high-tech exports            inflation  lending interest rate  \\\n",
       "0               0.0000               0.0000                 0.0000   \n",
       "1               0.0000               0.0000                 0.0000   \n",
       "2               0.0000               0.0000                 0.0000   \n",
       "3               0.0000               0.0000                 0.0000   \n",
       "4               0.0000               0.0000                 0.0000   \n",
       "\n",
       "       life expectancy         ...           broadband subscriptions  \\\n",
       "0               0.0000         ...                            0.0000   \n",
       "1               0.0000         ...                            0.0000   \n",
       "2               0.0000         ...                            0.0000   \n",
       "3               0.0000         ...                            0.0000   \n",
       "4               0.0000         ...                            0.0000   \n",
       "\n",
       "    electricity access        co2 emissions  electricity consumption  \\\n",
       "0               0.0000               0.0000                   0.0000   \n",
       "1               0.0000               0.0000                   0.0000   \n",
       "2               0.0000               0.0000                   0.0000   \n",
       "3               0.0000               0.0000                   0.0000   \n",
       "4               0.0000               0.0000                   0.0000   \n",
       "\n",
       "   mobile subscriptions             newborns           overweight  \\\n",
       "0                0.0000               0.0000               0.0000   \n",
       "1                0.0000               0.0000               0.0000   \n",
       "2                0.0000               0.0000               0.0000   \n",
       "3                0.0000               0.0000               0.0000   \n",
       "4                0.0000               0.0000               0.0000   \n",
       "\n",
       "      rural population           unemployed     urban population  \n",
       "0               0.0000               0.0000               0.0000  \n",
       "1               0.0000               0.0000               0.0000  \n",
       "2               0.0000               0.0000               0.0000  \n",
       "3               0.0000               0.0000               0.0000  \n",
       "4               0.0000               0.0000               0.0000  \n",
       "\n",
       "[5 rows x 37 columns]"
      ]
     },
     "execution_count": 244,
     "metadata": {},
     "output_type": "execute_result"
    }
   ],
   "source": [
    "features_df.head()"
   ]
  },
  {
   "cell_type": "code",
   "execution_count": 245,
   "metadata": {},
   "outputs": [
    {
     "data": {
      "text/html": [
       "<div>\n",
       "<style scoped>\n",
       "    .dataframe tbody tr th:only-of-type {\n",
       "        vertical-align: middle;\n",
       "    }\n",
       "\n",
       "    .dataframe tbody tr th {\n",
       "        vertical-align: top;\n",
       "    }\n",
       "\n",
       "    .dataframe thead th {\n",
       "        text-align: right;\n",
       "    }\n",
       "</style>\n",
       "<table border=\"1\" class=\"dataframe\">\n",
       "  <thead>\n",
       "    <tr style=\"text-align: right;\">\n",
       "      <th></th>\n",
       "      <th>date</th>\n",
       "      <th>Brazil</th>\n",
       "      <th>China</th>\n",
       "      <th>Colombia</th>\n",
       "      <th>France</th>\n",
       "      <th>Ghana</th>\n",
       "      <th>India</th>\n",
       "      <th>Indonesia</th>\n",
       "      <th>Japan</th>\n",
       "      <th>Netherlands</th>\n",
       "      <th>Senegal</th>\n",
       "      <th>Singapore</th>\n",
       "      <th>Switzerland</th>\n",
       "      <th>United States</th>\n",
       "    </tr>\n",
       "  </thead>\n",
       "  <tbody>\n",
       "    <tr>\n",
       "      <th>0</th>\n",
       "      <td>1960-01-01</td>\n",
       "      <td>0.0000</td>\n",
       "      <td>0.0000</td>\n",
       "      <td>0.0581</td>\n",
       "      <td>0.0414</td>\n",
       "      <td>0.0000</td>\n",
       "      <td>0.0178</td>\n",
       "      <td>0.3959</td>\n",
       "      <td>0.0357</td>\n",
       "      <td>0.0232</td>\n",
       "      <td>0.0000</td>\n",
       "      <td>0.0000</td>\n",
       "      <td>0.0144</td>\n",
       "      <td>0.0146</td>\n",
       "    </tr>\n",
       "    <tr>\n",
       "      <th>1</th>\n",
       "      <td>1960-02-01</td>\n",
       "      <td>0.0000</td>\n",
       "      <td>0.0000</td>\n",
       "      <td>0.0602</td>\n",
       "      <td>0.0399</td>\n",
       "      <td>0.0000</td>\n",
       "      <td>0.0178</td>\n",
       "      <td>0.3743</td>\n",
       "      <td>0.0372</td>\n",
       "      <td>0.0224</td>\n",
       "      <td>0.0000</td>\n",
       "      <td>0.0003</td>\n",
       "      <td>0.0147</td>\n",
       "      <td>0.0143</td>\n",
       "    </tr>\n",
       "    <tr>\n",
       "      <th>2</th>\n",
       "      <td>1960-03-01</td>\n",
       "      <td>0.0000</td>\n",
       "      <td>0.0000</td>\n",
       "      <td>0.0623</td>\n",
       "      <td>0.0385</td>\n",
       "      <td>0.0000</td>\n",
       "      <td>0.0178</td>\n",
       "      <td>0.3527</td>\n",
       "      <td>0.0387</td>\n",
       "      <td>0.0215</td>\n",
       "      <td>0.0000</td>\n",
       "      <td>0.0007</td>\n",
       "      <td>0.0151</td>\n",
       "      <td>0.0139</td>\n",
       "    </tr>\n",
       "    <tr>\n",
       "      <th>3</th>\n",
       "      <td>1960-04-01</td>\n",
       "      <td>0.0000</td>\n",
       "      <td>0.0000</td>\n",
       "      <td>0.0643</td>\n",
       "      <td>0.0371</td>\n",
       "      <td>0.0000</td>\n",
       "      <td>0.0178</td>\n",
       "      <td>0.3312</td>\n",
       "      <td>0.0402</td>\n",
       "      <td>0.0207</td>\n",
       "      <td>0.0000</td>\n",
       "      <td>0.0010</td>\n",
       "      <td>0.0154</td>\n",
       "      <td>0.0136</td>\n",
       "    </tr>\n",
       "    <tr>\n",
       "      <th>4</th>\n",
       "      <td>1960-05-01</td>\n",
       "      <td>0.0000</td>\n",
       "      <td>0.0000</td>\n",
       "      <td>0.0664</td>\n",
       "      <td>0.0356</td>\n",
       "      <td>0.0000</td>\n",
       "      <td>0.0177</td>\n",
       "      <td>0.3096</td>\n",
       "      <td>0.0417</td>\n",
       "      <td>0.0199</td>\n",
       "      <td>0.0000</td>\n",
       "      <td>0.0013</td>\n",
       "      <td>0.0157</td>\n",
       "      <td>0.0133</td>\n",
       "    </tr>\n",
       "  </tbody>\n",
       "</table>\n",
       "</div>"
      ],
      "text/plain": [
       "         date               Brazil                China             Colombia  \\\n",
       "0  1960-01-01               0.0000               0.0000               0.0581   \n",
       "1  1960-02-01               0.0000               0.0000               0.0602   \n",
       "2  1960-03-01               0.0000               0.0000               0.0623   \n",
       "3  1960-04-01               0.0000               0.0000               0.0643   \n",
       "4  1960-05-01               0.0000               0.0000               0.0664   \n",
       "\n",
       "                France                Ghana                India  \\\n",
       "0               0.0414               0.0000               0.0178   \n",
       "1               0.0399               0.0000               0.0178   \n",
       "2               0.0385               0.0000               0.0178   \n",
       "3               0.0371               0.0000               0.0178   \n",
       "4               0.0356               0.0000               0.0177   \n",
       "\n",
       "             Indonesia                Japan          Netherlands  \\\n",
       "0               0.3959               0.0357               0.0232   \n",
       "1               0.3743               0.0372               0.0224   \n",
       "2               0.3527               0.0387               0.0215   \n",
       "3               0.3312               0.0402               0.0207   \n",
       "4               0.3096               0.0417               0.0199   \n",
       "\n",
       "               Senegal            Singapore          Switzerland  \\\n",
       "0               0.0000               0.0000               0.0144   \n",
       "1               0.0000               0.0003               0.0147   \n",
       "2               0.0000               0.0007               0.0151   \n",
       "3               0.0000               0.0010               0.0154   \n",
       "4               0.0000               0.0013               0.0157   \n",
       "\n",
       "         United States  \n",
       "0               0.0146  \n",
       "1               0.0143  \n",
       "2               0.0139  \n",
       "3               0.0136  \n",
       "4               0.0133  "
      ]
     },
     "execution_count": 245,
     "metadata": {},
     "output_type": "execute_result"
    }
   ],
   "source": [
    "labels_df.head()"
   ]
  },
  {
   "cell_type": "code",
   "execution_count": 246,
   "metadata": {},
   "outputs": [],
   "source": [
    "combined_df = pd.concat([features_df, labels_df.drop(columns=['date'])], axis=1)"
   ]
  },
  {
   "cell_type": "code",
   "execution_count": 247,
   "metadata": {},
   "outputs": [
    {
     "data": {
      "text/html": [
       "<div>\n",
       "<style scoped>\n",
       "    .dataframe tbody tr th:only-of-type {\n",
       "        vertical-align: middle;\n",
       "    }\n",
       "\n",
       "    .dataframe tbody tr th {\n",
       "        vertical-align: top;\n",
       "    }\n",
       "\n",
       "    .dataframe thead th {\n",
       "        text-align: right;\n",
       "    }\n",
       "</style>\n",
       "<table border=\"1\" class=\"dataframe\">\n",
       "  <thead>\n",
       "    <tr style=\"text-align: right;\">\n",
       "      <th></th>\n",
       "      <th>date</th>\n",
       "      <th>bank capital to assets ratio</th>\n",
       "      <th>bank nonperforming loans</th>\n",
       "      <th>cereal yield</th>\n",
       "      <th>energy imports</th>\n",
       "      <th>food exports</th>\n",
       "      <th>high-tech exports</th>\n",
       "      <th>inflation</th>\n",
       "      <th>lending interest rate</th>\n",
       "      <th>life expectancy</th>\n",
       "      <th>...</th>\n",
       "      <th>France</th>\n",
       "      <th>Ghana</th>\n",
       "      <th>India</th>\n",
       "      <th>Indonesia</th>\n",
       "      <th>Japan</th>\n",
       "      <th>Netherlands</th>\n",
       "      <th>Senegal</th>\n",
       "      <th>Singapore</th>\n",
       "      <th>Switzerland</th>\n",
       "      <th>United States</th>\n",
       "    </tr>\n",
       "  </thead>\n",
       "  <tbody>\n",
       "    <tr>\n",
       "      <th>0</th>\n",
       "      <td>1960-01-01</td>\n",
       "      <td>0.0000</td>\n",
       "      <td>0.0000</td>\n",
       "      <td>0.0000</td>\n",
       "      <td>0.0000</td>\n",
       "      <td>0.0000</td>\n",
       "      <td>0.0000</td>\n",
       "      <td>0.0000</td>\n",
       "      <td>0.0000</td>\n",
       "      <td>0.0000</td>\n",
       "      <td>...</td>\n",
       "      <td>0.0414</td>\n",
       "      <td>0.0000</td>\n",
       "      <td>0.0178</td>\n",
       "      <td>0.3959</td>\n",
       "      <td>0.0357</td>\n",
       "      <td>0.0232</td>\n",
       "      <td>0.0000</td>\n",
       "      <td>0.0000</td>\n",
       "      <td>0.0144</td>\n",
       "      <td>0.0146</td>\n",
       "    </tr>\n",
       "    <tr>\n",
       "      <th>1</th>\n",
       "      <td>1961-01-01</td>\n",
       "      <td>0.0000</td>\n",
       "      <td>0.0000</td>\n",
       "      <td>0.0000</td>\n",
       "      <td>0.0000</td>\n",
       "      <td>0.0000</td>\n",
       "      <td>0.0000</td>\n",
       "      <td>0.0000</td>\n",
       "      <td>0.0000</td>\n",
       "      <td>0.0000</td>\n",
       "      <td>...</td>\n",
       "      <td>0.0399</td>\n",
       "      <td>0.0000</td>\n",
       "      <td>0.0178</td>\n",
       "      <td>0.3743</td>\n",
       "      <td>0.0372</td>\n",
       "      <td>0.0224</td>\n",
       "      <td>0.0000</td>\n",
       "      <td>0.0003</td>\n",
       "      <td>0.0147</td>\n",
       "      <td>0.0143</td>\n",
       "    </tr>\n",
       "    <tr>\n",
       "      <th>2</th>\n",
       "      <td>1962-01-01</td>\n",
       "      <td>0.0000</td>\n",
       "      <td>0.0000</td>\n",
       "      <td>0.0000</td>\n",
       "      <td>0.0000</td>\n",
       "      <td>0.0000</td>\n",
       "      <td>0.0000</td>\n",
       "      <td>0.0000</td>\n",
       "      <td>0.0000</td>\n",
       "      <td>0.0000</td>\n",
       "      <td>...</td>\n",
       "      <td>0.0385</td>\n",
       "      <td>0.0000</td>\n",
       "      <td>0.0178</td>\n",
       "      <td>0.3527</td>\n",
       "      <td>0.0387</td>\n",
       "      <td>0.0215</td>\n",
       "      <td>0.0000</td>\n",
       "      <td>0.0007</td>\n",
       "      <td>0.0151</td>\n",
       "      <td>0.0139</td>\n",
       "    </tr>\n",
       "    <tr>\n",
       "      <th>3</th>\n",
       "      <td>1963-01-01</td>\n",
       "      <td>0.0000</td>\n",
       "      <td>0.0000</td>\n",
       "      <td>0.0000</td>\n",
       "      <td>0.0000</td>\n",
       "      <td>0.0000</td>\n",
       "      <td>0.0000</td>\n",
       "      <td>0.0000</td>\n",
       "      <td>0.0000</td>\n",
       "      <td>0.0000</td>\n",
       "      <td>...</td>\n",
       "      <td>0.0371</td>\n",
       "      <td>0.0000</td>\n",
       "      <td>0.0178</td>\n",
       "      <td>0.3312</td>\n",
       "      <td>0.0402</td>\n",
       "      <td>0.0207</td>\n",
       "      <td>0.0000</td>\n",
       "      <td>0.0010</td>\n",
       "      <td>0.0154</td>\n",
       "      <td>0.0136</td>\n",
       "    </tr>\n",
       "    <tr>\n",
       "      <th>4</th>\n",
       "      <td>1964-01-01</td>\n",
       "      <td>0.0000</td>\n",
       "      <td>0.0000</td>\n",
       "      <td>0.0000</td>\n",
       "      <td>0.0000</td>\n",
       "      <td>0.0000</td>\n",
       "      <td>0.0000</td>\n",
       "      <td>0.0000</td>\n",
       "      <td>0.0000</td>\n",
       "      <td>0.0000</td>\n",
       "      <td>...</td>\n",
       "      <td>0.0356</td>\n",
       "      <td>0.0000</td>\n",
       "      <td>0.0177</td>\n",
       "      <td>0.3096</td>\n",
       "      <td>0.0417</td>\n",
       "      <td>0.0199</td>\n",
       "      <td>0.0000</td>\n",
       "      <td>0.0013</td>\n",
       "      <td>0.0157</td>\n",
       "      <td>0.0133</td>\n",
       "    </tr>\n",
       "  </tbody>\n",
       "</table>\n",
       "<p>5 rows × 50 columns</p>\n",
       "</div>"
      ],
      "text/plain": [
       "         date  bank capital to assets ratio  bank nonperforming loans  \\\n",
       "0  1960-01-01                        0.0000                    0.0000   \n",
       "1  1961-01-01                        0.0000                    0.0000   \n",
       "2  1962-01-01                        0.0000                    0.0000   \n",
       "3  1963-01-01                        0.0000                    0.0000   \n",
       "4  1964-01-01                        0.0000                    0.0000   \n",
       "\n",
       "          cereal yield       energy imports         food exports  \\\n",
       "0               0.0000               0.0000               0.0000   \n",
       "1               0.0000               0.0000               0.0000   \n",
       "2               0.0000               0.0000               0.0000   \n",
       "3               0.0000               0.0000               0.0000   \n",
       "4               0.0000               0.0000               0.0000   \n",
       "\n",
       "     high-tech exports            inflation  lending interest rate  \\\n",
       "0               0.0000               0.0000                 0.0000   \n",
       "1               0.0000               0.0000                 0.0000   \n",
       "2               0.0000               0.0000                 0.0000   \n",
       "3               0.0000               0.0000                 0.0000   \n",
       "4               0.0000               0.0000                 0.0000   \n",
       "\n",
       "       life expectancy         ...                        France  \\\n",
       "0               0.0000         ...                        0.0414   \n",
       "1               0.0000         ...                        0.0399   \n",
       "2               0.0000         ...                        0.0385   \n",
       "3               0.0000         ...                        0.0371   \n",
       "4               0.0000         ...                        0.0356   \n",
       "\n",
       "                 Ghana                India            Indonesia  \\\n",
       "0               0.0000               0.0178               0.3959   \n",
       "1               0.0000               0.0178               0.3743   \n",
       "2               0.0000               0.0178               0.3527   \n",
       "3               0.0000               0.0178               0.3312   \n",
       "4               0.0000               0.0177               0.3096   \n",
       "\n",
       "                 Japan          Netherlands              Senegal  \\\n",
       "0               0.0357               0.0232               0.0000   \n",
       "1               0.0372               0.0224               0.0000   \n",
       "2               0.0387               0.0215               0.0000   \n",
       "3               0.0402               0.0207               0.0000   \n",
       "4               0.0417               0.0199               0.0000   \n",
       "\n",
       "             Singapore          Switzerland        United States  \n",
       "0               0.0000               0.0144               0.0146  \n",
       "1               0.0003               0.0147               0.0143  \n",
       "2               0.0007               0.0151               0.0139  \n",
       "3               0.0010               0.0154               0.0136  \n",
       "4               0.0013               0.0157               0.0133  \n",
       "\n",
       "[5 rows x 50 columns]"
      ]
     },
     "execution_count": 247,
     "metadata": {},
     "output_type": "execute_result"
    }
   ],
   "source": [
    "combined_df.head()"
   ]
  },
  {
   "cell_type": "code",
   "execution_count": 248,
   "metadata": {},
   "outputs": [
    {
     "data": {
      "image/png": "[encoded data removed]",
      "text/plain": [
       "<Figure size 1080x504 with 1 Axes>"
      ]
     },
     "metadata": {},
     "output_type": "display_data"
    }
   ],
   "source": [
    "fig, ax = plt.subplots(figsize=(15,7))\n",
    "[sns.lineplot(x='date', y=c, markers=True, ax=ax, label='consumer price index', data=combined_df) for c in list([country])]\n",
    "\n",
    "xticks=ax.xaxis.get_major_ticks()\n",
    "for i in range(len(xticks)):\n",
    "    if i % 12 == 1:\n",
    "        xticks[i].set_visible(True)\n",
    "    else:\n",
    "        xticks[i].set_visible(False)\n",
    "\n",
    "ax.set_xticklabels(combined_df['date'], rotation=45);"
   ]
  },
  {
   "cell_type": "code",
   "execution_count": 249,
   "metadata": {},
   "outputs": [
    {
     "data": {
      "text/plain": [
       "Index(['date', 'bank capital to assets ratio', 'bank nonperforming loans',\n",
       "       'cereal yield', 'energy imports', 'food exports', 'high-tech exports',\n",
       "       'inflation', 'lending interest rate', 'life expectancy',\n",
       "       'population density', 'real interest rate', 'broad money',\n",
       "       'exports of goods and services', 'gross domestic savings',\n",
       "       'high-tech value added', 'household consumption expenditure',\n",
       "       'imports of goods and services', 'listed companies',\n",
       "       'manufacturing value added', 'r and d spend', 'services trade', 'trade',\n",
       "       'government debt service', 'government interest payments external debt',\n",
       "       'government tax revenue', 'birth deaths', 'broadband subscriptions',\n",
       "       'electricity access', 'co2 emissions', 'electricity consumption',\n",
       "       'mobile subscriptions', 'newborns', 'overweight', 'rural population',\n",
       "       'unemployed', 'urban population', 'Brazil', 'China', 'Colombia',\n",
       "       'France', 'Ghana', 'India', 'Indonesia', 'Japan', 'Netherlands',\n",
       "       'Senegal', 'Singapore', 'Switzerland', 'United States'],\n",
       "      dtype='object')"
      ]
     },
     "execution_count": 249,
     "metadata": {},
     "output_type": "execute_result"
    }
   ],
   "source": [
    "combined_df.columns"
   ]
  },
  {
   "cell_type": "markdown",
   "metadata": {},
   "source": [
    "### Prepare the country features"
   ]
  },
  {
   "cell_type": "code",
   "execution_count": 252,
   "metadata": {},
   "outputs": [],
   "source": [
    "base_feature_df = combined_df[['bank capital to assets ratio', 'bank nonperforming loans', 'cereal yield',\n",
    "                               'energy imports', 'food exports', 'high-tech exports', 'inflation',\n",
    "                               'lending interest rate', 'life expectancy', 'population density', 'real interest rate',\n",
    "                               'broad money', 'exports of goods and services', 'gross domestic savings',\n",
    "                               'high-tech value added', 'household consumption expenditure',\n",
    "                               'imports of goods and services', 'listed companies', 'manufacturing value added',\n",
    "                               'r and d spend', 'services trade', 'trade', 'government debt service',\n",
    "                               'government interest payments external debt', 'government tax revenue', 'birth deaths',\n",
    "                               'broadband subscriptions', 'electricity access', 'co2 emissions',\n",
    "                               'electricity consumption', 'mobile subscriptions', 'newborns', 'overweight',\n",
    "                               'rural population', 'unemployed', 'urban population', country]]"
   ]
  },
  {
   "cell_type": "code",
   "execution_count": 253,
   "metadata": {},
   "outputs": [],
   "source": [
    "base_feature_df.to_csv('features/m_one/combined_country_level_%s.csv' % country.lower(), sep=',', index=False)"
   ]
  },
  {
   "cell_type": "code",
   "execution_count": 254,
   "metadata": {},
   "outputs": [],
   "source": [
    "base_feature_df['label'] = base_feature_df[country].shift(periods=1)\n",
    "base_df = base_feature_df.drop(country, axis=1).fillna(0.00);"
   ]
  },
  {
   "cell_type": "code",
   "execution_count": 255,
   "metadata": {},
   "outputs": [],
   "source": [
    "num_obs = len(base_df)\n",
    "num_cols = len(base_df.columns)\n",
    "num_features = len(base_df.columns) - 1"
   ]
  },
  {
   "cell_type": "markdown",
   "metadata": {},
   "source": [
    "### Model iterations\n",
    "---------------------"
   ]
  },
  {
   "cell_type": "markdown",
   "metadata": {},
   "source": [
    "### Exploration 1\n",
    "\n",
    "**Multivariate LSTM** fitted on the real data, see https://machinelearningmastery.com/multivariate-time-series-forecasting-lstms-keras/\n",
    "- Activation function: Leaky ReLU.\n",
    "- Loss function: mean squared error.\n",
    "- Optimizer: adam.\n",
    "- Num observations source dataset: 684 (using lagshift, 1960-2016 inclusive monthly)\n",
    "- Num sequences (@ sequence length 6): 116.\n",
    "- Batch size: 4-8 sequences (although `size=48` would lead to more stable training)"
   ]
  },
  {
   "cell_type": "code",
   "execution_count": 256,
   "metadata": {},
   "outputs": [],
   "source": [
    "from keras import Sequential\n",
    "from keras.layers import LSTM, Dense, LeakyReLU, TimeDistributed\n",
    "from keras.optimizers import Adam\n",
    "from sklearn.metrics import mean_squared_error"
   ]
  },
  {
   "cell_type": "code",
   "execution_count": 257,
   "metadata": {},
   "outputs": [],
   "source": [
    "lstm_params = {\n",
    "   'sequence_length': 4,\n",
    "   'batch_size': 8,\n",
    "   'num_epochs': 600,\n",
    "   'num_units': 128,\n",
    "   'lrelu_alpha': 0.3\n",
    "}"
   ]
  },
  {
   "cell_type": "markdown",
   "metadata": {},
   "source": [
    "#### LSTM features"
   ]
  },
  {
   "cell_type": "code",
   "execution_count": 258,
   "metadata": {},
   "outputs": [],
   "source": [
    "features = []\n",
    "labels = []\n",
    "\n",
    "for i in range(int(num_obs / lstm_params['sequence_length'])):\n",
    "    labels_df = base_df['label']\n",
    "    labels.append(labels_df[i:(i+lstm_params['sequence_length'])].values[-1:])\n",
    "    features.append(base_df[i:(i+lstm_params['sequence_length'])].values)"
   ]
  },
  {
   "cell_type": "code",
   "execution_count": 259,
   "metadata": {},
   "outputs": [],
   "source": [
    "lstm_train_X = np.asarray(features[0:100])\n",
    "lstm_train_X = lstm_train_X.reshape((lstm_train_X.shape[0], lstm_params['sequence_length'], num_cols))\n",
    "lstm_train_y = np.asarray(labels[0:100])\n",
    "lstm_train_y = lstm_train_y.reshape((lstm_train_y.shape[0]))"
   ]
  },
  {
   "cell_type": "code",
   "execution_count": 260,
   "metadata": {},
   "outputs": [],
   "source": [
    "lstm_test_X = np.asarray(features[100:])\n",
    "lstm_test_X = lstm_test_X.reshape((lstm_test_X.shape[0], lstm_params['sequence_length'], num_cols))\n",
    "lstm_test_y = np.asarray(labels[100:])\n",
    "lstm_test_y = lstm_test_y.reshape((lstm_test_y.shape[0]))"
   ]
  },
  {
   "cell_type": "code",
   "execution_count": 261,
   "metadata": {},
   "outputs": [],
   "source": [
    "X = np.asarray(features)\n",
    "X = X.reshape((X.shape[0], lstm_params['sequence_length'], num_cols))\n",
    "y = np.asarray(labels)\n",
    "y = y.reshape((y.shape[0], 1))"
   ]
  },
  {
   "cell_type": "code",
   "execution_count": 262,
   "metadata": {},
   "outputs": [
    {
     "name": "stdout",
     "output_type": "stream",
     "text": [
      "X: (174, 4, 37), y: (174, 1)\n"
     ]
    }
   ],
   "source": [
    "print('X: %s, y: %s' % (X.shape, y.shape))"
   ]
  },
  {
   "cell_type": "markdown",
   "metadata": {},
   "source": [
    "#### Model: LSTM"
   ]
  },
  {
   "cell_type": "code",
   "execution_count": 263,
   "metadata": {},
   "outputs": [
    {
     "name": "stdout",
     "output_type": "stream",
     "text": [
      "_________________________________________________________________\n",
      "Layer (type)                 Output Shape              Param #   \n",
      "=================================================================\n",
      "lstm_24 (LSTM)               (None, 128)               84992     \n",
      "_________________________________________________________________\n",
      "dense_25 (Dense)             (None, 1)                 129       \n",
      "=================================================================\n",
      "Total params: 85,121\n",
      "Trainable params: 85,121\n",
      "Non-trainable params: 0\n",
      "_________________________________________________________________\n"
     ]
    }
   ],
   "source": [
    "model = Sequential()\n",
    "model.add(LSTM(lstm_params['num_units'], input_shape=(lstm_params['sequence_length'], num_cols)))\n",
    "model.add(Dense(1, activation=LeakyReLU(alpha=lstm_params['lrelu_alpha'])))\n",
    "model.compile(loss='mse', optimizer='adam')\n",
    "model.summary()"
   ]
  },
  {
   "cell_type": "code",
   "execution_count": 264,
   "metadata": {},
   "outputs": [],
   "source": [
    "from keras.callbacks import EarlyStopping\n",
    "\n",
    "early_stopping = EarlyStopping(monitor='loss', mode='min', patience=8)"
   ]
  },
  {
   "cell_type": "code",
   "execution_count": 265,
   "metadata": {},
   "outputs": [
    {
     "name": "stdout",
     "output_type": "stream",
     "text": [
      "Epoch 1/600\n",
      "100/100 [==============================] - 6s 65ms/step - loss: 0.0033\n",
      "Epoch 2/600\n",
      "100/100 [==============================] - 0s 1ms/step - loss: 0.0011\n",
      "Epoch 3/600\n",
      "100/100 [==============================] - 0s 1ms/step - loss: 3.2883e-04\n",
      "Epoch 4/600\n",
      "100/100 [==============================] - 0s 1ms/step - loss: 1.6117e-04\n",
      "Epoch 5/600\n",
      "100/100 [==============================] - 0s 1ms/step - loss: 1.1641e-04\n",
      "Epoch 6/600\n",
      "100/100 [==============================] - 0s 1ms/step - loss: 8.5800e-05\n",
      "Epoch 7/600\n",
      "100/100 [==============================] - 0s 1ms/step - loss: 9.0255e-05\n",
      "Epoch 8/600\n",
      "100/100 [==============================] - 0s 1ms/step - loss: 7.2625e-05\n",
      "Epoch 9/600\n",
      "100/100 [==============================] - 0s 1ms/step - loss: 6.5008e-05\n",
      "Epoch 10/600\n",
      "100/100 [==============================] - 0s 1ms/step - loss: 6.0714e-05\n",
      "Epoch 11/600\n",
      "100/100 [==============================] - 0s 1ms/step - loss: 5.7966e-05\n",
      "Epoch 12/600\n",
      "100/100 [==============================] - 0s 1ms/step - loss: 5.5763e-05\n",
      "Epoch 13/600\n",
      "100/100 [==============================] - 0s 1ms/step - loss: 5.3998e-05\n",
      "Epoch 14/600\n",
      "100/100 [==============================] - 0s 1ms/step - loss: 5.0288e-05\n",
      "Epoch 15/600\n",
      "100/100 [==============================] - 0s 1ms/step - loss: 4.8263e-05\n",
      "Epoch 16/600\n",
      "100/100 [==============================] - 0s 1ms/step - loss: 5.7041e-05\n",
      "Epoch 17/600\n",
      "100/100 [==============================] - 0s 1ms/step - loss: 4.8541e-05\n",
      "Epoch 18/600\n",
      "100/100 [==============================] - 0s 1ms/step - loss: 4.4952e-05\n",
      "Epoch 19/600\n",
      "100/100 [==============================] - 0s 1ms/step - loss: 4.1615e-05\n",
      "Epoch 20/600\n",
      "100/100 [==============================] - 0s 1ms/step - loss: 3.8133e-05\n",
      "Epoch 21/600\n",
      "100/100 [==============================] - 0s 1ms/step - loss: 3.6295e-05\n",
      "Epoch 22/600\n",
      "100/100 [==============================] - 0s 1ms/step - loss: 3.3520e-05\n",
      "Epoch 23/600\n",
      "100/100 [==============================] - 0s 1ms/step - loss: 3.2387e-05\n",
      "Epoch 24/600\n",
      "100/100 [==============================] - 0s 1ms/step - loss: 3.2472e-05\n",
      "Epoch 25/600\n",
      "100/100 [==============================] - 0s 1ms/step - loss: 3.4005e-05\n",
      "Epoch 26/600\n",
      "100/100 [==============================] - 0s 1ms/step - loss: 5.5654e-05\n",
      "Epoch 27/600\n",
      "100/100 [==============================] - 0s 1ms/step - loss: 4.0903e-05\n",
      "Epoch 28/600\n",
      "100/100 [==============================] - 0s 1ms/step - loss: 2.4728e-05\n",
      "Epoch 29/600\n",
      "100/100 [==============================] - 0s 1ms/step - loss: 2.2357e-05\n",
      "Epoch 30/600\n",
      "100/100 [==============================] - 0s 1ms/step - loss: 2.0582e-05\n",
      "Epoch 31/600\n",
      "100/100 [==============================] - 0s 1ms/step - loss: 1.9033e-05\n",
      "Epoch 32/600\n",
      "100/100 [==============================] - 0s 1ms/step - loss: 1.7688e-05\n",
      "Epoch 33/600\n",
      "100/100 [==============================] - 0s 1ms/step - loss: 1.6719e-05\n",
      "Epoch 34/600\n",
      "100/100 [==============================] - 0s 1ms/step - loss: 1.9583e-05\n",
      "Epoch 35/600\n",
      "100/100 [==============================] - 0s 1ms/step - loss: 1.4375e-05\n",
      "Epoch 36/600\n",
      "100/100 [==============================] - 0s 1ms/step - loss: 2.2124e-05\n",
      "Epoch 37/600\n",
      "100/100 [==============================] - 0s 1ms/step - loss: 1.5836e-05\n",
      "Epoch 38/600\n",
      "100/100 [==============================] - 0s 1ms/step - loss: 3.7219e-05\n",
      "Epoch 39/600\n",
      "100/100 [==============================] - 0s 1ms/step - loss: 4.5989e-05\n",
      "Epoch 40/600\n",
      "100/100 [==============================] - 0s 1ms/step - loss: 2.2013e-05\n",
      "Epoch 41/600\n",
      "100/100 [==============================] - 0s 1ms/step - loss: 9.7646e-05\n",
      "Epoch 42/600\n",
      "100/100 [==============================] - 0s 1ms/step - loss: 3.4277e-05\n",
      "Epoch 43/600\n",
      "100/100 [==============================] - 0s 1ms/step - loss: 3.1522e-05\n"
     ]
    }
   ],
   "source": [
    "train_run = model.fit(lstm_train_X, lstm_train_y, epochs=lstm_params['num_epochs'],\n",
    "                      batch_size=lstm_params['batch_size'], callbacks=[early_stopping])"
   ]
  },
  {
   "cell_type": "code",
   "execution_count": 266,
   "metadata": {},
   "outputs": [
    {
     "data": {
      "image/png": "[encoded data removed]",
      "text/plain": [
       "<Figure size 432x288 with 1 Axes>"
      ]
     },
     "metadata": {},
     "output_type": "display_data"
    }
   ],
   "source": [
    "plt.plot(train_run.history['loss'], label='train')\n",
    "plt.legend()\n",
    "plt.show()"
   ]
  },
  {
   "cell_type": "markdown",
   "metadata": {},
   "source": [
    "##### Evaluate model performance"
   ]
  },
  {
   "cell_type": "code",
   "execution_count": 267,
   "metadata": {},
   "outputs": [
    {
     "name": "stdout",
     "output_type": "stream",
     "text": [
      "74/74 [==============================] - 2s 28ms/step\n"
     ]
    },
    {
     "data": {
      "text/plain": [
       "0.00012380006562641546"
      ]
     },
     "execution_count": 267,
     "metadata": {},
     "output_type": "execute_result"
    }
   ],
   "source": [
    "model.evaluate(lstm_test_X, lstm_test_y)"
   ]
  },
  {
   "cell_type": "code",
   "execution_count": 268,
   "metadata": {},
   "outputs": [],
   "source": [
    "yhat = model.predict(lstm_test_X)"
   ]
  },
  {
   "cell_type": "code",
   "execution_count": 269,
   "metadata": {},
   "outputs": [
    {
     "data": {
      "image/png": "[encoded data removed]",
      "text/plain": [
       "<Figure size 1080x504 with 1 Axes>"
      ]
     },
     "metadata": {},
     "output_type": "display_data"
    }
   ],
   "source": [
    "plt.figure(figsize=(15,7))\n",
    "plt.plot(lstm_test_y, label='observed')\n",
    "plt.plot(yhat, label='predicted')\n",
    "plt.legend()\n",
    "plt.title('Observed versus predicted values for consumer price inflation in %s' % country)\n",
    "plt.show()"
   ]
  },
  {
   "cell_type": "code",
   "execution_count": 270,
   "metadata": {},
   "outputs": [
    {
     "name": "stdout",
     "output_type": "stream",
     "text": [
      "rmse: 0.011126547316903544\n",
      "mean observed: 0.06255287441170312\n",
      "mean predicted: 0.054270532\n"
     ]
    }
   ],
   "source": [
    "print('rmse: %s\\nmean observed: %s\\nmean predicted: %s' % (np.sqrt(mean_squared_error(lstm_test_y, yhat)),\n",
    "                                                           np.mean(lstm_test_y), np.mean(yhat)))"
   ]
  },
  {
   "cell_type": "markdown",
   "metadata": {},
   "source": [
    "## Exploration 2\n",
    "--------------------\n",
    "\n",
    "**GAN** to generate training data, **LSTM** trained on generated data validated on the real data."
   ]
  },
  {
   "cell_type": "markdown",
   "metadata": {},
   "source": [
    "### Conditional GAN for policy-constrained timeseries generation\n",
    "\n",
    "See https://arxiv.org/pdf/1706.02633.pdf."
   ]
  },
  {
   "cell_type": "code",
   "execution_count": 271,
   "metadata": {},
   "outputs": [],
   "source": [
    "from keras.models import Sequential, Model\n",
    "from keras.layers import Input\n",
    "from keras.optimizers import Adam\n",
    "from sklearn.metrics import mean_squared_error"
   ]
  },
  {
   "cell_type": "code",
   "execution_count": 272,
   "metadata": {},
   "outputs": [
    {
     "data": {
      "text/plain": [
       "(696, 37)"
      ]
     },
     "execution_count": 272,
     "metadata": {},
     "output_type": "execute_result"
    }
   ],
   "source": [
    "gan_df = base_df\n",
    "gan_df.shape"
   ]
  },
  {
   "cell_type": "code",
   "execution_count": 273,
   "metadata": {},
   "outputs": [],
   "source": [
    "gan_cols = gan_df.shape[1]"
   ]
  },
  {
   "cell_type": "code",
   "execution_count": 274,
   "metadata": {},
   "outputs": [],
   "source": [
    "gan_params = {\n",
    "   'num_epochs': 800,\n",
    "   'save_interval': 100,\n",
    "   'sequence_length': 6,\n",
    "   'num_variables': gan_cols,\n",
    "   'batch_size': 64,\n",
    "   'lr': 0.0001 \n",
    "}"
   ]
  },
  {
   "cell_type": "code",
   "execution_count": 275,
   "metadata": {},
   "outputs": [],
   "source": [
    "generator_params = {\n",
    "   'noise_sigma': 0.3,\n",
    "   'lstm_units': 128,\n",
    "   'lstm_dropout': 0.4,\n",
    "   'gru_units': 64,\n",
    "   'lr': 0.0001\n",
    "}"
   ]
  },
  {
   "cell_type": "code",
   "execution_count": 276,
   "metadata": {},
   "outputs": [],
   "source": [
    "discriminator_params = {\n",
    "   'bi_lstm_units': 256,\n",
    "   'dropout_rate': 0.4,\n",
    "   'lr': 0.0001\n",
    "}"
   ]
  },
  {
   "cell_type": "markdown",
   "metadata": {},
   "source": [
    "#### GAN input sequences\n",
    "\n",
    "The collated World Bank and IMF data used as input for the data generator and to validate the model trained on generated data."
   ]
  },
  {
   "cell_type": "code",
   "execution_count": 277,
   "metadata": {},
   "outputs": [],
   "source": [
    "gan_features = []\n",
    "gan_labels = []\n",
    "\n",
    "for i in range(int(num_obs / gan_params['sequence_length'])):\n",
    "    gan_labels_df = gan_df['label']\n",
    "    gan_labels.append(gan_labels_df[i:(i+gan_params['sequence_length'])].values[-1:])\n",
    "    gan_features.append(gan_df[i:(i+gan_params['sequence_length'])].values)"
   ]
  },
  {
   "cell_type": "code",
   "execution_count": 278,
   "metadata": {},
   "outputs": [],
   "source": [
    "real = np.asarray(gan_features)\n",
    "real = real.reshape((real.shape[0], gan_params['sequence_length'], gan_cols))"
   ]
  },
  {
   "cell_type": "code",
   "execution_count": 279,
   "metadata": {},
   "outputs": [
    {
     "data": {
      "text/plain": [
       "(116, 6, 37)"
      ]
     },
     "execution_count": 279,
     "metadata": {},
     "output_type": "execute_result"
    }
   ],
   "source": [
    "real.shape"
   ]
  },
  {
   "cell_type": "markdown",
   "metadata": {},
   "source": [
    "#### Generator"
   ]
  },
  {
   "cell_type": "code",
   "execution_count": 280,
   "metadata": {},
   "outputs": [],
   "source": [
    "from keras.layers import GaussianNoise, LSTM, Dropout, BatchNormalization, Dense, LocallyConnected2D, GRU, Reshape"
   ]
  },
  {
   "cell_type": "code",
   "execution_count": 281,
   "metadata": {},
   "outputs": [],
   "source": [
    "def build_encoder(params):\n",
    "    gshape = params['sequence_length'], params['num_variables']\n",
    "    inputs = Input(shape=(gshape))\n",
    "    \n",
    "    e = Sequential(name='encoder')\n",
    "    e.add(LSTM(params['lstm_units'], input_shape=(gshape), return_sequences=True))\n",
    "    e.add(Dropout(params['lstm_dropout']))\n",
    "    e.add(GaussianNoise(stddev=params['noise_sigma']))\n",
    "    e.add(BatchNormalization(axis=2, momentum=0.8, epsilon=0.01))\n",
    "    e.add(Dense(params['num_variables'], activation='relu'))\n",
    "    e.summary()\n",
    "    \n",
    "    return Model(inputs, e(inputs))"
   ]
  },
  {
   "cell_type": "code",
   "execution_count": 282,
   "metadata": {},
   "outputs": [
    {
     "name": "stdout",
     "output_type": "stream",
     "text": [
      "_________________________________________________________________\n",
      "Layer (type)                 Output Shape              Param #   \n",
      "=================================================================\n",
      "lstm_25 (LSTM)               (None, 6, 128)            84992     \n",
      "_________________________________________________________________\n",
      "dropout_9 (Dropout)          (None, 6, 128)            0         \n",
      "_________________________________________________________________\n",
      "gaussian_noise_5 (GaussianNo (None, 6, 128)            0         \n",
      "_________________________________________________________________\n",
      "batch_normalization_5 (Batch (None, 6, 128)            512       \n",
      "_________________________________________________________________\n",
      "dense_26 (Dense)             (None, 6, 37)             4773      \n",
      "=================================================================\n",
      "Total params: 90,277\n",
      "Trainable params: 90,021\n",
      "Non-trainable params: 256\n",
      "_________________________________________________________________\n"
     ]
    }
   ],
   "source": [
    "encoder = build_encoder({**gan_params, **generator_params})"
   ]
  },
  {
   "cell_type": "code",
   "execution_count": 283,
   "metadata": {},
   "outputs": [],
   "source": [
    "def build_generator(params):\n",
    "    gshape = params['sequence_length'], params['num_variables']\n",
    "    inputs = Input(shape=(gshape))\n",
    "    \n",
    "    g = Sequential(name='generator')\n",
    "    g.add(GRU(params['gru_units'], input_shape=(gshape), return_sequences=True))\n",
    "    g.add(Dense(params['num_variables'], activation='softmax'))\n",
    "    g.add(Reshape(target_shape=(gshape)))\n",
    "    g.summary()\n",
    "    \n",
    "    return Model(inputs, g(inputs))"
   ]
  },
  {
   "cell_type": "code",
   "execution_count": 284,
   "metadata": {},
   "outputs": [
    {
     "name": "stdout",
     "output_type": "stream",
     "text": [
      "_________________________________________________________________\n",
      "Layer (type)                 Output Shape              Param #   \n",
      "=================================================================\n",
      "gru_5 (GRU)                  (None, 6, 64)             19584     \n",
      "_________________________________________________________________\n",
      "dense_27 (Dense)             (None, 6, 37)             2405      \n",
      "_________________________________________________________________\n",
      "reshape_5 (Reshape)          (None, 6, 37)             0         \n",
      "=================================================================\n",
      "Total params: 21,989\n",
      "Trainable params: 21,989\n",
      "Non-trainable params: 0\n",
      "_________________________________________________________________\n"
     ]
    }
   ],
   "source": [
    "generator = build_generator({**gan_params, **generator_params})"
   ]
  },
  {
   "cell_type": "markdown",
   "metadata": {},
   "source": [
    "#### Discriminator"
   ]
  },
  {
   "cell_type": "code",
   "execution_count": 285,
   "metadata": {},
   "outputs": [],
   "source": [
    "from keras.layers import Bidirectional, LSTM, Dense, concatenate, Flatten"
   ]
  },
  {
   "cell_type": "code",
   "execution_count": 286,
   "metadata": {},
   "outputs": [],
   "source": [
    "def build_discriminator(params):\n",
    "    dshape = params['sequence_length'], params['num_variables']\n",
    "    batch_shape = params['batch_size'], params['sequence_length'], params['num_variables']\n",
    "    \n",
    "    real = Input(shape=(dshape))\n",
    "    generated = Input(shape=(dshape))\n",
    "    inputs = concatenate([generated, real], axis=1)\n",
    "    \n",
    "    d = Sequential(name='discriminator')\n",
    "    d.add(Bidirectional(LSTM(params['bi_lstm_units']), batch_input_shape=(batch_shape)))\n",
    "    d.add(Dropout(params['dropout_rate']))\n",
    "    d.add(Dense(1, activation='sigmoid'))\n",
    "    d.summary()\n",
    "    return Model([generated, real], d(inputs))"
   ]
  },
  {
   "cell_type": "code",
   "execution_count": 287,
   "metadata": {},
   "outputs": [
    {
     "name": "stdout",
     "output_type": "stream",
     "text": [
      "_________________________________________________________________\n",
      "Layer (type)                 Output Shape              Param #   \n",
      "=================================================================\n",
      "bidirectional_5 (Bidirection (64, 512)                 602112    \n",
      "_________________________________________________________________\n",
      "dropout_10 (Dropout)         (64, 512)                 0         \n",
      "_________________________________________________________________\n",
      "dense_28 (Dense)             (64, 1)                   513       \n",
      "=================================================================\n",
      "Total params: 602,625\n",
      "Trainable params: 602,625\n",
      "Non-trainable params: 0\n",
      "_________________________________________________________________\n"
     ]
    }
   ],
   "source": [
    "discriminator = build_discriminator({**gan_params, **discriminator_params})\n",
    "discriminator.compile(loss='binary_crossentropy', optimizer=Adam(lr=discriminator_params['lr']), metrics=['accuracy'])"
   ]
  },
  {
   "cell_type": "markdown",
   "metadata": {},
   "source": [
    "#### GAN\n",
    "\n",
    "Bidirectional generative adversarial network, viz https://arxiv.org/abs/1605.09782."
   ]
  },
  {
   "cell_type": "code",
   "execution_count": 288,
   "metadata": {},
   "outputs": [],
   "source": [
    "def build_gan(encoder, generator, discriminator, params):\n",
    "    ganshape = params['sequence_length'], params['num_variables']\n",
    "    discriminator.trainable = False\n",
    "    \n",
    "    noise = Input(shape=(ganshape))\n",
    "    generated = generator(noise)\n",
    "    \n",
    "    data = Input(shape=(ganshape))\n",
    "    encoded = encoder(data)\n",
    "    \n",
    "    fake = discriminator([noise, generated])\n",
    "    real = discriminator([encoded, data])\n",
    "    \n",
    "    gan = Model([noise, data], [fake, real], name='gan')\n",
    "    gan.summary()\n",
    "    return gan"
   ]
  },
  {
   "cell_type": "code",
   "execution_count": 289,
   "metadata": {},
   "outputs": [
    {
     "name": "stdout",
     "output_type": "stream",
     "text": [
      "__________________________________________________________________________________________________\n",
      "Layer (type)                    Output Shape         Param #     Connected to                     \n",
      "==================================================================================================\n",
      "input_29 (InputLayer)           (None, 6, 37)        0                                            \n",
      "__________________________________________________________________________________________________\n",
      "input_30 (InputLayer)           (None, 6, 37)        0                                            \n",
      "__________________________________________________________________________________________________\n",
      "model_14 (Model)                (None, 6, 37)        21989       input_29[0][0]                   \n",
      "__________________________________________________________________________________________________\n",
      "model_13 (Model)                (None, 6, 37)        90277       input_30[0][0]                   \n",
      "__________________________________________________________________________________________________\n",
      "model_15 (Model)                (None, 1)            602625      input_29[0][0]                   \n",
      "                                                                 model_14[1][0]                   \n",
      "                                                                 model_13[1][0]                   \n",
      "                                                                 input_30[0][0]                   \n",
      "==================================================================================================\n",
      "Total params: 714,891\n",
      "Trainable params: 112,010\n",
      "Non-trainable params: 602,881\n",
      "__________________________________________________________________________________________________\n"
     ]
    }
   ],
   "source": [
    "gan = build_gan(encoder, generator, discriminator, gan_params)\n",
    "gan.compile(loss=['kullback_leibler_divergence', 'kullback_leibler_divergence'], \n",
    "            optimizer=Adam(lr=generator_params['lr']), metrics=['mse', 'mse'])"
   ]
  },
  {
   "cell_type": "code",
   "execution_count": 290,
   "metadata": {},
   "outputs": [],
   "source": [
    "def train_gan(real, batch_size, params):\n",
    "    g_metrics = []\n",
    "    d_real_metrics = []\n",
    "    d_synth_metrics = []\n",
    "    \n",
    "    reals = np.ones(batch_size)\n",
    "    synths = np.zeros(batch_size)\n",
    "    \n",
    "    for i in range(params['num_epochs']):\n",
    "        # create input of real and synthetic data\n",
    "        random_index = np.random.randint(0, len(real) - batch_size)\n",
    "        half_real = real[random_index:int(random_index + batch_size)]\n",
    "        half_synth = np.random.normal(-1.0, 1.0, size=[batch_size, params['sequence_length'], real.shape[2]])\n",
    "        \n",
    "        # apply generator and encoder\n",
    "        generated = generator.predict(half_synth)\n",
    "        encoded = encoder.predict(half_real)\n",
    "        \n",
    "        # train discriminator\n",
    "        d_real = discriminator.train_on_batch([encoded, half_real], reals)\n",
    "        d_synth = discriminator.train_on_batch([half_synth, generated], synths)\n",
    "                                                            \n",
    "        # train gan\n",
    "        gen_ = gan.train_on_batch([half_synth, half_real], [reals, synths])\n",
    "        if i % 100 == 0:\n",
    "            print('Epoch %s losses: discriminator real: %.4f%%, discriminator synth: %.4f%%, generator: %.4f%%' % \n",
    "                  (i, d_real[0], d_synth[0], gen_[0]))\n",
    "        \n",
    "        d_real_metrics.append(d_real)\n",
    "        d_synth_metrics.append(d_synth)\n",
    "        g_metrics.append(gen_)\n",
    "    return d_real_metrics, d_synth_metrics, g_metrics"
   ]
  },
  {
   "cell_type": "code",
   "execution_count": 291,
   "metadata": {},
   "outputs": [
    {
     "name": "stdout",
     "output_type": "stream",
     "text": [
      "Epoch 0 losses: discriminator real: 0.7099%, discriminator synth: 0.6908%, generator: 0.7298%\n",
      "Epoch 100 losses: discriminator real: 0.0018%, discriminator synth: 0.0010%, generator: 6.8255%\n",
      "Epoch 200 losses: discriminator real: 0.0003%, discriminator synth: 0.0008%, generator: 7.3125%\n",
      "Epoch 300 losses: discriminator real: 0.0002%, discriminator synth: 0.0003%, generator: 7.9798%\n",
      "Epoch 400 losses: discriminator real: 0.0001%, discriminator synth: 0.0002%, generator: 8.5991%\n",
      "Epoch 500 losses: discriminator real: 0.0001%, discriminator synth: 0.0001%, generator: 9.1156%\n",
      "Epoch 600 losses: discriminator real: 0.0001%, discriminator synth: 0.0001%, generator: 9.4488%\n",
      "Epoch 700 losses: discriminator real: 0.0000%, discriminator synth: 0.0001%, generator: 9.8802%\n"
     ]
    }
   ],
   "source": [
    "d_r_metrics, d_s_metrics, g_metrics = train_gan(real, gan_params['batch_size'], gan_params)"
   ]
  },
  {
   "cell_type": "code",
   "execution_count": 292,
   "metadata": {},
   "outputs": [
    {
     "data": {
      "image/png": "[encoded data removed]",
      "text/plain": [
       "<Figure size 1080x504 with 1 Axes>"
      ]
     },
     "metadata": {},
     "output_type": "display_data"
    }
   ],
   "source": [
    "plt.figure(figsize=(15,7))\n",
    "plt.plot([metrics[0] for metrics in d_r_metrics], label='discriminator loss on reals')\n",
    "plt.plot([metrics[0] for metrics in d_s_metrics], label='discriminator loss on synths')\n",
    "plt.plot([metrics[0] for metrics in g_metrics], label='generator loss')\n",
    "plt.legend()\n",
    "plt.title('GAN losses')\n",
    "plt.show()"
   ]
  },
  {
   "cell_type": "code",
   "execution_count": 293,
   "metadata": {
    "scrolled": true
   },
   "outputs": [
    {
     "data": {
      "image/png": "[encoded data removed]",
      "text/plain": [
       "<Figure size 1080x504 with 1 Axes>"
      ]
     },
     "metadata": {},
     "output_type": "display_data"
    }
   ],
   "source": [
    "plt.figure(figsize=(15,7))\n",
    "plt.plot([metrics[1] for metrics in d_r_metrics], label='discriminator accuracy reals')\n",
    "plt.plot([metrics[1] for metrics in d_s_metrics], label='discriminator accuracy synths')\n",
    "plt.plot([metrics[1] for metrics in g_metrics], label='generator mean average error')\n",
    "plt.legend()\n",
    "plt.title('GAN performance metrics')\n",
    "plt.show()"
   ]
  },
  {
   "cell_type": "code",
   "execution_count": 294,
   "metadata": {},
   "outputs": [],
   "source": [
    "generated_y = generator.predict(np.random.rand(num_obs, gan_params['sequence_length'], gan_cols))[:,-1,-1]\n",
    "gan_y = gan_df['label'].values"
   ]
  },
  {
   "cell_type": "code",
   "execution_count": 295,
   "metadata": {},
   "outputs": [
    {
     "data": {
      "image/png": "[encoded data removed]",
      "text/plain": [
       "<Figure size 1080x504 with 1 Axes>"
      ]
     },
     "metadata": {},
     "output_type": "display_data"
    }
   ],
   "source": [
    "plt.figure(figsize=(15,7))\n",
    "plt.plot(gan_y, label='observed cpi')\n",
    "plt.plot(generated_y, label='gan-generated cpi')\n",
    "plt.legend()\n",
    "plt.title('Observed versus GAN-generated values for consumer price inflation in %s' % country)\n",
    "plt.show()"
   ]
  },
  {
   "cell_type": "code",
   "execution_count": 296,
   "metadata": {},
   "outputs": [
    {
     "name": "stdout",
     "output_type": "stream",
     "text": [
      "rmse: 0.028804171089273183\n",
      "mean observed: 0.0250163681880437\n",
      "mean generated: 0.04199921\n"
     ]
    }
   ],
   "source": [
    "print('rmse: %s\\nmean observed: %s\\nmean generated: %s' % (np.sqrt(mean_squared_error(gan_y, generated_y)),\n",
    "                                                           np.mean(gan_y), np.mean(generated_y)))"
   ]
  },
  {
   "cell_type": "markdown",
   "metadata": {},
   "source": [
    "## Exploration 3\n",
    "--------------------\n",
    "\n",
    "**Sequence transformer network** to generate training data, **LSTM** trained on generated data validated on the real data. See https://arxiv.org/abs/1808.06725"
   ]
  },
  {
   "cell_type": "code",
   "execution_count": null,
   "metadata": {},
   "outputs": [],
   "source": []
  },
  {
   "cell_type": "code",
   "execution_count": null,
   "metadata": {},
   "outputs": [],
   "source": []
  }
 ],
 "metadata": {
  "kernelspec": {
   "display_name": "me",
   "language": "python",
   "name": "me"
  },
  "language_info": {
   "codemirror_mode": {
    "name": "ipython",
    "version": 3
   },
   "file_extension": ".py",
   "mimetype": "text/x-python",
   "name": "python",
   "nbconvert_exporter": "python",
   "pygments_lexer": "ipython3",
   "version": "3.6.5"
  }
 },
 "nbformat": 4,
 "nbformat_minor": 2
}
